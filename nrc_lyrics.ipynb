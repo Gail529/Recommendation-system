{
  "nbformat": 4,
  "nbformat_minor": 0,
  "metadata": {
    "colab": {
      "name": "nrc_lyrics.ipynb",
      "provenance": [],
      "private_outputs": true,
      "authorship_tag": "ABX9TyNWrHXKwmHcPrGE4Yc4huB3",
      "include_colab_link": true
    },
    "kernelspec": {
      "name": "python3",
      "display_name": "Python 3"
    }
  },
  "cells": [
    {
      "cell_type": "markdown",
      "metadata": {
        "id": "view-in-github",
        "colab_type": "text"
      },
      "source": [
        "<a href=\"https://colab.research.google.com/github/Gail529/Recommendation-system/blob/master/nrc_lyrics.ipynb\" target=\"_parent\"><img src=\"https://colab.research.google.com/assets/colab-badge.svg\" alt=\"Open In Colab\"/></a>"
      ]
    },
    {
      "cell_type": "code",
      "metadata": {
        "id": "SmMLR4K_Twrm",
        "colab_type": "code",
        "colab": {}
      },
      "source": [
        "import numpy as np\n",
        "import pandas as pd\n"
      ],
      "execution_count": null,
      "outputs": []
    },
    {
      "cell_type": "code",
      "metadata": {
        "id": "AAQG6IpAU8YM",
        "colab_type": "code",
        "colab": {}
      },
      "source": [
        "emo=pd.read_csv('/content/NRC-Emotion-Intensity-Lexicon-v1.txt',sep='\\t')"
      ],
      "execution_count": null,
      "outputs": []
    },
    {
      "cell_type": "code",
      "metadata": {
        "id": "ReM9WfKFVLGg",
        "colab_type": "code",
        "colab": {}
      },
      "source": [
        "emo.head(5)"
      ],
      "execution_count": null,
      "outputs": []
    },
    {
      "cell_type": "code",
      "metadata": {
        "id": "EoOrXh4Dg8ii",
        "colab_type": "code",
        "colab": {}
      },
      "source": [
        "emo_word=emo.loc[(emo['word'] == 'money') & (emo['emotion-intensity-score'] >= 0.5 )]\n",
        "word=emo_word['word'].values\n",
        "emotion=emo_word['emotion'].values"
      ],
      "execution_count": null,
      "outputs": []
    },
    {
      "cell_type": "code",
      "metadata": {
        "id": "RS79sqmlnHq5",
        "colab_type": "code",
        "colab": {}
      },
      "source": [
        ""
      ],
      "execution_count": null,
      "outputs": []
    }
  ]
}