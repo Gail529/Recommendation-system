{
  "nbformat": 4,
  "nbformat_minor": 0,
  "metadata": {
    "colab": {
      "name": "nrc_lyrics.ipynb",
      "provenance": [],
      "private_outputs": true,
      "authorship_tag": "ABX9TyMMEBu+fFIMxFnugJ9J4TPj",
      "include_colab_link": true
    },
    "kernelspec": {
      "name": "python3",
      "display_name": "Python 3"
    }
  },
  "cells": [
    {
      "cell_type": "markdown",
      "metadata": {
        "id": "view-in-github",
        "colab_type": "text"
      },
      "source": [
        "<a href=\"https://colab.research.google.com/github/Gail529/Recommendation-system/blob/master/nrc_lyrics.ipynb\" target=\"_parent\"><img src=\"https://colab.research.google.com/assets/colab-badge.svg\" alt=\"Open In Colab\"/></a>"
      ]
    },
    {
      "cell_type": "code",
      "metadata": {
        "id": "SmMLR4K_Twrm",
        "colab_type": "code",
        "colab": {}
      },
      "source": [
        "import numpy as np\n",
        "import pandas as pd"
      ],
      "execution_count": null,
      "outputs": []
    },
    {
      "cell_type": "code",
      "metadata": {
        "id": "AAQG6IpAU8YM",
        "colab_type": "code",
        "colab": {}
      },
      "source": [
        "emo=pd.read_csv('/content/NRC-Emotion-Intensity-Lexicon-v1.txt',sep='\\t')"
      ],
      "execution_count": null,
      "outputs": []
    },
    {
      "cell_type": "code",
      "metadata": {
        "id": "ReM9WfKFVLGg",
        "colab_type": "code",
        "colab": {}
      },
      "source": [
        "emo.head(5)"
      ],
      "execution_count": null,
      "outputs": []
    },
    {
      "cell_type": "code",
      "metadata": {
        "id": "EoOrXh4Dg8ii",
        "colab_type": "code",
        "colab": {}
      },
      "source": [
        "emo_word=emo.loc[(emo['word'] == 'money') & (emo['emotion-intensity-score'] >= 0.5 )]"
      ],
      "execution_count": null,
      "outputs": []
    },
    {
      "cell_type": "code",
      "metadata": {
        "id": "aSVExH-bbVuv",
        "colab_type": "code",
        "colab": {}
      },
      "source": [
        "songs=pd.read_csv('/content/rock_songs.csv')\n",
        "songs.shape"
      ],
      "execution_count": null,
      "outputs": []
    },
    {
      "cell_type": "code",
      "metadata": {
        "id": "iptvCHxnbvSM",
        "colab_type": "code",
        "colab": {}
      },
      "source": [
        "songs.head()"
      ],
      "execution_count": null,
      "outputs": []
    },
    {
      "cell_type": "code",
      "metadata": {
        "id": "FuOHl9hIb35P",
        "colab_type": "code",
        "colab": {}
      },
      "source": [
        "lyrics=songs.iloc[0,2]\n",
        "lyrics"
      ],
      "execution_count": null,
      "outputs": []
    },
    {
      "cell_type": "code",
      "metadata": {
        "id": "CndbXb1JcM8N",
        "colab_type": "code",
        "colab": {}
      },
      "source": [
        "import string\n",
        "import nltk\n",
        "nltk.download('punkt')\n",
        "def  remove_punctuation(word): #function will take in the lowercased text and then remove all the punctuation\n",
        "        translator=str.maketrans('','',string.punctuation)\n",
        "        text_punct=word.translate(translator)\n",
        "        return text_punct\n",
        "lyrics=remove_punctuation(lyrics)\n",
        "from nltk.tokenize import word_tokenize,sent_tokenize\n",
        "nltk.download('wordnet')\n",
        "lyrics_tokens= word_tokenize(lyrics)\n",
        "lyrics_tokens"
      ],
      "execution_count": null,
      "outputs": []
    },
    {
      "cell_type": "code",
      "metadata": {
        "id": "k4NF8b6_fl8m",
        "colab_type": "code",
        "colab": {}
      },
      "source": [
        ""
      ],
      "execution_count": null,
      "outputs": []
    },
    {
      "cell_type": "code",
      "metadata": {
        "id": "RS79sqmlnHq5",
        "colab_type": "code",
        "colab": {}
      },
      "source": [
        "emo_words=emo['word'].isin(lyrics_tokens)\n",
        "emo_words"
      ],
      "execution_count": null,
      "outputs": []
    }
  ]
}