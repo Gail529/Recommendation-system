{
  "nbformat": 4,
  "nbformat_minor": 0,
  "metadata": {
    "colab": {
      "name": "nrc_lyrics.ipynb",
      "provenance": [],
      "private_outputs": true,
      "authorship_tag": "ABX9TyNLsDrMXxsM6oyfrKi+CwUj",
      "include_colab_link": true
    },
    "kernelspec": {
      "name": "python3",
      "display_name": "Python 3"
    }
  },
  "cells": [
    {
      "cell_type": "markdown",
      "metadata": {
        "id": "view-in-github",
        "colab_type": "text"
      },
      "source": [
        "<a href=\"https://colab.research.google.com/github/Gail529/Recommendation-system/blob/master/nrc_lyrics.ipynb\" target=\"_parent\"><img src=\"https://colab.research.google.com/assets/colab-badge.svg\" alt=\"Open In Colab\"/></a>"
      ]
    },
    {
      "cell_type": "code",
      "metadata": {
        "id": "SmMLR4K_Twrm",
        "colab_type": "code",
        "colab": {}
      },
      "source": [
        "import numpy as np\n",
        "import pandas as pd"
      ],
      "execution_count": null,
      "outputs": []
    },
    {
      "cell_type": "code",
      "metadata": {
        "id": "AAQG6IpAU8YM",
        "colab_type": "code",
        "colab": {}
      },
      "source": [
        "emo=pd.read_csv('/content/NRC-Emotion-Intensity-Lexicon-v1.txt',sep='\\t')"
      ],
      "execution_count": null,
      "outputs": []
    },
    {
      "cell_type": "code",
      "metadata": {
        "id": "ReM9WfKFVLGg",
        "colab_type": "code",
        "colab": {}
      },
      "source": [
        "emo.head(50)"
      ],
      "execution_count": null,
      "outputs": []
    },
    {
      "cell_type": "code",
      "metadata": {
        "id": "EoOrXh4Dg8ii",
        "colab_type": "code",
        "colab": {}
      },
      "source": [
        "emo_word=emo.loc[(emo['word'] == 'money') & (emo['emotion-intensity-score'] >= 0.5 )]"
      ],
      "execution_count": null,
      "outputs": []
    },
    {
      "cell_type": "code",
      "metadata": {
        "id": "aSVExH-bbVuv",
        "colab_type": "code",
        "colab": {}
      },
      "source": [
        "songs=pd.read_csv('/content/rock_songs.csv')\n",
        "songs.shape"
      ],
      "execution_count": null,
      "outputs": []
    },
    {
      "cell_type": "code",
      "metadata": {
        "id": "iptvCHxnbvSM",
        "colab_type": "code",
        "colab": {}
      },
      "source": [
        "songs.head()"
      ],
      "execution_count": null,
      "outputs": []
    },
    {
      "cell_type": "code",
      "metadata": {
        "id": "FuOHl9hIb35P",
        "colab_type": "code",
        "colab": {}
      },
      "source": [
        "lyrics=songs.iloc[0,2]\n",
        "lyrics"
      ],
      "execution_count": null,
      "outputs": []
    },
    {
      "cell_type": "code",
      "metadata": {
        "id": "vK9MdwtTM4Hc",
        "colab_type": "code",
        "colab": {}
      },
      "source": [
        "type(lyrics)"
      ],
      "execution_count": null,
      "outputs": []
    },
    {
      "cell_type": "code",
      "metadata": {
        "id": "d5EYszWMzpPa",
        "colab_type": "code",
        "colab": {}
      },
      "source": [
        "import nltk\n",
        "nltk.download('punkt')\n",
        "import string\n",
        "\n",
        "def  remove_punctuation(word): #function will take in the lowercased text and then remove all the punctuation\n",
        "    words=word.translate(str.maketrans('',''),string.punctuation)\n",
        "result=remove_punctuation(lyrics)\n",
        "#for c  in string.punctuation:\n",
        " #   text=lyrics.replace(c,\" \")\n",
        "#print(text)"
      ],
      "execution_count": null,
      "outputs": []
    },
    {
      "cell_type": "code",
      "metadata": {
        "id": "eohB1AfWPqb0",
        "colab_type": "code",
        "colab": {}
      },
      "source": [
        "#for lyric in lyrics_tokens:\n",
        "    #emo_word=emo['word'].str.startswith(lyric , na=False)\n",
        " \n",
        "   # if emo_word == True:\n",
        "    #    word=emo['word'].values\n",
        "     #   emotion=emo['emotion'].values\n",
        "      #  intensity=emo['emotion-intensity-score'].values\n",
        "       # print(word+'\\t'+emotion+'\\t'+intensity )#\n",
        "import string as str\n",
        "nrc_words=emo['word'].values\n",
        "\n",
        "for word in nrc_words:\n",
        "    for l in lyrics_tokens:\n",
        "        if  word.startswith(l) == True:\n",
        "            print(word)\n"
      ],
      "execution_count": null,
      "outputs": []
    }
  ]
}