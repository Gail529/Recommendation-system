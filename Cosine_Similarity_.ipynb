{
  "nbformat": 4,
  "nbformat_minor": 0,
  "metadata": {
    "colab": {
      "name": "Cosine Similarity .ipynb",
      "provenance": [],
      "private_outputs": true,
      "authorship_tag": "ABX9TyNxrFQP85HBnMSrlIVU3Ocw",
      "include_colab_link": true
    },
    "kernelspec": {
      "name": "python3",
      "display_name": "Python 3"
    }
  },
  "cells": [
    {
      "cell_type": "markdown",
      "metadata": {
        "id": "view-in-github",
        "colab_type": "text"
      },
      "source": [
        "<a href=\"https://colab.research.google.com/github/Gail529/Recommendation-system/blob/master/Cosine_Similarity_.ipynb\" target=\"_parent\"><img src=\"https://colab.research.google.com/assets/colab-badge.svg\" alt=\"Open In Colab\"/></a>"
      ]
    },
    {
      "cell_type": "code",
      "metadata": {
        "id": "_06hONu6i_p0",
        "colab_type": "code",
        "colab": {}
      },
      "source": [
        "import pandas as pd\n",
        "import numpy as np\n",
        "from sklearn.metrics.pairwise import cosine_similarity"
      ],
      "execution_count": null,
      "outputs": []
    },
    {
      "cell_type": "code",
      "metadata": {
        "id": "lsL0x4jw3o-A",
        "colab_type": "code",
        "colab": {}
      },
      "source": [
        "data=pd.read_csv('/content/rock_emotion_scores.csv')"
      ],
      "execution_count": null,
      "outputs": []
    },
    {
      "cell_type": "code",
      "metadata": {
        "id": "lrCtDa6Z4aMc",
        "colab_type": "code",
        "colab": {}
      },
      "source": [
        "song_df=data[['Positive','Negative','Anger','Anticipation','Disgust','Fear','Joy','Sadness','Surprise','Trust']]"
      ],
      "execution_count": null,
      "outputs": []
    },
    {
      "cell_type": "code",
      "metadata": {
        "id": "IfyFuVd-4OjN",
        "colab_type": "code",
        "colab": {}
      },
      "source": [
        "song_df.reset_index()"
      ],
      "execution_count": null,
      "outputs": []
    },
    {
      "cell_type": "code",
      "metadata": {
        "id": "0w_Nhbo-rNm6",
        "colab_type": "code",
        "colab": {}
      },
      "source": [
        "cosine_sim=cosine_similarity(song_df,song_df)\n",
        "cosine_sim.shape"
      ],
      "execution_count": null,
      "outputs": []
    },
    {
      "cell_type": "code",
      "metadata": {
        "id": "qCvqb0wqrrZw",
        "colab_type": "code",
        "colab": {}
      },
      "source": [
        "def recommendation(title):\n",
        " song_recommendation=[] \n",
        " song_id=indices[indices == title ].index[0]\n",
        " similarity_score=pd.series(cosine_sim[song_id].sort_values(ascending=false))\n",
        " top_similar_songs=list(similarity_score.iloc[1,11].index)\n",
        " \n",
        " for i in top_similar_songs:\n",
        "  song_recommendation.append(list(df.index)[1])\n",
        "  return song_recommendation"
      ],
      "execution_count": null,
      "outputs": []
    },
    {
      "cell_type": "code",
      "metadata": {
        "id": "IDw8bvomrrW4",
        "colab_type": "code",
        "colab": {}
      },
      "source": [
        "recommendation('1')"
      ],
      "execution_count": null,
      "outputs": []
    }
  ]
}