{
  "nbformat": 4,
  "nbformat_minor": 0,
  "metadata": {
    "colab": {
      "name": "Cosine Similarity .ipynb",
      "provenance": [],
      "private_outputs": true,
      "authorship_tag": "ABX9TyMl/UllM024y+Co5EfpFeP1",
      "include_colab_link": true
    },
    "kernelspec": {
      "name": "python3",
      "display_name": "Python 3"
    }
  },
  "cells": [
    {
      "cell_type": "markdown",
      "metadata": {
        "id": "view-in-github",
        "colab_type": "text"
      },
      "source": [
        "<a href=\"https://colab.research.google.com/github/Gail529/Recommendation-system/blob/master/Cosine_Similarity_.ipynb\" target=\"_parent\"><img src=\"https://colab.research.google.com/assets/colab-badge.svg\" alt=\"Open In Colab\"/></a>"
      ]
    },
    {
      "cell_type": "code",
      "metadata": {
        "id": "_06hONu6i_p0",
        "colab_type": "code",
        "colab": {}
      },
      "source": [
        ""
      ],
      "execution_count": null,
      "outputs": []
    },
    {
      "cell_type": "code",
      "metadata": {
        "id": "0w_Nhbo-rNm6",
        "colab_type": "code",
        "colab": {}
      },
      "source": [
        "cosine_sim=Cosine_Similarity(count_matrix, count_matrix)\n",
        "cosine_sim.shape()"
      ],
      "execution_count": null,
      "outputs": []
    },
    {
      "cell_type": "code",
      "metadata": {
        "id": "qCvqb0wqrrZw",
        "colab_type": "code",
        "colab": {}
      },
      "source": [
        "Def recommendation(title,cosine_sim=cosine_sim)\n",
        "song_recommendation=[] \n",
        "song_id=indices[indices == title ].index[0]\n",
        "similarity_score=pd.series(cosine_sim[song_id].sort_values(ascending=false))\n",
        "top_similar_songs=list(similarity_score.iloc[1,11].index)\n",
        "\n",
        "for i in top_similar_songs:\n",
        "song_recommendation.append(list(df.index)[1])\n",
        "return song_recommendation"
      ],
      "execution_count": null,
      "outputs": []
    },
    {
      "cell_type": "code",
      "metadata": {
        "id": "IDw8bvomrrW4",
        "colab_type": "code",
        "colab": {}
      },
      "source": [
        ""
      ],
      "execution_count": null,
      "outputs": []
    }
  ]
}