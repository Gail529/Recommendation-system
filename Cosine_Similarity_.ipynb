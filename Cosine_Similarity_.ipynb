{
  "nbformat": 4,
  "nbformat_minor": 0,
  "metadata": {
    "colab": {
      "name": "Cosine Similarity .ipynb",
      "provenance": [],
      "collapsed_sections": [],
      "authorship_tag": "ABX9TyP8yLU2b/Jbm9KFhFUyZ6SU",
      "include_colab_link": true
    },
    "kernelspec": {
      "name": "python3",
      "display_name": "Python 3"
    }
  },
  "cells": [
    {
      "cell_type": "markdown",
      "metadata": {
        "id": "view-in-github",
        "colab_type": "text"
      },
      "source": [
        "<a href=\"https://colab.research.google.com/github/Gail529/Recommendation-system/blob/master/Cosine_Similarity_.ipynb\" target=\"_parent\"><img src=\"https://colab.research.google.com/assets/colab-badge.svg\" alt=\"Open In Colab\"/></a>"
      ]
    },
    {
      "cell_type": "code",
      "metadata": {
        "id": "_06hONu6i_p0"
      },
      "source": [
        "import pandas as pd\n",
        "import numpy as np\n",
        "from sklearn.metrics.pairwise import cosine_similarity"
      ],
      "execution_count": null,
      "outputs": []
    },
    {
      "cell_type": "code",
      "metadata": {
        "id": "lsL0x4jw3o-A"
      },
      "source": [
        "data=pd.read_csv('/content/rock_emotion_scores.csv')"
      ],
      "execution_count": null,
      "outputs": []
    },
    {
      "cell_type": "code",
      "metadata": {
        "id": "lrCtDa6Z4aMc"
      },
      "source": [
        "song_df=data[['song-title','Positive','Negative','Anger','Anticipation','Disgust','Fear','Joy','Sadness','Surprise','Trust']]"
      ],
      "execution_count": null,
      "outputs": []
    },
    {
      "cell_type": "code",
      "metadata": {
        "id": "IfyFuVd-4OjN",
        "outputId": "a7895562-6dac-4cd5-dd20-0cf063fe7874",
        "colab": {
          "base_uri": "https://localhost:8080/",
          "height": 572
        }
      },
      "source": [
        "song_df.reset_index()"
      ],
      "execution_count": null,
      "outputs": [
        {
          "output_type": "execute_result",
          "data": {
            "text/html": [
              "<div>\n",
              "<style scoped>\n",
              "    .dataframe tbody tr th:only-of-type {\n",
              "        vertical-align: middle;\n",
              "    }\n",
              "\n",
              "    .dataframe tbody tr th {\n",
              "        vertical-align: top;\n",
              "    }\n",
              "\n",
              "    .dataframe thead th {\n",
              "        text-align: right;\n",
              "    }\n",
              "</style>\n",
              "<table border=\"1\" class=\"dataframe\">\n",
              "  <thead>\n",
              "    <tr style=\"text-align: right;\">\n",
              "      <th></th>\n",
              "      <th>index</th>\n",
              "      <th>song-title</th>\n",
              "      <th>Positive</th>\n",
              "      <th>Negative</th>\n",
              "      <th>Anger</th>\n",
              "      <th>Anticipation</th>\n",
              "      <th>Disgust</th>\n",
              "      <th>Fear</th>\n",
              "      <th>Joy</th>\n",
              "      <th>Sadness</th>\n",
              "      <th>Surprise</th>\n",
              "      <th>Trust</th>\n",
              "    </tr>\n",
              "  </thead>\n",
              "  <tbody>\n",
              "    <tr>\n",
              "      <th>0</th>\n",
              "      <td>0</td>\n",
              "      <td>Yellow</td>\n",
              "      <td>14</td>\n",
              "      <td>0</td>\n",
              "      <td>0</td>\n",
              "      <td>2</td>\n",
              "      <td>0</td>\n",
              "      <td>0</td>\n",
              "      <td>6</td>\n",
              "      <td>0</td>\n",
              "      <td>0</td>\n",
              "      <td>2</td>\n",
              "    </tr>\n",
              "    <tr>\n",
              "      <th>1</th>\n",
              "      <td>1</td>\n",
              "      <td>Viva La Vida</td>\n",
              "      <td>27</td>\n",
              "      <td>10</td>\n",
              "      <td>6</td>\n",
              "      <td>5</td>\n",
              "      <td>5</td>\n",
              "      <td>8</td>\n",
              "      <td>9</td>\n",
              "      <td>6</td>\n",
              "      <td>3</td>\n",
              "      <td>17</td>\n",
              "    </tr>\n",
              "    <tr>\n",
              "      <th>2</th>\n",
              "      <td>2</td>\n",
              "      <td>In My Place</td>\n",
              "      <td>8</td>\n",
              "      <td>13</td>\n",
              "      <td>0</td>\n",
              "      <td>20</td>\n",
              "      <td>0</td>\n",
              "      <td>2</td>\n",
              "      <td>7</td>\n",
              "      <td>11</td>\n",
              "      <td>1</td>\n",
              "      <td>8</td>\n",
              "    </tr>\n",
              "    <tr>\n",
              "      <th>3</th>\n",
              "      <td>3</td>\n",
              "      <td>God Put A Smile Upon Your Face</td>\n",
              "      <td>24</td>\n",
              "      <td>4</td>\n",
              "      <td>1</td>\n",
              "      <td>15</td>\n",
              "      <td>1</td>\n",
              "      <td>7</td>\n",
              "      <td>18</td>\n",
              "      <td>3</td>\n",
              "      <td>15</td>\n",
              "      <td>18</td>\n",
              "    </tr>\n",
              "    <tr>\n",
              "      <th>4</th>\n",
              "      <td>4</td>\n",
              "      <td>Princess of China</td>\n",
              "      <td>6</td>\n",
              "      <td>12</td>\n",
              "      <td>9</td>\n",
              "      <td>7</td>\n",
              "      <td>0</td>\n",
              "      <td>9</td>\n",
              "      <td>2</td>\n",
              "      <td>11</td>\n",
              "      <td>0</td>\n",
              "      <td>2</td>\n",
              "    </tr>\n",
              "    <tr>\n",
              "      <th>...</th>\n",
              "      <td>...</td>\n",
              "      <td>...</td>\n",
              "      <td>...</td>\n",
              "      <td>...</td>\n",
              "      <td>...</td>\n",
              "      <td>...</td>\n",
              "      <td>...</td>\n",
              "      <td>...</td>\n",
              "      <td>...</td>\n",
              "      <td>...</td>\n",
              "      <td>...</td>\n",
              "      <td>...</td>\n",
              "    </tr>\n",
              "    <tr>\n",
              "      <th>175</th>\n",
              "      <td>175</td>\n",
              "      <td>Stay Frosty Royal Milk Tea</td>\n",
              "      <td>8</td>\n",
              "      <td>29</td>\n",
              "      <td>12</td>\n",
              "      <td>4</td>\n",
              "      <td>19</td>\n",
              "      <td>6</td>\n",
              "      <td>2</td>\n",
              "      <td>9</td>\n",
              "      <td>1</td>\n",
              "      <td>1</td>\n",
              "    </tr>\n",
              "    <tr>\n",
              "      <th>176</th>\n",
              "      <td>176</td>\n",
              "      <td>Champion</td>\n",
              "      <td>27</td>\n",
              "      <td>5</td>\n",
              "      <td>2</td>\n",
              "      <td>25</td>\n",
              "      <td>0</td>\n",
              "      <td>2</td>\n",
              "      <td>24</td>\n",
              "      <td>2</td>\n",
              "      <td>6</td>\n",
              "      <td>19</td>\n",
              "    </tr>\n",
              "    <tr>\n",
              "      <th>177</th>\n",
              "      <td>177</td>\n",
              "      <td>The Last of the Real Ones</td>\n",
              "      <td>39</td>\n",
              "      <td>8</td>\n",
              "      <td>7</td>\n",
              "      <td>12</td>\n",
              "      <td>5</td>\n",
              "      <td>6</td>\n",
              "      <td>14</td>\n",
              "      <td>4</td>\n",
              "      <td>2</td>\n",
              "      <td>31</td>\n",
              "    </tr>\n",
              "    <tr>\n",
              "      <th>178</th>\n",
              "      <td>178</td>\n",
              "      <td>HOLD ME TIGHT OR DON'T</td>\n",
              "      <td>8</td>\n",
              "      <td>7</td>\n",
              "      <td>3</td>\n",
              "      <td>5</td>\n",
              "      <td>1</td>\n",
              "      <td>4</td>\n",
              "      <td>8</td>\n",
              "      <td>4</td>\n",
              "      <td>3</td>\n",
              "      <td>5</td>\n",
              "    </tr>\n",
              "    <tr>\n",
              "      <th>179</th>\n",
              "      <td>179</td>\n",
              "      <td>Wilson (Expensive Mistakes)</td>\n",
              "      <td>10</td>\n",
              "      <td>24</td>\n",
              "      <td>6</td>\n",
              "      <td>4</td>\n",
              "      <td>6</td>\n",
              "      <td>5</td>\n",
              "      <td>5</td>\n",
              "      <td>18</td>\n",
              "      <td>3</td>\n",
              "      <td>5</td>\n",
              "    </tr>\n",
              "  </tbody>\n",
              "</table>\n",
              "<p>180 rows × 12 columns</p>\n",
              "</div>"
            ],
            "text/plain": [
              "     index                      song-title  Positive  ...  Sadness  Surprise  Trust\n",
              "0        0                          Yellow        14  ...        0         0      2\n",
              "1        1                    Viva La Vida        27  ...        6         3     17\n",
              "2        2                     In My Place         8  ...       11         1      8\n",
              "3        3  God Put A Smile Upon Your Face        24  ...        3        15     18\n",
              "4        4               Princess of China         6  ...       11         0      2\n",
              "..     ...                             ...       ...  ...      ...       ...    ...\n",
              "175    175      Stay Frosty Royal Milk Tea         8  ...        9         1      1\n",
              "176    176                        Champion        27  ...        2         6     19\n",
              "177    177       The Last of the Real Ones        39  ...        4         2     31\n",
              "178    178          HOLD ME TIGHT OR DON'T         8  ...        4         3      5\n",
              "179    179     Wilson (Expensive Mistakes)        10  ...       18         3      5\n",
              "\n",
              "[180 rows x 12 columns]"
            ]
          },
          "metadata": {
            "tags": []
          },
          "execution_count": 16
        }
      ]
    },
    {
      "cell_type": "code",
      "metadata": {
        "id": "0w_Nhbo-rNm6",
        "outputId": "26cf1c3d-7591-48d6-9429-19f7470500ed",
        "colab": {
          "base_uri": "https://localhost:8080/"
        }
      },
      "source": [
        "scores_df=song_df[['Positive','Negative','Anger','Anticipation','Disgust','Fear','Joy','Sadness','Surprise','Trust']]\n",
        "cosine_sim=cosine_similarity(scores_df,scores_df)\n",
        "cosine_sim.shape"
      ],
      "execution_count": null,
      "outputs": [
        {
          "output_type": "execute_result",
          "data": {
            "text/plain": [
              "(180, 180)"
            ]
          },
          "metadata": {
            "tags": []
          },
          "execution_count": 17
        }
      ]
    },
    {
      "cell_type": "code",
      "metadata": {
        "id": "rPQBB-OfWtzR",
        "outputId": "9fb7c17e-6ac6-401a-bfe0-422cdbc693a8",
        "colab": {
          "base_uri": "https://localhost:8080/"
        }
      },
      "source": [
        "cosine_sim[3]"
      ],
      "execution_count": null,
      "outputs": [
        {
          "output_type": "execute_result",
          "data": {
            "text/plain": [
              "array([0.78694708, 0.87138025, 0.7091316 , 1.        , 0.49688701,\n",
              "       0.52098807, 0.43130382, 0.8229792 , 0.81309243, 0.47448688,\n",
              "       0.80330076, 0.79701038, 0.88594027, 0.85416664, 0.68806186,\n",
              "       0.8787791 , 0.82534827, 0.80364075, 0.87419676, 0.73146637,\n",
              "       0.4192225 , 0.92869485, 0.71333045, 0.77635473, 0.66778827,\n",
              "       0.92609413, 0.80875295, 0.82903694, 0.95600621, 0.73573475,\n",
              "       0.55259252, 0.6733353 , 0.51930067, 0.84540911, 0.90711718,\n",
              "       0.88704637, 0.59267997, 0.60586994, 0.84247812, 0.93586938,\n",
              "       0.78730191, 0.85431698, 0.92769347, 0.94208538, 0.98846456,\n",
              "       0.63513226, 0.88214032, 0.78153136, 0.7803528 , 0.7324209 ,\n",
              "       0.92483497, 0.16173849, 0.49596074, 0.92039317, 0.94622386,\n",
              "       0.54498213, 0.81100345, 0.75388942, 0.6154028 , 0.82285714,\n",
              "       0.62933979, 0.72247553, 0.72326841, 0.6000983 , 0.65843837,\n",
              "       0.83997829, 0.83480228, 0.76311409, 0.77695144, 0.63514193,\n",
              "       0.85860521, 0.65624009, 0.39052571, 0.36612703, 0.91282279,\n",
              "       0.68368259, 0.59611238, 0.20505529, 0.31112698, 0.81522863,\n",
              "       0.96762846, 0.8740933 , 0.79971808, 0.46158635, 0.82864016,\n",
              "       0.82864016, 0.96762846, 0.56497554, 0.48113305, 0.7359017 ,\n",
              "       0.80063544, 0.45011165, 0.74611722, 0.77419486, 0.79245028,\n",
              "       0.74348786, 0.65591327, 0.59393668, 0.82167722, 0.81165072,\n",
              "       0.94500296, 0.54562707, 0.82004432, 0.85986918, 0.36307906,\n",
              "       0.63564228, 0.7878386 , 0.38514125, 0.49180954, 0.70998504,\n",
              "       0.83053428, 0.92927021, 0.78796137, 0.96286853, 0.94500296,\n",
              "       0.77345955, 0.68107314, 0.66670177, 0.5413463 , 0.81608329,\n",
              "       0.51695213, 0.83358446, 0.74853473, 0.77655523, 0.80004082,\n",
              "       0.80075472, 0.67901753, 0.24081775, 0.41816828, 0.75265163,\n",
              "       0.71044068, 0.35231979, 0.59705242, 0.67652574, 0.4418161 ,\n",
              "       0.85964805, 0.69098151, 0.96444563, 0.70985871, 0.82006279,\n",
              "       0.66146587, 0.53330357, 0.67389147, 0.52894875, 0.8051255 ,\n",
              "       0.9199776 , 0.88529673, 0.50320516, 0.68885344, 0.79646486,\n",
              "       0.80513151, 0.50609699, 0.9211311 , 0.84380175, 0.64775367,\n",
              "       0.81827692, 0.86672084, 0.75078666, 0.75610042, 0.83459211,\n",
              "       0.50334705, 0.85860004, 0.79014508, 0.43296146, 0.8721203 ,\n",
              "       0.96390303, 0.73865276, 0.62590023, 0.83876303, 0.79080641,\n",
              "       0.80425075, 0.98649416, 0.77681905, 0.92440737, 0.8860272 ,\n",
              "       0.32615914, 0.94839546, 0.89405811, 0.8860272 , 0.50414373])"
            ]
          },
          "metadata": {
            "tags": []
          },
          "execution_count": 19
        }
      ]
    },
    {
      "cell_type": "code",
      "metadata": {
        "id": "S3tZNa5-W9cL"
      },
      "source": [
        "indices=pd.Series(song_df.index, song_df['song-title']).drop_duplicates()"
      ],
      "execution_count": null,
      "outputs": []
    },
    {
      "cell_type": "code",
      "metadata": {
        "id": "uoSriiMSXnGB",
        "outputId": "32c7c0ab-5c3a-4a57-da40-a981cb7b964d",
        "colab": {
          "base_uri": "https://localhost:8080/"
        }
      },
      "source": [
        "indices[:5]"
      ],
      "execution_count": null,
      "outputs": [
        {
          "output_type": "execute_result",
          "data": {
            "text/plain": [
              "song-title\n",
              "Yellow                            0\n",
              "Viva La Vida                      1\n",
              "In My Place                       2\n",
              "God Put A Smile Upon Your Face    3\n",
              "Princess of China                 4\n",
              "dtype: int64"
            ]
          },
          "metadata": {
            "tags": []
          },
          "execution_count": 21
        }
      ]
    },
    {
      "cell_type": "code",
      "metadata": {
        "id": "LZCGNjXtX9V3"
      },
      "source": [
        "def get_recommendations(title,cosine_sim=cosine_sim):\n",
        "    index=indices[title]\n",
        "    sim_scores = list(enumerate(cosine_sim[index]))\n",
        "    sim_scores = sorted(sim_scores, key=lambda x: x[1], reverse=True)\n",
        "    sim_scores = sim_scores[1:11]\n",
        "    song_indices = [i[0] for i in sim_scores]\n",
        "    return song_df['song-title'].iloc[song_indices]\n"
      ],
      "execution_count": null,
      "outputs": []
    },
    {
      "cell_type": "code",
      "metadata": {
        "id": "NJNif-iwaZGx",
        "outputId": "44262966-05c4-4924-c249-092ba4c58d3e",
        "colab": {
          "base_uri": "https://localhost:8080/"
        }
      },
      "source": [
        "get_recommendations('Yellow')"
      ],
      "execution_count": null,
      "outputs": [
        {
          "output_type": "execute_result",
          "data": {
            "text/plain": [
              "13                 A Sky Full of Stars\n",
              "81                      Hands All Over\n",
              "92                                Maps\n",
              "168    American Beauty/American Psycho\n",
              "112                                Joy\n",
              "157                     Love Me Better\n",
              "150                           Paradise\n",
              "41                        Made for You\n",
              "42                 All the Right Moves\n",
              "162                          Immortals\n",
              "Name: song-title, dtype: object"
            ]
          },
          "metadata": {
            "tags": []
          },
          "execution_count": 28
        }
      ]
    },
    {
      "cell_type": "code",
      "metadata": {
        "id": "8MBu0U8obEN4",
        "outputId": "661235b8-f590-44a0-d82f-8123e2b01737",
        "colab": {
          "base_uri": "https://localhost:8080/"
        }
      },
      "source": [
        "get_recommendations('In My Place')"
      ],
      "execution_count": null,
      "outputs": [
        {
          "output_type": "execute_result",
          "data": {
            "text/plain": [
              "125              Snakes\n",
              "119           The Waves\n",
              "10        The Scientist\n",
              "56       Shut Your Eyes\n",
              "153      Make Me Better\n",
              "133        The Currents\n",
              "159    Thnks Fr Th Mmrs\n",
              "76            It's Time\n",
              "53     Chocolate [Live]\n",
              "33         In Your Arms\n",
              "Name: song-title, dtype: object"
            ]
          },
          "metadata": {
            "tags": []
          },
          "execution_count": 29
        }
      ]
    },
    {
      "cell_type": "code",
      "metadata": {
        "id": "jrQSe2lebRRm",
        "outputId": "dab50742-c343-40b5-a731-bf74a57c04ce",
        "colab": {
          "base_uri": "https://localhost:8080/"
        }
      },
      "source": [
        "get_recommendations('Irresistible [Remix]')"
      ],
      "execution_count": null,
      "outputs": [
        {
          "output_type": "execute_result",
          "data": {
            "text/plain": [
              "79                           Memories\n",
              "90                     One More Night\n",
              "11                            Up & Up\n",
              "174            HOLD ME TIGHT OR DON'T\n",
              "178            HOLD ME TIGHT OR DON'T\n",
              "155                    Lose My Number\n",
              "121                             Haunt\n",
              "93                  She Will Be Loved\n",
              "15     Adventure Of A Lifetime [Live]\n",
              "138                    Always Hate Me\n",
              "Name: song-title, dtype: object"
            ]
          },
          "metadata": {
            "tags": []
          },
          "execution_count": 30
        }
      ]
    }
  ]
}