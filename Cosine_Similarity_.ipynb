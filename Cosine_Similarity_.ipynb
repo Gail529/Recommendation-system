{
  "nbformat": 4,
  "nbformat_minor": 0,
  "metadata": {
    "colab": {
      "name": "Cosine Similarity .ipynb",
      "provenance": [],
      "authorship_tag": "ABX9TyN0xevpUjjCKzMGcpeAaR/R",
      "include_colab_link": true
    },
    "kernelspec": {
      "name": "python3",
      "display_name": "Python 3"
    }
  },
  "cells": [
    {
      "cell_type": "markdown",
      "metadata": {
        "id": "view-in-github",
        "colab_type": "text"
      },
      "source": [
        "<a href=\"https://colab.research.google.com/github/Gail529/Recommendation-system/blob/master/Cosine_Similarity_.ipynb\" target=\"_parent\"><img src=\"https://colab.research.google.com/assets/colab-badge.svg\" alt=\"Open In Colab\"/></a>"
      ]
    },
    {
      "cell_type": "code",
      "metadata": {
        "id": "_06hONu6i_p0"
      },
      "source": [
        "import pandas as pd\n",
        "import numpy as np\n",
        "from sklearn.metrics.pairwise import cosine_similarity"
      ],
      "execution_count": null,
      "outputs": []
    },
    {
      "cell_type": "code",
      "metadata": {
        "id": "lsL0x4jw3o-A"
      },
      "source": [
        "data=pd.read_csv('/content/rock_emotion_scores.csv')"
      ],
      "execution_count": null,
      "outputs": []
    },
    {
      "cell_type": "code",
      "metadata": {
        "id": "lrCtDa6Z4aMc"
      },
      "source": [
        "song_df=data[['Positive','Negative','Anger','Anticipation','Disgust','Fear','Joy','Sadness','Surprise','Trust']]"
      ],
      "execution_count": null,
      "outputs": []
    },
    {
      "cell_type": "code",
      "metadata": {
        "id": "IfyFuVd-4OjN"
      },
      "source": [
        "song_df.reset_index()"
      ],
      "execution_count": null,
      "outputs": []
    },
    {
      "cell_type": "code",
      "metadata": {
        "id": "0w_Nhbo-rNm6"
      },
      "source": [
        "cosine_sim=cosine_similarity(song_df,song_df)\n",
        "cosine_sim.shape"
      ],
      "execution_count": null,
      "outputs": []
    },
    {
      "cell_type": "code",
      "metadata": {
        "id": "qCvqb0wqrrZw"
      },
      "source": [
        "def recommendation(title):\n",
        "    song_recommendation=[] \n",
        "    song_id=song_df[song_df == title ].index[0]\n",
        "    similarity_score=pd.Series(cosine_sim[song_id].sort_index(ascending=False))\n",
        "    top_similar_songs=list(similarity_score.iloc[1,11].index)\n",
        "    for i in top_similar_songs:\n",
        "        song_recommendation.append(list(df.index)[1])\n",
        "        return song_recommendation"
      ],
      "execution_count": null,
      "outputs": []
    },
    {
      "cell_type": "code",
      "metadata": {
        "id": "IDw8bvomrrW4"
      },
      "source": [
        "recommendation('1')"
      ],
      "execution_count": null,
      "outputs": []
    }
  ]
}