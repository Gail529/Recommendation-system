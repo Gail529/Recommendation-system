{
  "nbformat": 4,
  "nbformat_minor": 0,
  "metadata": {
    "colab": {
      "name": "emotion_scores.ipynb",
      "provenance": [],
      "authorship_tag": "ABX9TyPS/Tn3ltePBgulZgkfeywr",
      "include_colab_link": true
    },
    "kernelspec": {
      "name": "python3",
      "display_name": "Python 3"
    }
  },
  "cells": [
    {
      "cell_type": "markdown",
      "metadata": {
        "id": "view-in-github",
        "colab_type": "text"
      },
      "source": [
        "<a href=\"https://colab.research.google.com/github/Gail529/Recommendation-system/blob/master/emotion_scores.ipynb\" target=\"_parent\"><img src=\"https://colab.research.google.com/assets/colab-badge.svg\" alt=\"Open In Colab\"/></a>"
      ]
    },
    {
      "cell_type": "code",
      "metadata": {
        "id": "QHozu09fZ8Wo",
        "colab_type": "code",
        "colab": {}
      },
      "source": [
        "import pandas as pd \n",
        "from tqdm import tqdm_notebook as tqdm \n",
        "from tqdm import trange\n",
        "import nltk\n",
        "nltk.download('punkt')\n",
        "nltk.download('wordnet')\n",
        "from nltk import word_tokenize\n",
        "from nltk.stem import WordNetLemmatizer"
      ],
      "execution_count": null,
      "outputs": []
    },
    {
      "cell_type": "code",
      "metadata": {
        "id": "bPM-PsxnxARf",
        "colab_type": "code",
        "colab": {}
      },
      "source": [
        "data=pd.read_csv('/content/rock_songs.csv') #dataframe containing songs"
      ],
      "execution_count": null,
      "outputs": []
    },
    {
      "cell_type": "code",
      "metadata": {
        "id": "nabT1XbrzreG",
        "colab_type": "code",
        "colab": {}
      },
      "source": [
        "emo_lex=pd.read_excel('/content/NRC-Emotion-Lexicon-v0.92-In105Languages-Nov2017Translations.xlsx') # emotion lexicon "
      ],
      "execution_count": null,
      "outputs": []
    },
    {
      "cell_type": "code",
      "metadata": {
        "id": "zjHqLWLG7X5R",
        "colab_type": "code",
        "colab": {}
      },
      "source": [
        "emolex_df=emo_lex[['English (en)','Positive','Negative','Anger','Anticipation','Disgust','Fear','Joy','Sadness','Surprise','Trust']]\n",
        "emotions=emolex_df.columns.drop('English (en)')\n",
        "emolex_df.rename(columns={'English (en)':'word'},inplace=True)"
      ],
      "execution_count": null,
      "outputs": []
    },
    {
      "cell_type": "code",
      "metadata": {
        "id": "-6Yy-n9XK0aa",
        "colab_type": "code",
        "colab": {}
      },
      "source": [
        "import re\n",
        "import string\n",
        "for i in range(180):\n",
        "    song=data.iloc[i,2]\n",
        "    lyrics=re.sub('['+string.punctuation+']','',song)# removing punctuations\n",
        "    data.iat[i,2]=lyrics\n"
      ],
      "execution_count": null,
      "outputs": []
    },
    {
      "cell_type": "code",
      "metadata": {
        "id": "lBwapx9lBYV2",
        "colab_type": "code",
        "colab": {}
      },
      "source": [
        "emolex_df.head(5)"
      ],
      "execution_count": null,
      "outputs": []
    },
    {
      "cell_type": "code",
      "metadata": {
        "id": "H8x3A2l2xaEP",
        "colab_type": "code",
        "colab": {}
      },
      "source": [
        "data.head()"
      ],
      "execution_count": null,
      "outputs": []
    },
    {
      "cell_type": "code",
      "metadata": {
        "id": "fbs-9AsKawJk",
        "colab_type": "code",
        "colab": {}
      },
      "source": [
        "#the function passes the column(col) of the respective dataframe passed as arguements\n",
        "def text_emotion(song_df,col):\n",
        "  new_song_df=song_df.copy()\n",
        "  #new  dataframe that will store the emotion scores\n",
        "  emo_df=pd.DataFrame(0,index=new_song_df.index, columns=emotions)\n",
        "  lemmatizer=WordNetLemmatizer()\n",
        "\n",
        "  \n",
        "  with tqdm(total=len(list(new_song_df.iterrows()))) as pbar:\n",
        "    for i ,row in new_song_df.iterrows(): \n",
        "        pbar.update(1) #update the progress bar\n",
        "        song=word_tokenize(new_song_df.loc[i][col]) #the body of text for each individual song(row)\n",
        "\n",
        "        for word in song:\n",
        "            new=lemmatizer.lemmatize(word)#lemmatizing the words\n",
        "            emo_score=emolex_df[emolex_df.word == new]     \n",
        "            if not emo_score.empty:\n",
        "                for emotion in list(emotions):\n",
        "                    emo_df.at[i,emotion] += emo_score[emotion]\n",
        "\n",
        "\n",
        "    new_song_df=pd.concat([new_song_df,emo_df] ,axis=1)\n",
        "    return new_song_df"
      ],
      "execution_count": null,
      "outputs": []
    },
    {
      "cell_type": "code",
      "metadata": {
        "id": "1ZEOfZdHQ8Jp",
        "colab_type": "code",
        "colab": {}
      },
      "source": [
        "final_df=text_emotion(data,'1')"
      ],
      "execution_count": null,
      "outputs": []
    },
    {
      "cell_type": "code",
      "metadata": {
        "id": "_iSOEM9ySOCy",
        "colab_type": "code",
        "colab": {
          "base_uri": "https://localhost:8080/",
          "height": 554
        },
        "outputId": "7081c259-4c0a-4ed6-edf2-4d9031f8e864"
      },
      "source": [
        "final_df.head(10)"
      ],
      "execution_count": null,
      "outputs": [
        {
          "output_type": "execute_result",
          "data": {
            "text/html": [
              "<div>\n",
              "<style scoped>\n",
              "    .dataframe tbody tr th:only-of-type {\n",
              "        vertical-align: middle;\n",
              "    }\n",
              "\n",
              "    .dataframe tbody tr th {\n",
              "        vertical-align: top;\n",
              "    }\n",
              "\n",
              "    .dataframe thead th {\n",
              "        text-align: right;\n",
              "    }\n",
              "</style>\n",
              "<table border=\"1\" class=\"dataframe\">\n",
              "  <thead>\n",
              "    <tr style=\"text-align: right;\">\n",
              "      <th></th>\n",
              "      <th>Unnamed: 0</th>\n",
              "      <th>song-title</th>\n",
              "      <th>lyrics</th>\n",
              "      <th>Positive</th>\n",
              "      <th>Negative</th>\n",
              "      <th>Anger</th>\n",
              "      <th>Anticipation</th>\n",
              "      <th>Disgust</th>\n",
              "      <th>Fear</th>\n",
              "      <th>Joy</th>\n",
              "      <th>Sadness</th>\n",
              "      <th>Surprise</th>\n",
              "      <th>Trust</th>\n",
              "    </tr>\n",
              "  </thead>\n",
              "  <tbody>\n",
              "    <tr>\n",
              "      <th>0</th>\n",
              "      <td>0</td>\n",
              "      <td>Yellow</td>\n",
              "      <td>look stars look shine everything yeah yellow c...</td>\n",
              "      <td>14</td>\n",
              "      <td>0</td>\n",
              "      <td>0</td>\n",
              "      <td>2</td>\n",
              "      <td>0</td>\n",
              "      <td>0</td>\n",
              "      <td>6</td>\n",
              "      <td>0</td>\n",
              "      <td>0</td>\n",
              "      <td>2</td>\n",
              "    </tr>\n",
              "    <tr>\n",
              "      <th>1</th>\n",
              "      <td>1</td>\n",
              "      <td>Viva La Vida</td>\n",
              "      <td>used rule world seas would rise gave word morn...</td>\n",
              "      <td>27</td>\n",
              "      <td>10</td>\n",
              "      <td>6</td>\n",
              "      <td>5</td>\n",
              "      <td>5</td>\n",
              "      <td>8</td>\n",
              "      <td>9</td>\n",
              "      <td>6</td>\n",
              "      <td>3</td>\n",
              "      <td>17</td>\n",
              "    </tr>\n",
              "    <tr>\n",
              "      <th>2</th>\n",
              "      <td>2</td>\n",
              "      <td>In My Place</td>\n",
              "      <td>place place lines could nt change lost oh yeah...</td>\n",
              "      <td>8</td>\n",
              "      <td>13</td>\n",
              "      <td>0</td>\n",
              "      <td>20</td>\n",
              "      <td>0</td>\n",
              "      <td>2</td>\n",
              "      <td>7</td>\n",
              "      <td>11</td>\n",
              "      <td>1</td>\n",
              "      <td>8</td>\n",
              "    </tr>\n",
              "    <tr>\n",
              "      <th>3</th>\n",
              "      <td>3</td>\n",
              "      <td>God Put A Smile Upon Your Face</td>\n",
              "      <td>go nobody knows got ta say way god give style ...</td>\n",
              "      <td>24</td>\n",
              "      <td>4</td>\n",
              "      <td>1</td>\n",
              "      <td>15</td>\n",
              "      <td>1</td>\n",
              "      <td>7</td>\n",
              "      <td>18</td>\n",
              "      <td>3</td>\n",
              "      <td>15</td>\n",
              "      <td>18</td>\n",
              "    </tr>\n",
              "    <tr>\n",
              "      <th>4</th>\n",
              "      <td>4</td>\n",
              "      <td>Princess of China</td>\n",
              "      <td>oh upon time somebody ran somebody ran away sa...</td>\n",
              "      <td>6</td>\n",
              "      <td>12</td>\n",
              "      <td>9</td>\n",
              "      <td>7</td>\n",
              "      <td>0</td>\n",
              "      <td>9</td>\n",
              "      <td>2</td>\n",
              "      <td>11</td>\n",
              "      <td>0</td>\n",
              "      <td>2</td>\n",
              "    </tr>\n",
              "    <tr>\n",
              "      <th>5</th>\n",
              "      <td>5</td>\n",
              "      <td>Up in Flames</td>\n",
              "      <td>time know gone salt water tasted long know wro...</td>\n",
              "      <td>1</td>\n",
              "      <td>1</td>\n",
              "      <td>0</td>\n",
              "      <td>4</td>\n",
              "      <td>0</td>\n",
              "      <td>1</td>\n",
              "      <td>0</td>\n",
              "      <td>0</td>\n",
              "      <td>0</td>\n",
              "      <td>0</td>\n",
              "    </tr>\n",
              "    <tr>\n",
              "      <th>6</th>\n",
              "      <td>6</td>\n",
              "      <td>Charlie Brown</td>\n",
              "      <td>stole key took car downtown lost boys meet too...</td>\n",
              "      <td>6</td>\n",
              "      <td>8</td>\n",
              "      <td>2</td>\n",
              "      <td>0</td>\n",
              "      <td>3</td>\n",
              "      <td>6</td>\n",
              "      <td>0</td>\n",
              "      <td>5</td>\n",
              "      <td>0</td>\n",
              "      <td>0</td>\n",
              "    </tr>\n",
              "    <tr>\n",
              "      <th>7</th>\n",
              "      <td>7</td>\n",
              "      <td>Paradise</td>\n",
              "      <td>girl expected world flew away reach ran away s...</td>\n",
              "      <td>3</td>\n",
              "      <td>4</td>\n",
              "      <td>1</td>\n",
              "      <td>5</td>\n",
              "      <td>1</td>\n",
              "      <td>3</td>\n",
              "      <td>2</td>\n",
              "      <td>1</td>\n",
              "      <td>3</td>\n",
              "      <td>2</td>\n",
              "    </tr>\n",
              "    <tr>\n",
              "      <th>8</th>\n",
              "      <td>8</td>\n",
              "      <td>Us Against the World</td>\n",
              "      <td>oh morning come bursting clouds amen lift blin...</td>\n",
              "      <td>7</td>\n",
              "      <td>7</td>\n",
              "      <td>6</td>\n",
              "      <td>8</td>\n",
              "      <td>2</td>\n",
              "      <td>7</td>\n",
              "      <td>6</td>\n",
              "      <td>7</td>\n",
              "      <td>4</td>\n",
              "      <td>6</td>\n",
              "    </tr>\n",
              "    <tr>\n",
              "      <th>9</th>\n",
              "      <td>9</td>\n",
              "      <td>Clocks</td>\n",
              "      <td>lights go ca nt saved tides tried swim brought...</td>\n",
              "      <td>3</td>\n",
              "      <td>6</td>\n",
              "      <td>4</td>\n",
              "      <td>3</td>\n",
              "      <td>1</td>\n",
              "      <td>5</td>\n",
              "      <td>1</td>\n",
              "      <td>4</td>\n",
              "      <td>0</td>\n",
              "      <td>0</td>\n",
              "    </tr>\n",
              "  </tbody>\n",
              "</table>\n",
              "</div>"
            ],
            "text/plain": [
              "   Unnamed: 0                      song-title  ... Surprise  Trust\n",
              "0           0                          Yellow  ...        0      2\n",
              "1           1                    Viva La Vida  ...        3     17\n",
              "2           2                     In My Place  ...        1      8\n",
              "3           3  God Put A Smile Upon Your Face  ...       15     18\n",
              "4           4               Princess of China  ...        0      2\n",
              "5           5                    Up in Flames  ...        0      0\n",
              "6           6                   Charlie Brown  ...        0      0\n",
              "7           7                        Paradise  ...        3      2\n",
              "8           8            Us Against the World  ...        4      6\n",
              "9           9                          Clocks  ...        0      0\n",
              "\n",
              "[10 rows x 13 columns]"
            ]
          },
          "metadata": {
            "tags": []
          },
          "execution_count": 74
        }
      ]
    },
    {
      "cell_type": "code",
      "metadata": {
        "id": "puNhGFD0SN-i",
        "colab_type": "code",
        "colab": {}
      },
      "source": [
        "cols=final_df.columns\n",
        "col=cols[0]\n",
        "final_df.rename(columns={'0':'song-title','1':'lyrics'},inplace=True)\n"
      ],
      "execution_count": null,
      "outputs": []
    },
    {
      "cell_type": "code",
      "metadata": {
        "id": "Ay_j4iGnT6yW",
        "colab_type": "code",
        "colab": {}
      },
      "source": [
        "final_df.to_csv('rock_emotion_scores.csv')"
      ],
      "execution_count": null,
      "outputs": []
    }
  ]
}