{
  "nbformat": 4,
  "nbformat_minor": 0,
  "metadata": {
    "colab": {
      "name": "Untitled17.ipynb",
      "provenance": [],
      "private_outputs": true,
      "authorship_tag": "ABX9TyN6Q9vfcgeWd8nobf1ahQjZ",
      "include_colab_link": true
    },
    "kernelspec": {
      "name": "python3",
      "display_name": "Python 3"
    }
  },
  "cells": [
    {
      "cell_type": "markdown",
      "metadata": {
        "id": "view-in-github",
        "colab_type": "text"
      },
      "source": [
        "<a href=\"https://colab.research.google.com/github/Gail529/Recommendation-system/blob/master/Untitled17.ipynb\" target=\"_parent\"><img src=\"https://colab.research.google.com/assets/colab-badge.svg\" alt=\"Open In Colab\"/></a>"
      ]
    },
    {
      "cell_type": "code",
      "metadata": {
        "id": "QHozu09fZ8Wo",
        "colab_type": "code",
        "colab": {}
      },
      "source": [
        "import pandas as pd \n",
        "from tqdm import tqdm_notebook as tqdm\n",
        "from tqdm import trange"
      ],
      "execution_count": null,
      "outputs": []
    },
    {
      "cell_type": "code",
      "metadata": {
        "id": "fbs-9AsKawJk",
        "colab_type": "code",
        "colab": {}
      },
      "source": [
        "def text_emotion(df,col):\n",
        "  new_df=df.copy()\n",
        "  nrc=pd.read_excel() \n",
        "  emolex_df=nrc[['word','Positive','Negative\n",
        "emotions=emolex_df.columns.drop('word')\n",
        "emo_df=pd.DataFrame(0,index=df.index, columns=emotions)\n",
        "\n",
        "\n",
        "with tqdm(total=len(list(new_df.iterrows()))) as pbar:\n",
        "for i row in new_df.iterrows():\n",
        "pbar.update(1)\n",
        "song=new_df.loc[i][col]\n",
        "for word in song:\n",
        "  emo_score=emolex_df[emolex_df.word==word] \n",
        "  if not emo_score.empty:\n",
        "    for emotion in list(emotions):\n",
        "       emo_df.at[i,emotion] += emo_score[emotion]\n",
        "\n",
        "\n",
        "new_df=pd.concat([new_df,emo_df] axis=1)\n",
        "return new_df"
      ],
      "execution_count": null,
      "outputs": []
    }
  ]
}