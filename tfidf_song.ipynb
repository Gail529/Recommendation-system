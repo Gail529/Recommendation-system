{
  "nbformat": 4,
  "nbformat_minor": 0,
  "metadata": {
    "colab": {
      "name": "tfidf_song.ipynb",
      "provenance": [],
      "authorship_tag": "ABX9TyP/Wj3JmYP2/lhUU5rqDPw9",
      "include_colab_link": true
    },
    "kernelspec": {
      "name": "python3",
      "display_name": "Python 3"
    }
  },
  "cells": [
    {
      "cell_type": "markdown",
      "metadata": {
        "id": "view-in-github",
        "colab_type": "text"
      },
      "source": [
        "<a href=\"https://colab.research.google.com/github/Gail529/Recommendation-system/blob/master/tfidf_song.ipynb\" target=\"_parent\"><img src=\"https://colab.research.google.com/assets/colab-badge.svg\" alt=\"Open In Colab\"/></a>"
      ]
    },
    {
      "cell_type": "code",
      "metadata": {
        "id": "Fm1d6m4PtXCN",
        "colab_type": "code",
        "colab": {}
      },
      "source": [
        "import pandas as pd\n",
        "import numpy as np\n",
        "import string"
      ],
      "execution_count": null,
      "outputs": []
    },
    {
      "cell_type": "code",
      "metadata": {
        "id": "WB5XOeZXvRge",
        "colab_type": "code",
        "colab": {}
      },
      "source": [
        "emo_df=pd.read_csv('/content/emo_new.csv')"
      ],
      "execution_count": null,
      "outputs": []
    },
    {
      "cell_type": "code",
      "metadata": {
        "id": "eKzNeJ7NvRZB",
        "colab_type": "code",
        "colab": {}
      },
      "source": [
        "text=emo_df['word'].values\n",
        "text"
      ],
      "execution_count": null,
      "outputs": []
    },
    {
      "cell_type": "code",
      "metadata": {
        "id": "jKrTg3Uav-UW",
        "colab_type": "code",
        "colab": {
          "base_uri": "https://localhost:8080/",
          "height": 34
        },
        "outputId": "e5a54e5a-d5c2-401c-9f5f-23633f279269"
      },
      "source": [
        "song_df=pd.read_csv('/content/rock_songs.csv')\n",
        "song_df.shape\n"
      ],
      "execution_count": 43,
      "outputs": [
        {
          "output_type": "execute_result",
          "data": {
            "text/plain": [
              "(180, 3)"
            ]
          },
          "metadata": {
            "tags": []
          },
          "execution_count": 43
        }
      ]
    },
    {
      "cell_type": "code",
      "metadata": {
        "id": "ilgi-Qsp5Gjr",
        "colab_type": "code",
        "colab": {}
      },
      "source": [
        "dataset=song_df['1'].values\n",
        "dataset"
      ],
      "execution_count": null,
      "outputs": []
    },
    {
      "cell_type": "code",
      "metadata": {
        "id": "EQ4Elp6e5GaB",
        "colab_type": "code",
        "colab": {}
      },
      "source": [
        ""
      ],
      "execution_count": null,
      "outputs": []
    },
    {
      "cell_type": "code",
      "metadata": {
        "id": "7Meixw5Wv-Pv",
        "colab_type": "code",
        "colab": {}
      },
      "source": [
        "from sklearn.feature_extraction.text import TfidfVectorizer"
      ],
      "execution_count": 44,
      "outputs": []
    },
    {
      "cell_type": "code",
      "metadata": {
        "id": "QedqkeSUv-Kb",
        "colab_type": "code",
        "colab": {
          "base_uri": "https://localhost:8080/",
          "height": 260
        },
        "outputId": "53c8427d-2ee2-4c2d-d9d3-774863afb8bf"
      },
      "source": [
        "tfidfVectorizer=TfidfVectorizer(use_idf=True)\n",
        "tfidf=tfidfVectorizer.fit_transform(dataset)\n",
        "df=pd.DataFrame(tfidf[0].T.todense(),index=tfidfVectorizer.get_feature_names(),columns=[\"TF-IDF\"])\n",
        "df = df.sort_values('TF-IDF',ascending=False)\n",
        "print(df.head(100))"
      ],
      "execution_count": 45,
      "outputs": [
        {
          "output_type": "stream",
          "text": [
            "           TF-IDF\n",
            "shine    0.549151\n",
            "yellow   0.428785\n",
            "look     0.420890\n",
            "skin     0.226400\n",
            "dry      0.158882\n",
            "...           ...\n",
            "read     0.000000\n",
            "reading  0.000000\n",
            "ready    0.000000\n",
            "real     0.000000\n",
            "realest  0.000000\n",
            "\n",
            "[100 rows x 1 columns]\n"
          ],
          "name": "stdout"
        }
      ]
    },
    {
      "cell_type": "code",
      "metadata": {
        "id": "w_1JEV_U8cs5",
        "colab_type": "code",
        "colab": {
          "base_uri": "https://localhost:8080/",
          "height": 424
        },
        "outputId": "c4931d14-ffb8-41fa-87d3-426e49cb8760"
      },
      "source": [
        "df.reset_index(inplace=True)\n",
        "df.rename(columns={\"index\":\"term\"},inplace=True)\n",
        "df"
      ],
      "execution_count": 46,
      "outputs": [
        {
          "output_type": "execute_result",
          "data": {
            "text/html": [
              "<div>\n",
              "<style scoped>\n",
              "    .dataframe tbody tr th:only-of-type {\n",
              "        vertical-align: middle;\n",
              "    }\n",
              "\n",
              "    .dataframe tbody tr th {\n",
              "        vertical-align: top;\n",
              "    }\n",
              "\n",
              "    .dataframe thead th {\n",
              "        text-align: right;\n",
              "    }\n",
              "</style>\n",
              "<table border=\"1\" class=\"dataframe\">\n",
              "  <thead>\n",
              "    <tr style=\"text-align: right;\">\n",
              "      <th></th>\n",
              "      <th>term</th>\n",
              "      <th>TF-IDF</th>\n",
              "    </tr>\n",
              "  </thead>\n",
              "  <tbody>\n",
              "    <tr>\n",
              "      <th>0</th>\n",
              "      <td>shine</td>\n",
              "      <td>0.549151</td>\n",
              "    </tr>\n",
              "    <tr>\n",
              "      <th>1</th>\n",
              "      <td>yellow</td>\n",
              "      <td>0.428785</td>\n",
              "    </tr>\n",
              "    <tr>\n",
              "      <th>2</th>\n",
              "      <td>look</td>\n",
              "      <td>0.420890</td>\n",
              "    </tr>\n",
              "    <tr>\n",
              "      <th>3</th>\n",
              "      <td>skin</td>\n",
              "      <td>0.226400</td>\n",
              "    </tr>\n",
              "    <tr>\n",
              "      <th>4</th>\n",
              "      <td>dry</td>\n",
              "      <td>0.158882</td>\n",
              "    </tr>\n",
              "    <tr>\n",
              "      <th>...</th>\n",
              "      <td>...</td>\n",
              "      <td>...</td>\n",
              "    </tr>\n",
              "    <tr>\n",
              "      <th>3027</th>\n",
              "      <td>foreign</td>\n",
              "      <td>0.000000</td>\n",
              "    </tr>\n",
              "    <tr>\n",
              "      <th>3028</th>\n",
              "      <td>forest</td>\n",
              "      <td>0.000000</td>\n",
              "    </tr>\n",
              "    <tr>\n",
              "      <th>3029</th>\n",
              "      <td>forever</td>\n",
              "      <td>0.000000</td>\n",
              "    </tr>\n",
              "    <tr>\n",
              "      <th>3030</th>\n",
              "      <td>forget</td>\n",
              "      <td>0.000000</td>\n",
              "    </tr>\n",
              "    <tr>\n",
              "      <th>3031</th>\n",
              "      <td>zoom</td>\n",
              "      <td>0.000000</td>\n",
              "    </tr>\n",
              "  </tbody>\n",
              "</table>\n",
              "<p>3032 rows × 2 columns</p>\n",
              "</div>"
            ],
            "text/plain": [
              "         term    TF-IDF\n",
              "0       shine  0.549151\n",
              "1      yellow  0.428785\n",
              "2        look  0.420890\n",
              "3        skin  0.226400\n",
              "4         dry  0.158882\n",
              "...       ...       ...\n",
              "3027  foreign  0.000000\n",
              "3028   forest  0.000000\n",
              "3029  forever  0.000000\n",
              "3030   forget  0.000000\n",
              "3031     zoom  0.000000\n",
              "\n",
              "[3032 rows x 2 columns]"
            ]
          },
          "metadata": {
            "tags": []
          },
          "execution_count": 46
        }
      ]
    },
    {
      "cell_type": "code",
      "metadata": {
        "id": "T3cQhXID84gE",
        "colab_type": "code",
        "colab": {}
      },
      "source": [
        "for t in text:\n",
        "    tfidf_score=[]\n",
        "    score_df=df.loc[df['term'] == t,:]\n",
        "    score=score_df['TF-IDF'].values\n",
        "    tfidf_score.append(score)"
      ],
      "execution_count": 50,
      "outputs": []
    },
    {
      "cell_type": "code",
      "metadata": {
        "id": "nreXfc_UBOMC",
        "colab_type": "code",
        "colab": {
          "base_uri": "https://localhost:8080/",
          "height": 34
        },
        "outputId": "8e7a37d4-aabf-4335-ad62-ad488c443ded"
      },
      "source": [
        "tfidf_score"
      ],
      "execution_count": 51,
      "outputs": [
        {
          "output_type": "execute_result",
          "data": {
            "text/plain": [
              "[array([0.])]"
            ]
          },
          "metadata": {
            "tags": []
          },
          "execution_count": 51
        }
      ]
    }
  ]
}