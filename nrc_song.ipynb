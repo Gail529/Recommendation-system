{
  "nbformat": 4,
  "nbformat_minor": 0,
  "metadata": {
    "colab": {
      "name": "nrc_song.ipynb",
      "provenance": [],
      "collapsed_sections": [],
      "mount_file_id": "1fA-X926HG8IgKOSt3PPhOK7K646MFoY8",
      "authorship_tag": "ABX9TyPL08TDz+Nh89I7V90jBrv3",
      "include_colab_link": true
    },
    "kernelspec": {
      "name": "python3",
      "display_name": "Python 3"
    }
  },
  "cells": [
    {
      "cell_type": "markdown",
      "metadata": {
        "id": "view-in-github",
        "colab_type": "text"
      },
      "source": [
        "<a href=\"https://colab.research.google.com/github/Gail529/Recommendation-system/blob/master/nrc_song.ipynb\" target=\"_parent\"><img src=\"https://colab.research.google.com/assets/colab-badge.svg\" alt=\"Open In Colab\"/></a>"
      ]
    },
    {
      "cell_type": "code",
      "metadata": {
        "id": "WnCHfQUSO40y"
      },
      "source": [
        "import numpy as np\n",
        "import pandas as pd\n",
        "import string"
      ],
      "execution_count": null,
      "outputs": []
    },
    {
      "cell_type": "code",
      "metadata": {
        "id": "l-ZYEpiPRbzg"
      },
      "source": [
        "emo=pd.read_csv('/content/NRC-Emotion-Intensity-Lexicon-v1-ForVariousLanguages.txt',sep='\\t')"
      ],
      "execution_count": null,
      "outputs": []
    },
    {
      "cell_type": "code",
      "metadata": {
        "id": "QZYe5YDamlNN"
      },
      "source": [
        "emo_df=emo.filter(items=['word','emotion','emotion-intensity-score'])\n",
        "emo_df"
      ],
      "execution_count": null,
      "outputs": []
    },
    {
      "cell_type": "code",
      "metadata": {
        "id": "TcTTfjB3Rgiu"
      },
      "source": [
        "emo_df.head(50)"
      ],
      "execution_count": null,
      "outputs": []
    },
    {
      "cell_type": "code",
      "metadata": {
        "id": "xXIQF_ELRnz3",
        "colab": {
          "base_uri": "https://localhost:8080/",
          "height": 196
        },
        "outputId": "3292ab18-66f6-42c5-b5cb-62ea1a8cd7bf"
      },
      "source": [
        "emo_word=emo.loc[(emo['word'] == 'money') & (emo['emotion-intensity-score'] >= 0.5 )]\n",
        "emo_word"
      ],
      "execution_count": null,
      "outputs": [
        {
          "output_type": "execute_result",
          "data": {
            "text/html": [
              "<div>\n",
              "<style scoped>\n",
              "    .dataframe tbody tr th:only-of-type {\n",
              "        vertical-align: middle;\n",
              "    }\n",
              "\n",
              "    .dataframe tbody tr th {\n",
              "        vertical-align: top;\n",
              "    }\n",
              "\n",
              "    .dataframe thead th {\n",
              "        text-align: right;\n",
              "    }\n",
              "</style>\n",
              "<table border=\"1\" class=\"dataframe\">\n",
              "  <thead>\n",
              "    <tr style=\"text-align: right;\">\n",
              "      <th></th>\n",
              "      <th>word</th>\n",
              "      <th>emotion</th>\n",
              "      <th>emotion-intensity-score</th>\n",
              "      <th>Afrikaans-af</th>\n",
              "      <th>Albanian-sq</th>\n",
              "      <th>Amharic-am</th>\n",
              "      <th>Arabic-ar</th>\n",
              "      <th>Armenian-hy</th>\n",
              "      <th>Azeerbaijani-az</th>\n",
              "      <th>Basque-eu</th>\n",
              "      <th>Belarusian-be</th>\n",
              "      <th>Bengali-bn</th>\n",
              "      <th>Bosnian-bs</th>\n",
              "      <th>Bulgarian-bg</th>\n",
              "      <th>Catalan-ca</th>\n",
              "      <th>Cebuano-ceb</th>\n",
              "      <th>Chinese (Simplified)-zh-CN</th>\n",
              "      <th>Chinese (Traditional)-zh-TW</th>\n",
              "      <th>Corsican-co</th>\n",
              "      <th>Croatian-hr</th>\n",
              "      <th>Czech-cs</th>\n",
              "      <th>Danish-da</th>\n",
              "      <th>Dutch-nl</th>\n",
              "      <th>Esperanto-eo</th>\n",
              "      <th>Estonian-et</th>\n",
              "      <th>Finnish-fi</th>\n",
              "      <th>French-fr</th>\n",
              "      <th>Frisian-fy</th>\n",
              "      <th>Galician-gl</th>\n",
              "      <th>Georgian-ka</th>\n",
              "      <th>German-de</th>\n",
              "      <th>Greek-el</th>\n",
              "      <th>Gujarati-gu</th>\n",
              "      <th>Haitian Creole-ht</th>\n",
              "      <th>Hausa-ha</th>\n",
              "      <th>Hawaiian-haw</th>\n",
              "      <th>Hebrew-iw</th>\n",
              "      <th>Hindi-hi</th>\n",
              "      <th>Hmong-hmn</th>\n",
              "      <th>Hungarian-hu</th>\n",
              "      <th>...</th>\n",
              "      <th>Myanmar (Burmese)-my</th>\n",
              "      <th>Nepali-ne</th>\n",
              "      <th>Norwegian-no</th>\n",
              "      <th>Nyanja (Chichewa)-ny</th>\n",
              "      <th>Pashto-ps</th>\n",
              "      <th>Persian-fa</th>\n",
              "      <th>Polish-pl</th>\n",
              "      <th>Portuguese (Portugal, Brazil)-pt</th>\n",
              "      <th>Punjabi-pa</th>\n",
              "      <th>Romanian-ro</th>\n",
              "      <th>Russian-ru</th>\n",
              "      <th>Samoan-sm</th>\n",
              "      <th>Scots Gaelic-gd</th>\n",
              "      <th>Serbian-sr</th>\n",
              "      <th>Sesotho-st</th>\n",
              "      <th>Shona-sn</th>\n",
              "      <th>Sindhi-sd</th>\n",
              "      <th>Sinhala (Sinhalese)-si</th>\n",
              "      <th>Slovak-sk</th>\n",
              "      <th>Slovenian-sl</th>\n",
              "      <th>Somali-so</th>\n",
              "      <th>Spanish-es</th>\n",
              "      <th>Sundanese-su</th>\n",
              "      <th>Swahili-sw</th>\n",
              "      <th>Swedish-sv</th>\n",
              "      <th>Tagalog (Filipino)-tl</th>\n",
              "      <th>Tajik-tg</th>\n",
              "      <th>Tamil-ta</th>\n",
              "      <th>Telugu-te</th>\n",
              "      <th>Thai-th</th>\n",
              "      <th>Turkish-tr</th>\n",
              "      <th>Ukrainian-uk</th>\n",
              "      <th>Urdu-ur</th>\n",
              "      <th>Uzbek-uz</th>\n",
              "      <th>Vietnamese-vi</th>\n",
              "      <th>Welsh-cy</th>\n",
              "      <th>Xhosa-xh</th>\n",
              "      <th>Yiddish-yi</th>\n",
              "      <th>Yoruba-yo</th>\n",
              "      <th>Zulu-zu</th>\n",
              "    </tr>\n",
              "  </thead>\n",
              "  <tbody>\n",
              "    <tr>\n",
              "      <th>1684</th>\n",
              "      <td>money</td>\n",
              "      <td>anticipation</td>\n",
              "      <td>0.586</td>\n",
              "      <td>geld</td>\n",
              "      <td>para</td>\n",
              "      <td>ገንዘብ</td>\n",
              "      <td>مال</td>\n",
              "      <td>դրամ</td>\n",
              "      <td>pul</td>\n",
              "      <td>dirua</td>\n",
              "      <td>грошы</td>\n",
              "      <td>টাকা</td>\n",
              "      <td>novac</td>\n",
              "      <td>пари</td>\n",
              "      <td>diners</td>\n",
              "      <td>salapi</td>\n",
              "      <td>钱</td>\n",
              "      <td>錢</td>\n",
              "      <td>soldi</td>\n",
              "      <td>novac</td>\n",
              "      <td>peníze</td>\n",
              "      <td>penge</td>\n",
              "      <td>geld</td>\n",
              "      <td>mono</td>\n",
              "      <td>raha</td>\n",
              "      <td>raha</td>\n",
              "      <td>argent</td>\n",
              "      <td>jild</td>\n",
              "      <td>diñeiro</td>\n",
              "      <td>ფული</td>\n",
              "      <td>Geld</td>\n",
              "      <td>χρήματα</td>\n",
              "      <td>મની</td>\n",
              "      <td>lajan</td>\n",
              "      <td>kudi</td>\n",
              "      <td>ke kālā</td>\n",
              "      <td>כֶּסֶף</td>\n",
              "      <td>पैसे</td>\n",
              "      <td>nyiaj</td>\n",
              "      <td>pénz</td>\n",
              "      <td>...</td>\n",
              "      <td>ပိုက်ဆံ</td>\n",
              "      <td>पैसा</td>\n",
              "      <td>penger</td>\n",
              "      <td>ndalama</td>\n",
              "      <td>پیسې</td>\n",
              "      <td>پول</td>\n",
              "      <td>pieniądze</td>\n",
              "      <td>dinheiro</td>\n",
              "      <td>NaN</td>\n",
              "      <td>bani</td>\n",
              "      <td>Деньги</td>\n",
              "      <td>tupe</td>\n",
              "      <td>airgead</td>\n",
              "      <td>новац</td>\n",
              "      <td>chelete</td>\n",
              "      <td>mari</td>\n",
              "      <td>پئسا</td>\n",
              "      <td>මුදල</td>\n",
              "      <td>peniaze</td>\n",
              "      <td>denar</td>\n",
              "      <td>lacag</td>\n",
              "      <td>dinero</td>\n",
              "      <td>duit</td>\n",
              "      <td>fedha</td>\n",
              "      <td>pengar</td>\n",
              "      <td>pera</td>\n",
              "      <td>пул</td>\n",
              "      <td>பணம்</td>\n",
              "      <td>డబ్బు</td>\n",
              "      <td>เงิน</td>\n",
              "      <td>para</td>\n",
              "      <td>гроші</td>\n",
              "      <td>پیسہ</td>\n",
              "      <td>pul</td>\n",
              "      <td>tiền bạc</td>\n",
              "      <td>arian</td>\n",
              "      <td>imali</td>\n",
              "      <td>געלט</td>\n",
              "      <td>owo</td>\n",
              "      <td>imali</td>\n",
              "    </tr>\n",
              "    <tr>\n",
              "      <th>5756</th>\n",
              "      <td>money</td>\n",
              "      <td>joy</td>\n",
              "      <td>0.531</td>\n",
              "      <td>geld</td>\n",
              "      <td>para</td>\n",
              "      <td>ገንዘብ</td>\n",
              "      <td>مال</td>\n",
              "      <td>դրամ</td>\n",
              "      <td>pul</td>\n",
              "      <td>dirua</td>\n",
              "      <td>грошы</td>\n",
              "      <td>টাকা</td>\n",
              "      <td>novac</td>\n",
              "      <td>пари</td>\n",
              "      <td>diners</td>\n",
              "      <td>salapi</td>\n",
              "      <td>钱</td>\n",
              "      <td>錢</td>\n",
              "      <td>soldi</td>\n",
              "      <td>novac</td>\n",
              "      <td>peníze</td>\n",
              "      <td>penge</td>\n",
              "      <td>geld</td>\n",
              "      <td>mono</td>\n",
              "      <td>raha</td>\n",
              "      <td>raha</td>\n",
              "      <td>argent</td>\n",
              "      <td>jild</td>\n",
              "      <td>diñeiro</td>\n",
              "      <td>ფული</td>\n",
              "      <td>Geld</td>\n",
              "      <td>χρήματα</td>\n",
              "      <td>મની</td>\n",
              "      <td>lajan</td>\n",
              "      <td>kudi</td>\n",
              "      <td>ke kālā</td>\n",
              "      <td>כֶּסֶף</td>\n",
              "      <td>पैसे</td>\n",
              "      <td>nyiaj</td>\n",
              "      <td>pénz</td>\n",
              "      <td>...</td>\n",
              "      <td>ပိုက်ဆံ</td>\n",
              "      <td>पैसा</td>\n",
              "      <td>penger</td>\n",
              "      <td>ndalama</td>\n",
              "      <td>پیسې</td>\n",
              "      <td>پول</td>\n",
              "      <td>pieniądze</td>\n",
              "      <td>dinheiro</td>\n",
              "      <td>NaN</td>\n",
              "      <td>bani</td>\n",
              "      <td>Деньги</td>\n",
              "      <td>tupe</td>\n",
              "      <td>airgead</td>\n",
              "      <td>новац</td>\n",
              "      <td>chelete</td>\n",
              "      <td>mari</td>\n",
              "      <td>پئسا</td>\n",
              "      <td>මුදල</td>\n",
              "      <td>peniaze</td>\n",
              "      <td>denar</td>\n",
              "      <td>lacag</td>\n",
              "      <td>dinero</td>\n",
              "      <td>duit</td>\n",
              "      <td>fedha</td>\n",
              "      <td>pengar</td>\n",
              "      <td>pera</td>\n",
              "      <td>пул</td>\n",
              "      <td>பணம்</td>\n",
              "      <td>డబ్బు</td>\n",
              "      <td>เงิน</td>\n",
              "      <td>para</td>\n",
              "      <td>гроші</td>\n",
              "      <td>پیسہ</td>\n",
              "      <td>pul</td>\n",
              "      <td>tiền bạc</td>\n",
              "      <td>arian</td>\n",
              "      <td>imali</td>\n",
              "      <td>געלט</td>\n",
              "      <td>owo</td>\n",
              "      <td>imali</td>\n",
              "    </tr>\n",
              "  </tbody>\n",
              "</table>\n",
              "<p>2 rows × 106 columns</p>\n",
              "</div>"
            ],
            "text/plain": [
              "       word       emotion  emotion-intensity-score  ... Yiddish-yi Yoruba-yo Zulu-zu\n",
              "1684  money  anticipation                    0.586  ...       געלט       owo   imali\n",
              "5756  money           joy                    0.531  ...       געלט       owo   imali\n",
              "\n",
              "[2 rows x 106 columns]"
            ]
          },
          "metadata": {
            "tags": []
          },
          "execution_count": 5
        }
      ]
    },
    {
      "cell_type": "code",
      "metadata": {
        "id": "je_2i1XmkRja"
      },
      "source": [
        ""
      ],
      "execution_count": null,
      "outputs": []
    },
    {
      "cell_type": "code",
      "metadata": {
        "id": "0B6i_e7tR4lz",
        "colab": {
          "base_uri": "https://localhost:8080/",
          "height": 34
        },
        "outputId": "325826b5-46c5-4fc3-924d-25b43b409b1c"
      },
      "source": [
        "songs=pd.read_csv('/content/rock_songs.csv')\n",
        "songs.shape\n"
      ],
      "execution_count": null,
      "outputs": [
        {
          "output_type": "execute_result",
          "data": {
            "text/plain": [
              "(180, 3)"
            ]
          },
          "metadata": {
            "tags": []
          },
          "execution_count": 39
        }
      ]
    },
    {
      "cell_type": "code",
      "metadata": {
        "id": "lBiEbP5k_1zf",
        "colab": {
          "base_uri": "https://localhost:8080/",
          "height": 86
        },
        "outputId": "2418979a-4963-4480-e106-2a11e47cd6d9"
      },
      "source": [
        "    import re\n",
        "    import nltk\n",
        "    nltk.download('punkt')\n",
        "    nltk.download('wordnet')\n",
        "    from nltk.stem import WordNetLemmatizer\n",
        "    from nltk.tokenize import word_tokenize\n",
        "    \n"
      ],
      "execution_count": null,
      "outputs": [
        {
          "output_type": "stream",
          "text": [
            "[nltk_data] Downloading package punkt to /root/nltk_data...\n",
            "[nltk_data]   Unzipping tokenizers/punkt.zip.\n",
            "[nltk_data] Downloading package wordnet to /root/nltk_data...\n",
            "[nltk_data]   Unzipping corpora/wordnet.zip.\n"
          ],
          "name": "stdout"
        }
      ]
    },
    {
      "cell_type": "code",
      "metadata": {
        "id": "bssM5uMzTGLx",
        "colab": {
          "base_uri": "https://localhost:8080/",
          "height": 124
        },
        "outputId": "3f75e99a-b5cb-4768-db97-077011332059"
      },
      "source": [
        "#analysing the emotions of each individual song\n",
        " \n",
        "emo_songs_list=[]\n",
        "id=0\n",
        "for s in range(len(songs)):\n",
        "    lyrics=songs.iloc[s,2]\n",
        "    fline=re.sub('['+string.punctuation+']','',lyrics)# removing punctuations\n",
        "    lemmatizer=WordNetLemmatizer()\n",
        "    lyric=[]\n",
        "    text=word_tokenize(fline)#tokenizing each word  in the song\n",
        " \n",
        "    for word in text:\n",
        "        new=lemmatizer.lemmatize(word)#lemmatizing the words\n",
        "        lyric.append(new)#storing the lemmatized words \n",
        " \n",
        "#identify  emotional  words in the songs\n",
        "    emo_song=emo_df.loc[(emo_df['word'].isin(lyric))  & (emo_df['emotion-intensity-score'] >= 0.4)]\n",
        "    emo_song['id']=id#adds a column that uniquely identifies each song \n",
        "    id += 1\n",
        "    emo_songs_list.append(emo_song)\n",
        "# dataframe that contains all the emotional words of the songs\n",
        "emo_new=pd.concat(emo_songs_list)"
      ],
      "execution_count": null,
      "outputs": [
        {
          "output_type": "stream",
          "text": [
            "/usr/local/lib/python3.6/dist-packages/ipykernel_launcher.py:18: SettingWithCopyWarning: \n",
            "A value is trying to be set on a copy of a slice from a DataFrame.\n",
            "Try using .loc[row_indexer,col_indexer] = value instead\n",
            "\n",
            "See the caveats in the documentation: https://pandas.pydata.org/pandas-docs/stable/user_guide/indexing.html#returning-a-view-versus-a-copy\n"
          ],
          "name": "stderr"
        }
      ]
    },
    {
      "cell_type": "code",
      "metadata": {
        "id": "sdqSROLEtOpW",
        "colab": {
          "base_uri": "https://localhost:8080/",
          "height": 34
        },
        "outputId": "76ef7b41-5545-45bf-cc00-b9e34320217f"
      },
      "source": [
        "emo_new.set_index(['id'],inplace=True)\n",
        "emo_new.shape"
      ],
      "execution_count": null,
      "outputs": [
        {
          "output_type": "execute_result",
          "data": {
            "text/plain": [
              "(3635, 3)"
            ]
          },
          "metadata": {
            "tags": []
          },
          "execution_count": 44
        }
      ]
    },
    {
      "cell_type": "code",
      "metadata": {
        "id": "IbTMu_EW5ppp"
      },
      "source": [
        "emo_new.to_csv('emo_new.csv')csv"
      ],
      "execution_count": null,
      "outputs": []
    },
    {
      "cell_type": "code",
      "metadata": {
        "id": "Pchz3JxiawEY"
      },
      "source": [
        "emo_new=pd.read_csv('/content/emo_new.csv')"
      ],
      "execution_count": null,
      "outputs": []
    },
    {
      "cell_type": "code",
      "metadata": {
        "id": "20G8KTJ8av8Q",
        "colab": {
          "base_uri": "https://localhost:8080/",
          "height": 206
        },
        "outputId": "2e9494e8-3759-470c-fc16-5f3a0d73e196"
      },
      "source": [
        "emo_new.tail(5)"
      ],
      "execution_count": null,
      "outputs": [
        {
          "output_type": "execute_result",
          "data": {
            "text/html": [
              "<div>\n",
              "<style scoped>\n",
              "    .dataframe tbody tr th:only-of-type {\n",
              "        vertical-align: middle;\n",
              "    }\n",
              "\n",
              "    .dataframe tbody tr th {\n",
              "        vertical-align: top;\n",
              "    }\n",
              "\n",
              "    .dataframe thead th {\n",
              "        text-align: right;\n",
              "    }\n",
              "</style>\n",
              "<table border=\"1\" class=\"dataframe\">\n",
              "  <thead>\n",
              "    <tr style=\"text-align: right;\">\n",
              "      <th></th>\n",
              "      <th>id</th>\n",
              "      <th>word</th>\n",
              "      <th>emotion</th>\n",
              "      <th>emotion-intensity-score</th>\n",
              "    </tr>\n",
              "  </thead>\n",
              "  <tbody>\n",
              "    <tr>\n",
              "      <th>3630</th>\n",
              "      <td>179</td>\n",
              "      <td>problem</td>\n",
              "      <td>sadness</td>\n",
              "      <td>0.438</td>\n",
              "    </tr>\n",
              "    <tr>\n",
              "      <th>3631</th>\n",
              "      <td>179</td>\n",
              "      <td>wonder</td>\n",
              "      <td>surprise</td>\n",
              "      <td>0.523</td>\n",
              "    </tr>\n",
              "    <tr>\n",
              "      <th>3632</th>\n",
              "      <td>179</td>\n",
              "      <td>strange</td>\n",
              "      <td>surprise</td>\n",
              "      <td>0.477</td>\n",
              "    </tr>\n",
              "    <tr>\n",
              "      <th>3633</th>\n",
              "      <td>179</td>\n",
              "      <td>friend</td>\n",
              "      <td>trust</td>\n",
              "      <td>0.750</td>\n",
              "    </tr>\n",
              "    <tr>\n",
              "      <th>3634</th>\n",
              "      <td>179</td>\n",
              "      <td>hope</td>\n",
              "      <td>trust</td>\n",
              "      <td>0.680</td>\n",
              "    </tr>\n",
              "  </tbody>\n",
              "</table>\n",
              "</div>"
            ],
            "text/plain": [
              "       id     word   emotion  emotion-intensity-score\n",
              "3630  179  problem   sadness                    0.438\n",
              "3631  179   wonder  surprise                    0.523\n",
              "3632  179  strange  surprise                    0.477\n",
              "3633  179   friend     trust                    0.750\n",
              "3634  179     hope     trust                    0.680"
            ]
          },
          "metadata": {
            "tags": []
          },
          "execution_count": 8
        }
      ]
    },
    {
      "cell_type": "code",
      "metadata": {
        "id": "zUo_neCmsNs-"
      },
      "source": [
        "emo_new.head(50)"
      ],
      "execution_count": null,
      "outputs": []
    },
    {
      "cell_type": "code",
      "metadata": {
        "id": "r8T7vef9atQE",
        "colab": {
          "base_uri": "https://localhost:8080/",
          "height": 318
        },
        "outputId": "4a30324e-c081-469f-f5ef-018ead38d1e9"
      },
      "source": [
        "import seaborn as sns\n",
        "import matplotlib.pyplot as plt\n",
        "sns.set(style='whitegrid',color_codes=True,palette='magma')\n",
        "sns.countplot(emo_new['emotion'])\n",
        "plt.title('Song_Emotion')"
      ],
      "execution_count": null,
      "outputs": [
        {
          "output_type": "execute_result",
          "data": {
            "text/plain": [
              "Text(0.5, 1.0, 'Song_Emotion')"
            ]
          },
          "metadata": {
            "tags": []
          },
          "execution_count": 14
        },
        {
          "output_type": "display_data",
          "data": {
            "image/png": "[encoded data removed]",
            "text/plain": [
              "<Figure size 432x288 with 1 Axes>"
            ]
          },
          "metadata": {
            "tags": []
          }
        }
      ]
    },
    {
      "cell_type": "code",
      "metadata": {
        "id": "MJfOfqxRfj3Z",
        "colab": {
          "base_uri": "https://localhost:8080/",
          "height": 273
        },
        "outputId": "da6c03f8-b76b-40ec-b593-6e627ec60311"
      },
      "source": [
        "data=emo_new.iloc[0:50,:]\n",
        "sns.set(style='darkgrid')\n",
        "g=sns.catplot(x='id',y='emotion-intensity-score',data=data,\n",
        "              hue=\"emotion\",kind=\"bar\",palette=\"muted\",height=5,aspect=3)\n"
      ],
      "execution_count": null,
      "outputs": [
        {
          "output_type": "display_data",
          "data": {
            "image/png": "[encoded data removed]",
            "text/plain": [
              "<Figure size 1185.1x360 with 1 Axes>"
            ]
          },
          "metadata": {
            "tags": []
          }
        }
      ]
    },
    {
      "cell_type": "code",
      "metadata": {
        "id": "DKq6QOLtJC5D",
        "colab": {
          "base_uri": "https://localhost:8080/",
          "height": 762
        },
        "outputId": "a6561895-86e7-4b52-e6c3-e90c0135a534"
      },
      "source": [
        "lyrics=songs.iloc[1,2]\n",
        "fline=re.sub('['+string.punctuation+']','',lyrics)\n",
        "lemmatizer=WordNetLemmatizer()\n",
        "lyric=[]\n",
        "text=word_tokenize(fline)\n",
        "for word in text:\n",
        "    new=lemmatizer.lemmatize(word)\n",
        "    lyric.append(new)\n",
        " \n",
        "cp1=emo.loc[(emo['word'].isin(lyric))  & (emo['emotion-intensity-score'] >= 0.4)]\n",
        "cp1"
      ],
      "execution_count": null,
      "outputs": [
        {
          "output_type": "execute_result",
          "data": {
            "text/html": [
              "<div>\n",
              "<style scoped>\n",
              "    .dataframe tbody tr th:only-of-type {\n",
              "        vertical-align: middle;\n",
              "    }\n",
              "\n",
              "    .dataframe tbody tr th {\n",
              "        vertical-align: top;\n",
              "    }\n",
              "\n",
              "    .dataframe thead th {\n",
              "        text-align: right;\n",
              "    }\n",
              "</style>\n",
              "<table border=\"1\" class=\"dataframe\">\n",
              "  <thead>\n",
              "    <tr style=\"text-align: right;\">\n",
              "      <th></th>\n",
              "      <th>word</th>\n",
              "      <th>emotion</th>\n",
              "      <th>emotion-intensity-score</th>\n",
              "    </tr>\n",
              "  </thead>\n",
              "  <tbody>\n",
              "    <tr>\n",
              "      <th>339</th>\n",
              "      <td>enemy</td>\n",
              "      <td>anger</td>\n",
              "      <td>0.667</td>\n",
              "    </tr>\n",
              "    <tr>\n",
              "      <th>742</th>\n",
              "      <td>fear</td>\n",
              "      <td>anger</td>\n",
              "      <td>0.500</td>\n",
              "    </tr>\n",
              "    <tr>\n",
              "      <th>1851</th>\n",
              "      <td>wait</td>\n",
              "      <td>anticipation</td>\n",
              "      <td>0.523</td>\n",
              "    </tr>\n",
              "    <tr>\n",
              "      <th>2066</th>\n",
              "      <td>saint</td>\n",
              "      <td>anticipation</td>\n",
              "      <td>0.438</td>\n",
              "    </tr>\n",
              "    <tr>\n",
              "      <th>2134</th>\n",
              "      <td>sing</td>\n",
              "      <td>anticipation</td>\n",
              "      <td>0.411</td>\n",
              "    </tr>\n",
              "    <tr>\n",
              "      <th>2143</th>\n",
              "      <td>long</td>\n",
              "      <td>anticipation</td>\n",
              "      <td>0.406</td>\n",
              "    </tr>\n",
              "    <tr>\n",
              "      <th>2752</th>\n",
              "      <td>enemy</td>\n",
              "      <td>disgust</td>\n",
              "      <td>0.562</td>\n",
              "    </tr>\n",
              "    <tr>\n",
              "      <th>3556</th>\n",
              "      <td>fear</td>\n",
              "      <td>fear</td>\n",
              "      <td>0.828</td>\n",
              "    </tr>\n",
              "    <tr>\n",
              "      <th>3971</th>\n",
              "      <td>enemy</td>\n",
              "      <td>fear</td>\n",
              "      <td>0.625</td>\n",
              "    </tr>\n",
              "    <tr>\n",
              "      <th>3984</th>\n",
              "      <td>wicked</td>\n",
              "      <td>fear</td>\n",
              "      <td>0.625</td>\n",
              "    </tr>\n",
              "    <tr>\n",
              "      <th>5422</th>\n",
              "      <td>sing</td>\n",
              "      <td>joy</td>\n",
              "      <td>0.729</td>\n",
              "    </tr>\n",
              "    <tr>\n",
              "      <th>5657</th>\n",
              "      <td>singing</td>\n",
              "      <td>joy</td>\n",
              "      <td>0.591</td>\n",
              "    </tr>\n",
              "    <tr>\n",
              "      <th>6026</th>\n",
              "      <td>live</td>\n",
              "      <td>joy</td>\n",
              "      <td>0.406</td>\n",
              "    </tr>\n",
              "    <tr>\n",
              "      <th>6807</th>\n",
              "      <td>lonely</td>\n",
              "      <td>sadness</td>\n",
              "      <td>0.656</td>\n",
              "    </tr>\n",
              "    <tr>\n",
              "      <th>6843</th>\n",
              "      <td>shattered</td>\n",
              "      <td>sadness</td>\n",
              "      <td>0.630</td>\n",
              "    </tr>\n",
              "    <tr>\n",
              "      <th>6910</th>\n",
              "      <td>alone</td>\n",
              "      <td>sadness</td>\n",
              "      <td>0.600</td>\n",
              "    </tr>\n",
              "    <tr>\n",
              "      <th>7981</th>\n",
              "      <td>wild</td>\n",
              "      <td>surprise</td>\n",
              "      <td>0.586</td>\n",
              "    </tr>\n",
              "    <tr>\n",
              "      <th>8362</th>\n",
              "      <td>honest</td>\n",
              "      <td>trust</td>\n",
              "      <td>0.844</td>\n",
              "    </tr>\n",
              "    <tr>\n",
              "      <th>8610</th>\n",
              "      <td>saint</td>\n",
              "      <td>trust</td>\n",
              "      <td>0.648</td>\n",
              "    </tr>\n",
              "    <tr>\n",
              "      <th>9251</th>\n",
              "      <td>word</td>\n",
              "      <td>trust</td>\n",
              "      <td>0.477</td>\n",
              "    </tr>\n",
              "    <tr>\n",
              "      <th>9433</th>\n",
              "      <td>rule</td>\n",
              "      <td>trust</td>\n",
              "      <td>0.430</td>\n",
              "    </tr>\n",
              "    <tr>\n",
              "      <th>9470</th>\n",
              "      <td>sing</td>\n",
              "      <td>trust</td>\n",
              "      <td>0.422</td>\n",
              "    </tr>\n",
              "    <tr>\n",
              "      <th>9485</th>\n",
              "      <td>choir</td>\n",
              "      <td>trust</td>\n",
              "      <td>0.414</td>\n",
              "    </tr>\n",
              "  </tbody>\n",
              "</table>\n",
              "</div>"
            ],
            "text/plain": [
              "           word       emotion  emotion-intensity-score\n",
              "339       enemy         anger                    0.667\n",
              "742        fear         anger                    0.500\n",
              "1851       wait  anticipation                    0.523\n",
              "2066      saint  anticipation                    0.438\n",
              "2134       sing  anticipation                    0.411\n",
              "2143       long  anticipation                    0.406\n",
              "2752      enemy       disgust                    0.562\n",
              "3556       fear          fear                    0.828\n",
              "3971      enemy          fear                    0.625\n",
              "3984     wicked          fear                    0.625\n",
              "5422       sing           joy                    0.729\n",
              "5657    singing           joy                    0.591\n",
              "6026       live           joy                    0.406\n",
              "6807     lonely       sadness                    0.656\n",
              "6843  shattered       sadness                    0.630\n",
              "6910      alone       sadness                    0.600\n",
              "7981       wild      surprise                    0.586\n",
              "8362     honest         trust                    0.844\n",
              "8610      saint         trust                    0.648\n",
              "9251       word         trust                    0.477\n",
              "9433       rule         trust                    0.430\n",
              "9470       sing         trust                    0.422\n",
              "9485      choir         trust                    0.414"
            ]
          },
          "metadata": {
            "tags": []
          },
          "execution_count": 57
        }
      ]
    },
    {
      "cell_type": "code",
      "metadata": {
        "id": "s8STQblJJU1I",
        "colab": {
          "base_uri": "https://localhost:8080/",
          "height": 390
        },
        "outputId": "5d38804e-fad6-4403-8e25-b9de6ed30a5b"
      },
      "source": [
        "#selecting the song\n",
        "lyrics=songs.iloc[2,2]\n",
        " \n",
        "#removing the punctuation\n",
        "fline=re.sub('['+string.punctuation+']','',lyrics)\n",
        "lemmatizer=WordNetLemmatizer()\n",
        "#the list that will store the lyrics\n",
        "lyric=[]\n",
        "text=word_tokenize(fline)\n",
        "for word in text:#lemmatization\n",
        "    new=lemmatizer.lemmatize(word)\n",
        "    lyric.append(new)\n",
        "#extracting emo\n",
        "cp2=emo.loc[(emo['word'].isin(lyric))  & (emo['emotion-intensity-score'] >= 0.4)]\n",
        "cp2"
      ],
      "execution_count": null,
      "outputs": [
        {
          "output_type": "execute_result",
          "data": {
            "text/html": [
              "<div>\n",
              "<style scoped>\n",
              "    .dataframe tbody tr th:only-of-type {\n",
              "        vertical-align: middle;\n",
              "    }\n",
              "\n",
              "    .dataframe tbody tr th {\n",
              "        vertical-align: top;\n",
              "    }\n",
              "\n",
              "    .dataframe thead th {\n",
              "        text-align: right;\n",
              "    }\n",
              "</style>\n",
              "<table border=\"1\" class=\"dataframe\">\n",
              "  <thead>\n",
              "    <tr style=\"text-align: right;\">\n",
              "      <th></th>\n",
              "      <th>word</th>\n",
              "      <th>emotion</th>\n",
              "      <th>emotion-intensity-score</th>\n",
              "    </tr>\n",
              "  </thead>\n",
              "  <tbody>\n",
              "    <tr>\n",
              "      <th>1851</th>\n",
              "      <td>wait</td>\n",
              "      <td>anticipation</td>\n",
              "      <td>0.523</td>\n",
              "    </tr>\n",
              "    <tr>\n",
              "      <th>2022</th>\n",
              "      <td>pay</td>\n",
              "      <td>anticipation</td>\n",
              "      <td>0.461</td>\n",
              "    </tr>\n",
              "    <tr>\n",
              "      <th>2069</th>\n",
              "      <td>prepared</td>\n",
              "      <td>anticipation</td>\n",
              "      <td>0.438</td>\n",
              "    </tr>\n",
              "    <tr>\n",
              "      <th>2134</th>\n",
              "      <td>sing</td>\n",
              "      <td>anticipation</td>\n",
              "      <td>0.411</td>\n",
              "    </tr>\n",
              "    <tr>\n",
              "      <th>2143</th>\n",
              "      <td>long</td>\n",
              "      <td>anticipation</td>\n",
              "      <td>0.406</td>\n",
              "    </tr>\n",
              "    <tr>\n",
              "      <th>3699</th>\n",
              "      <td>scared</td>\n",
              "      <td>fear</td>\n",
              "      <td>0.734</td>\n",
              "    </tr>\n",
              "    <tr>\n",
              "      <th>5422</th>\n",
              "      <td>sing</td>\n",
              "      <td>joy</td>\n",
              "      <td>0.729</td>\n",
              "    </tr>\n",
              "    <tr>\n",
              "      <th>6846</th>\n",
              "      <td>lost</td>\n",
              "      <td>sadness</td>\n",
              "      <td>0.625</td>\n",
              "    </tr>\n",
              "    <tr>\n",
              "      <th>8470</th>\n",
              "      <td>prepared</td>\n",
              "      <td>trust</td>\n",
              "      <td>0.703</td>\n",
              "    </tr>\n",
              "    <tr>\n",
              "      <th>9426</th>\n",
              "      <td>pay</td>\n",
              "      <td>trust</td>\n",
              "      <td>0.430</td>\n",
              "    </tr>\n",
              "    <tr>\n",
              "      <th>9470</th>\n",
              "      <td>sing</td>\n",
              "      <td>trust</td>\n",
              "      <td>0.422</td>\n",
              "    </tr>\n",
              "  </tbody>\n",
              "</table>\n",
              "</div>"
            ],
            "text/plain": [
              "          word       emotion  emotion-intensity-score\n",
              "1851      wait  anticipation                    0.523\n",
              "2022       pay  anticipation                    0.461\n",
              "2069  prepared  anticipation                    0.438\n",
              "2134      sing  anticipation                    0.411\n",
              "2143      long  anticipation                    0.406\n",
              "3699    scared          fear                    0.734\n",
              "5422      sing           joy                    0.729\n",
              "6846      lost       sadness                    0.625\n",
              "8470  prepared         trust                    0.703\n",
              "9426       pay         trust                    0.430\n",
              "9470      sing         trust                    0.422"
            ]
          },
          "metadata": {
            "tags": []
          },
          "execution_count": 56
        }
      ]
    },
    {
      "cell_type": "code",
      "metadata": {
        "id": "MqfO7EejTpL-"
      },
      "source": [
        " import re\n",
        " fline=re.sub('['+string.punctuation+']','',lyrics)\n",
        " \n",
        "lyric=[]\n",
        "import nltk\n",
        "nltk.download('punkt')\n",
        "from nltk.stem import PorterStemmer\n",
        "from nltk.tokenize import word_tokenize\n",
        "text=word_tokenize(fline)\n",
        "stemmer=PorterStemmer()\n",
        "#punctuations\n",
        "for word in text:\n",
        "    new=stemmer.stem(word)\n",
        "    lyric.append(new)"
      ],
      "execution_count": null,
      "outputs": []
    }
  ]
}