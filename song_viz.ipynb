{
  "nbformat": 4,
  "nbformat_minor": 0,
  "metadata": {
    "colab": {
      "name": "song_viz.ipynb",
      "provenance": [],
      "private_outputs": true,
      "authorship_tag": "ABX9TyOUByV8pbj4P9+p9lEYK5GX",
      "include_colab_link": true
    },
    "kernelspec": {
      "name": "python3",
      "display_name": "Python 3"
    }
  },
  "cells": [
    {
      "cell_type": "markdown",
      "metadata": {
        "id": "view-in-github",
        "colab_type": "text"
      },
      "source": [
        "<a href=\"https://colab.research.google.com/github/Gail529/Recommendation-system/blob/master/song_viz.ipynb\" target=\"_parent\"><img src=\"https://colab.research.google.com/assets/colab-badge.svg\" alt=\"Open In Colab\"/></a>"
      ]
    },
    {
      "cell_type": "code",
      "metadata": {
        "id": "k1xTUjAqscK1",
        "colab_type": "code",
        "colab": {}
      },
      "source": [
        "import pandas as pd \n",
        "import numpy as np \n",
        "import matplotlib.pyplot as plt \n",
        "% matplotlib inline\n",
        " \n",
        "from os import path\n",
        "from PIL import image\n",
        "from wordcloud import WordCloud,ImageColorGenerator"
      ],
      "execution_count": null,
      "outputs": []
    },
    {
      "cell_type": "code",
      "metadata": {
        "id": "GJjPU3iwt_ai",
        "colab_type": "code",
        "colab": {}
      },
      "source": [
        "data=pd.read_csv('' )"
      ],
      "execution_count": null,
      "outputs": []
    },
    {
      "cell_type": "code",
      "metadata": {
        "id": "PJ8a_tr8t_pe",
        "colab_type": "code",
        "colab": {}
      },
      "source": [
        "text=data.lyrics[0]\n",
        "wc=WordCloud(max_font_size=50, max_words=,background_color ) .generate(text)\n",
        " \n",
        "Plt.figure() \n",
        "plt.imshow(wordcloud,interpolation=\"bilinear\")\n",
        "plt.axis(\"off\")\n",
        "plt.show()"
      ],
      "execution_count": null,
      "outputs": []
    }
  ]
}