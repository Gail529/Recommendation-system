{
  "nbformat": 4,
  "nbformat_minor": 0,
  "metadata": {
    "colab": {
      "name": "song_viz.ipynb",
      "provenance": [],
      "private_outputs": true,
      "authorship_tag": "ABX9TyNDkiGCSxaaRd7fuaU9xdGv",
      "include_colab_link": true
    },
    "kernelspec": {
      "name": "python3",
      "display_name": "Python 3"
    }
  },
  "cells": [
    {
      "cell_type": "markdown",
      "metadata": {
        "id": "view-in-github",
        "colab_type": "text"
      },
      "source": [
        "<a href=\"https://colab.research.google.com/github/Gail529/Recommendation-system/blob/master/song_viz.ipynb\" target=\"_parent\"><img src=\"https://colab.research.google.com/assets/colab-badge.svg\" alt=\"Open In Colab\"/></a>"
      ]
    },
    {
      "cell_type": "code",
      "metadata": {
        "id": "k1xTUjAqscK1",
        "colab_type": "code",
        "colab": {}
      },
      "source": [
        "import pandas as pd \n",
        "import numpy as np \n",
        "import matplotlib.pyplot as plt \n",
        "% matplotlib inline\n",
        " \n",
        "from os import path\n",
        "from PIL import Image\n",
        "from wordcloud import WordCloud,ImageColorGenerator"
      ],
      "execution_count": null,
      "outputs": []
    },
    {
      "cell_type": "code",
      "metadata": {
        "id": "GJjPU3iwt_ai",
        "colab_type": "code",
        "colab": {}
      },
      "source": [
        "data=pd.read_csv('/content/rock_emotion_scores.csv' )"
      ],
      "execution_count": null,
      "outputs": []
    },
    {
      "cell_type": "code",
      "metadata": {
        "id": "HOPr4CQFw34x",
        "colab_type": "code",
        "colab": {}
      },
      "source": [
        ""
      ],
      "execution_count": null,
      "outputs": []
    },
    {
      "cell_type": "code",
      "metadata": {
        "id": "PJ8a_tr8t_pe",
        "colab_type": "code",
        "colab": {}
      },
      "source": [
        "text=data.lyrics[0]\n",
        "wc=WordCloud(max_font_size=50,max_words=200,background_color=\"black\").generate(text)\n",
        " \n",
        "plt.figure() \n",
        "plt.imshow(wc,interpolation=\"bilinear\")\n",
        "plt.axis(\"off\")\n",
        "plt.show()"
      ],
      "execution_count": null,
      "outputs": []
    },
    {
      "cell_type": "code",
      "metadata": {
        "id": "DoSbnOzFvyLQ",
        "colab_type": "code",
        "colab": {}
      },
      "source": [
        "text=data.lyrics[8] \n",
        "wc=WordCloud(max_font_size=50,max_words=200,background_color=\"black\").generate(text)\n",
        " \n",
        "plt.figure() \n",
        "plt.imshow(wc,interpolation=\"bilinear\")\n",
        "plt.axis(\"off\")\n",
        "plt.show()"
      ],
      "execution_count": null,
      "outputs": []
    },
    {
      "cell_type": "code",
      "metadata": {
        "id": "4i5Y8oUgxQ-s",
        "colab_type": "code",
        "colab": {}
      },
      "source": [
        " \n",
        "for i in range(20): \n",
        "  wc=WordCloud(max_font_size=50,max_words=200,background_color=\"black\").generate(coldplay[i])\n",
        "  plt.figure() \n",
        "  plt.imshow(wc,interpolation=\"bilinear\")\n",
        "  plt.axis(\"off\")\n",
        "  plt.show()"
      ],
      "execution_count": null,
      "outputs": []
    },
    {
      "cell_type": "code",
      "metadata": {
        "id": "F_m11SD7xsvc",
        "colab_type": "code",
        "colab": {}
      },
      "source": [
        "coldplay"
      ],
      "execution_count": null,
      "outputs": []
    },
    {
      "cell_type": "code",
      "metadata": {
        "id": "q_jxUhqjzl1R",
        "colab_type": "code",
        "colab": {}
      },
      "source": [
        "coldplay=data['lyrics'].values \n",
        "coldplay"
      ],
      "execution_count": null,
      "outputs": []
    }
  ]
}