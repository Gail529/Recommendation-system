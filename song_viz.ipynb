{
  "nbformat": 4,
  "nbformat_minor": 0,
  "metadata": {
    "colab": {
      "name": "song_viz.ipynb",
      "provenance": [],
      "authorship_tag": "ABX9TyOdB+Ze+SyaQd2HXT27UK8n",
      "include_colab_link": true
    },
    "kernelspec": {
      "name": "python3",
      "display_name": "Python 3"
    }
  },
  "cells": [
    {
      "cell_type": "markdown",
      "metadata": {
        "id": "view-in-github",
        "colab_type": "text"
      },
      "source": [
        "<a href=\"https://colab.research.google.com/github/Gail529/Recommendation-system/blob/master/song_viz.ipynb\" target=\"_parent\"><img src=\"https://colab.research.google.com/assets/colab-badge.svg\" alt=\"Open In Colab\"/></a>"
      ]
    },
    {
      "cell_type": "code",
      "metadata": {
        "id": "k1xTUjAqscK1",
        "colab_type": "code",
        "colab": {}
      },
      "source": [
        "import pandas as pd \n",
        "import numpy as np \n",
        "import matplotlib.pyplot as plt \n",
        "% matplotlib inline\n",
        " \n",
        "from os import path\n",
        "from PIL import Image\n",
        "from wordcloud import WordCloud,ImageColorGenerator"
      ],
      "execution_count": null,
      "outputs": []
    },
    {
      "cell_type": "code",
      "metadata": {
        "id": "GJjPU3iwt_ai",
        "colab_type": "code",
        "colab": {}
      },
      "source": [
        "data=pd.read_csv('/content/rock_emotion_scores.csv' )"
      ],
      "execution_count": null,
      "outputs": []
    },
    {
      "cell_type": "code",
      "metadata": {
        "id": "HOPr4CQFw34x",
        "colab_type": "code",
        "colab": {}
      },
      "source": [
        ""
      ],
      "execution_count": null,
      "outputs": []
    },
    {
      "cell_type": "code",
      "metadata": {
        "id": "PJ8a_tr8t_pe",
        "colab_type": "code",
        "colab": {}
      },
      "source": [
        "text=data.lyrics[0]\n",
        "wc=WordCloud(max_font_size=50,max_words=200,background_color=\"black\").generate(text)\n",
        " \n",
        "plt.figure() \n",
        "plt.imshow(wc,interpolation=\"bilinear\")\n",
        "plt.axis(\"off\")\n",
        "plt.show()"
      ],
      "execution_count": null,
      "outputs": []
    },
    {
      "cell_type": "code",
      "metadata": {
        "id": "DoSbnOzFvyLQ",
        "colab_type": "code",
        "colab": {}
      },
      "source": [
        "text=data.lyrics[8] \n",
        "wc=WordCloud(max_font_size=50,max_words=200,background_color=\"black\").generate(text)\n",
        " \n",
        "plt.figure() \n",
        "plt.imshow(wc,interpolation=\"bilinear\")\n",
        "plt.axis(\"off\")\n",
        "plt.show()"
      ],
      "execution_count": null,
      "outputs": []
    },
    {
      "cell_type": "code",
      "metadata": {
        "id": "4i5Y8oUgxQ-s",
        "colab_type": "code",
        "colab": {}
      },
      "source": [
        " \n",
        "for i in range(20): \n",
        "  wc=WordCloud(max_font_size=50,max_words=200,background_color=\"black\").generate(coldplay[i])\n",
        "  plt.figure() \n",
        "  plt.imshow(wc,interpolation=\"bilinear\")\n",
        "  plt.axis(\"off\")\n",
        "  plt.show()"
      ],
      "execution_count": null,
      "outputs": []
    },
    {
      "cell_type": "code",
      "metadata": {
        "id": "F_m11SD7xsvc",
        "colab_type": "code",
        "colab": {}
      },
      "source": [
        "coldplay"
      ],
      "execution_count": null,
      "outputs": []
    },
    {
      "cell_type": "code",
      "metadata": {
        "id": "Ye3AhV-H2eDD",
        "colab_type": "code",
        "colab": {
          "base_uri": "https://localhost:8080/",
          "height": 316
        },
        "outputId": "0e8b7168-bda7-4676-9a98-25f1e830e352"
      },
      "source": [
        " \n",
        "words=[] \n",
        "for i in range(20):\n",
        "  text=coldplay[i]\n",
        "  for j in text:\n",
        "   word=text[j]   \n",
        "   words.append(word)"
      ],
      "execution_count": null,
      "outputs": [
        {
          "output_type": "error",
          "ename": "TypeError",
          "evalue": "ignored",
          "traceback": [
            "\u001b[0;31m---------------------------------------------------------------------------\u001b[0m",
            "\u001b[0;31mTypeError\u001b[0m                                 Traceback (most recent call last)",
            "\u001b[0;32m<ipython-input-44-e81b6d72767e>\u001b[0m in \u001b[0;36m<module>\u001b[0;34m()\u001b[0m\n\u001b[1;32m      4\u001b[0m  \u001b[0mtext\u001b[0m\u001b[0;34m=\u001b[0m\u001b[0mcoldplay\u001b[0m\u001b[0;34m[\u001b[0m\u001b[0mi\u001b[0m\u001b[0;34m]\u001b[0m\u001b[0;34m\u001b[0m\u001b[0;34m\u001b[0m\u001b[0m\n\u001b[1;32m      5\u001b[0m  \u001b[0;32mfor\u001b[0m \u001b[0mj\u001b[0m \u001b[0;32min\u001b[0m \u001b[0mtext\u001b[0m\u001b[0;34m:\u001b[0m\u001b[0;34m\u001b[0m\u001b[0;34m\u001b[0m\u001b[0m\n\u001b[0;32m----> 6\u001b[0;31m   \u001b[0mword\u001b[0m\u001b[0;34m=\u001b[0m\u001b[0mtext\u001b[0m\u001b[0;34m[\u001b[0m\u001b[0mj\u001b[0m\u001b[0;34m]\u001b[0m\u001b[0;34m\u001b[0m\u001b[0;34m\u001b[0m\u001b[0m\n\u001b[0m\u001b[1;32m      7\u001b[0m   \u001b[0mwords\u001b[0m\u001b[0;34m.\u001b[0m\u001b[0mappend\u001b[0m\u001b[0;34m(\u001b[0m\u001b[0mword\u001b[0m\u001b[0;34m)\u001b[0m\u001b[0;34m\u001b[0m\u001b[0;34m\u001b[0m\u001b[0m\n",
            "\u001b[0;31mTypeError\u001b[0m: string indices must be integers"
          ]
        }
      ]
    },
    {
      "cell_type": "code",
      "metadata": {
        "id": "gHeaQaxy3UjR",
        "colab_type": "code",
        "colab": {
          "base_uri": "https://localhost:8080/",
          "height": 377
        },
        "outputId": "65aceb70-988d-47ce-e19d-a99ef0eceda3"
      },
      "source": [
        "texts"
      ],
      "execution_count": null,
      "outputs": [
        {
          "output_type": "execute_result",
          "data": {
            "text/plain": [
              "['look stars look shine everything yeah yellow came along wrote song things called yellow took turn oh thing done yellow skin oh yeah skin bones turn something beautiful know know love know love swam across jumped across oh thing cause yellow drew line drew line oh thing yellow skin oh yeah skin bones turn something beautiful know bleed dry bleed dry true look shine look shine look shine look shine look shine look shine look stars look shine things',\n",
              " 'used rule world seas would rise gave word morning sleep alone sweep streets used used roll dice feel fear enemy eyes listen crowd would sing old king dead long live king one minute held key next walls closed discovered castles stand upon pillars salt pillars sand hear jerusalem bells ringing roman cavalry choirs singing mirror sword shield missionaries foreign field reason ca nt explain go never never honest word ruled world wicked wild wind blew doors let shattered windows sound drums people could nt believe become revolutionaries wait head silver plate puppet lonely string oh would ever want king hear jerusalem bells ringing roman calvary choirs singing mirror sword shield missionaries foreign field reason ca nt explain know saint peter wo nt call name never honest word ruled world oh oh oh oh oh oh oh oh oh oh oh oh oh oh oh oh oh oh oh oh oh oh oh oh oh hear jerusalem bells ringing roman calvary choirs singing mirror sword shield missionaries foreign field reason ca nt explain know saint peter wo nt call name never honest word ruled world',\n",
              " 'place place lines could nt change lost oh yeah lost lost crossed lines nt crossed lost oh yeah yeah long must wait yeah long must pay yeah long must wait oh scared scared tired prepared wait go go leave wait yeah yeah long must wait yeah long must pay yeah long must wait oh sing please please please come back sing come sing come sing come back sing place place lines could nt change lost oh yeah oh yeah',\n",
              " 'go nobody knows got ta say way god give style give grace god put smile upon face go draw line got ta say wasted time honey honey go fall grace god put smile upon face yeah work worse yeah work wanted work draw line guess good mine go nobody knows nt ever say way god gave style gave grace put smile upon face ah yeah work worse yeah work wanted work draw line guess good mine good mine good mine good mine good mine good mine good mine good mine go nobody knows nt ever say way god gave style gave grace put smile upon face',\n",
              " 'oh upon time somebody ran somebody ran away saying fast got go got go upon time fell apart holding hands two halves heart oh oh oh upon time burned bright ever seem fight upon time side upon time side game go go throw water flame could princess king could castle worn ring let go could princess king could castle worn ring let go stole star la la la la la la la la stole star la la la la la la ohoh oh oh oh oh oh oh ohoh oh oh oh oh oh oh cause really hurt really hurt cause really hurt really hurt cause really hurt oh really hurt oh cause really hurt oh really hurt',\n",
              " 'time know gone salt water tasted long know wrong know gone flames flames flames slowly gone time flying time know song stop slowly burn stop slowly gone flames flames flames slowly gone flames flames flames slowly gone oh slowly gone pour water',\n",
              " 'stole key took car downtown lost boys meet took car downtown took offered set free saw lights go end scene saw lights go standing front scarecrow dreams smashed heart smithereens bright red rose come bursting concrete cartoon heart light fire fire spark light fire flame heart run riot glowing dark glowing dark boys girls matters world boys girls matters occurs highs lows room aspinning goes run riot glowing dark ooh ooh ooh soar luminous wired glowing dark',\n",
              " 'girl expected world flew away reach ran away sleep dreamed paraparaparadise paraparaparadise paraparaparadise every time closed eyes girl expected world flew away reach bullets catch teeth life goes gets heavy wheel breaks butterfly every tear waterfall night stormy night close eyes night stormy night away fly dream paraparaparadise paraparaparadise paraparaparadise oh oh oh oh oh oh oh oh dream paraparaparadise paraparaparadise paraparaparadise oh oh oh oh oh oh oh oh sing la la la la la la la la la la la la la la la la lying underneath stormy skies say oh oh oh oh oh oh know sun must set rise could paraparaparadise paraparaparadise could paraparaparadise oh oh oh oh oh oh oh oh could paraparaparadise paraparaparadise could paraparaparadise oh oh oh oh oh oh oh oh could paraparaparadise paraparaparadise could paraparaparadise oh oh oh oh oh oh oh oh could para paradise paraparadise paraparadise oh oh oh oh oh oh oh oh could para paradise paraparadise paraparadise oh oh oh oh oh oh oh oh',\n",
              " 'oh morning come bursting clouds amen lift blindfold let see bring back water let ships roll heart left hole tightrope walking sways ties devil talking angel eyes want lightning strikes saints go marching sing slow chaos swirls us world like river raindrop lost friend drunken daniel lion den tonight know begin whatever nt let go could float away fly surface start lift trouble erodes us rain erodes us rain erodes us see roses rain sing slow slow chaos swirls us world chaos swirls us world',\n",
              " 'lights go ca nt saved tides tried swim brought upon knees oh beg beg plead singing come things unsaid shoot apple head trouble ca nt named tiger waiting tamed singing confusion never stops closing walls ticking clocks gon na come back take home could stop know singing come upon seas cursed missed opportunities part cure part disease singing nothing else compares nothing else compares nothing else compares home home wanted go home home wanted go home home wanted go home home wanted go',\n",
              " 'come meet tell sorry nt know lovely find tell need tell set apart tell secrets ask questions oh let go back start running circles coming tails heads science apart nobody said easy shame us part nobody said easy one ever said would hard oh take back start guessing numbers figures pulling puzzles apart questions science science progress speak loud heart tell love come back haunt oh rush start running circles chasing tails coming back nobody said easy oh shame us part nobody said easy one ever said would hard going back start oh ooh ah ooh oh ooh oh ooh',\n",
              " 'fixing car drive searching water hoping rain upon canvas working meal meal waiting chance pick orange field see pearl form diamond rough see bird soaring high flood blood blood underneath storm umbrella saying sitting poison takes away pain saying gon na get get together right gon na get get together somehow gon na get get together flower whoa gon na get get together know gon na get get together flow gon na get get together go lying gutter aiming moon trying empty ocean spoon come people suffer come people part come people struggle come people break heart break heart oh yes wan na grow yes wan na feel yes wan na know show heal heal oh see forest every seed angels marble waiting freed need love need love going rough saying gon na get get together right gon na get get together somehow gon na get get together flower whoa gon na get get together know gon na get get together flow gon na get get together go say fight close mind take risk say mine clench fist see sunrise gift gon na get get together right gon na get get together somehow gon na get get together flower whoa gon na get get together know gon na get get together flow gon na get get together go gon na get get together right gon na get get together somehow gon na get get together flower whoa gon na get get together know gon na get get together flow gon na get get together go fixing car drive pain think enough nt ever give nt ever give',\n",
              " 'reading books old legends myths achilles gold hercules gifts spiderman control batman fists clearly nt see upon list said wan na go much wan na risk looking somebody superhuman gifts superhero fairytale bliss something turn somebody kiss want something like doodoodoo doodoodoo doodoodoo doodoo doodoodoo doodoodoo oh want something like doodoodoo doodoodoo doodoodoo doodoo doodoodoo doodoodoo oh want something like want something like reading books old legends myths testaments told moon eclipse superman unrolls suit lifts kind person fits said wan na go much wan na risk looking somebody superhuman gifts superhero fairytale bliss something turn somebody miss want something like want something like oh want something like doodoodoo doodoodoo doodoodoo doodoo doodoodoo doodoodoo oh want something like doodoodoo doodoodoo doodoodoo doodoo doodoodoo doodoodoo wan na go much wan na risk looking somebody superhuman gifts superhero fairytale bliss something turn somebody kiss want something like oh want something like oh want something like oh want something like',\n",
              " 'cause sky cause sky full stars gon na give heart cause sky cause sky full stars cause light path nt care go tear apart nt care ooh cause sky cause sky full stars think saw cause sky cause sky full stars wan na die arms cause get lighter gets dark gon na give heart nt care go tear apart nt care ooh cause sky cause sky full stars think see think see cause sky sky full stars heavenly view heavenly view',\n",
              " 'I turn the music up  I got my records on I shut the world outside until the lights come on Maybe the streets alight  maybe the trees are gone I feel my heart start beating to my favourite song And all the kids they dance  all the kids all night Until Monday morning feels another life I turn the music up I m on a roll this time And heaven is in sight I turn the music up  I got my records on From underneath the rubble sing a rebel song Do nt want to see another generation drop I d rather be a comma than a full stop Maybe I m in the black  maybe I m on my knees Maybe I m in the gap between the two trapezes But my heart is beating and my pulses start Cathedrals in my heart As we saw oh this light I swear you  emerge blinking into To tell me it s alright As we soar walls  every siren is a symphony And every tear s a waterfall Is a waterfall Oh Is a waterfall Oh oh oh Is a is a waterfall Every tear Is a waterfall Oh oh oh So you can hurt  hurt me bad But still I ll raise the flag Oh It was a wa wa wa wa waaterfall A wa wa wa wa waaterfall Every tear Every tear Every teardrop is a waterfall Every tear Every tear Every teardrop is a waterfall Every tear Every tear Every teardrop is a waterfall',\n",
              " 'Turn your magic on  to me she d say Everything you want s a dream away We are legends  every day That s what she told him Turn your magic on  to me she d say Everything you want s a dream away Under this pressure  under this weight We are diamonds I feel my heart beating I feel my heart beneath my skin I feel my heart beating Oh  you make me feel Like I m alive again Alive again Oh  you make me feel Like I m alive again Said I ca nt go on  not in this way I m a dream  I die by light of day Gon na hold up half the sky and say Only I own me I feel my heart beating I feel my heart beneath my skin Oh  I can feel my heart beating Cause you make me feel Like I m alive again Alive again Oh  you make me feel Like I m alive again Turn your magic on  to me she d say Everything you want s a dream away Under this pressure  under this weight We are diamonds taking shape We are diamonds taking shape  Woo hoo  woo hoo  If we ve only got this life This adventure oh then I If we ve only got this life You ll get me through  oh If we ve only got this life And this adventure  oh then I Wan na share it with you With you  with you Sing it  oh  say yeah   Woo hoo  woo hoo   Woo hoo  woo hoo   Woo hoo  woo hoo   Woo hoo  woo hoo   Woo hoo  woo hoo   Woo hoo  woo hoo   Woo hoo  woo hoo   Woo hoo  woo hoo   Woo hoo  woo hoo   Woo hoo  woo hoo   Woo hoo  woo hoo   Woo hoo  woo hoo ',\n",
              " 'done heart floor must mind come back begging stay stay night swear prove right flies kept sleeping fears wings grandfather clock still ticking chime never rings long must stay lay side say never mine love like hole swallow soul draggin blood covers curses uttered played part play hide go seek safe behind veneer bury burden baby makes disappear marks thighs nt sting bleed way way forever love like hole swallow soul draggin blood covers curses uttered played part love like hole swallowed soul draggin swear stay ca nt forgive never whole',\n",
              " 'yeah yeah yeah well long living old lives yeah feel cold live young die yeah walk line like choose yeah forget oh lord wit best use oh lord said oh lord said oh lord wo nt follow jungle yeah ai nt god streets heart jungle oh lord child wo nt follow jungle oh lord ai nt god streets heart jungle oh lord child wo nt follow jungle lost mind city lights yeah backstreets buildings neon lights yeah heard thunder could feel rain yeah different name oh lord said oh lord said oh lord wo nt follow jungle yeah ai nt god streets heart jungle oh lord child wo nt follow jungle yeah ai nt god streets heart jungle oh lord child wo nt follow jungle oh lord oh lord oh lord said oh lord said oh lord wo nt follow jungle yeah ai nt god streets heart jungle oh lord child wo nt follow jungle yeah ai nt god streets heart jungle oh lord child wo nt follow jungle',\n",
              " 'everything changed everything changed pouring liquor pouring rain let go cold silent stage everything changed everything changed people old bars people old scars everything changed everything changed say say living dark long long time see better night baby cause shining star shining shining star hold closer go supernova forever shining ever shining star forever shining ever shining star everything changed everything changed money nt talk money nt rain everything changed everything changed old lovers old games living dark long long time sleep better night knowing shining star cause shining shining star hold closer go supernova forever shining ever shining star ever shining ever shining star see longer care see longer care see longer see longer care see longer care see longer care see longer see longer care see longer care see longer care see longer see longer care see longer care see longer care see longer knowing shining star cause shining shining star hold closer go supernova forever shining ever shining star ever shining ever shining star ever shining ever shining star',\n",
              " 'time get ahead yeah time get ahead yeah time get ahead yeah time get ahead yeah time get ahead yeah time get ahead yeah time get ahead yeah time get ahead yeah time get ahead yeah time get ahead yeah time get ahead yeah time get ahead yeah time get ahead yeah time get ahead yeah time get ahead yeah time get ahead guess went ahead jumped gun shitty situation put know poured champagne maybe quick celebrate thought ready ready someone else every time get ahead every time get ahead thought rock steady nt need help every time get ahead every time get ahead get ahead yeah babe get ahead yeah babe know first say love babe moved things apartment nd street thought cleaned slate guess nt clean away thought ready ready someone else every time get ahead every time get ahead thought rock steady nt need help every time get ahead every time get ahead get ahead yeah babe get ahead yeah babe get ahead yeah babe get ahead yeah babe yeah babe every time get ahead get ahead every time get ahead get ahead every time get ahead every time get ahead every time get ahead every time get ahead every time get ahead every time get ahead every time get ahead every time get ahead thought ready ready someone else every time get ahead every time get ahead thought rock steady nt need help every time get ahead every time get ahead get ahead yeah babe get ahead yeah baby get ahead yeah babe get ahead yeah babe yeah babe get ahead get ahead get ahead get ahead get ahead get ahead']"
            ]
          },
          "metadata": {
            "tags": []
          },
          "execution_count": 42
        }
      ]
    },
    {
      "cell_type": "code",
      "metadata": {
        "id": "q_jxUhqjzl1R",
        "colab_type": "code",
        "colab": {}
      },
      "source": [
        "coldplay=data['lyrics'].values \n",
        "coldplay"
      ],
      "execution_count": null,
      "outputs": []
    }
  ]
}