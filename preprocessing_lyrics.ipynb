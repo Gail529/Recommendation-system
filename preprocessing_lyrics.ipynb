{
  "nbformat": 4,
  "nbformat_minor": 0,
  "metadata": {
    "colab": {
      "name": "preprocessing_lyrics.ipynb",
      "provenance": [],
      "authorship_tag": "ABX9TyMsmuoB+kUwvNqeaPbFGe4q",
      "include_colab_link": true
    },
    "kernelspec": {
      "name": "python3",
      "display_name": "Python 3"
    }
  },
  "cells": [
    {
      "cell_type": "markdown",
      "metadata": {
        "id": "view-in-github",
        "colab_type": "text"
      },
      "source": [
        "<a href=\"https://colab.research.google.com/github/Gail529/Recommendation-system/blob/master/preprocessing_lyrics.ipynb\" target=\"_parent\"><img src=\"https://colab.research.google.com/assets/colab-badge.svg\" alt=\"Open In Colab\"/></a>"
      ]
    },
    {
      "cell_type": "code",
      "metadata": {
        "id": "h9vc2hfaT203",
        "colab_type": "code",
        "colab": {
          "base_uri": "https://localhost:8080/",
          "height": 131
        },
        "outputId": "2096a1f4-b058-41ce-b627-60dad9860de6"
      },
      "source": [
        "#preprocessing the lyrics data\n",
        "import pandas as pd\n",
        "import numpy as np\n",
        "import nltk\n",
        "nltk.download('punkt')\n",
        "nltk.download('stopwords')\n",
        "import re \n",
        "import string\n",
        "from nltk.stem import PorterStemmer \n",
        "from nltk.tokenize import word_tokenize,sent_tokenize\n",
        "nltk.download('wordnet')\n",
        "from nltk.stem import WordNetLemmatizer\n",
        "from nltk.corpus import stopwords\n",
        " \n",
        "one_Re=pd.read_csv('/content/ORlyrics.csv',header=None)"
      ],
      "execution_count": 1,
      "outputs": [
        {
          "output_type": "stream",
          "text": [
            "[nltk_data] Downloading package punkt to /root/nltk_data...\n",
            "[nltk_data]   Unzipping tokenizers/punkt.zip.\n",
            "[nltk_data] Downloading package stopwords to /root/nltk_data...\n",
            "[nltk_data]   Unzipping corpora/stopwords.zip.\n",
            "[nltk_data] Downloading package wordnet to /root/nltk_data...\n",
            "[nltk_data]   Unzipping corpora/wordnet.zip.\n"
          ],
          "name": "stdout"
        }
      ]
    },
    {
      "cell_type": "code",
      "metadata": {
        "id": "Hnjk2bKZWX13",
        "colab_type": "code",
        "colab": {
          "base_uri": "https://localhost:8080/",
          "height": 514
        },
        "outputId": "21149a0c-ae76-40c7-f209-a2f442985754"
      },
      "source": [
        "one_Re"
      ],
      "execution_count": 2,
      "outputs": [
        {
          "output_type": "execute_result",
          "data": {
            "text/html": [
              "<div>\n",
              "<style scoped>\n",
              "    .dataframe tbody tr th:only-of-type {\n",
              "        vertical-align: middle;\n",
              "    }\n",
              "\n",
              "    .dataframe tbody tr th {\n",
              "        vertical-align: top;\n",
              "    }\n",
              "\n",
              "    .dataframe thead th {\n",
              "        text-align: right;\n",
              "    }\n",
              "</style>\n",
              "<table border=\"1\" class=\"dataframe\">\n",
              "  <thead>\n",
              "    <tr style=\"text-align: right;\">\n",
              "      <th></th>\n",
              "      <th>0</th>\n",
              "      <th>1</th>\n",
              "    </tr>\n",
              "  </thead>\n",
              "  <tbody>\n",
              "    <tr>\n",
              "      <th>0</th>\n",
              "      <td>Counting Stars</td>\n",
              "      <td>[['Lately', 'I', 'been', ',', 'I', 'been', 'lo...</td>\n",
              "    </tr>\n",
              "    <tr>\n",
              "      <th>1</th>\n",
              "      <td>If I Lose Myself</td>\n",
              "      <td>[['I', 'stared', 'up', 'at', 'the', 'sun', 'Th...</td>\n",
              "    </tr>\n",
              "    <tr>\n",
              "      <th>2</th>\n",
              "      <td>Feel Again</td>\n",
              "      <td>[['It', \"'s\", 'been', 'a', 'long', 'time', 'co...</td>\n",
              "    </tr>\n",
              "    <tr>\n",
              "      <th>3</th>\n",
              "      <td>I Lived</td>\n",
              "      <td>[['Hoping', 'you', 'take', 'that', 'jump', 'Bu...</td>\n",
              "    </tr>\n",
              "    <tr>\n",
              "      <th>4</th>\n",
              "      <td>Preacher</td>\n",
              "      <td>[['When', 'I', 'was', 'a', 'kid', ',', 'I', 'u...</td>\n",
              "    </tr>\n",
              "    <tr>\n",
              "      <th>5</th>\n",
              "      <td>Secrets</td>\n",
              "      <td>[['I', 'need', 'another', 'story', 'Something'...</td>\n",
              "    </tr>\n",
              "    <tr>\n",
              "      <th>6</th>\n",
              "      <td>Made for You</td>\n",
              "      <td>[['One', 'and', 'two', 'and', 'three', 'and', ...</td>\n",
              "    </tr>\n",
              "    <tr>\n",
              "      <th>7</th>\n",
              "      <td>All the Right Moves</td>\n",
              "      <td>[['(', 'All', 'the', 'right', 'friends', 'in',...</td>\n",
              "    </tr>\n",
              "    <tr>\n",
              "      <th>8</th>\n",
              "      <td>Everybody Loves Me</td>\n",
              "      <td>[['Well', 'hell', 'sees', 'her', 'shadow', 'in...</td>\n",
              "    </tr>\n",
              "    <tr>\n",
              "      <th>9</th>\n",
              "      <td>Good Life</td>\n",
              "      <td>[['Woke', 'up', 'in', 'London', 'yesterday', '...</td>\n",
              "    </tr>\n",
              "    <tr>\n",
              "      <th>10</th>\n",
              "      <td>Waking Up</td>\n",
              "      <td>[['I', 'found', 'variety', 'On', 'Nolan', \"'s\"...</td>\n",
              "    </tr>\n",
              "    <tr>\n",
              "      <th>11</th>\n",
              "      <td>Mercy [Duffy Cover; Radio 1 Live Lounge Sessio...</td>\n",
              "      <td>[['Angel', 'of', 'mercy', 'How', 'did', 'you',...</td>\n",
              "    </tr>\n",
              "    <tr>\n",
              "      <th>12</th>\n",
              "      <td>Marchin' On</td>\n",
              "      <td>[['For', 'those', 'days', 'we', 'felt', 'like'...</td>\n",
              "    </tr>\n",
              "    <tr>\n",
              "      <th>13</th>\n",
              "      <td>Wherever I Go</td>\n",
              "      <td>[['I', 'know', 'I', 'could', 'lie', 'but', 'I'...</td>\n",
              "    </tr>\n",
              "    <tr>\n",
              "      <th>14</th>\n",
              "      <td>Kids</td>\n",
              "      <td>[['Days', 'when', 'We', \"'d\", 'fight', ',', 'w...</td>\n",
              "    </tr>\n",
              "  </tbody>\n",
              "</table>\n",
              "</div>"
            ],
            "text/plain": [
              "                                                    0                                                  1\n",
              "0                                      Counting Stars  [['Lately', 'I', 'been', ',', 'I', 'been', 'lo...\n",
              "1                                    If I Lose Myself  [['I', 'stared', 'up', 'at', 'the', 'sun', 'Th...\n",
              "2                                          Feel Again  [['It', \"'s\", 'been', 'a', 'long', 'time', 'co...\n",
              "3                                             I Lived  [['Hoping', 'you', 'take', 'that', 'jump', 'Bu...\n",
              "4                                            Preacher  [['When', 'I', 'was', 'a', 'kid', ',', 'I', 'u...\n",
              "5                                             Secrets  [['I', 'need', 'another', 'story', 'Something'...\n",
              "6                                        Made for You  [['One', 'and', 'two', 'and', 'three', 'and', ...\n",
              "7                                 All the Right Moves  [['(', 'All', 'the', 'right', 'friends', 'in',...\n",
              "8                                  Everybody Loves Me  [['Well', 'hell', 'sees', 'her', 'shadow', 'in...\n",
              "9                                           Good Life  [['Woke', 'up', 'in', 'London', 'yesterday', '...\n",
              "10                                          Waking Up  [['I', 'found', 'variety', 'On', 'Nolan', \"'s\"...\n",
              "11  Mercy [Duffy Cover; Radio 1 Live Lounge Sessio...  [['Angel', 'of', 'mercy', 'How', 'did', 'you',...\n",
              "12                                        Marchin' On  [['For', 'those', 'days', 'we', 'felt', 'like'...\n",
              "13                                      Wherever I Go  [['I', 'know', 'I', 'could', 'lie', 'but', 'I'...\n",
              "14                                               Kids  [['Days', 'when', 'We', \"'d\", 'fight', ',', 'w..."
            ]
          },
          "metadata": {
            "tags": []
          },
          "execution_count": 2
        }
      ]
    },
    {
      "cell_type": "code",
      "metadata": {
        "id": "VlARZCwQPCOo",
        "colab_type": "code",
        "colab": {
          "base_uri": "https://localhost:8080/",
          "height": 284
        },
        "outputId": "56cad225-4651-4501-ea4d-48164b8aa813"
      },
      "source": [
        "#preprocessing all the songs\n",
        "for i in range(0,13):\n",
        "    song=one_Re.iloc[i,1]\n",
        "    text=re.sub(r'\\d+','',song)\n",
        "    print(text)\n"
      ],
      "execution_count": 3,
      "outputs": [
        {
          "output_type": "stream",
          "text": [
            "[['Lately', 'I', 'been', ',', 'I', 'been', 'losing', 'sleep', 'Dreaming', 'about', 'the', 'things', 'that', 'we', 'could', 'be', 'But', 'baby', 'I', 'been', ',', 'I', 'been', 'prayin', \"'\", 'hard', 'Said', 'no', 'more', 'counting', 'dollars', 'We', \"'ll\", 'be', 'counting', 'stars', 'Yeah', ',', 'we', \"'ll\", 'be', 'counting', 'stars', 'I', 'see', 'this', 'life', 'Like', 'a', 'swinging', 'vine', 'Swing', 'my', 'heart', 'across', 'the', 'line', 'In', 'my', 'faces', 'flashing', 'signs', 'Seek', 'it', 'out', 'and', 'ye', 'shall', 'find', 'The', 'old', ',', 'but', 'I', \"'m\", 'not', 'that', 'old', 'Young', ',', 'but', 'I', \"'m\", 'not', 'that', 'bold', 'And', 'I', 'do', \"n't\", 'think', 'the', 'world', 'is', 'sold', 'I', \"'m\", 'just', 'doing', 'what', 'we', \"'re\", 'told', 'I', ',', 'feel', 'something', 'so', 'right', 'Doing', 'the', 'wrong', 'thing', 'I', ',', 'feel', 'something', 'so', 'wrong', 'But', 'doing', 'the', 'right', 'thing', 'I', 'could', 'lie', ',', 'could', 'lie', ',', 'could', 'lie', 'Everything', 'that', 'kills', 'me', 'makes', 'me', 'feel', 'alive', 'Lately', 'I', 'been', ',', 'I', 'been', 'losing', 'sleep', 'Dreaming', \"'bout\", 'the', 'things', 'that', 'we', 'could', 'be', 'Baby', 'I', 'been', ',', 'I', 'been', 'prayin', \"'\", 'hard', 'Said', 'no', 'more', 'counting', 'dollars', 'We', \"'ll\", 'be', 'counting', 'stars', 'Lately', 'I', 'been', ',', 'I', 'been', 'losing', 'sleep', 'Dreaming', \"'bout\", 'the', 'things', 'that', 'we', 'could', 'be', 'But', 'baby', 'I', 'been', ',', 'I', 'been', 'prayin', \"'\", 'hard', 'Said', 'no', 'more', 'counting', 'dollars', 'We', \"'ll\", 'be', ',', 'we', \"'ll\", 'be', 'counting', 'stars', 'I', 'feel', 'the', 'love', 'And', 'I', 'feel', 'it', 'burn', 'Down', 'this', 'river', 'every', 'turn', 'Hope', 'is', 'a', 'four', 'letter', 'word', 'Make', 'that', 'money', 'Watch', 'it', 'burn', 'Old', ',', 'but', 'I', \"'m\", 'not', 'that', 'old', 'Young', ',', 'but', 'I', \"'m\", 'not', 'that', 'bold', 'And', 'I', 'do', \"n't\", 'think', 'the', 'world', 'is', 'sold', 'I', \"'m\", 'just', 'doing', 'what', 'we', \"'re\", 'told', 'I', ',', 'feel', 'something', 'so', 'wrong', 'But', 'doing', 'the', 'right', 'thing', 'I', 'could', 'lie', ',', 'could', 'lie', ',', 'could', 'lie', 'Everything', 'that', 'drowns', 'me', 'makes', 'me', 'wan', 'na', 'fly', 'Lately', 'I', 'been', ',', 'I', 'been', 'losing', 'sleep', 'Dreaming', 'about', 'the', 'things', 'that', 'we', 'could', 'be', 'Baby', 'I', 'been', ',', 'I', 'been', 'prayin', \"'\", 'hard', 'Said', 'no', 'more', 'counting', 'dollars', 'We', \"'ll\", 'be', 'counting', 'stars', 'Lately', 'I', 'been', ',', 'I', 'been', 'losing', 'sleep', 'Dreaming', \"'bout\", 'the', 'things', 'that', 'we', 'could', 'be', 'But', 'baby', 'I', 'been', ',', 'I', 'been', 'prayin', \"'\", 'hard', 'Said', 'no', 'more', 'counting', 'dollars', 'We', \"'ll\", 'be', ',', 'we', \"'ll\", 'be', 'counting', 'stars', 'Take', 'that', 'money', 'and', 'watch', 'it', 'burn', 'Sink', 'in', 'the', 'river', 'the', 'lessons', 'I', 'learned', 'Take', 'that', 'money', 'and', 'watch', 'it', 'burn', 'Sink', 'in', 'the', 'river', 'the', 'lessons', 'I', 'learned', 'Take', 'that', 'money', 'and', 'watch', 'it', 'burn', 'Sink', 'in', 'the', 'river', 'the', 'lessons', 'I', 'learned', 'Take', 'that', 'money', 'and', 'watch', 'it', 'burn', 'Sink', 'in', 'the', 'river', 'the', 'lessons', 'I', 'learned', 'Everything', 'that', 'kills', 'me', 'makes', 'me', 'feel', 'alive', 'Lately', 'I', 'been', ',', 'I', 'been', 'losing', 'sleep', 'Dreaming', \"'bout\", 'the', 'things', 'that', 'we', 'could', 'be', 'Baby', 'I', 'been', ',', 'I', 'been', 'prayin', \"'\", 'hard', 'Said', 'no', 'more', 'counting', 'dollars', 'We', \"'ll\", 'be', 'counting', 'stars', 'Lately', 'I', 'been', ',', 'I', 'been', 'losing', 'sleep', 'Dreaming', \"'bout\", 'the', 'things', 'that', 'we', 'could', 'be', 'Baby', 'I', 'been', ',', 'I', 'been', 'prayin', \"'\", 'hard', 'Said', 'no', 'more', 'counting', 'dollars', 'We', \"'ll\", 'be', ',', 'we', \"'ll\", 'be', 'counting', 'stars', '(', 'Take', 'that', 'money', 'and', 'watch', 'it', 'burn', ')', '(', 'Sink', 'in', 'the', 'river', 'the', 'lessons', 'I', 'learned', ')', '(', 'Take', 'that', 'money', 'and', 'watch', 'it', 'burn', ')', '(', 'Sink', 'in', 'the', 'river', 'the', 'lessons', 'I', 'learned', ')', '(', 'Take', 'that', 'money', 'and', 'watch', 'it', 'burn', ')', '(', 'Sink', 'in', 'the', 'river', 'the', 'lessons', 'I', 'learned', ')', '(', 'Take', 'that', 'money', 'and', 'watch', 'it', 'burn', ')', '(', 'Sink', 'in', 'the', 'river', 'the', 'lessons', 'I', 'learned', ')']]\n",
            "[['I', 'stared', 'up', 'at', 'the', 'sun', 'Thought', 'of', 'all', 'other', 'people', ',', 'places', 'and', 'things', 'I', \"'ve\", 'loved', 'I', 'stared', 'up', 'just', 'to', 'see', 'Of', 'all', 'other', 'faces', ',', 'you', 'are', 'the', 'one', 'next', 'to', 'me', 'You', 'can', 'feel', 'the', 'light', 'start', 'to', 'tremble', 'Washing', 'what', 'you', 'know', 'out', 'the', 'sea', 'yeah', 'You', 'can', 'see', 'your', 'life', 'out', 'of', 'the', 'window', ',', 'tonight', 'If', 'I', 'lose', 'myself', 'tonight', 'It', \"'ll\", 'be', 'by', 'your', 'side', 'If', 'I', 'lose', 'myself', 'tonight', '(', 'whoa', ',', 'whoa', ',', 'whoa', ')', 'If', 'I', 'lose', 'myself', 'tonight', 'It', \"'ll\", 'be', 'you', 'and', 'I', 'Lose', 'myself', 'tonight', 'I', 'woke', 'up', 'with', 'the', 'sun', 'Thought', 'of', 'all', 'other', 'people', ',', 'places', 'and', 'things', 'I', \"'ve\", 'loved', 'I', 'woke', 'up', 'just', 'to', 'see', 'Of', 'all', 'other', 'faces', 'you', 'were', 'the', 'one', 'next', 'to', 'me', 'You', 'can', 'feel', 'the', 'light', 'start', 'to', 'tremble', 'Washing', 'what', 'you', 'know', 'out', 'the', 'sea', 'yeah', 'You', 'can', 'see', 'your', 'life', 'out', 'of', 'the', 'window', ',', 'tonight', 'If', 'I', 'lose', 'myself', 'tonight', 'It', \"'ll\", 'be', 'by', 'your', 'side', 'If', 'I', 'lose', 'myself', 'tonight', '(', 'whoa', ',', 'whoa', ',', 'whoa', ')', 'If', 'I', 'lose', 'myself', 'tonight', 'It', \"'ll\", 'be', 'you', 'and', 'I', 'Lose', 'myself', 'tonight', '(', 'whoa', ')', 'Whoo', 'Oh', 'ooh', 'Take', 'us', 'down', 'and', 'we', 'keep', 'trying', ',', 'feet', 'keep', 'flying', 'Take', 'us', 'down', 'and', 'we', 'keep', 'trying', ',', 'feet', 'keep', 'flying', 'Take', 'us', 'down', 'and', 'we', 'keep', 'trying', ',', 'feet', 'keep', 'flying', 'Take', 'us', 'down', 'and', 'we', 'keep', 'trying', ',', 'feet', 'keep', 'flying', 'Lose', 'myself', 'If', 'I', 'lose', 'myself', 'tonight', 'Hoo', 'hoo', 'ooh', 'Hoo', 'hoo', 'ooh']]\n",
            "[['It', \"'s\", 'been', 'a', 'long', 'time', 'coming', 'since', 'I', \"'ve\", 'seen', 'your', 'face', 'I', \"'ve\", 'been', 'everywhere', 'and', 'back', 'trying', 'to', 'replace', 'Everything', 'that', 'I', \"'ve\", 'had', 'till', 'my', 'feet', 'went', 'numb', 'Praying', 'like', 'a', 'fool', 'that', \"'s\", 'been', 'on', 'the', 'run', 'Heart', 'still', 'beating', 'but', 'it', \"'s\", 'not', 'working', 'It', \"'s\", 'like', 'a', 'million', 'dollar', 'phone', 'that', 'you', 'just', 'ca', \"n't\", 'ring', 'I', 'reach', 'out', 'trying', 'to', 'love', 'but', 'I', 'feel', 'nothing', 'Yeah', ',', 'my', 'heart', 'is', 'numb', 'But', 'with', 'you', ',', 'I', 'feel', 'again', 'Yeah', 'with', 'you', ',', 'I', 'can', 'feel', 'again', ',', 'yeah', '(', 'Woo', 'hoo', ')', 'I', \"'m\", 'feeling', 'better', 'since', 'you', 'know', 'me', 'I', 'was', 'a', 'lonely', 'soul', 'but', 'that', \"'s\", 'the', 'old', 'me', 'It', \"'s\", 'been', 'a', 'long', 'time', 'coming', 'since', 'I', \"'ve\", 'seen', 'your', 'face', 'I', \"'ve\", 'been', 'everywhere', 'and', 'back', 'trying', 'to', 'replace', 'Everything', 'that', 'I', 'broke', 'till', 'my', 'feet', 'went', 'numb', 'Praying', 'like', 'a', 'fool', 'who', 'just', 'shot', 'a', 'gun', 'Heart', 'still', 'beating', 'but', 'it', \"'s\", 'not', 'working', 'It', \"'s\", 'like', 'a', 'hundred', 'thousand', 'voices', 'that', 'just', 'ca', \"n't\", 'sing', 'I', 'reached', 'out', 'trying', 'to', 'love', 'but', 'I', 'feel', 'nothing', 'Oh', 'my', 'heart', 'is', 'numb', 'But', 'with', 'you', ',', 'I', 'feel', 'again', 'And', 'with', 'you', ',', 'I', 'can', 'feel', 'again', 'But', 'with', 'you', '(', 'I', \"'m\", 'feeling', 'better', 'since', 'you', 'know', 'me', ')', 'I', 'feel', 'again', '(', 'I', 'was', 'a', 'lonely', 'soul', 'but', 'that', \"'s\", 'the', 'old', 'me', ')', 'Yeah', 'with', 'you', '(', 'I', \"'m\", 'feeling', 'better', 'since', 'you', 'know', 'me', ')', 'I', 'can', 'feel', 'again', '(', 'I', 'was', 'a', 'lonely', 'soul', ')', 'Woo', 'hoo', '(', 'Woo', 'hoo', ')', '(', 'I', \"'m\", 'feeling', 'better', 'since', 'you', 'know', 'me', ')', '(', 'I', 'was', 'a', 'lonely', 'soul', ',', 'but', 'that', \"'s\", 'the', 'old', 'me', ')', '(', 'I', \"'m\", 'feeling', 'better', 'since', 'you', 'know', 'me', ')', '(', 'I', 'was', 'a', 'lonely', 'soul', ',', 'but', 'that', \"'s\", 'the', 'old', 'me', ')', '(', 'I', \"'m\", 'feeling', 'better', 'since', 'you', 'know', 'me', ')', '(', 'I', 'was', 'a', 'lonely', 'soul', ',', 'but', 'that', \"'s\", 'the', 'old', 'me', ')', 'I', \"'m\", 'feeling', 'better', 'ever', 'since', 'you', 'know', 'me', 'I', 'was', 'a', 'lonely', 'soul', 'but', 'that', \"'s\", 'the', 'old', 'me', 'A', 'little', 'wiser', 'now', 'from', 'what', 'you', 'showed', 'me', 'Yeah', ',', 'I', 'feel', 'again', ',', 'feel', 'again', 'woo', 'hoo']]\n",
            "[['Hoping', 'you', 'take', 'that', 'jump', 'But', 'do', \"n't\", 'fear', 'the', 'fall', 'Hope', 'when', 'the', 'water', 'rises', 'You', 'built', 'a', 'wall', 'Hoping', 'the', 'crowd', 'screams', 'out', 'Screaming', 'your', 'name', 'Hope', 'if', 'everybody', 'runs', 'You', 'choose', 'to', 'stay', 'Hope', 'that', 'you', 'fall', 'in', 'love', 'And', 'it', 'hurts', 'so', 'bad', 'The', 'only', 'way', 'you', 'can', 'know', 'Is', 'give', 'it', 'all', 'you', 'have', 'And', 'I', 'hope', 'that', 'you', 'do', \"n't\", 'suffer', 'But', 'take', 'the', 'pain', 'Hope', 'when', 'the', 'moment', 'comes', 'you', 'say', 'I', ',', 'I', 'did', 'it', 'all', 'I', ',', 'I', 'did', 'it', 'all', 'I', 'owned', 'every', 'second', 'That', 'this', 'world', 'could', 'give', 'I', 'saw', 'so', 'many', 'places', 'The', 'things', 'that', 'I', 'did', 'With', 'every', 'broken', 'bone', 'I', 'swear', 'I', 'lived', 'Hope', 'that', 'you', 'spend', 'your', 'days', 'But', 'they', 'all', 'add', 'up', 'And', 'when', 'that', 'sun', 'goes', 'down', 'Hope', 'you', 'raise', 'your', 'cup', 'I', 'wish', 'that', 'I', 'could', 'witness', 'All', 'your', 'joy', 'and', 'all', 'your', 'pain', 'But', 'until', 'my', 'moment', 'comes', 'I', \"'ll\", 'say', 'I', ',', 'I', 'did', 'it', 'all', 'I', ',', 'I', 'did', 'it', 'all', 'I', 'owned', 'every', 'second', 'That', 'this', 'world', 'could', 'give', 'I', 'saw', 'so', 'many', 'places', 'And', 'things', 'that', 'I', 'did', 'With', 'every', 'broken', 'bone', 'I', 'swear', 'I', 'lived', 'With', 'every', 'broken', 'bone', 'I', 'swear', 'I', 'lived', 'With', 'every', 'broken', 'bone', 'I', 'swear', 'I', 'lived', 'I', ',', 'I', 'did', 'it', 'all', 'I', ',', 'I', 'did', 'it', 'all', 'I', 'owned', 'every', 'second', 'That', 'this', 'world', 'could', 'give', 'I', 'saw', 'so', 'many', 'places', 'And', 'things', 'that', 'I', 'did', 'girl', 'With', 'every', 'broken', 'bone', 'I', 'swear', 'I', 'lived']]\n",
            "[['When', 'I', 'was', 'a', 'kid', ',', 'I', 'used', 'to', 'buy', 'and', 'sell', 'gravity', 'I', 'knew', 'how', 'to', 'fly', ',', 'and', 'I', 'would', 'teach', 'you', 'for', 'a', 'fee', 'Broke', 'every', 'window', 'in', 'my', 'hotel', 'heart', 'When', 'I', 'was', 'only', '', 'years', 'old', ',', 'the', '', 'years', 'scar', 'But', 'I', \"'d\", 'hear', 'the', 'same', 'voice', 'echo', 'in', 'my', 'mind', 'See', 'son', 'you', 'got', 'an', 'angel', ',', 'to', 'chase', 'the', 'devil', 'at', 'night', ',', 'yeah', 'When', 'I', 'was', 'a', 'kid', ',', 'my', 'grandfather', 'was', 'a', 'preacher', 'He', \"'d\", 'talk', 'about', 'God', ',', 'yeah', 'he', 'was', 'something', 'like', 'a', 'teacher', 'He', 'said', 'God', 'only', 'helps', 'those', 'Who', 'learn', 'to', 'help', 'themselves', 'He', 'was', 'a', 'million', 'miles', 'from', 'a', 'million', 'dollars', 'But', 'you', 'can', 'never', 'spend', 'his', 'wealth', 'I', 'took', 'a', 'little', 'faith', ',', 'and', 'put', 'it', 'in', 'a', 'parking', 'lot', 'I', 'drove', 'to', 'a', 'strange', 'town', ',', 'full', 'of', 'have', 'and', 'have', 'notes', 'Yeah', ',', 'and', 'as', 'I', 'walk', 'through', 'that', 'storybook', 'life', 'I', \"'ll\", 'be', 'looking', 'for', 'an', 'angel', ',', 'to', 'chase', 'the', 'devil', 'at', 'night', ',', 'whoa', 'When', 'I', 'was', 'a', 'kid', ',', 'my', 'grandfather', 'was', 'a', 'preacher', 'He', \"'d\", 'talk', 'about', 'love', ',', 'yeah', 'he', 'was', 'something', 'like', 'a', 'teacher', 'He', 'said', 'God', 'only', 'helps', 'those', 'Who', 'learn', 'to', 'help', 'themselves', 'He', 'was', 'a', 'million', 'miles', 'from', 'a', 'million', 'dollars', 'But', 'you', 'can', 'never', 'spend', 'his', 'wealth', 'Wave', ',', 'put', 'your', 'hands', 'up', ',', 'and', 'hands', 'down', 'Wave', ',', 'put', 'your', 'hands', 'up', ',', 'and', 'hands', 'down', 'Wave', ',', 'put', 'your', 'hands', 'up', ',', 'and', 'hands', 'down', 'When', 'I', 'was', 'a', 'kid', ',', 'my', 'grandfather', 'was', 'a', 'preacher', 'He', \"'d\", 'talk', 'about', 'life', ',', 'yeah', 'he', 'was', 'something', 'like', 'a', 'teacher', 'He', 'said', 'God', 'only', 'helps', 'those', 'Who', 'learn', 'to', 'help', 'themselves', 'He', 'was', 'a', 'million', 'miles', 'from', 'a', 'million', 'dollars', 'But', 'you', 'can', 'never', 'spend', 'his', 'wealth', 'He', 'was', 'a', 'million', 'miles', 'from', 'a', 'million', 'dollars', 'But', 'you', 'can', 'never', 'spend', 'his', 'wealth']]\n",
            "[['I', 'need', 'another', 'story', 'Something', 'to', 'get', 'off', 'my', 'chest', 'My', 'life', 'gets', 'kinda', 'boring', 'Need', 'something', 'that', 'I', 'can', 'confess', 'Til', \"'\", 'all', 'my', 'sleeves', 'are', 'stained', 'red', 'From', 'all', 'the', 'truth', 'that', 'I', \"'ve\", 'said', 'Come', 'by', 'it', 'honestly', 'I', 'swear', 'Thought', 'you', 'saw', 'me', 'wink', ',', 'no', 'I', \"'ve\", 'been', 'on', 'the', 'brink', ',', 'so', 'Tell', 'me', 'what', 'you', 'want', 'to', 'hear', 'Something', 'that', 'will', 'light', 'those', 'ears', 'Sick', 'of', 'all', 'the', 'insincere', 'I', \"'m\", 'gon', 'na', 'give', 'all', 'my', 'secrets', 'away', 'This', 'time', ',', 'do', \"n't\", 'need', 'another', 'perfect', 'lie', 'Do', \"n't\", 'care', 'if', 'critics', 'ever', 'jump', 'in', 'line', 'I', \"'m\", 'gon', 'na', 'give', 'all', 'my', 'secrets', 'away', 'My', 'God', ',', 'amazing', 'how', 'we', 'got', 'this', 'far', 'It', \"'s\", 'like', 'we', \"'re\", 'chasing', 'all', 'those', 'stars', 'Who', \"'s\", 'driving', 'shiny', 'big', 'black', 'cars', 'And', 'everyday', 'I', 'see', 'the', 'news', 'All', 'the', 'problems', 'that', 'we', 'could', 'solve', 'And', 'when', 'a', 'situation', 'rises', 'Just', 'write', 'it', 'into', 'an', 'album', 'Send', 'it', 'straight', 'to', 'gold', 'I', 'do', \"n't\", 'really', 'like', 'my', 'flow', ',', 'no', ',', 'so', 'Tell', 'me', 'what', 'you', 'want', 'to', 'hear', 'Something', 'that', 'are', 'like', 'those', 'years', 'Sick', 'of', 'all', 'the', 'insincere', 'I', \"'m\", 'gon', 'na', 'give', 'all', 'my', 'secrets', 'away', 'This', 'time', ',', 'do', \"n't\", 'need', 'another', 'perfect', 'lie', 'Do', \"n't\", 'care', 'if', 'critics', 'never', 'jump', 'in', 'line', 'I', \"'m\", 'gon', 'na', 'give', 'all', 'my', 'secrets', 'away', 'Oh', ',', 'got', 'no', 'reason', ',', 'got', 'no', 'shame', 'Got', 'no', 'family', 'I', 'ca', \"n't\", 'blame', 'Just', 'do', \"n't\", 'let', 'me', 'disappear', \"I'mma\", 'tell', 'you', 'everything', 'So', 'tell', 'me', 'what', 'you', 'want', 'to', 'hear', 'Something', 'that', \"'ll\", 'light', 'those', 'ears', 'Sick', 'of', 'all', 'the', 'insincere', 'I', \"'m\", 'gon', 'na', 'give', 'all', 'my', 'secrets', 'away', 'This', 'time', ',', 'do', \"n't\", 'need', 'another', 'perfect', 'lie', 'Do', \"n't\", 'care', 'if', 'critics', 'never', 'jump', 'in', 'line', 'I', \"'m\", 'gon', 'na', 'give', 'all', 'my', 'secrets', 'away', 'So', 'tell', 'me', 'what', 'you', 'want', 'to', 'hear', 'Something', 'that', 'delight', 'those', 'ears', 'Sick', 'of', 'all', 'the', 'insincere', 'I', \"'m\", 'gon', 'na', 'give', 'all', 'my', 'secrets', 'away', 'This', 'time', ',', 'do', \"n't\", 'need', 'another', 'perfect', 'lie', 'Do', \"n't\", 'care', 'if', 'critics', 'ever', 'jump', 'in', 'line', 'I', \"'m\", 'gon', 'na', 'give', 'all', 'my', 'secrets', 'away', 'All', 'my', 'secrets', 'away', ',', 'all', 'my', 'secrets', 'away']]\n",
            "[['One', 'and', 'two', 'and', 'three', 'and', 'four', 'and', 'One', 'and', 'two', 'and', 'three', 'and', 'four', 'and', 'One', 'and', 'two', 'and', 'three', 'and', 'four', 'and', 'One', 'and', 'two', 'and', 'three', 'and', 'four', 'I', 'was', 'writing', 'Thinking', 'with', 'my', 'long', 'hand', 'Flippin', \"'\", 'the', 'paper', 'Everything', 'was', 'sinking', 'In', 'start', 'to', 'wonder', 'How', 'you', 'gon', 'na', 'handle', 'me', '?'], ['When', 'I', \"'m\", 'under', 'Swimming', 'in', 'the', 'dark', 'sea', 'Everybody', 'wants', 'you', 'to', 'make', 'It', \"'s\", 'all', 'yours', 'Everybody', 'wants', 'to', 'take', 'It', \"'s\", 'all', 'yours', 'Everybody', 'wants', 'you', 'to', 'make', 'It', \"'s\", 'all', 'yours', 'Everybody', 'wants', 'to', 'take', 'it', ',', 't-t-t-take', 'it', 'Can', 'you', 'feel', 'all', 'the', 'love', 'Can', 'you', 'feel', 'all', 'the', 'love', '?'], ['Can', 'you', 'feel', 'all', 'the', 'love', 'Can', 'you', 'feel', 'all', 'the', 'love', '?'], ['Like', 'it', 'was', 'made', 'for', 'you', '!'], ['Like', 'it', 'was', 'made', 'for', 'you', 'Like', 'it', 'was', 'made', 'for', 'you', 'It', 'was', 'made', 'for', 'you', 'Tell', 'me', 'something', 'Something', 'that', 'can', 'move', 'me', 'Do', \"n't\", 'tell', 'me', 'lies', 'I', 'swear', 'you', \"'re\", 'gon', 'na', 'lose', 'me', 'Big', 'like', 'an', 'ocean', 'Jealous', 'of', 'the', 'fish', 'it', 'feeds', 'Your', 'devotion', 'Swimming', 'inside', 'of', 'me', 'Everybody', 'wants', 'you', 'to', 'make', 'It', \"'s\", 'all', 'yours', 'Everybody', 'wants', 'to', 'take', 'It', \"'s\", 'all', 'yours', 'Everybody', 'wants', 'you', 'to', 'make', 'It', \"'s\", 'all', 'yours', 'Everybody', 'wants', 'to', 't-t-t-take', 'it', '[', 'Can', 'you', 'feel', 'all', 'the', 'love', 'Can', 'you', 'feel', 'all', 'the', 'love', '?'], ['Can', 'you', 'feel', 'all', 'the', 'love', 'Can', 'you', 'feel', 'all', 'the', 'love', '?'], ['Like', 'it', 'was', 'made', 'for', 'you', '!'], ['Like', 'it', 'was', 'made', 'for', 'you', 'Like', 'it', 'was', 'made', 'for', 'you', 'It', 'was', 'made', 'for', 'you', 'Can', 'you', 'feel', 'Can', 'you', 'feel', '?'], ['Can', 'you', 'feel', '?'], ['All', 'the', 'right', 'friends', 'in', 'all', 'the', 'right', 'places', 'All', 'the', 'right', 'moves', 'and', 'all', 'the', 'right', 'faces', 'All', 'the', 'right', 'friends', 'in', 'all', 'the', 'right', 'places', 'All', 'the', 'right', 'moves', 'and', 'all', 'the', 'right', 'faces', 'All', 'the', 'right', 'friends', 'in', 'all', 'the', 'right', 'places', 'All', 'the', 'right', 'moves', 'and', 'all', 'the', 'right', 'faces', 'All', 'the', 'right', 'friends', 'in', 'all', 'the', 'right', 'places', 'All', 'the', 'right', 'moves', 'and', 'all', 'the', 'right', 'faces']]\n",
            "[['(', 'All', 'the', 'right', 'friends', 'in', 'all', 'the', 'right', 'places', ')', 'So', 'yeah', 'we', \"'re\", 'going', 'down', '(', 'All', 'the', 'right', 'moves', 'in', 'all', 'the', 'wrong', 'faces', ')', 'So', 'yeah', 'we', \"'re\", 'going', 'down', 'Paint', 'a', 'picture', 'of', 'the', 'perfect', 'place', 'They', \"'ve\", 'got', 'it', 'better', 'than', 'when', 'anyone', \"'s\", 'told', 'ya', ',', 'I', \"'ll\", 'be', 'the', 'King', 'of', 'Hearts', ',', 'you', 'be', 'the', 'Queen', 'of', 'Spades', 'And', 'we', \"'ll\", 'fight', 'for', 'you', 'like', 'we', 'were', 'soldiers', 'I', 'know', 'we', \"'ve\", 'got', 'it', 'good', 'But', 'they', \"'ve\", 'got', 'it', 'made', 'And', 'the', 'grass', 'is', 'getting', 'greener', 'each', 'day', 'I', 'know', 'things', 'are', 'looking', 'up', 'But', 'soon', 'they', \"'ll\", 'take', 'us', 'down', 'Before', 'anybody', \"'s\", 'knowing', 'our', 'name', 'They', \"'ve\", 'got', 'all', 'the', 'right', 'friends', 'in', 'all', 'the', 'right', 'places', 'So', 'yeah', ',', 'we', \"'re\", 'going', 'down', 'They', \"'ve\", 'got', 'all', 'the', 'right', 'moves', 'in', 'all', 'the', 'right', 'faces', 'So', 'yeah', ',', 'we', \"'re\", 'going', 'down', 'Everybody', 'knows', ',', 'everybody', 'knows', 'where', 'we', \"'re\", 'going', 'Yeah', ',', 'we', \"'re\", 'going', 'down', 'I', 'said', ',', 'everybody', 'knows', ',', 'everybody', 'knows', 'where', 'we', \"'re\", 'going', 'Yeah', ',', 'we', \"'re\", 'going', 'down', 'Do', 'you', 'think', 'I', \"'m\", 'special', ',', 'do', 'you', 'think', 'I', \"'m\", 'nice', 'Am', 'I', 'bright', 'enough', 'to', 'shine', 'in', 'your', 'spaces', 'Between', 'the', 'noise', 'you', 'hear', 'and', 'the', 'sound', 'you', 'like', 'Are', 'we', 'just', 'sinking', 'in', 'the', 'ocean', 'of', 'faces', 'It', 'ca', \"n't\", 'be', 'possible', 'that', 'rain', 'can', 'fall', ',', 'Only', 'when', 'it', \"'s\", 'over', 'our', 'heads', 'The', 'sun', 'is', 'shining', 'everyday', ',', 'but', 'it', \"'s\", 'far', 'away', 'Over', 'the', 'world', 'it', \"'s\", 'said', ',', 'they', \"'ve\", 'got', ',', 'they', \"'ve\", 'got', 'All', 'the', 'right', 'friends', ',', 'in', 'all', 'the', 'right', 'places', 'So', 'yeah', 'we', \"'re\", 'going', 'down', 'We', 'got', 'all', 'the', 'right', 'moves', 'in', 'all', 'the', 'right', 'places', 'So', 'yeah', 'we', \"'re\", 'going', 'down', 'Everybody', 'knows', ',', 'everybody', 'knows', 'where', 'we', \"'re\", 'going', 'Yeah', ',', 'we', \"'re\", 'going', 'down', 'Everybody', 'knows', ',', 'everybody', 'knows', 'where', 'we', \"'re\", 'going', 'Yeah', ',', 'we', \"'re\", 'going', 'down', '(', 'going', 'down', ',', 'going', 'down', ',', 'going', 'down', ',', 'going', 'down', ')', 'It', 'do', \"n't\", 'matter', 'what', 'you', 'see', 'I', 'know', 'I', 'could', 'never', 'be', 'Someone', 'that', \"'ll\", 'look', 'like', 'you', 'It', 'do', \"n't\", 'matter', 'what', 'you', 'say', 'I', 'know', 'I', 'could', 'never', 'face', 'Someone', 'that', 'could', 'sound', 'like', 'you', '(', 'All', 'the', 'right', 'friends', ',', 'in', 'all', 'the', 'right', 'places', 'So', 'yeah', 'we', \"'re\", 'going', 'down', 'They', 'got', 'all', 'the', 'right', 'moves', 'in', 'all', 'the', 'right', 'places', 'So', 'yeah', 'we', \"'re\", 'going', 'down', ')', '(', 'All', 'the', 'right', 'friends', ',', 'in', 'all', 'the', 'right', 'places', 'So', 'yeah', 'we', \"'re\", 'going', 'down', 'They', 'got', 'all', 'the', 'right', 'moves', 'in', 'all', 'the', 'right', 'places', 'So', 'yeah', 'we', \"'re\", 'going', 'down', ')', 'Said', ',', 'everybody', 'knows', 'everybody', 'knows', 'where', 'we', \"'re\", 'going', 'Yeah', 'we', \"'re\", 'going', 'down', 'I', 'said', ',', 'everybody', 'knows', 'everybody', 'knows', 'where', 'we', \"'re\", 'going', 'Yeah', 'we', \"'re\", 'going', 'down', '(', 'going', 'down', ',', 'going', 'down', ',', 'going', 'down', ')', 'Yeah', 'we', \"'re\", 'going', 'down', 'Yeah', 'we', \"'re\", 'going', 'down', '(', 'All', 'the', 'right', 'moves', ',', 'yeah', ')', 'Yeah', 'we', \"'re\", 'going', 'down', '(', 'All', 'the', 'right', 'moves', ',', 'yeah', ')', 'Yeah', 'we', \"'re\", 'going', 'down']]\n",
            "[['Well', 'hell', 'sees', 'her', 'shadow', 'in', 'my', 'backseat', 'And', 'her', 'friends', 'are', 'standing', 'right', 'in', 'front', 'of', 'me', 'World', 'wide', 'from', 'the', 'center', 'burning', 'turkey', 'Open', 'up', 'said', 'everybody', 'loves', 'me', 'And', 'you', 'do', \"n't\", 'have', 'to', 'make', 'a', 'sound', \"'Cause\", 'they', 'got', 'what', 'you', 'need', 'Oh', ',', 'oh', ',', 'oh', ',', 'oh', 'God', 'love', 'all', 'the', 'people', 'that', 'have', 'warned', 'you', 'God', 'love', 'all', 'your', 'sentimental', 'virtue', 'Eight', 'balls', 'with', 'the', 'takers', 'that', \"'ll\", 'make', 'you', 'Lay', 'calls', 'with', 'the', 'lovers', 'that', \"'ll\", 'hate', 'you', 'And', 'you', 'do', \"n't\", 'have', 'to', 'make', 'a', 'sound', 'They', 'got', 'what', 'you', 'need', 'What', 'you', 'need', 'Make', 'you', 'say', 'Oh', 'my', '!'], ['Feels', 'just', 'like', 'I', 'do', \"n't\", 'try', 'Looks', 'so', 'good', 'I', 'might', 'die', 'All', 'I', 'know', 'is', 'everybody', 'loves', 'me', 'Get', 'down', ',', 'Swaying', 'to', 'my', 'own', 'sound', 'Flashes', 'in', 'my', 'face', 'now', 'All', 'I', 'know', 'is', 'everybody', 'loves', 'me', 'Everybody', 'loves', 'me', 'Well', 'I', 'Play', 'the', 'music', 'do', \"n't\", 'stop', 'till', 'I', 'turn', 'gray', 'Stars', 'like', 'forever', 'John', 'Sousa', 'never', 'fade', ',', 'He', 'had', 'a', 'beautiful', 'child', ',', 'named', 'Desiree', 'Hope', 'I', \"'m\", 'remembered', 'for', 'the', 'things', 'that', 'I', 'never', 'made', \"'Cause\", 'you', 'do', \"n't\", 'have', 'to', 'make', 'a', 'sound', 'When', 'they', 'got', 'what', 'you', 'need', 'Like', 'you', 'say', 'Oh', 'my', '!'], ['Feels', 'just', 'like', 'I', 'do', \"n't\", 'try', 'Looks', 'so', 'good', 'I', 'might', 'die', 'All', 'I', 'know', 'is', 'everybody', 'loves', 'me', 'Get', 'down', ',', 'Swaying', 'to', 'my', 'own', 'sound', 'Flashes', 'in', 'my', 'face', 'now', 'All', 'I', 'know', 'is', 'everybody', 'loves', 'me', 'Everybody', 'loves', 'me', 'Everybody', 'Everybody', 'Oh', 'Everybody', 'Everybody', 'Do', \"n't\", 'need', 'my', 'health', 'Got', 'my', 'name', 'and', 'got', 'my', 'wealth', 'I', 'Stare', 'at', 'the', 'sun', 'Just', 'for', 'kicks', 'all', 'by', 'myself', 'I', 'Lose', 'track', 'of', 'time', 'So', 'I', 'might', 'be', 'past', 'my', 'prime', 'But', 'I', \"'m\", 'feeling', 'oh', 'so', 'good', 'Yeah', '!'], ['Oh', 'my', '!'], ['Feels', 'just', 'like', 'I', 'do', \"n't\", 'try', 'Looks', 'so', 'good', 'I', 'might', 'die', 'All', 'I', 'know', 'is', 'everybody', 'loves', 'me', 'Get', 'down', ',', 'Swaying', 'to', 'my', 'own', 'sound', 'Flashes', 'in', 'my', 'face', 'now', 'All', 'I', 'know', 'is', 'everybody', 'loves', 'me', 'Everybody', 'loves', 'me', '!'], ['Do', \"n't\", 'you', 'know', 'you', 'wan', 'na', 'Everybody', 'Everybody', 'Everybody', 'Whoa', '!'], ['Yeah', '!']]\n",
            "[['Woke', 'up', 'in', 'London', 'yesterday', 'Found', 'myself', 'in', 'the', 'city', 'near', 'Piccadilly', 'Do', \"n't\", 'really', 'know', 'how', 'I', 'got', 'here', 'I', 'got', 'some', 'pictures', 'on', 'my', 'phone', 'New', 'names', 'and', 'numbers', 'that', 'I', 'do', \"n't\", 'know', 'Address', 'to', 'places', 'like', 'Abbey', 'Road', 'Day', 'turns', 'to', 'night', ',', 'night', 'turns', 'to', 'whatever', 'we', 'want', 'We', \"'re\", 'young', 'enough', 'to', 'say', 'Oh', ',', 'this', 'has', 'got', 'ta', 'be', 'the', 'good', 'life', 'This', 'has', 'got', 'ta', 'be', 'the', 'good', 'life', 'This', 'could', 'really', 'be', 'a', 'good', 'life', ',', 'good', 'life', 'Say', 'oh', ',', 'got', 'this', 'feeling', 'that', 'you', 'ca', \"n't\", 'fight', 'Like', 'this', 'city', 'is', 'on', 'fire', 'tonight', 'This', 'could', 'really', 'be', 'a', 'good', 'life', 'A', 'good', ',', 'good', 'life', 'Oh', ',', 'oh', ',', 'oh', ',', 'oh', ',', 'oh', ',', 'oh', ',', 'oh', 'To', 'my', 'friends', 'in', 'New', 'York', ',', 'I', 'say', 'hello', 'My', 'friends', 'in', 'L.A.', 'they', 'do', \"n't\", 'know', 'Where', 'I', \"'ve\", 'been', 'for', 'the', 'past', 'few', 'years', 'or', 'so', 'From', 'Paris', 'to', 'China', 'to', 'Colorado', 'Sometimes', 'there', \"'s\", 'airplanes', 'I', 'ca', \"n't\", 'jump', 'out', 'Sometimes', 'there', \"'s\", 'bullshit', 'that', 'do', \"n't\", 'work', 'now', 'We', 'all', 'got', 'our', 'stories', 'but', 'please', 'tell', 'me', 'What', 'there', 'is', 'to', 'complain', 'about', 'When', 'you', \"'re\", 'happy', 'like', 'a', 'fool', 'Let', 'it', 'take', 'you', 'over', 'When', 'everything', 'is', 'out', 'You', 'got', 'ta', 'take', 'it', 'in', 'Oh', ',', 'this', 'has', 'got', 'ta', 'be', 'the', 'good', 'life', 'This', 'has', 'got', 'ta', 'be', 'the', 'good', 'life', 'This', 'could', 'really', 'be', 'a', 'good', 'life', ',', 'good', 'life', 'Say', 'oh', ',', 'got', 'this', 'feeling', 'that', 'you', 'ca', \"n't\", 'fight', 'Like', 'this', 'city', 'is', 'on', 'fire', 'tonight', 'This', 'could', 'really', 'be', 'a', 'good', 'life', 'A', 'good', ',', 'good', 'life', 'Oh', ',', 'oh', ',', 'oh', ',', 'oh', ',', 'oh', ',', 'oh', ',', 'oh', 'A', 'good', ',', 'good', 'life', 'Oh', ',', 'oh', ',', 'oh', ',', 'oh', ',', 'oh', ',', 'oh', ',', 'oh', 'Hopelessly', 'I', 'feel', 'like', 'like', 'there', 'might', 'be', 'something', 'that', 'I', \"'ll\", 'miss', 'Hopelessly', 'I', 'feel', 'like', 'the', 'window', 'closes', 'oh', 'so', 'quick', 'Hopelessly', 'I', \"'m\", 'taking', 'a', 'mental', 'picture', 'of', 'you', 'now', \"'Cause\", 'hopelessly', 'The', 'hope', 'is', 'we', 'have', 'so', 'much', 'to', 'feel', 'good', 'about', 'Oh', 'this', 'has', 'got', 'ta', 'be', 'the', 'good', 'life', 'This', 'has', 'got', 'ta', 'be', 'the', 'good', 'life', 'This', 'could', 'really', 'be', 'a', 'good', 'life', ',', 'good', 'life', 'Say', 'oh', ',', 'got', 'this', 'feeling', 'that', 'you', 'ca', \"n't\", 'fight', 'Like', 'this', 'city', 'is', 'on', 'fire', 'tonight', 'This', 'could', 'really', 'be', 'a', 'good', 'life', 'A', 'good', ',', 'good', 'life', 'Oh', ',', 'oh', 'oh', ',', 'oh', 'yeah', ',', 'a', 'good', ',', 'good', 'life', ',', 'good', 'life', 'Oh', ',', 'oh', ',', 'oh', ',', 'oh', ',', 'oh', ',', 'oh', ',', 'oh', 'Whoa', ',', 'whoa', ',', 'listen', 'To', 'my', 'friends', 'in', 'New', 'York', ',', 'I', 'say', 'hello', 'My', 'friends', 'in', 'L.A.', 'they', 'do', \"n't\", 'know', 'Where', 'I', \"'ve\", 'been', 'for', 'the', 'past', 'few', 'years', 'or', 'so', 'Paris', 'to', 'China', 'to', 'Colorado', 'Sometimes', 'there', \"'s\", 'airplanes', 'I', 'ca', \"n't\", 'jump', 'out', 'Sometimes', 'there', \"'s\", 'bullshit', 'that', 'do', \"n't\", 'work', 'now', 'We', 'all', 'got', 'our', 'stories', 'but', 'please', 'tell', 'me', 'What', 'there', 'is', 'to', 'complain', 'about']]\n",
            "[['I', 'found', 'variety', 'On', 'Nolan', \"'s\", 'Avenue', 'Down', 'where', 'the', 'air', 'is', 'thick', 'As', 'L.A.', 'skies', 'are', 'blue', 'The', 'water', 'tried', 'to', 'break', 'it', 'down', 'But', 'it', 'held', 'through', 'It', 'gave', 'a', 'little', 'for', 'the', 'sake', 'of', 'staying', 'true', 'We', 'cut', 'ties', 'We', 'tell', 'lies', 'We', 'hate', 'change', 'And', 'we', 'wan', 'na', 'claim', 'where', 'we', 'feel', 'We', 'take', 'toes', 'We', 'rake', 'yours', 'Yeah', 'we', 'dig', 'holes', 'And', 'we', \"'re\", 'diggin', \"'\", 'right', 'in', 'your', 'fears', 'We', \"'re\", 'waking', 'up', 'We', \"'re\", 'waking', 'up', 'And', 'right', 'on', 'time', 'And', 'right', 'on', 'time', 'We', \"'ll\", 'take', 'these', 'roads', 'We', \"'ll\", 'break', 'them', 'up', 'And', 'right', 'on', 'time', 'And', 'right', 'on', 'time', '!'], ['We', 'got', 'cars', 'We', 'write', 'laws', 'We', 'wo', \"n't\", 'pause', 'Do', \"n't\", 'you', 'know', 'we', \"'re\", 'always', 'working', 'this', 'hard', 'We', 'do', \"n't\", 'lose', 'We', 'might', 'bruise', 'Yeah', 'but', 'we', \"'ll\", 'rain', 'fire', 'on', 'ya', 'till', 'you', \"'re\", 'playing', 'All', 'of', 'your', 'cards', 'We', \"'re\", 'waking', 'up', 'We', \"'re\", 'waking', 'up', 'And', 'right', 'on', 'time', 'And', 'right', 'on', 'time', 'We', \"'ll\", 'take', 'these', 'roads', 'We', \"'ll\", 'break', 'them', 'up', 'And', 'right', 'on', 'time', 'And', 'right', 'on', 'time', '!'], ['On', 'time', '!'], ['Right', 'on', 'time', '!'], ['Waking', 'up', '!'], ['Waking', 'up', '!'], ['Yeah', 'Ooh', '!'], ['Oh', '!'], ['Ooh', '!']]\n",
            "[['Angel', 'of', 'mercy', 'How', 'did', 'you', 'find', 'me', '?'], ['Where', 'did', 'you', 'read', 'my', 'story', '?'], ['Pulled', 'from', 'the', 'papers', 'Desperate', 'and', 'hardened', 'Seeking', 'a', 'momentary', 'fix', 'All', 'I', 'wanted', 'to', 'say', 'All', 'I', 'wanted', 'to', 'do', 'Is', 'fall', 'apart', 'now', 'All', 'I', 'wanted', 'to', 'feel', 'I', 'wanted', 'to', 'love', 'It', \"'s\", 'all', 'my', 'fault', 'now', 'A', 'tragedy', 'I', 'fear', 'Angel', 'of', 'mercy', 'How', 'did', 'you', 'find', 'me', '?'], ['How', 'did', 'you', 'pick', 'me', 'up', 'again', '?'], ['Angel', 'of', 'mercy', 'How', 'did', 'you', 'move', 'me', '?'], ['Why', 'am', 'I', 'on', 'my', 'feet', 'again', '?'], ['And', 'I', 'see', 'you', 'Whoa', 'Whoa', 'Whoa', 'I', 'feel', 'you', 'Whoa', 'Whoa', 'Whoa', \"'Fortress\", 'the', 'daylight', 'Come', 'and', 'I', 'stand', 'by', 'Waiting', 'to', 'catch', 'the', 'quickest', 'plane', 'Fly', 'me', 'to', 'nowhere', 'Is', 'better', 'than', 'somewhere', 'That', \"'s\", 'where', 'I', \"'ve\", 'been', 'and', 'nothings', 'changed', 'All', 'I', 'wanted', 'to', 'say', 'All', 'I', 'wanted', 'to', 'do', 'Is', 'fall', 'apart', 'now', 'All', 'I', 'wanted', 'to', 'feel', 'I', 'wanted', 'to', 'love', 'It', \"'s\", 'all', 'my', 'fault', 'now', 'A', 'tragedy', 'for', 'sure', 'Angel', 'of', 'mercy', 'How', 'did', 'you', 'find', 'me', '?'], ['How', 'did', 'you', 'pick', 'me', 'up', 'again', '?'], ['Angel', 'of', 'mercy', 'How', 'did', 'you', 'move', 'me', '?'], ['Why', 'am', 'I', 'on', 'my', 'feet', 'again', '?'], ['And', 'I', 'see', 'you', 'Whoa', 'Whoa', 'Whoa', 'I', 'feel', 'you', 'Whoa', 'whoa', 'whoa', 'I', \"'m\", 'so', 'lost', 'in', 'you', 'A', 'tragedy', 'seemed', 'to', 'be', 'over', 'now', ',', 'oh', 'now', 'A', 'tragedy', 'it', 'seemed', 'to', 'be', 'over', 'now', 'Angel', 'of', 'mercy', 'How', 'did', 'you', 'find', 'me', '?'], ['How', 'did', 'you', 'pick', 'me', 'up', 'again', '?'], ['Angel', 'of', 'mercy', 'How', 'did', 'you', 'move', 'me', '?'], ['Why', 'am', 'I', 'on', 'my', 'feet', 'again', '?'], ['And', 'I', 'see', 'you', 'Whoa', 'whoa', 'whoa', 'I', 'feel', 'you', 'Whoa', 'whoa', 'whoa', 'I', 'feel', 'you', 'Oh', 'Whoa', 'whoa', 'whoa', 'I', 'feel', 'you', 'Oh', 'oh', 'oh']]\n",
            "[['For', 'those', 'days', 'we', 'felt', 'like', 'a', 'mistake', 'Those', 'times', 'when', 'loves', 'what', 'you', 'hate', 'Somehow', 'We', 'keep', 'marching', 'on', 'For', 'those', 'nights', 'that', 'I', 'could', \"n't\", 'be', 'there', ',', 'I', \"'ve\", 'made', 'it', 'harder', 'to', 'know', 'that', 'you', 'know', 'That', 'somehow', 'We', \"'ll\", 'keep', 'movin', \"'\", 'on', 'There', \"'s\", 'so', 'many', 'wars', 'we', 'fought', 'There', \"'s\", 'so', 'many', 'things', 'we', \"'re\", 'not', 'But', 'with', 'what', 'we', 'have', 'I', 'promise', 'you', 'that', 'We', \"'re\", 'marchin', \"'\", 'on', 'We', \"'re\", 'marchin', \"'\", 'on', 'For', 'all', 'of', 'the', 'plans', 'we', 'made', 'There', 'is', \"n't\", 'a', 'flag', 'I', \"'d\", 'wave', 'Do', \"n't\", 'care', 'where', 'we', \"'ve\", 'been', 'I', \"'d\", 'sink', 'us', 'to', 'swim', 'We', \"'re\", 'marchin', \"'\", 'on', 'We', \"'re\", 'marchin', \"'\", 'on', 'We', \"'re\", 'marchin', \"'\", 'on', 'For', 'those', 'doubts', 'that', 'swirl', 'all', 'around', 'us', 'For', 'those', 'lives', 'that', 'tear', 'at', 'the', 'seams', 'We', 'know', 'We', \"'re\", 'not', 'what', 'we', \"'ve\", 'seen', 'Oh', 'for', 'this', 'dance', 'we', 'move', 'with', 'each', 'other', 'There', 'ai', \"n't\", 'no', 'other', 'step', 'than', 'one', 'foot', 'Right', 'in', 'front', 'of', 'the', 'other', 'There', \"'s\", 'so', 'many', 'wars', 'we', 'fought', 'There', \"'s\", 'so', 'many', 'things', 'we', \"'re\", 'not', 'But', 'with', 'what', 'we', 'have', 'I', 'promise', 'you', 'that', 'We', \"'re\", 'marchin', \"'\", 'on', 'We', \"'re\", 'marchin', \"'\", 'on', 'We', \"'re\", 'marchin', \"'\", 'on', 'For', 'all', 'of', 'the', 'plans', 'we', 'made', 'There', 'is', \"n't\", 'a', 'flag', 'I', \"'d\", 'wave', 'Do', \"n't\", 'care', 'where', 'we', \"'ve\", 'been', 'I', \"'d\", 'sink', 'us', 'to', 'swim', 'We', \"'re\", 'marchin', \"'\", 'on', 'We', \"'re\", 'marchin', \"'\", 'on', 'We', \"'re\", 'marchin', \"'\", 'on', 'Right', ',', 'right', ',', 'right', ',', 'right', ',', 'left', 'Right', ',', 'right', ',', 'right', ',', 'right', ',', 'left', 'Right', ',', 'right', ',', 'right', ',', 'marchin', \"'\", 'on', 'We', \"'ll\", 'have', 'the', 'days', 'we', 'break', 'And', 'we', \"'ll\", 'have', 'the', 'scars', 'to', 'prove', 'it', 'We', \"'ll\", 'have', 'the', 'bombs', 'that', 'we', 'saved', 'But', 'we', \"'ll\", 'have', 'the', 'heart', 'Not', 'to', 'lose', 'it', 'For', 'all', 'of', 'the', 'times', 'we', \"'ve\", 'stopped', 'For', 'all', 'of', 'the', 'things', 'I', \"'m\", 'not', 'You', 'put', 'one', 'foot', 'in', 'front', 'of', 'the', 'other', 'We', \"'ve\", 'move', 'like', 'we', 'ai', \"n't\", 'got', 'no', 'other', 'We', 'go', 'where', 'we', 'go', 'we', \"'re\", 'marchin', \"'\", 'on', 'Marchin', \"'\", 'on', 'There', \"'s\", 'so', 'many', 'wars', 'we', 'fought', 'There', \"'s\", 'so', 'many', 'things', 'we', \"'re\", 'not', 'But', 'with', 'what', 'we', 'have', 'I', 'promise', 'you', 'that', 'We', \"'re\", 'marchin', \"'\", 'on', 'We', \"'re\", 'marchin', \"'\", 'on', 'We', \"'re\", 'marchin', \"'\", 'on', '(', 'marching', 'oh', ')', 'Right', ',', 'right', ',', 'right', ',', 'right', ',', 'left', 'Right', ',', 'right', ',', 'right', ',', 'right', ',', 'left', 'Right', ',', 'right', ',', 'right', ',', 'right', 'Marchin', \"'\", 'on', '(', 'we', \"'re\", 'marchin', \"'\", 'on', ')', 'We', \"'re\", 'marchin', \"'\", 'on', 'Right', ',', 'right', ',', 'right', ',', 'right', ',', 'left', 'Right', ',', 'right', ',', 'right', ',', 'right', ',', 'left', 'Right', ',', 'right', ',', 'right', ',', 'right', 'Marchin', \"'\", 'on', '(', 'oh', 'oh', 'oh', ')']]\n"
          ],
          "name": "stdout"
        }
      ]
    },
    {
      "cell_type": "code",
      "metadata": {
        "id": "siOaEE1TVfpn",
        "colab_type": "code",
        "colab": {
          "base_uri": "https://localhost:8080/",
          "height": 531
        },
        "outputId": "25b60677-282a-41eb-b104-3ea5cfc889c5"
      },
      "source": [
        "#preprocessing all the songs\n",
        "for i in range(0,13):\n",
        "    song=one_Re.iloc[i,1]\n",
        "    text=re.sub(r'\\d+','',song)#removing numbers\n",
        "\n",
        "\n",
        "    #lowercasing\n",
        "    text_lower=text.lower()\n",
        "\n",
        "    #punctuation removal \n",
        "    def  remove_punctuation(word): #function will take in the lowercased text and then remove all the punctuation\n",
        "        translator=str.maketrans('','',string.punctuation)\n",
        "        text_punct=word.translate(translator)\n",
        "        return text_punct\n",
        "    result=remove_punctuation(text_lower) #storing the resulting body of  text in variable result\n",
        "\n",
        "    #removing stopwords \n",
        "    def remove_stopwords(word):#The function will   tokenize the result and then filter off  the stop_words \n",
        "        stop_words=set(stopwords.words(\"english\")) \n",
        "        word_tokens= word_tokenize(word)\n",
        "        result=[ word for word in word_tokens if word not in stop_words ]\n",
        "        return result\n",
        "    song=remove_stopwords(result)\n",
        "    print(song)\n",
        "\n",
        "    #lemmatization\n",
        "    lemmatizer=WordNetLemmatizer()\n",
        "    for word in song :\n",
        "        lemmatized_song=lemmatizer.lemmatize(word)\n",
        "    print(lemmatized_song)\n",
        "\n",
        "\n",
        "\n"
      ],
      "execution_count": 5,
      "outputs": [
        {
          "output_type": "stream",
          "text": [
            "['lately', 'losing', 'sleep', 'dreaming', 'things', 'could', 'baby', 'prayin', 'hard', 'said', 'counting', 'dollars', 'counting', 'stars', 'yeah', 'counting', 'stars', 'see', 'life', 'like', 'swinging', 'vine', 'swing', 'heart', 'across', 'line', 'faces', 'flashing', 'signs', 'seek', 'ye', 'shall', 'find', 'old', 'old', 'young', 'bold', 'nt', 'think', 'world', 'sold', 'told', 'feel', 'something', 'right', 'wrong', 'thing', 'feel', 'something', 'wrong', 'right', 'thing', 'could', 'lie', 'could', 'lie', 'could', 'lie', 'everything', 'kills', 'makes', 'feel', 'alive', 'lately', 'losing', 'sleep', 'dreaming', 'bout', 'things', 'could', 'baby', 'prayin', 'hard', 'said', 'counting', 'dollars', 'counting', 'stars', 'lately', 'losing', 'sleep', 'dreaming', 'bout', 'things', 'could', 'baby', 'prayin', 'hard', 'said', 'counting', 'dollars', 'counting', 'stars', 'feel', 'love', 'feel', 'burn', 'river', 'every', 'turn', 'hope', 'four', 'letter', 'word', 'make', 'money', 'watch', 'burn', 'old', 'old', 'young', 'bold', 'nt', 'think', 'world', 'sold', 'told', 'feel', 'something', 'wrong', 'right', 'thing', 'could', 'lie', 'could', 'lie', 'could', 'lie', 'everything', 'drowns', 'makes', 'wan', 'na', 'fly', 'lately', 'losing', 'sleep', 'dreaming', 'things', 'could', 'baby', 'prayin', 'hard', 'said', 'counting', 'dollars', 'counting', 'stars', 'lately', 'losing', 'sleep', 'dreaming', 'bout', 'things', 'could', 'baby', 'prayin', 'hard', 'said', 'counting', 'dollars', 'counting', 'stars', 'take', 'money', 'watch', 'burn', 'sink', 'river', 'lessons', 'learned', 'take', 'money', 'watch', 'burn', 'sink', 'river', 'lessons', 'learned', 'take', 'money', 'watch', 'burn', 'sink', 'river', 'lessons', 'learned', 'take', 'money', 'watch', 'burn', 'sink', 'river', 'lessons', 'learned', 'everything', 'kills', 'makes', 'feel', 'alive', 'lately', 'losing', 'sleep', 'dreaming', 'bout', 'things', 'could', 'baby', 'prayin', 'hard', 'said', 'counting', 'dollars', 'counting', 'stars', 'lately', 'losing', 'sleep', 'dreaming', 'bout', 'things', 'could', 'baby', 'prayin', 'hard', 'said', 'counting', 'dollars', 'counting', 'stars', 'take', 'money', 'watch', 'burn', 'sink', 'river', 'lessons', 'learned', 'take', 'money', 'watch', 'burn', 'sink', 'river', 'lessons', 'learned', 'take', 'money', 'watch', 'burn', 'sink', 'river', 'lessons', 'learned', 'take', 'money', 'watch', 'burn', 'sink', 'river', 'lessons', 'learned']\n",
            "learned\n",
            "['stared', 'sun', 'thought', 'people', 'places', 'things', 'loved', 'stared', 'see', 'faces', 'one', 'next', 'feel', 'light', 'start', 'tremble', 'washing', 'know', 'sea', 'yeah', 'see', 'life', 'window', 'tonight', 'lose', 'tonight', 'side', 'lose', 'tonight', 'whoa', 'whoa', 'whoa', 'lose', 'tonight', 'lose', 'tonight', 'woke', 'sun', 'thought', 'people', 'places', 'things', 'loved', 'woke', 'see', 'faces', 'one', 'next', 'feel', 'light', 'start', 'tremble', 'washing', 'know', 'sea', 'yeah', 'see', 'life', 'window', 'tonight', 'lose', 'tonight', 'side', 'lose', 'tonight', 'whoa', 'whoa', 'whoa', 'lose', 'tonight', 'lose', 'tonight', 'whoa', 'whoo', 'oh', 'ooh', 'take', 'us', 'keep', 'trying', 'feet', 'keep', 'flying', 'take', 'us', 'keep', 'trying', 'feet', 'keep', 'flying', 'take', 'us', 'keep', 'trying', 'feet', 'keep', 'flying', 'take', 'us', 'keep', 'trying', 'feet', 'keep', 'flying', 'lose', 'lose', 'tonight', 'hoo', 'hoo', 'ooh', 'hoo', 'hoo', 'ooh']\n",
            "ooh\n",
            "['long', 'time', 'coming', 'since', 'seen', 'face', 'everywhere', 'back', 'trying', 'replace', 'everything', 'till', 'feet', 'went', 'numb', 'praying', 'like', 'fool', 'run', 'heart', 'still', 'beating', 'working', 'like', 'million', 'dollar', 'phone', 'ca', 'nt', 'ring', 'reach', 'trying', 'love', 'feel', 'nothing', 'yeah', 'heart', 'numb', 'feel', 'yeah', 'feel', 'yeah', 'woo', 'hoo', 'feeling', 'better', 'since', 'know', 'lonely', 'soul', 'old', 'long', 'time', 'coming', 'since', 'seen', 'face', 'everywhere', 'back', 'trying', 'replace', 'everything', 'broke', 'till', 'feet', 'went', 'numb', 'praying', 'like', 'fool', 'shot', 'gun', 'heart', 'still', 'beating', 'working', 'like', 'hundred', 'thousand', 'voices', 'ca', 'nt', 'sing', 'reached', 'trying', 'love', 'feel', 'nothing', 'oh', 'heart', 'numb', 'feel', 'feel', 'feeling', 'better', 'since', 'know', 'feel', 'lonely', 'soul', 'old', 'yeah', 'feeling', 'better', 'since', 'know', 'feel', 'lonely', 'soul', 'woo', 'hoo', 'woo', 'hoo', 'feeling', 'better', 'since', 'know', 'lonely', 'soul', 'old', 'feeling', 'better', 'since', 'know', 'lonely', 'soul', 'old', 'feeling', 'better', 'since', 'know', 'lonely', 'soul', 'old', 'feeling', 'better', 'ever', 'since', 'know', 'lonely', 'soul', 'old', 'little', 'wiser', 'showed', 'yeah', 'feel', 'feel', 'woo', 'hoo']\n",
            "hoo\n",
            "['hoping', 'take', 'jump', 'nt', 'fear', 'fall', 'hope', 'water', 'rises', 'built', 'wall', 'hoping', 'crowd', 'screams', 'screaming', 'name', 'hope', 'everybody', 'runs', 'choose', 'stay', 'hope', 'fall', 'love', 'hurts', 'bad', 'way', 'know', 'give', 'hope', 'nt', 'suffer', 'take', 'pain', 'hope', 'moment', 'comes', 'say', 'owned', 'every', 'second', 'world', 'could', 'give', 'saw', 'many', 'places', 'things', 'every', 'broken', 'bone', 'swear', 'lived', 'hope', 'spend', 'days', 'add', 'sun', 'goes', 'hope', 'raise', 'cup', 'wish', 'could', 'witness', 'joy', 'pain', 'moment', 'comes', 'say', 'owned', 'every', 'second', 'world', 'could', 'give', 'saw', 'many', 'places', 'things', 'every', 'broken', 'bone', 'swear', 'lived', 'every', 'broken', 'bone', 'swear', 'lived', 'every', 'broken', 'bone', 'swear', 'lived', 'owned', 'every', 'second', 'world', 'could', 'give', 'saw', 'many', 'places', 'things', 'girl', 'every', 'broken', 'bone', 'swear', 'lived']\n",
            "lived\n",
            "['kid', 'used', 'buy', 'sell', 'gravity', 'knew', 'fly', 'would', 'teach', 'fee', 'broke', 'every', 'window', 'hotel', 'heart', 'years', 'old', 'years', 'scar', 'hear', 'voice', 'echo', 'mind', 'see', 'son', 'got', 'angel', 'chase', 'devil', 'night', 'yeah', 'kid', 'grandfather', 'preacher', 'talk', 'god', 'yeah', 'something', 'like', 'teacher', 'said', 'god', 'helps', 'learn', 'help', 'million', 'miles', 'million', 'dollars', 'never', 'spend', 'wealth', 'took', 'little', 'faith', 'put', 'parking', 'lot', 'drove', 'strange', 'town', 'full', 'notes', 'yeah', 'walk', 'storybook', 'life', 'looking', 'angel', 'chase', 'devil', 'night', 'whoa', 'kid', 'grandfather', 'preacher', 'talk', 'love', 'yeah', 'something', 'like', 'teacher', 'said', 'god', 'helps', 'learn', 'help', 'million', 'miles', 'million', 'dollars', 'never', 'spend', 'wealth', 'wave', 'put', 'hands', 'hands', 'wave', 'put', 'hands', 'hands', 'wave', 'put', 'hands', 'hands', 'kid', 'grandfather', 'preacher', 'talk', 'life', 'yeah', 'something', 'like', 'teacher', 'said', 'god', 'helps', 'learn', 'help', 'million', 'miles', 'million', 'dollars', 'never', 'spend', 'wealth', 'million', 'miles', 'million', 'dollars', 'never', 'spend', 'wealth']\n",
            "wealth\n",
            "['need', 'another', 'story', 'something', 'get', 'chest', 'life', 'gets', 'kinda', 'boring', 'need', 'something', 'confess', 'til', 'sleeves', 'stained', 'red', 'truth', 'said', 'come', 'honestly', 'swear', 'thought', 'saw', 'wink', 'brink', 'tell', 'want', 'hear', 'something', 'light', 'ears', 'sick', 'insincere', 'gon', 'na', 'give', 'secrets', 'away', 'time', 'nt', 'need', 'another', 'perfect', 'lie', 'nt', 'care', 'critics', 'ever', 'jump', 'line', 'gon', 'na', 'give', 'secrets', 'away', 'god', 'amazing', 'got', 'far', 'like', 'chasing', 'stars', 'driving', 'shiny', 'big', 'black', 'cars', 'everyday', 'see', 'news', 'problems', 'could', 'solve', 'situation', 'rises', 'write', 'album', 'send', 'straight', 'gold', 'nt', 'really', 'like', 'flow', 'tell', 'want', 'hear', 'something', 'like', 'years', 'sick', 'insincere', 'gon', 'na', 'give', 'secrets', 'away', 'time', 'nt', 'need', 'another', 'perfect', 'lie', 'nt', 'care', 'critics', 'never', 'jump', 'line', 'gon', 'na', 'give', 'secrets', 'away', 'oh', 'got', 'reason', 'got', 'shame', 'got', 'family', 'ca', 'nt', 'blame', 'nt', 'let', 'disappear', 'imma', 'tell', 'everything', 'tell', 'want', 'hear', 'something', 'light', 'ears', 'sick', 'insincere', 'gon', 'na', 'give', 'secrets', 'away', 'time', 'nt', 'need', 'another', 'perfect', 'lie', 'nt', 'care', 'critics', 'never', 'jump', 'line', 'gon', 'na', 'give', 'secrets', 'away', 'tell', 'want', 'hear', 'something', 'delight', 'ears', 'sick', 'insincere', 'gon', 'na', 'give', 'secrets', 'away', 'time', 'nt', 'need', 'another', 'perfect', 'lie', 'nt', 'care', 'critics', 'ever', 'jump', 'line', 'gon', 'na', 'give', 'secrets', 'away', 'secrets', 'away', 'secrets', 'away']\n",
            "away\n",
            "['one', 'two', 'three', 'four', 'one', 'two', 'three', 'four', 'one', 'two', 'three', 'four', 'one', 'two', 'three', 'four', 'writing', 'thinking', 'long', 'hand', 'flippin', 'paper', 'everything', 'sinking', 'start', 'wonder', 'gon', 'na', 'handle', 'swimming', 'dark', 'sea', 'everybody', 'wants', 'make', 'everybody', 'wants', 'take', 'everybody', 'wants', 'make', 'everybody', 'wants', 'take', 'ttttake', 'feel', 'love', 'feel', 'love', 'feel', 'love', 'feel', 'love', 'like', 'made', 'like', 'made', 'like', 'made', 'made', 'tell', 'something', 'something', 'move', 'nt', 'tell', 'lies', 'swear', 'gon', 'na', 'lose', 'big', 'like', 'ocean', 'jealous', 'fish', 'feeds', 'devotion', 'swimming', 'inside', 'everybody', 'wants', 'make', 'everybody', 'wants', 'take', 'everybody', 'wants', 'make', 'everybody', 'wants', 'ttttake', 'feel', 'love', 'feel', 'love', 'feel', 'love', 'feel', 'love', 'like', 'made', 'like', 'made', 'like', 'made', 'made', 'feel', 'feel', 'feel', 'right', 'friends', 'right', 'places', 'right', 'moves', 'right', 'faces', 'right', 'friends', 'right', 'places', 'right', 'moves', 'right', 'faces', 'right', 'friends', 'right', 'places', 'right', 'moves', 'right', 'faces', 'right', 'friends', 'right', 'places', 'right', 'moves', 'right', 'faces']\n",
            "face\n",
            "['right', 'friends', 'right', 'places', 'yeah', 'going', 'right', 'moves', 'wrong', 'faces', 'yeah', 'going', 'paint', 'picture', 'perfect', 'place', 'got', 'better', 'anyone', 'told', 'ya', 'king', 'hearts', 'queen', 'spades', 'fight', 'like', 'soldiers', 'know', 'got', 'good', 'got', 'made', 'grass', 'getting', 'greener', 'day', 'know', 'things', 'looking', 'soon', 'take', 'us', 'anybody', 'knowing', 'name', 'got', 'right', 'friends', 'right', 'places', 'yeah', 'going', 'got', 'right', 'moves', 'right', 'faces', 'yeah', 'going', 'everybody', 'knows', 'everybody', 'knows', 'going', 'yeah', 'going', 'said', 'everybody', 'knows', 'everybody', 'knows', 'going', 'yeah', 'going', 'think', 'special', 'think', 'nice', 'bright', 'enough', 'shine', 'spaces', 'noise', 'hear', 'sound', 'like', 'sinking', 'ocean', 'faces', 'ca', 'nt', 'possible', 'rain', 'fall', 'heads', 'sun', 'shining', 'everyday', 'far', 'away', 'world', 'said', 'got', 'got', 'right', 'friends', 'right', 'places', 'yeah', 'going', 'got', 'right', 'moves', 'right', 'places', 'yeah', 'going', 'everybody', 'knows', 'everybody', 'knows', 'going', 'yeah', 'going', 'everybody', 'knows', 'everybody', 'knows', 'going', 'yeah', 'going', 'going', 'going', 'going', 'going', 'nt', 'matter', 'see', 'know', 'could', 'never', 'someone', 'look', 'like', 'nt', 'matter', 'say', 'know', 'could', 'never', 'face', 'someone', 'could', 'sound', 'like', 'right', 'friends', 'right', 'places', 'yeah', 'going', 'got', 'right', 'moves', 'right', 'places', 'yeah', 'going', 'right', 'friends', 'right', 'places', 'yeah', 'going', 'got', 'right', 'moves', 'right', 'places', 'yeah', 'going', 'said', 'everybody', 'knows', 'everybody', 'knows', 'going', 'yeah', 'going', 'said', 'everybody', 'knows', 'everybody', 'knows', 'going', 'yeah', 'going', 'going', 'going', 'going', 'yeah', 'going', 'yeah', 'going', 'right', 'moves', 'yeah', 'yeah', 'going', 'right', 'moves', 'yeah', 'yeah', 'going']\n",
            "going\n",
            "['well', 'hell', 'sees', 'shadow', 'backseat', 'friends', 'standing', 'right', 'front', 'world', 'wide', 'center', 'burning', 'turkey', 'open', 'said', 'everybody', 'loves', 'nt', 'make', 'sound', 'cause', 'got', 'need', 'oh', 'oh', 'oh', 'oh', 'god', 'love', 'people', 'warned', 'god', 'love', 'sentimental', 'virtue', 'eight', 'balls', 'takers', 'make', 'lay', 'calls', 'lovers', 'hate', 'nt', 'make', 'sound', 'got', 'need', 'need', 'make', 'say', 'oh', 'feels', 'like', 'nt', 'try', 'looks', 'good', 'might', 'die', 'know', 'everybody', 'loves', 'get', 'swaying', 'sound', 'flashes', 'face', 'know', 'everybody', 'loves', 'everybody', 'loves', 'well', 'play', 'music', 'nt', 'stop', 'till', 'turn', 'gray', 'stars', 'like', 'forever', 'john', 'sousa', 'never', 'fade', 'beautiful', 'child', 'named', 'desiree', 'hope', 'remembered', 'things', 'never', 'made', 'cause', 'nt', 'make', 'sound', 'got', 'need', 'like', 'say', 'oh', 'feels', 'like', 'nt', 'try', 'looks', 'good', 'might', 'die', 'know', 'everybody', 'loves', 'get', 'swaying', 'sound', 'flashes', 'face', 'know', 'everybody', 'loves', 'everybody', 'loves', 'everybody', 'everybody', 'oh', 'everybody', 'everybody', 'nt', 'need', 'health', 'got', 'name', 'got', 'wealth', 'stare', 'sun', 'kicks', 'lose', 'track', 'time', 'might', 'past', 'prime', 'feeling', 'oh', 'good', 'yeah', 'oh', 'feels', 'like', 'nt', 'try', 'looks', 'good', 'might', 'die', 'know', 'everybody', 'loves', 'get', 'swaying', 'sound', 'flashes', 'face', 'know', 'everybody', 'loves', 'everybody', 'loves', 'nt', 'know', 'wan', 'na', 'everybody', 'everybody', 'everybody', 'whoa', 'yeah']\n",
            "yeah\n",
            "['woke', 'london', 'yesterday', 'found', 'city', 'near', 'piccadilly', 'nt', 'really', 'know', 'got', 'got', 'pictures', 'phone', 'new', 'names', 'numbers', 'nt', 'know', 'address', 'places', 'like', 'abbey', 'road', 'day', 'turns', 'night', 'night', 'turns', 'whatever', 'want', 'young', 'enough', 'say', 'oh', 'got', 'ta', 'good', 'life', 'got', 'ta', 'good', 'life', 'could', 'really', 'good', 'life', 'good', 'life', 'say', 'oh', 'got', 'feeling', 'ca', 'nt', 'fight', 'like', 'city', 'fire', 'tonight', 'could', 'really', 'good', 'life', 'good', 'good', 'life', 'oh', 'oh', 'oh', 'oh', 'oh', 'oh', 'oh', 'friends', 'new', 'york', 'say', 'hello', 'friends', 'la', 'nt', 'know', 'past', 'years', 'paris', 'china', 'colorado', 'sometimes', 'airplanes', 'ca', 'nt', 'jump', 'sometimes', 'bullshit', 'nt', 'work', 'got', 'stories', 'please', 'tell', 'complain', 'happy', 'like', 'fool', 'let', 'take', 'everything', 'got', 'ta', 'take', 'oh', 'got', 'ta', 'good', 'life', 'got', 'ta', 'good', 'life', 'could', 'really', 'good', 'life', 'good', 'life', 'say', 'oh', 'got', 'feeling', 'ca', 'nt', 'fight', 'like', 'city', 'fire', 'tonight', 'could', 'really', 'good', 'life', 'good', 'good', 'life', 'oh', 'oh', 'oh', 'oh', 'oh', 'oh', 'oh', 'good', 'good', 'life', 'oh', 'oh', 'oh', 'oh', 'oh', 'oh', 'oh', 'hopelessly', 'feel', 'like', 'like', 'might', 'something', 'miss', 'hopelessly', 'feel', 'like', 'window', 'closes', 'oh', 'quick', 'hopelessly', 'taking', 'mental', 'picture', 'cause', 'hopelessly', 'hope', 'much', 'feel', 'good', 'oh', 'got', 'ta', 'good', 'life', 'got', 'ta', 'good', 'life', 'could', 'really', 'good', 'life', 'good', 'life', 'say', 'oh', 'got', 'feeling', 'ca', 'nt', 'fight', 'like', 'city', 'fire', 'tonight', 'could', 'really', 'good', 'life', 'good', 'good', 'life', 'oh', 'oh', 'oh', 'oh', 'yeah', 'good', 'good', 'life', 'good', 'life', 'oh', 'oh', 'oh', 'oh', 'oh', 'oh', 'oh', 'whoa', 'whoa', 'listen', 'friends', 'new', 'york', 'say', 'hello', 'friends', 'la', 'nt', 'know', 'past', 'years', 'paris', 'china', 'colorado', 'sometimes', 'airplanes', 'ca', 'nt', 'jump', 'sometimes', 'bullshit', 'nt', 'work', 'got', 'stories', 'please', 'tell', 'complain']\n",
            "complain\n",
            "['found', 'variety', 'nolan', 'avenue', 'air', 'thick', 'la', 'skies', 'blue', 'water', 'tried', 'break', 'held', 'gave', 'little', 'sake', 'staying', 'true', 'cut', 'ties', 'tell', 'lies', 'hate', 'change', 'wan', 'na', 'claim', 'feel', 'take', 'toes', 'rake', 'yeah', 'dig', 'holes', 'diggin', 'right', 'fears', 'waking', 'waking', 'right', 'time', 'right', 'time', 'take', 'roads', 'break', 'right', 'time', 'right', 'time', 'got', 'cars', 'write', 'laws', 'wo', 'nt', 'pause', 'nt', 'know', 'always', 'working', 'hard', 'nt', 'lose', 'might', 'bruise', 'yeah', 'rain', 'fire', 'ya', 'till', 'playing', 'cards', 'waking', 'waking', 'right', 'time', 'right', 'time', 'take', 'roads', 'break', 'right', 'time', 'right', 'time', 'time', 'right', 'time', 'waking', 'waking', 'yeah', 'ooh', 'oh', 'ooh']\n",
            "ooh\n",
            "['angel', 'mercy', 'find', 'read', 'story', 'pulled', 'papers', 'desperate', 'hardened', 'seeking', 'momentary', 'fix', 'wanted', 'say', 'wanted', 'fall', 'apart', 'wanted', 'feel', 'wanted', 'love', 'fault', 'tragedy', 'fear', 'angel', 'mercy', 'find', 'pick', 'angel', 'mercy', 'move', 'feet', 'see', 'whoa', 'whoa', 'whoa', 'feel', 'whoa', 'whoa', 'whoa', 'fortress', 'daylight', 'come', 'stand', 'waiting', 'catch', 'quickest', 'plane', 'fly', 'nowhere', 'better', 'somewhere', 'nothings', 'changed', 'wanted', 'say', 'wanted', 'fall', 'apart', 'wanted', 'feel', 'wanted', 'love', 'fault', 'tragedy', 'sure', 'angel', 'mercy', 'find', 'pick', 'angel', 'mercy', 'move', 'feet', 'see', 'whoa', 'whoa', 'whoa', 'feel', 'whoa', 'whoa', 'whoa', 'lost', 'tragedy', 'seemed', 'oh', 'tragedy', 'seemed', 'angel', 'mercy', 'find', 'pick', 'angel', 'mercy', 'move', 'feet', 'see', 'whoa', 'whoa', 'whoa', 'feel', 'whoa', 'whoa', 'whoa', 'feel', 'oh', 'whoa', 'whoa', 'whoa', 'feel', 'oh', 'oh', 'oh']\n",
            "oh\n",
            "['days', 'felt', 'like', 'mistake', 'times', 'loves', 'hate', 'somehow', 'keep', 'marching', 'nights', 'could', 'nt', 'made', 'harder', 'know', 'know', 'somehow', 'keep', 'movin', 'many', 'wars', 'fought', 'many', 'things', 'promise', 'marchin', 'marchin', 'plans', 'made', 'nt', 'flag', 'wave', 'nt', 'care', 'sink', 'us', 'swim', 'marchin', 'marchin', 'marchin', 'doubts', 'swirl', 'around', 'us', 'lives', 'tear', 'seams', 'know', 'seen', 'oh', 'dance', 'move', 'ai', 'nt', 'step', 'one', 'foot', 'right', 'front', 'many', 'wars', 'fought', 'many', 'things', 'promise', 'marchin', 'marchin', 'marchin', 'plans', 'made', 'nt', 'flag', 'wave', 'nt', 'care', 'sink', 'us', 'swim', 'marchin', 'marchin', 'marchin', 'right', 'right', 'right', 'right', 'left', 'right', 'right', 'right', 'right', 'left', 'right', 'right', 'right', 'marchin', 'days', 'break', 'scars', 'prove', 'bombs', 'saved', 'heart', 'lose', 'times', 'stopped', 'things', 'put', 'one', 'foot', 'front', 'move', 'like', 'ai', 'nt', 'got', 'go', 'go', 'marchin', 'marchin', 'many', 'wars', 'fought', 'many', 'things', 'promise', 'marchin', 'marchin', 'marchin', 'marching', 'oh', 'right', 'right', 'right', 'right', 'left', 'right', 'right', 'right', 'right', 'left', 'right', 'right', 'right', 'right', 'marchin', 'marchin', 'marchin', 'right', 'right', 'right', 'right', 'left', 'right', 'right', 'right', 'right', 'left', 'right', 'right', 'right', 'right', 'marchin', 'oh', 'oh', 'oh']\n",
            "oh\n"
          ],
          "name": "stdout"
        }
      ]
    },
    {
      "cell_type": "code",
      "metadata": {
        "id": "07t_kizVVHdG",
        "colab_type": "code",
        "colab": {}
      },
      "source": [
        "cp=pd.read_csv('/content/CPlyrics.csv',header=None)\n",
        "id=pd.read_csv('/content/IDlyrics.csv',header=None)\n",
        "fb=pd.read_csv('/content/FBlyrics.csv',header=None)\n",
        "jb=pd.read_csv('/content/JBlyrics.csv',header=None)\n",
        "m=pd.read_csv('/content/Mlyrics.csv',header=None)\n",
        "sp=pd.read_csv('/content/SPlyrics.csv',header=None)\n",
        "xa=pd.read_csv('/content/XAlyrics.csv',header=None)"
      ],
      "execution_count": 7,
      "outputs": []
    },
    {
      "cell_type": "code",
      "metadata": {
        "id": "OMcrQRcPUtbC",
        "colab_type": "code",
        "colab": {}
      },
      "source": [
        "for i in range(0,13):\n",
        "    song=one_Re.iloc[i,1]\n",
        "    text=re.sub(r'\\d+','',song)#removing numbers\n",
        "\n",
        "\n",
        "    #lowercasing\n",
        "    text_lower=text.lower()\n",
        "\n",
        "    #punctuation removal \n",
        "    def  remove_punctuation(word): #function will take in the lowercased text and then remove all the punctuation\n",
        "        translator=str.maketrans('','',string.punctuation)\n",
        "        text_punct=word.translate(translator)\n",
        "        return text_punct\n",
        "    result=remove_punctuation(text_lower) #storing the resulting body of  text in variable result\n",
        "\n",
        "    #removing stopwords \n",
        "    def remove_stopwords(word):#The function will   tokenize the result and then filter off  the stop_words \n",
        "        stop_words=set(stopwords.words(\"english\")) \n",
        "        word_tokens= word_tokenize(word)\n",
        "        result=[ word for word in word_tokens if word not in stop_words ]\n",
        "        return result\n",
        "    song=remove_stopwords(result)\n",
        "    print(song)\n",
        "\n",
        "    #lemmatization\n",
        "    lemmatizer=WordNetLemmatizer()\n",
        "    for word in song :\n",
        "        lemmatized_song=lemmatizer.lemmatize(word)\n",
        "    print(lemmatized_song)\n"
      ],
      "execution_count": null,
      "outputs": []
    }
  ]
}