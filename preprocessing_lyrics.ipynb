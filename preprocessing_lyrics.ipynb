{
  "nbformat": 4,
  "nbformat_minor": 0,
  "metadata": {
    "colab": {
      "name": "preprocessing_lyrics.ipynb",
      "provenance": [],
      "authorship_tag": "ABX9TyOyQeWR6hd8mZbqu4CHbohg",
      "include_colab_link": true
    },
    "kernelspec": {
      "name": "python3",
      "display_name": "Python 3"
    }
  },
  "cells": [
    {
      "cell_type": "markdown",
      "metadata": {
        "id": "view-in-github",
        "colab_type": "text"
      },
      "source": [
        "<a href=\"https://colab.research.google.com/github/Gail529/Recommendation-system/blob/master/preprocessing_lyrics.ipynb\" target=\"_parent\"><img src=\"https://colab.research.google.com/assets/colab-badge.svg\" alt=\"Open In Colab\"/></a>"
      ]
    },
    {
      "cell_type": "code",
      "metadata": {
        "id": "h9vc2hfaT203",
        "colab_type": "code",
        "colab": {
          "base_uri": "https://localhost:8080/",
          "height": 131
        },
        "outputId": "2096a1f4-b058-41ce-b627-60dad9860de6"
      },
      "source": [
        "#preprocessing the lyrics data\n",
        "import pandas as pd\n",
        "import numpy as np\n",
        "import nltk\n",
        "nltk.download('punkt')\n",
        "nltk.download('stopwords')\n",
        "import re \n",
        "import string\n",
        "from nltk.stem import PorterStemmer \n",
        "from nltk.tokenize import word_tokenize,sent_tokenize\n",
        "nltk.download('wordnet')\n",
        "from nltk.stem import WordNetLemmatizer\n",
        "from nltk.corpus import stopwords\n",
        " \n",
        "one_Re=pd.read_csv('/content/ORlyrics.csv',header=None)"
      ],
      "execution_count": 1,
      "outputs": [
        {
          "output_type": "stream",
          "text": [
            "[nltk_data] Downloading package punkt to /root/nltk_data...\n",
            "[nltk_data]   Unzipping tokenizers/punkt.zip.\n",
            "[nltk_data] Downloading package stopwords to /root/nltk_data...\n",
            "[nltk_data]   Unzipping corpora/stopwords.zip.\n",
            "[nltk_data] Downloading package wordnet to /root/nltk_data...\n",
            "[nltk_data]   Unzipping corpora/wordnet.zip.\n"
          ],
          "name": "stdout"
        }
      ]
    },
    {
      "cell_type": "code",
      "metadata": {
        "id": "Hnjk2bKZWX13",
        "colab_type": "code",
        "colab": {}
      },
      "source": [
        "one_Re"
      ],
      "execution_count": null,
      "outputs": []
    },
    {
      "cell_type": "code",
      "metadata": {
        "id": "VlARZCwQPCOo",
        "colab_type": "code",
        "colab": {}
      },
      "source": [
        "#preprocessing all the songs\n",
        "for i in range(0,13):\n",
        "    song=one_Re.iloc[i,1]\n",
        "    text=re.sub(r'\\d+','',song)\n",
        "    print(text)\n"
      ],
      "execution_count": null,
      "outputs": []
    },
    {
      "cell_type": "code",
      "metadata": {
        "id": "siOaEE1TVfpn",
        "colab_type": "code",
        "colab": {}
      },
      "source": [
        "#preprocessing all the songs\n",
        "for i in range(0,13):\n",
        "    song=one_Re.iloc[i,1]\n",
        "    text=re.sub(r'\\d+','',song)#removing numbers\n",
        "\n",
        "\n",
        "    #lowercasing\n",
        "    text_lower=text.lower()\n",
        "\n",
        "    #punctuation removal \n",
        "    def  remove_punctuation(word): #function will take in the lowercased text and then remove all the punctuation\n",
        "        translator=str.maketrans('','',string.punctuation)\n",
        "        text_punct=word.translate(translator)\n",
        "        return text_punct\n",
        "    result=remove_punctuation(text_lower) #storing the resulting body of  text in variable result\n",
        "\n",
        "    #removing stopwords \n",
        "    def remove_stopwords(word):#The function will   tokenize the result and then filter off  the stop_words \n",
        "        stop_words=set(stopwords.words(\"english\")) \n",
        "        word_tokens= word_tokenize(word)\n",
        "        result=[ word for word in word_tokens if word not in stop_words ]\n",
        "        return result\n",
        "    song=remove_stopwords(result)\n",
        "    print(song)\n",
        "\n",
        "    #lemmatization\n",
        "    lemmatizer=WordNetLemmatizer()\n",
        "    for word in song :\n",
        "        lemmatized_song=lemmatizer.lemmatize(word)\n",
        "    print(lemmatized_song)\n",
        "\n",
        "\n",
        "\n"
      ],
      "execution_count": null,
      "outputs": []
    },
    {
      "cell_type": "code",
      "metadata": {
        "id": "07t_kizVVHdG",
        "colab_type": "code",
        "colab": {}
      },
      "source": [
        "cp=pd.read_csv('/content/CPlyrics.csv',header=None)\n",
        "id=pd.read_csv('/content/IDlyrics.csv',header=None)\n",
        "fb=pd.read_csv('/content/FBlyrics.csv',header=None)\n",
        "jb=pd.read_csv('/content/JBlyrics.csv',header=None)\n",
        "m=pd.read_csv('/content/Mlyrics.csv',header=None)\n",
        "sp=pd.read_csv('/content/SPlyrics.csv',header=None)\n",
        "xa=pd.read_csv('/content/XAlyrics.csv',header=None)"
      ],
      "execution_count": 7,
      "outputs": []
    },
    {
      "cell_type": "code",
      "metadata": {
        "id": "MiEgffi8gtk3",
        "colab_type": "code",
        "colab": {
          "base_uri": "https://localhost:8080/",
          "height": 36
        },
        "outputId": "fd8f722a-5977-4a30-8a91-6a7be97ad1ec"
      },
      "source": [
        "xa.shape"
      ],
      "execution_count": 27,
      "outputs": [
        {
          "output_type": "execute_result",
          "data": {
            "text/plain": [
              "(19, 2)"
            ]
          },
          "metadata": {
            "tags": []
          },
          "execution_count": 27
        }
      ]
    },
    {
      "cell_type": "code",
      "metadata": {
        "id": "q0uCnp6ugyQj",
        "colab_type": "code",
        "colab": {
          "base_uri": "https://localhost:8080/",
          "height": 721
        },
        "outputId": "669f8386-832a-4f1c-89ef-0725a2d74984"
      },
      "source": [
        "#preprocessing all the songs\n",
        "for i in range(0,18):\n",
        "    song=xa.iloc[i,1]\n",
        "    text=re.sub(r'\\d+','',song)#removing numbers\n",
        "    #lowercasing\n",
        "    text_lower=text.lower()\n",
        "\n",
        "    #punctuation removal \n",
        "    def  remove_punctuation(word): #function will take in the lowercased text and then remove all the punctuation\n",
        "        translator=str.maketrans('','',string.punctuation)\n",
        "        text_punct=word.translate(translator)\n",
        "        return text_punct\n",
        "    result=remove_punctuation(text_lower) #storing the resulting body of  text in variable result\n",
        "\n",
        "    #removing stopwords \n",
        "    def remove_stopwords(word):#The function will   tokenize the result and then filter off  the stop_words \n",
        "        stop_words=set(stopwords.words(\"english\")) \n",
        "        word_tokens= word_tokenize(word)\n",
        "        result=[ word for word in word_tokens if word not in stop_words ]\n",
        "        return result\n",
        "    song=remove_stopwords(result)\n",
        "    print(song)\n",
        "\n",
        "    #lemmatization\n",
        "    lemmatizer=WordNetLemmatizer()\n",
        "    for word in song :\n",
        "        xa_song=lemmatizer.lemmatize(word)\n",
        "    print(xa_song)\n",
        "\n",
        "\n"
      ],
      "execution_count": 28,
      "outputs": [
        {
          "output_type": "stream",
          "text": [
            "['done', 'heart', 'floor', 'must', 'mind', 'come', 'back', 'begging', 'stay', 'stay', 'night', 'swear', 'prove', 'right', 'flies', 'kept', 'sleeping', 'fears', 'wings', 'grandfather', 'clock', 'still', 'ticking', 'chime', 'never', 'rings', 'long', 'must', 'stay', 'lay', 'side', 'say', 'never', 'mine', 'love', 'like', 'hole', 'swallow', 'soul', 'draggin', 'blood', 'covers', 'curses', 'uttered', 'played', 'part', 'play', 'hide', 'go', 'seek', 'safe', 'behind', 'veneer', 'bury', 'burden', 'baby', 'makes', 'disappear', 'marks', 'thighs', 'nt', 'sting', 'bleed', 'way', 'way', 'forever', 'love', 'like', 'hole', 'swallow', 'soul', 'draggin', 'blood', 'covers', 'curses', 'uttered', 'played', 'part', 'love', 'like', 'hole', 'swallowed', 'soul', 'draggin', 'swear', 'stay', 'ca', 'nt', 'forgive', 'never', 'whole']\n",
            "whole\n",
            "['yeah', 'yeah', 'yeah', 'well', 'long', 'living', 'old', 'lives', 'yeah', 'feel', 'cold', 'live', 'young', 'die', 'yeah', 'walk', 'line', 'like', 'choose', 'yeah', 'forget', 'oh', 'lord', 'wit', 'best', 'use', 'oh', 'lord', 'said', 'oh', 'lord', 'said', 'oh', 'lord', 'wo', 'nt', 'follow', 'jungle', 'yeah', 'ai', 'nt', 'god', 'streets', 'heart', 'jungle', 'oh', 'lord', 'child', 'wo', 'nt', 'follow', 'jungle', 'oh', 'lord', 'ai', 'nt', 'god', 'streets', 'heart', 'jungle', 'oh', 'lord', 'child', 'wo', 'nt', 'follow', 'jungle', 'lost', 'mind', 'city', 'lights', 'yeah', 'backstreets', 'buildings', 'neon', 'lights', 'yeah', 'heard', 'thunder', 'could', 'feel', 'rain', 'yeah', 'different', 'name', 'oh', 'lord', 'said', 'oh', 'lord', 'said', 'oh', 'lord', 'wo', 'nt', 'follow', 'jungle', 'yeah', 'ai', 'nt', 'god', 'streets', 'heart', 'jungle', 'oh', 'lord', 'child', 'wo', 'nt', 'follow', 'jungle', 'yeah', 'ai', 'nt', 'god', 'streets', 'heart', 'jungle', 'oh', 'lord', 'child', 'wo', 'nt', 'follow', 'jungle', 'oh', 'lord', 'oh', 'lord', 'oh', 'lord', 'said', 'oh', 'lord', 'said', 'oh', 'lord', 'wo', 'nt', 'follow', 'jungle', 'yeah', 'ai', 'nt', 'god', 'streets', 'heart', 'jungle', 'oh', 'lord', 'child', 'wo', 'nt', 'follow', 'jungle', 'yeah', 'ai', 'nt', 'god', 'streets', 'heart', 'jungle', 'oh', 'lord', 'child', 'wo', 'nt', 'follow', 'jungle']\n",
            "jungle\n",
            "['everything', 'changed', 'everything', 'changed', 'pouring', 'liquor', 'pouring', 'rain', 'let', 'go', 'cold', 'silent', 'stage', 'everything', 'changed', 'everything', 'changed', 'people', 'old', 'bars', 'people', 'old', 'scars', 'everything', 'changed', 'everything', 'changed', 'say', 'say', 'living', 'dark', 'long', 'long', 'time', 'see', 'better', 'night', 'baby', 'cause', 'shining', 'star', 'shining', 'shining', 'star', 'hold', 'closer', 'go', 'supernova', 'forever', 'shining', 'ever', 'shining', 'star', 'forever', 'shining', 'ever', 'shining', 'star', 'everything', 'changed', 'everything', 'changed', 'money', 'nt', 'talk', 'money', 'nt', 'rain', 'everything', 'changed', 'everything', 'changed', 'old', 'lovers', 'old', 'games', 'living', 'dark', 'long', 'long', 'time', 'sleep', 'better', 'night', 'knowing', 'shining', 'star', 'cause', 'shining', 'shining', 'star', 'hold', 'closer', 'go', 'supernova', 'forever', 'shining', 'ever', 'shining', 'star', 'ever', 'shining', 'ever', 'shining', 'star', 'see', 'longer', 'care', 'see', 'longer', 'care', 'see', 'longer', 'see', 'longer', 'care', 'see', 'longer', 'care', 'see', 'longer', 'care', 'see', 'longer', 'see', 'longer', 'care', 'see', 'longer', 'care', 'see', 'longer', 'care', 'see', 'longer', 'see', 'longer', 'care', 'see', 'longer', 'care', 'see', 'longer', 'care', 'see', 'longer', 'knowing', 'shining', 'star', 'cause', 'shining', 'shining', 'star', 'hold', 'closer', 'go', 'supernova', 'forever', 'shining', 'ever', 'shining', 'star', 'ever', 'shining', 'ever', 'shining', 'star', 'ever', 'shining', 'ever', 'shining', 'star']\n",
            "star\n",
            "['time', 'get', 'ahead', 'yeah', 'time', 'get', 'ahead', 'yeah', 'time', 'get', 'ahead', 'yeah', 'time', 'get', 'ahead', 'yeah', 'time', 'get', 'ahead', 'yeah', 'time', 'get', 'ahead', 'yeah', 'time', 'get', 'ahead', 'yeah', 'time', 'get', 'ahead', 'yeah', 'time', 'get', 'ahead', 'yeah', 'time', 'get', 'ahead', 'yeah', 'time', 'get', 'ahead', 'yeah', 'time', 'get', 'ahead', 'yeah', 'time', 'get', 'ahead', 'yeah', 'time', 'get', 'ahead', 'yeah', 'time', 'get', 'ahead', 'yeah', 'time', 'get', 'ahead', 'guess', 'went', 'ahead', 'jumped', 'gun', 'shitty', 'situation', 'put', 'know', 'poured', 'champagne', 'maybe', 'quick', 'celebrate', 'thought', 'ready', 'ready', 'someone', 'else', 'every', 'time', 'get', 'ahead', 'every', 'time', 'get', 'ahead', 'thought', 'rock', 'steady', 'nt', 'need', 'help', 'every', 'time', 'get', 'ahead', 'every', 'time', 'get', 'ahead', 'get', 'ahead', 'yeah', 'babe', 'get', 'ahead', 'yeah', 'babe', 'know', 'first', 'say', 'love', 'babe', 'moved', 'things', 'apartment', 'nd', 'street', 'thought', 'cleaned', 'slate', 'guess', 'nt', 'clean', 'away', 'thought', 'ready', 'ready', 'someone', 'else', 'every', 'time', 'get', 'ahead', 'every', 'time', 'get', 'ahead', 'thought', 'rock', 'steady', 'nt', 'need', 'help', 'every', 'time', 'get', 'ahead', 'every', 'time', 'get', 'ahead', 'get', 'ahead', 'yeah', 'babe', 'get', 'ahead', 'yeah', 'babe', 'get', 'ahead', 'yeah', 'babe', 'get', 'ahead', 'yeah', 'babe', 'yeah', 'babe', 'every', 'time', 'get', 'ahead', 'get', 'ahead', 'every', 'time', 'get', 'ahead', 'get', 'ahead', 'every', 'time', 'get', 'ahead', 'every', 'time', 'get', 'ahead', 'every', 'time', 'get', 'ahead', 'every', 'time', 'get', 'ahead', 'every', 'time', 'get', 'ahead', 'every', 'time', 'get', 'ahead', 'every', 'time', 'get', 'ahead', 'every', 'time', 'get', 'ahead', 'thought', 'ready', 'ready', 'someone', 'else', 'every', 'time', 'get', 'ahead', 'every', 'time', 'get', 'ahead', 'thought', 'rock', 'steady', 'nt', 'need', 'help', 'every', 'time', 'get', 'ahead', 'every', 'time', 'get', 'ahead', 'get', 'ahead', 'yeah', 'babe', 'get', 'ahead', 'yeah', 'baby', 'get', 'ahead', 'yeah', 'babe', 'get', 'ahead', 'yeah', 'babe', 'yeah', 'babe', 'get', 'ahead', 'get', 'ahead', 'get', 'ahead', 'get', 'ahead', 'get', 'ahead', 'get', 'ahead']\n",
            "ahead\n",
            "['run', 'away', 'lost', 'souls', 'reverie', 'running', 'wild', 'running', 'free', 'two', 'kids', 'say', 'hey', 'hey', 'hey', 'hey', 'living', 'like', 'renegades', 'hey', 'hey', 'hey', 'hey', 'hey', 'hey', 'living', 'like', 'renegades', 'renegades', 'renegades', 'long', 'live', 'pioneers', 'rebels', 'mutineers', 'go', 'forth', 'fear', 'come', 'close', 'end', 'near', 'say', 'hey', 'hey', 'hey', 'hey', 'living', 'like', 'renegades', 'hey', 'hey', 'hey', 'hey', 'hey', 'hey', 'living', 'like', 'renegades', 'renegades', 'renegades', 'hail', 'underdogs', 'hail', 'new', 'kids', 'hail', 'outlaws', 'spielberg', 'kubricks', 'time', 'make', 'move', 'time', 'make', 'amends', 'time', 'break', 'rules', 'let', 'begin', 'say', 'hey', 'hey', 'hey', 'hey', 'living', 'like', 'renegades', 'hey', 'hey', 'hey', 'hey', 'hey', 'hey', 'leaving', 'like', 'renegades', 'renegades', 'renegades']\n",
            "renegade\n",
            "['doctors', 'notes', 'swinging', 'votes', 'ca', 'nt', 'decide', 'stay', 'much', 'longer', 'surely', 'die', 'lived', 'life', 'full', 'vice', 'wwith', 'passion', 'crime', 'ca', 'nt', 'say', 'perfect', 'certainly', 'tried', 'joyful', 'joyful', 'joyful', 'happy', 'sunny', 'bright', 'joyful', 'joyful', 'joyful', 'happy', 'alive', 'one', 'left', 'one', 'except', 'demons', 'one', 'forgive', 'running', 'time', 'try', 'meet', 'fate', 'smile', 'might', 'sound', 'silly', 'still', 'try', 'joyful', 'joyful', 'joyful', 'happy', 'sunny', 'bright', 'joyful', 'joyful', 'joyful', 'happy', 'alive', 'joyful', 'joyful', 'oooh', 'oooh', 'joyful', 'joyful', 'joyful', 'joyful', 'oooh', 'oooh', 'oh', 'yeah', 'joyful', 'joyfull', 'enjoy', 'joyful', 'found', 'joy', 'joyful', 'happy', 'sunny', 'bright']\n",
            "bright\n",
            "['lately', 'thinking', 'seen', 'worst', 'seen', 'gave', 'every', 'reason', 'every', 'reason', 'get', 'leave', 'know', 'times', 'get', 'tired', 'know', 'want', 'stay', 'nt', 'stay', 'nt', 'stay', 'got', 'leave', 'need', 'nt', 'stay', 'nt', 'stay', 'baby', 'thinking', 'hurt', 'oh', 'woah', 'oh', 'woah', 'baby', 'ship', 'sinking', 'nt', 'go', 'nt', 'try', 'save', 'know', 'times', 'get', 'tired', 'know', 'want', 'stay', 'nt', 'stay', 'nt', 'stay', 'got', 'leave', 'need', 'nt', 'stay', 'nt', 'stay', 'nt', 'stay', 'nt', 'stay', 'oh', 'woah', 'oh', 'woah', 'oh', 'woah', 'oh', 'woah', 'nt', 'stay', 'got', 'leave', 'need', 'nt', 'stay', 'nt', 'stay', 'nt', 'stay', 'nt', 'stay']\n",
            "stay\n",
            "['settle', 'old', 'town', 'ego', 'settle', 'debts', 'dear', 'gps', 'lincoln', 'tunnel', 'finally', 'clear', 'goohoh', 'goohoh', 'wasteland', 'deadend', 'streets', 'call', 'home', 'wasteland', 'yeah', 'goin', 'back', 'belong', 'wasteland', 'wasteland', 'gettin', 'high', 'old', 'street', 'corner', 'sayin', 'goddammit', 'hate', 'town', 'something', 'triumphant', 'bittersweet', 'revenge', 'bout', 'comin', 'back', 'feeling', 'beat', 'goohoh', 'place', 'know', 'wasteland', 'deadend', 'streets', 'call', 'home', 'wasteland', 'yeah', 'goin', 'back', 'belong', 'wasteland', 'oh', 'wasteland']\n",
            "wasteland\n",
            "['could', 'spend', 'lifetime', 'lookin', 'something', 'waitin', 'one', 'never', 'comin', 'miles', 'miles', 'ca', 'nt', 'stop', 'runnin', 'ca', 'nt', 'stop', 'runnin', 'cause', 'best', 'see', 'imperfections', 'counting', 'debts', 'never', 'counting', 'blessings', 'always', 'reach', 'right', 'front', 'right', 'front', 'always', 'gon', 'na', 'chasing', 'shadow', 'chasing', 'shadow', 'drinkin', 'back', 'porch', 'dreamin', 'get', 'scuffin', 'white', 'vans', 'sneak', 'house', 'couple', 'kids', 'tryna', 'figure', 'actin', 'reckless', 'stupid', 'like', 'life', 'movie', 'okay', 'let', 'fastforward', 'stick', 'program', 'stickers', 'passport', 'new', 'york', 'london', 'see', 'eiffel', 'tower', 'telescope', 'watch', 'car', 'crash', 'homeless', 'man', 'said', 'know', 'well', 'know', 'chasing', 'shadow', 'chasing', 'shadow', 'wherever', 'run', 'wherever', 'go', 'ever', 'stop', 'wanting', 'chasing', 'shadow', 'power', 'lines', 'city', 'bowery', 'looks', 'pretty', 'far', 'come', 'far', 'got', 'ta', 'go', 'need', 'killin', 'killin', 'soon', 'get', 'wanted', 'want', 'anymore', 'chasing', 'shadow', 'chasing', 'shadow', 'chasin', 'wherever', 'run', 'wherever', 'go', 'ever', 'stop', 'wanting', 'chasing', 'shadow', 'chasing', 'shadow', 'chasing', 'shadow']\n",
            "shadow\n",
            "['nt', 'know', 'pray', 'bathroom', 'hopin', 'come', 'back', 'soon', 'knees', 'floor', 'prayin', 'lord', 'nt', 'know', 'nt', 'know', 'pray', 'cause', 'worthless', 'know', 'curses', 'let', 'still', 'feelin', 'guilty', 'somehow', 'go', 'oh', 'god', 'oh', 'god', 'oh', 'god', 'oh', 'god', 'oh', 'god', 'ask', 'favor', 'know', 'know', 'never', 'spoken', 'hope', 'hear', 'oh', 'lord', 'please', 'let', 'brother', 'live', 'let', 'learn', 'forgive', 'bad', 'things', 'happen', 'good', 'people', 'guess', 'amen', 'god', 'said—', 'definitely', 'person', 'kid', 'come', 'back', 'full', 'circle', 'sort', 'started', 'become', 'comfortable', 'less', 'trying', 'something', 'someone', 'right', 'yeah', 'guess', 'kinda', 'basis', 'like', 'part', 'struggle', 'kid', 'like', 'trying—feeling', 'like', 'nt', 'know', 'feel', 'like', 'running', 'everything', 'feel', 'like', 'twenties', 'one', 'biggest', 'struggles', 'know', 'finding', 'love']\n",
            "love\n",
            "['said', 'piece', 'said', 'left', 'say', 'still', 'blood', 'cheeks', 'eyes', 'look', 'like', 'miles', 'away', 'hope', 'remember', 'moment', 'forever', 'friend', 'wake', 'alone', 'ai', 'nt', 'comin', 'home', 'history', 'history', 'wish', 'best', 'nt', 'regret', 'used', 'history', 'looked', 'eyes', 'lie', 'right', 'face', 'see', 'disguise', 'yet', 'still', 'take', 'bait', 'used', 'comrades', 'arms', 'side', 'side', 'got', 'love', 'baby', 'love', 'ai', 'nt', 'enough', 'time', 'cause', 'history', 'history', 'wish', 'best', 'nt', 'regret', 'used', 'history', 'oh', 'ca', 'nt', 'come', 'back', 'come', 'back', 'side', 'comin', 'back', 'comin', 'back', 'comin', 'back', 'comin', 'back', 'history', 'history', 'history', 'wo', 'nt', 'forget', 'regrets', 'ooh', 'ooh', 'ooh']\n",
            "ooh\n",
            "['ca', 'nt', 'get', 'grip', 'feeling', 'like', 'always', 'losing', 'control', 'nobody', 'leaves', 'game', 'alive', 'please', 'babe', 'beg', 'nt', 'fck', 'fractured', 'soul', 'million', 'pieces', 'nobody', 'breaks', 'second', 'time', 'swear', 'idea', 'would', 'change', 'clear', 'could', 'nt', 'conquer', 'fears', 'love', 'ca', 'nt', 'lose', 'ca', 'nt', 'learn', 'glow', 'love', 'ca', 'nt', 'rule', 'learn', 'let', 'rule', 'rule', 'faithfully', 'rule', 'rule', 'balanced', 'brink', 'insanity', 'walking', 'line', 'life', 'fantasy', 'need', 'get', 'free', 'ghosts', 'need', 'get', 'free', 'ghosts', 'brick', 'brick', 'build', 'barricade', 'protected', 'making', 'mistakes', 'good', 'letting', 'go', 'good', 'letting', 'go', 'question', 'take', 'risk', 'let', 'somebody', 'inside', 'love', 'ca', 'nt', 'lose', 'ca', 'nt', 'learn', 'glow', 'love', 'ca', 'nt', 'rule', 'learn', 'let', 'rule', 'rule', 'faithfully', 'rule', 'rule', 'rule', 'knees', 'rule', 'rule', 'feeling', 'judge', 'feeling', 'one', 'gets', 'tense', 'judge', 'intensity', 'reaction', 'fear']\n",
            "fear\n",
            "['woah', 'oh', 'woah', 'oh', 'woah', 'oh', 'woah', 'oh', 'mama', 'nt', 'sleep', 'well', 'worries', 'bout', 'kids', 'night', 'kids', 'nt', 'eat', 'well', 'worry', 'bout', 'mama', 'hustle', 'side', 'daddy', 'workin', 'three', 'jobs', 'sweat', 'keeps', 'drippin', 'buffalo', 'sunshine', 'drives', 'car', 'promises', 'someday', 'mama', 'right', 'fine', 'get', 'feet', 'solid', 'ground', 'sometimes', 'feels', 'like', 'quicksand', 'quicksand', 'pullin', 'fine', 'get', 'feet', 'solid', 'ground', 'sometimes', 'feels', 'like', 'quicksand', 'quicksand', 'pullin', 'sister', 'got', 'new', 'car', 'new', 'friends', 'got', 'money', 'bank', 'every', 'day', 'works', 'hard', 'plays', 'hard', 'baby', 'knows', 'drink', 'brother', 'bad', 'place', 'takes', 'prescriptions', 'pain', 'keep', 'demons', 'bay', 'drives', 'car', 'promises', 'someday', 'brother', 'right', 'fine', 'get', 'feet', 'solid', 'ground', 'sometimes', 'feels', 'like', 'quicksand', 'quicksand', 'pullin', 'fine', 'get', 'feet', 'solid', 'ground', 'sometimes', 'feels', 'like', 'quicksand', 'quicksand', 'pullin', 'woah', 'oh', 'pullin', 'woah', 'oh', 'sometimes', 'feels', 'like', 'quicksand', 'woah', 'oh', 'quicksand', 'pullin', 'every', 'day', 'pray', 'pray', 'feel', 'like', 'rain', 'always', 'stayin', 'every', 'day', 'pray', 'pray', 'pray', 'find', 'way', 'every', 'day', 'pray', 'pray', 'feel', 'like', 'rain', 'always', 'stayin', 'every', 'day', 'pray', 'pray', 'got', 'ta', 'find', 'escape', 'fine', 'get', 'feet', 'solid', 'ground', 'sometimes', 'feels', 'like', 'quicksand', 'quicksand', 'pullin', 'fine', 'get', 'feet', 'solid', 'ground', 'sometimes', 'feels', 'like', 'quicksand', 'quicksand', 'pullin', 'woahoh', 'pullin', 'woahoh', 'sometimes', 'feels', 'like', 'quicksand', 'woahoh', 'quicksand', 'pullin', 'woahoh', 'pullin', 'woahoh', 'sometimes', 'feels', 'like', 'quicksand', 'woahoh', 'quicksand', 'pullin']\n",
            "pullin\n",
            "['make', 'lose', 'confidence', 'yeah', 'make', 'lose', 'confidence', 'confidence', 'bold', 'lion', 'tony', 'tiger', 'confidence', 'wavers', 'walk', 'room', 'nt', 'know', 'coooooold', 'oooooover', 'ohooooooh', 'baby', 'make', 'lose', 'confidence', 'make', 'lose', 'confidence', 'confidence', 'make', 'lose', 'confidence', 'usually', 'cool', 'got', 'balance', 'usually', 'loud', 'got', 'silent', 'look', 'eyes', 'cut', 'size', 'usually', 'strong', 'acting', 'like', 'thirteen', 'baby', 'see', 'see', 'hurts', 'look', 'eyes', 'feel', 'like', 'could', 'die', 'coooooold', 'oooooover', 'ohooooooh', 'baby', 'make', 'lose', 'confidence', 'make', 'lose', 'confidence', 'confidence', 'make', 'lose', 'confidence', 'make', 'lose', 'confidence', 'confidence', 'cold', 'cold', 'look', 'eyes', 'lose', 'disguise', 'cold', 'cold', 'look', 'eyes', 'make', 'lose', 'confidence', 'make', 'lose', 'confidence', 'confidence', 'make', 'lose', 'confidence', 'make', 'lose', 'make', 'lose', 'confidence', 'confidence', 'make', 'lose', 'confidence', 'confidence']\n",
            "confidence\n",
            "['last', 'ones', 'dancing', 'lights', 'go', 'one', 'hold', 'still', 'hold', 'last', 'ones', 'dancing', 'faceless', 'crowd', 'one', 'hold', 'still', 'hold', 'still', 'hold', 'nt', 'talk', 'speak', 'loudly', 'smile', 'eyes', 'look', 'cloudy', 'say', 'someone', 'left', 'broken', 'door', 'wide', 'open', 'matter', 'matter', 'highs', 'highs', 'lows', 'sure', 'go', 'war', 'go', 'war', 'last', 'ones', 'dancing', 'lights', 'go', 'one', 'hold', 'still', 'hold', 'last', 'ones', 'dancing', 'faceless', 'crowd', 'one', 'hold', 'still', 'hold', 'still', 'hold', 'hold', 'oohooh', 'oohooh', 'hold', 'oohooh', 'hold', 'find', 'party', 'ride', 'home', 'head', 'shoulder', 'last', 'night', 'rear', 'view', 'mirror', 'wake', 'still', 'right', 'matter', 'matter', 'highs', 'highs', 'lows', 'sure', 'go', 'war', 'go', 'war', 'last', 'ones', 'dancing', 'lights', 'go', 'one', 'hold', 'still', 'hold', 'last', 'ones', 'dancing', 'faceless', 'crowd', 'one', 'hold', 'still', 'hold', 'still', 'hold', 'hold', 'oohooh', 'oohooh', 'hold', 'oohooh', 'hold', 'hold', 'anytime', 'fall', 'oohooh', 'oohooh', 'pick', 'oohooh', 'yeah', 'hold', 'last', 'ones', 'dancing', 'lights', 'go', 'one', 'hold', 'still', 'hold', 'last', 'ones', 'dancing', 'faceless', 'crowd', 'one', 'hold', 'still', 'hold', 'still', 'hold']\n",
            "hold\n",
            "['cutting', 'ties', 'wo', 'nt', 'baptize', 'cause', 'life', 'sometimes', 'got', 'knees', 'prayin', 'redemption', 'learned', 'lessons', 'pain', 'therapy', 'cutting', 'ties', 'wo', 'nt', 'baptize', 'woah', 'set', 'free', 'mmm', 'set', 'free', 'mmm', 'set', 'free', 'mmm', 'set', 'free', 'wading', 'water', 'wo', 'nt', 'capsize', 'roll', 'dice', 'give', 'snake', 'eyes', 'please', 'praying', 'savior', 'good', 'behavior', 'pain', 'remedy', 'waiting', 'somebody', 'come', 'rescue', 'oh', 'cutting', 'ties', 'wo', 'nt', 'baptize', 'cause', 'life', 'sometimes', 'got', 'knees', 'prayin', 'redemption', 'learned', 'lessons', 'pain', 'therapy', 'cutting', 'ties', 'wo', 'nt', 'baptize', 'woah', 'set', 'free', 'mmm', 'woah', 'set', 'free', 'mmm', 'woah', 'come', 'set', 'free', 'woah', 'wo', 'nt', 'set', 'free', 'yeah', 'set', 'free', 'wash', 'clean', 'set', 'free', 'strip', 'fears', 'wash', 'clean', 'set', 'free', 'drown', 'tears', 'wash', 'clean', 'set', 'free', 'strip', 'fears', 'shaken', 'ones', 'runnin', 'drowning', 'enough', 'wash', 'clean', 'set', 'free', 'drown', 'tears', 'shaken', 'ones', 'runnin', 'drowning', 'enough', 'cutting', 'ties', 'wo', 'nt', 'baptize', 'wo', 'nt', 'baptize', 'cause', 'life', 'sometimes', 'got', 'knees', 'got', 'knees', 'prayin', 'redemption', 'learned', 'lessons', 'pain', 'therapy', 'cutting', 'ties', 'wo', 'nt', 'baptize', 'woah', 'set', 'free', 'mmm', 'woah', 'set', 'free', 'mmm', 'woah', 'wo', 'nt', 'set', 'free', 'come', 'set', 'free', 'mmm', 'wo', 'nt', 'set', 'free', 'yeah', 'set', 'free', 'ohoh', 'oh', 'ohoh', 'ohoh', 'oh', 'ohoh', 'ohoh', 'oh', 'ohoh', 'ohoh', 'oh', 'ohoh', 'ohoh', 'oh']\n",
            "oh\n",
            "['feet', 'go', 'boom', 'boom', 'boom', 'boom', 'boom', 'boom', 'boom', 'boom', 'boom', 'heart', 'beats', 'boom', 'boom', 'boom', 'boom', 'boom', 'boom', 'boom', 'boom', 'boom', 'high', 'speed', 'go', 'zoom', 'zoom', 'zoom', 'zoom', 'zoom', 'zoom', 'zoom', 'zoom', 'zoom', 'feet', 'go', 'boom', 'boom', 'boom', 'walkin', 'away', 'gon', 'na', 'got', 'old', 'shoes', 'new', 'attitude', 'would', 'sing', 'blues', 'said', 'hey', 'uh', 'huh', 'ca', 'nt', 'stop', 'cause', 'pain', 'uh', 'huh', 'gasoline', 'ooh', 'ca', 'nt', 'wait', 'nobody', 'break', 'heart', 'boom', 'boom', 'boom', 'feet', 'go', 'boom', 'boom', 'boom', 'boom', 'boom', 'boom', 'boom', 'boom', 'boom', 'heart', 'beats', 'boom', 'boom', 'boom', 'boom', 'boom', 'boom', 'boom', 'boom', 'boom', 'high', 'speed', 'go', 'zoom', 'zoom', 'zoom', 'zoom', 'zoom', 'zoom', 'zoom', 'zoom', 'zoom', 'feet', 'go', 'boom', 'boom', 'boom', 'walkin', 'away', 'gon', 'na', 'got', 'new', 'tattoo', 'nt', 'know', 'tell', 'got', 'nothing', 'left', 'prove', 'said', 'hey', 'uh', 'huh', 'ca', 'nt', 'stop', 'cause', 'pain', 'uh', 'huh', 'gasoline', 'ooh', 'ca', 'nt', 'wait', 'nobody', 'break', 'heart', 'boom', 'boom', 'boom', 'hold', 'going', 'going', 'going', 'going', 'gone', 'cause', 'big', 'storm', 'coming', 'coming', 'coming', 'coming', 'hold', 'going', 'going', 'going', 'going', 'gone', 'cause', 'big', 'storm', 'coming', 'coming', 'coming', 'coming', 'coming', 'coming', 'coming', 'coming', 'coming', 'coming', 'coming', 'coming', 'boom', 'boom', 'boom', 'feet', 'go', 'boom', 'boom', 'boom', 'boom', 'boom', 'boom', 'boom', 'boom', 'boom', 'heart', 'beats', 'boom', 'boom', 'boom', 'boom', 'boom', 'boom', 'boom', 'boom', 'boom', 'high', 'speed', 'go', 'zoom', 'zoom', 'zoom', 'zoom', 'zoom', 'zoom', 'zoom', 'zoom', 'zoom', 'feet', 'go', 'boom', 'boom', 'boom', 'walkin', 'away']\n",
            "away\n",
            "['never', 'seen', 'mona', 'lisa', 'close', 'seen', 'perfection', 'clothes', 'yeah', 'fell', 'love', 'built', 'home', 'though', 'may', 'never', 'see', 'streets', 'rome', 'hope', 'okay', 'cause', 'unknown', 'way', 'die', 'arms', 'right', 'supposed', 'know', 'afraid', 'long', 'next', 'tell', 'hold', 'curtains', 'close', 'died', 'arms', 'right', 'supposed', 'yeah', 'may', 'never', 'sleep', 'northern', 'lights', 'seen', 'stars', 'flicker', 'eyes', 'hope', 'okay', 'okay', 'cause', 'unknown', 'way', 'died', 'arms', 'right', 'supposed', 'know', 'afraid', 'long', 'next', 'tell', 'hold', 'curtains', 'close', 'died', 'arms', 'right', 'supposed', 'okay', 'okay', 'died', 'arms', 'right', 'supposed', 'okay', 'okay', 'lay', 'ground', 'hometown', 'girl', 'never', 'leave', 'feels', 'like', 'seen', 'whole', 'world', 'thousand', 'cheers', 'tears', 'parents', 'roof', 'forget', 'fears', 'every', 'time', 'along', 'needed', 'swear', 'scared', 'died', 'arms', 'right', 'supposed', 'know', 'afraid', 'long', 'next', 'tell', 'tell', 'hold', 'curtains', 'close', 'died', 'arms', 'right', 'supposed', 'died']\n",
            "died\n"
          ],
          "name": "stdout"
        }
      ]
    },
    {
      "cell_type": "code",
      "metadata": {
        "id": "doUfMphSY8iR",
        "colab_type": "code",
        "colab": {
          "base_uri": "https://localhost:8080/",
          "height": 545
        },
        "outputId": "b03eb3b4-7fde-4dfe-b04e-a96579329ac7"
      },
      "source": [
        "cp\n"
      ],
      "execution_count": 9,
      "outputs": [
        {
          "output_type": "execute_result",
          "data": {
            "text/html": [
              "<div>\n",
              "<style scoped>\n",
              "    .dataframe tbody tr th:only-of-type {\n",
              "        vertical-align: middle;\n",
              "    }\n",
              "\n",
              "    .dataframe tbody tr th {\n",
              "        vertical-align: top;\n",
              "    }\n",
              "\n",
              "    .dataframe thead th {\n",
              "        text-align: right;\n",
              "    }\n",
              "</style>\n",
              "<table border=\"1\" class=\"dataframe\">\n",
              "  <thead>\n",
              "    <tr style=\"text-align: right;\">\n",
              "      <th></th>\n",
              "      <th>0</th>\n",
              "      <th>1</th>\n",
              "    </tr>\n",
              "  </thead>\n",
              "  <tbody>\n",
              "    <tr>\n",
              "      <th>0</th>\n",
              "      <td>Yellow</td>\n",
              "      <td>[['Look', 'at', 'the', 'stars', 'Look', 'how',...</td>\n",
              "    </tr>\n",
              "    <tr>\n",
              "      <th>1</th>\n",
              "      <td>Viva La Vida</td>\n",
              "      <td>[['I', 'used', 'to', 'rule', 'the', 'world', '...</td>\n",
              "    </tr>\n",
              "    <tr>\n",
              "      <th>2</th>\n",
              "      <td>In My Place</td>\n",
              "      <td>[['In', 'my', 'place', ',', 'in', 'my', 'place...</td>\n",
              "    </tr>\n",
              "    <tr>\n",
              "      <th>3</th>\n",
              "      <td>God Put A Smile Upon Your Face</td>\n",
              "      <td>[['Where', 'do', 'we', 'go', 'nobody', 'knows'...</td>\n",
              "    </tr>\n",
              "    <tr>\n",
              "      <th>4</th>\n",
              "      <td>Princess of China</td>\n",
              "      <td>[['Oh', 'Once', 'upon', 'a', 'time', 'somebody...</td>\n",
              "    </tr>\n",
              "    <tr>\n",
              "      <th>5</th>\n",
              "      <td>Up in Flames</td>\n",
              "      <td>[['So', 'it', \"'s\", 'over', ',', 'This', 'time...</td>\n",
              "    </tr>\n",
              "    <tr>\n",
              "      <th>6</th>\n",
              "      <td>Charlie Brown</td>\n",
              "      <td>[['Stole', 'a', 'key', 'Took', 'a', 'car', 'do...</td>\n",
              "    </tr>\n",
              "    <tr>\n",
              "      <th>7</th>\n",
              "      <td>Paradise</td>\n",
              "      <td>[['When', 'she', 'was', 'just', 'a', 'girl', '...</td>\n",
              "    </tr>\n",
              "    <tr>\n",
              "      <th>8</th>\n",
              "      <td>Us Against the World</td>\n",
              "      <td>[['Oh', 'morning', 'come', 'bursting', ',', 't...</td>\n",
              "    </tr>\n",
              "    <tr>\n",
              "      <th>9</th>\n",
              "      <td>Clocks</td>\n",
              "      <td>[['The', 'lights', 'go', 'out', 'and', 'I', 'c...</td>\n",
              "    </tr>\n",
              "    <tr>\n",
              "      <th>10</th>\n",
              "      <td>The Scientist</td>\n",
              "      <td>[['Come', 'up', 'to', 'meet', 'you', 'Tell', '...</td>\n",
              "    </tr>\n",
              "    <tr>\n",
              "      <th>11</th>\n",
              "      <td>Up &amp; Up</td>\n",
              "      <td>[['Fixing', 'up', 'a', 'car', 'to', 'drive', '...</td>\n",
              "    </tr>\n",
              "    <tr>\n",
              "      <th>12</th>\n",
              "      <td>Something Just Like This</td>\n",
              "      <td>[['I', \"'ve\", 'been', 'reading', 'books', 'of'...</td>\n",
              "    </tr>\n",
              "    <tr>\n",
              "      <th>13</th>\n",
              "      <td>A Sky Full of Stars</td>\n",
              "      <td>[[\"'Cause\", 'you', \"'re\", 'a', 'sky', ',', \"'c...</td>\n",
              "    </tr>\n",
              "    <tr>\n",
              "      <th>14</th>\n",
              "      <td>Every Teardrop is a Waterfall</td>\n",
              "      <td>[['I', 'turn', 'the', 'music', 'up', ',', 'I',...</td>\n",
              "    </tr>\n",
              "    <tr>\n",
              "      <th>15</th>\n",
              "      <td>Adventure Of A Lifetime [Live]</td>\n",
              "      <td>[['Turn', 'your', 'magic', 'on', ',', 'to', 'm...</td>\n",
              "    </tr>\n",
              "  </tbody>\n",
              "</table>\n",
              "</div>"
            ],
            "text/plain": [
              "                                 0                                                  1\n",
              "0                           Yellow  [['Look', 'at', 'the', 'stars', 'Look', 'how',...\n",
              "1                     Viva La Vida  [['I', 'used', 'to', 'rule', 'the', 'world', '...\n",
              "2                      In My Place  [['In', 'my', 'place', ',', 'in', 'my', 'place...\n",
              "3   God Put A Smile Upon Your Face  [['Where', 'do', 'we', 'go', 'nobody', 'knows'...\n",
              "4                Princess of China  [['Oh', 'Once', 'upon', 'a', 'time', 'somebody...\n",
              "5                     Up in Flames  [['So', 'it', \"'s\", 'over', ',', 'This', 'time...\n",
              "6                    Charlie Brown  [['Stole', 'a', 'key', 'Took', 'a', 'car', 'do...\n",
              "7                         Paradise  [['When', 'she', 'was', 'just', 'a', 'girl', '...\n",
              "8             Us Against the World  [['Oh', 'morning', 'come', 'bursting', ',', 't...\n",
              "9                           Clocks  [['The', 'lights', 'go', 'out', 'and', 'I', 'c...\n",
              "10                   The Scientist  [['Come', 'up', 'to', 'meet', 'you', 'Tell', '...\n",
              "11                         Up & Up  [['Fixing', 'up', 'a', 'car', 'to', 'drive', '...\n",
              "12        Something Just Like This  [['I', \"'ve\", 'been', 'reading', 'books', 'of'...\n",
              "13             A Sky Full of Stars  [[\"'Cause\", 'you', \"'re\", 'a', 'sky', ',', \"'c...\n",
              "14   Every Teardrop is a Waterfall  [['I', 'turn', 'the', 'music', 'up', ',', 'I',...\n",
              "15  Adventure Of A Lifetime [Live]  [['Turn', 'your', 'magic', 'on', ',', 'to', 'm..."
            ]
          },
          "metadata": {
            "tags": []
          },
          "execution_count": 9
        }
      ]
    },
    {
      "cell_type": "code",
      "metadata": {
        "id": "OMcrQRcPUtbC",
        "colab_type": "code",
        "colab": {
          "base_uri": "https://localhost:8080/",
          "height": 569
        },
        "outputId": "c32e0298-e0e1-44fa-93c3-a75edf364432"
      },
      "source": [
        "for i in range(0,14):\n",
        "    song=cp.iloc[i,1]\n",
        "    text=re.sub(r'\\d+','',song)#removing numbers\n",
        "\n",
        "\n",
        "    #lowercasing\n",
        "    text_lower=text.lower()\n",
        "\n",
        "    #punctuation removal \n",
        "    def  remove_punctuation(word): #function will take in the lowercased text and then remove all the punctuation\n",
        "        translator=str.maketrans('','',string.punctuation)\n",
        "        text_punct=word.translate(translator)\n",
        "        return text_punct\n",
        "    result=remove_punctuation(text_lower) #storing the resulting body of  text in variable result\n",
        "\n",
        "    #removing stopwords \n",
        "    def remove_stopwords(word):#The function will   tokenize the result and then filter off  the stop_words \n",
        "        stop_words=set(stopwords.words(\"english\")) \n",
        "        word_tokens= word_tokenize(word)\n",
        "        result=[ word for word in word_tokens if word not in stop_words ]\n",
        "        return result\n",
        "    song=remove_stopwords(result)\n",
        "    print(song)\n",
        "\n",
        "    #lemmatization\n",
        "    lemmatizer=WordNetLemmatizer()\n",
        "    for word in song :\n",
        "        cp_songs=lemmatizer.lemmatize(word)\n",
        "    print(cp_songs)\n"
      ],
      "execution_count": 11,
      "outputs": [
        {
          "output_type": "stream",
          "text": [
            "['look', 'stars', 'look', 'shine', 'everything', 'yeah', 'yellow', 'came', 'along', 'wrote', 'song', 'things', 'called', 'yellow', 'took', 'turn', 'oh', 'thing', 'done', 'yellow', 'skin', 'oh', 'yeah', 'skin', 'bones', 'turn', 'something', 'beautiful', 'know', 'know', 'love', 'know', 'love', 'swam', 'across', 'jumped', 'across', 'oh', 'thing', 'cause', 'yellow', 'drew', 'line', 'drew', 'line', 'oh', 'thing', 'yellow', 'skin', 'oh', 'yeah', 'skin', 'bones', 'turn', 'something', 'beautiful', 'know', 'bleed', 'dry', 'bleed', 'dry', 'true', 'look', 'shine', 'look', 'shine', 'look', 'shine', 'look', 'shine', 'look', 'shine', 'look', 'shine', 'look', 'stars', 'look', 'shine', 'things']\n",
            "thing\n",
            "['used', 'rule', 'world', 'seas', 'would', 'rise', 'gave', 'word', 'morning', 'sleep', 'alone', 'sweep', 'streets', 'used', 'used', 'roll', 'dice', 'feel', 'fear', 'enemy', 'eyes', 'listen', 'crowd', 'would', 'sing', 'old', 'king', 'dead', 'long', 'live', 'king', 'one', 'minute', 'held', 'key', 'next', 'walls', 'closed', 'discovered', 'castles', 'stand', 'upon', 'pillars', 'salt', 'pillars', 'sand', 'hear', 'jerusalem', 'bells', 'ringing', 'roman', 'cavalry', 'choirs', 'singing', 'mirror', 'sword', 'shield', 'missionaries', 'foreign', 'field', 'reason', 'ca', 'nt', 'explain', 'go', 'never', 'never', 'honest', 'word', 'ruled', 'world', 'wicked', 'wild', 'wind', 'blew', 'doors', 'let', 'shattered', 'windows', 'sound', 'drums', 'people', 'could', 'nt', 'believe', 'become', 'revolutionaries', 'wait', 'head', 'silver', 'plate', 'puppet', 'lonely', 'string', 'oh', 'would', 'ever', 'want', 'king', 'hear', 'jerusalem', 'bells', 'ringing', 'roman', 'calvary', 'choirs', 'singing', 'mirror', 'sword', 'shield', 'missionaries', 'foreign', 'field', 'reason', 'ca', 'nt', 'explain', 'know', 'saint', 'peter', 'wo', 'nt', 'call', 'name', 'never', 'honest', 'word', 'ruled', 'world', 'oh', 'oh', 'oh', 'oh', 'oh', 'oh', 'oh', 'oh', 'oh', 'oh', 'oh', 'oh', 'oh', 'oh', 'oh', 'oh', 'oh', 'oh', 'oh', 'oh', 'oh', 'oh', 'oh', 'oh', 'oh', 'hear', 'jerusalem', 'bells', 'ringing', 'roman', 'calvary', 'choirs', 'singing', 'mirror', 'sword', 'shield', 'missionaries', 'foreign', 'field', 'reason', 'ca', 'nt', 'explain', 'know', 'saint', 'peter', 'wo', 'nt', 'call', 'name', 'never', 'honest', 'word', 'ruled', 'world']\n",
            "world\n",
            "['place', 'place', 'lines', 'could', 'nt', 'change', 'lost', 'oh', 'yeah', 'lost', 'lost', 'crossed', 'lines', 'nt', 'crossed', 'lost', 'oh', 'yeah', 'yeah', 'long', 'must', 'wait', 'yeah', 'long', 'must', 'pay', 'yeah', 'long', 'must', 'wait', 'oh', 'scared', 'scared', 'tired', 'prepared', 'wait', 'go', 'go', 'leave', 'wait', 'yeah', 'yeah', 'long', 'must', 'wait', 'yeah', 'long', 'must', 'pay', 'yeah', 'long', 'must', 'wait', 'oh', 'sing', 'please', 'please', 'please', 'come', 'back', 'sing', 'come', 'sing', 'come', 'sing', 'come', 'back', 'sing', 'place', 'place', 'lines', 'could', 'nt', 'change', 'lost', 'oh', 'yeah', 'oh', 'yeah']\n",
            "yeah\n",
            "['go', 'nobody', 'knows', 'got', 'ta', 'say', 'way', 'god', 'give', 'style', 'give', 'grace', 'god', 'put', 'smile', 'upon', 'face', 'go', 'draw', 'line', 'got', 'ta', 'say', 'wasted', 'time', 'honey', 'honey', 'go', 'fall', 'grace', 'god', 'put', 'smile', 'upon', 'face', 'yeah', 'work', 'worse', 'yeah', 'work', 'wanted', 'work', 'draw', 'line', 'guess', 'good', 'mine', 'go', 'nobody', 'knows', 'nt', 'ever', 'say', 'way', 'god', 'gave', 'style', 'gave', 'grace', 'put', 'smile', 'upon', 'face', 'ah', 'yeah', 'work', 'worse', 'yeah', 'work', 'wanted', 'work', 'draw', 'line', 'guess', 'good', 'mine', 'good', 'mine', 'good', 'mine', 'good', 'mine', 'good', 'mine', 'good', 'mine', 'good', 'mine', 'good', 'mine', 'go', 'nobody', 'knows', 'nt', 'ever', 'say', 'way', 'god', 'gave', 'style', 'gave', 'grace', 'put', 'smile', 'upon', 'face']\n",
            "face\n",
            "['oh', 'upon', 'time', 'somebody', 'ran', 'somebody', 'ran', 'away', 'saying', 'fast', 'got', 'go', 'got', 'go', 'upon', 'time', 'fell', 'apart', 'holding', 'hands', 'two', 'halves', 'heart', 'oh', 'oh', 'oh', 'upon', 'time', 'burned', 'bright', 'ever', 'seem', 'fight', 'upon', 'time', 'side', 'upon', 'time', 'side', 'game', 'go', 'go', 'throw', 'water', 'flame', 'could', 'princess', 'king', 'could', 'castle', 'worn', 'ring', 'let', 'go', 'could', 'princess', 'king', 'could', 'castle', 'worn', 'ring', 'let', 'go', 'stole', 'star', 'la', 'la', 'la', 'la', 'la', 'la', 'la', 'la', 'stole', 'star', 'la', 'la', 'la', 'la', 'la', 'la', 'ohoh', 'oh', 'oh', 'oh', 'oh', 'oh', 'oh', 'ohoh', 'oh', 'oh', 'oh', 'oh', 'oh', 'oh', 'cause', 'really', 'hurt', 'really', 'hurt', 'cause', 'really', 'hurt', 'really', 'hurt', 'cause', 'really', 'hurt', 'oh', 'really', 'hurt', 'oh', 'cause', 'really', 'hurt', 'oh', 'really', 'hurt']\n",
            "hurt\n",
            "['time', 'know', 'gone', 'salt', 'water', 'tasted', 'long', 'know', 'wrong', 'know', 'gone', 'flames', 'flames', 'flames', 'slowly', 'gone', 'time', 'flying', 'time', 'know', 'song', 'stop', 'slowly', 'burn', 'stop', 'slowly', 'gone', 'flames', 'flames', 'flames', 'slowly', 'gone', 'flames', 'flames', 'flames', 'slowly', 'gone', 'oh', 'slowly', 'gone', 'pour', 'water']\n",
            "water\n",
            "['stole', 'key', 'took', 'car', 'downtown', 'lost', 'boys', 'meet', 'took', 'car', 'downtown', 'took', 'offered', 'set', 'free', 'saw', 'lights', 'go', 'end', 'scene', 'saw', 'lights', 'go', 'standing', 'front', 'scarecrow', 'dreams', 'smashed', 'heart', 'smithereens', 'bright', 'red', 'rose', 'come', 'bursting', 'concrete', 'cartoon', 'heart', 'light', 'fire', 'fire', 'spark', 'light', 'fire', 'flame', 'heart', 'run', 'riot', 'glowing', 'dark', 'glowing', 'dark', 'boys', 'girls', 'matters', 'world', 'boys', 'girls', 'matters', 'occurs', 'highs', 'lows', 'room', 'aspinning', 'goes', 'run', 'riot', 'glowing', 'dark', 'ooh', 'ooh', 'ooh', 'soar', 'luminous', 'wired', 'glowing', 'dark']\n",
            "dark\n",
            "['girl', 'expected', 'world', 'flew', 'away', 'reach', 'ran', 'away', 'sleep', 'dreamed', 'paraparaparadise', 'paraparaparadise', 'paraparaparadise', 'every', 'time', 'closed', 'eyes', 'girl', 'expected', 'world', 'flew', 'away', 'reach', 'bullets', 'catch', 'teeth', 'life', 'goes', 'gets', 'heavy', 'wheel', 'breaks', 'butterfly', 'every', 'tear', 'waterfall', 'night', 'stormy', 'night', 'close', 'eyes', 'night', 'stormy', 'night', 'away', 'fly', 'dream', 'paraparaparadise', 'paraparaparadise', 'paraparaparadise', 'oh', 'oh', 'oh', 'oh', 'oh', 'oh', 'oh', 'oh', 'dream', 'paraparaparadise', 'paraparaparadise', 'paraparaparadise', 'oh', 'oh', 'oh', 'oh', 'oh', 'oh', 'oh', 'oh', 'sing', 'la', 'la', 'la', 'la', 'la', 'la', 'la', 'la', 'la', 'la', 'la', 'la', 'la', 'la', 'la', 'la', 'lying', 'underneath', 'stormy', 'skies', 'say', 'oh', 'oh', 'oh', 'oh', 'oh', 'oh', 'know', 'sun', 'must', 'set', 'rise', 'could', 'paraparaparadise', 'paraparaparadise', 'could', 'paraparaparadise', 'oh', 'oh', 'oh', 'oh', 'oh', 'oh', 'oh', 'oh', 'could', 'paraparaparadise', 'paraparaparadise', 'could', 'paraparaparadise', 'oh', 'oh', 'oh', 'oh', 'oh', 'oh', 'oh', 'oh', 'could', 'paraparaparadise', 'paraparaparadise', 'could', 'paraparaparadise', 'oh', 'oh', 'oh', 'oh', 'oh', 'oh', 'oh', 'oh', 'could', 'para', 'paradise', 'paraparadise', 'paraparadise', 'oh', 'oh', 'oh', 'oh', 'oh', 'oh', 'oh', 'oh', 'could', 'para', 'paradise', 'paraparadise', 'paraparadise', 'oh', 'oh', 'oh', 'oh', 'oh', 'oh', 'oh', 'oh']\n",
            "oh\n",
            "['oh', 'morning', 'come', 'bursting', 'clouds', 'amen', 'lift', 'blindfold', 'let', 'see', 'bring', 'back', 'water', 'let', 'ships', 'roll', 'heart', 'left', 'hole', 'tightrope', 'walking', 'sways', 'ties', 'devil', 'talking', 'angel', 'eyes', 'want', 'lightning', 'strikes', 'saints', 'go', 'marching', 'sing', 'slow', 'chaos', 'swirls', 'us', 'world', 'like', 'river', 'raindrop', 'lost', 'friend', 'drunken', 'daniel', 'lion', 'den', 'tonight', 'know', 'begin', 'whatever', 'nt', 'let', 'go', 'could', 'float', 'away', 'fly', 'surface', 'start', 'lift', 'trouble', 'erodes', 'us', 'rain', 'erodes', 'us', 'rain', 'erodes', 'us', 'see', 'roses', 'rain', 'sing', 'slow', 'slow', 'chaos', 'swirls', 'us', 'world', 'chaos', 'swirls', 'us', 'world']\n",
            "world\n",
            "['lights', 'go', 'ca', 'nt', 'saved', 'tides', 'tried', 'swim', 'brought', 'upon', 'knees', 'oh', 'beg', 'beg', 'plead', 'singing', 'come', 'things', 'unsaid', 'shoot', 'apple', 'head', 'trouble', 'ca', 'nt', 'named', 'tiger', 'waiting', 'tamed', 'singing', 'confusion', 'never', 'stops', 'closing', 'walls', 'ticking', 'clocks', 'gon', 'na', 'come', 'back', 'take', 'home', 'could', 'stop', 'know', 'singing', 'come', 'upon', 'seas', 'cursed', 'missed', 'opportunities', 'part', 'cure', 'part', 'disease', 'singing', 'nothing', 'else', 'compares', 'nothing', 'else', 'compares', 'nothing', 'else', 'compares', 'home', 'home', 'wanted', 'go', 'home', 'home', 'wanted', 'go', 'home', 'home', 'wanted', 'go', 'home', 'home', 'wanted', 'go']\n",
            "go\n",
            "['come', 'meet', 'tell', 'sorry', 'nt', 'know', 'lovely', 'find', 'tell', 'need', 'tell', 'set', 'apart', 'tell', 'secrets', 'ask', 'questions', 'oh', 'let', 'go', 'back', 'start', 'running', 'circles', 'coming', 'tails', 'heads', 'science', 'apart', 'nobody', 'said', 'easy', 'shame', 'us', 'part', 'nobody', 'said', 'easy', 'one', 'ever', 'said', 'would', 'hard', 'oh', 'take', 'back', 'start', 'guessing', 'numbers', 'figures', 'pulling', 'puzzles', 'apart', 'questions', 'science', 'science', 'progress', 'speak', 'loud', 'heart', 'tell', 'love', 'come', 'back', 'haunt', 'oh', 'rush', 'start', 'running', 'circles', 'chasing', 'tails', 'coming', 'back', 'nobody', 'said', 'easy', 'oh', 'shame', 'us', 'part', 'nobody', 'said', 'easy', 'one', 'ever', 'said', 'would', 'hard', 'going', 'back', 'start', 'oh', 'ooh', 'ah', 'ooh', 'oh', 'ooh', 'oh', 'ooh']\n",
            "ooh\n",
            "['fixing', 'car', 'drive', 'searching', 'water', 'hoping', 'rain', 'upon', 'canvas', 'working', 'meal', 'meal', 'waiting', 'chance', 'pick', 'orange', 'field', 'see', 'pearl', 'form', 'diamond', 'rough', 'see', 'bird', 'soaring', 'high', 'flood', 'blood', 'blood', 'underneath', 'storm', 'umbrella', 'saying', 'sitting', 'poison', 'takes', 'away', 'pain', 'saying', 'gon', 'na', 'get', 'get', 'together', 'right', 'gon', 'na', 'get', 'get', 'together', 'somehow', 'gon', 'na', 'get', 'get', 'together', 'flower', 'whoa', 'gon', 'na', 'get', 'get', 'together', 'know', 'gon', 'na', 'get', 'get', 'together', 'flow', 'gon', 'na', 'get', 'get', 'together', 'go', 'lying', 'gutter', 'aiming', 'moon', 'trying', 'empty', 'ocean', 'spoon', 'come', 'people', 'suffer', 'come', 'people', 'part', 'come', 'people', 'struggle', 'come', 'people', 'break', 'heart', 'break', 'heart', 'oh', 'yes', 'wan', 'na', 'grow', 'yes', 'wan', 'na', 'feel', 'yes', 'wan', 'na', 'know', 'show', 'heal', 'heal', 'oh', 'see', 'forest', 'every', 'seed', 'angels', 'marble', 'waiting', 'freed', 'need', 'love', 'need', 'love', 'going', 'rough', 'saying', 'gon', 'na', 'get', 'get', 'together', 'right', 'gon', 'na', 'get', 'get', 'together', 'somehow', 'gon', 'na', 'get', 'get', 'together', 'flower', 'whoa', 'gon', 'na', 'get', 'get', 'together', 'know', 'gon', 'na', 'get', 'get', 'together', 'flow', 'gon', 'na', 'get', 'get', 'together', 'go', 'say', 'fight', 'close', 'mind', 'take', 'risk', 'say', 'mine', 'clench', 'fist', 'see', 'sunrise', 'gift', 'gon', 'na', 'get', 'get', 'together', 'right', 'gon', 'na', 'get', 'get', 'together', 'somehow', 'gon', 'na', 'get', 'get', 'together', 'flower', 'whoa', 'gon', 'na', 'get', 'get', 'together', 'know', 'gon', 'na', 'get', 'get', 'together', 'flow', 'gon', 'na', 'get', 'get', 'together', 'go', 'gon', 'na', 'get', 'get', 'together', 'right', 'gon', 'na', 'get', 'get', 'together', 'somehow', 'gon', 'na', 'get', 'get', 'together', 'flower', 'whoa', 'gon', 'na', 'get', 'get', 'together', 'know', 'gon', 'na', 'get', 'get', 'together', 'flow', 'gon', 'na', 'get', 'get', 'together', 'go', 'fixing', 'car', 'drive', 'pain', 'think', 'enough', 'nt', 'ever', 'give', 'nt', 'ever', 'give']\n",
            "give\n",
            "['reading', 'books', 'old', 'legends', 'myths', 'achilles', 'gold', 'hercules', 'gifts', 'spiderman', 'control', 'batman', 'fists', 'clearly', 'nt', 'see', 'upon', 'list', 'said', 'wan', 'na', 'go', 'much', 'wan', 'na', 'risk', 'looking', 'somebody', 'superhuman', 'gifts', 'superhero', 'fairytale', 'bliss', 'something', 'turn', 'somebody', 'kiss', 'want', 'something', 'like', 'doodoodoo', 'doodoodoo', 'doodoodoo', 'doodoo', 'doodoodoo', 'doodoodoo', 'oh', 'want', 'something', 'like', 'doodoodoo', 'doodoodoo', 'doodoodoo', 'doodoo', 'doodoodoo', 'doodoodoo', 'oh', 'want', 'something', 'like', 'want', 'something', 'like', 'reading', 'books', 'old', 'legends', 'myths', 'testaments', 'told', 'moon', 'eclipse', 'superman', 'unrolls', 'suit', 'lifts', 'kind', 'person', 'fits', 'said', 'wan', 'na', 'go', 'much', 'wan', 'na', 'risk', 'looking', 'somebody', 'superhuman', 'gifts', 'superhero', 'fairytale', 'bliss', 'something', 'turn', 'somebody', 'miss', 'want', 'something', 'like', 'want', 'something', 'like', 'oh', 'want', 'something', 'like', 'doodoodoo', 'doodoodoo', 'doodoodoo', 'doodoo', 'doodoodoo', 'doodoodoo', 'oh', 'want', 'something', 'like', 'doodoodoo', 'doodoodoo', 'doodoodoo', 'doodoo', 'doodoodoo', 'doodoodoo', 'wan', 'na', 'go', 'much', 'wan', 'na', 'risk', 'looking', 'somebody', 'superhuman', 'gifts', 'superhero', 'fairytale', 'bliss', 'something', 'turn', 'somebody', 'kiss', 'want', 'something', 'like', 'oh', 'want', 'something', 'like', 'oh', 'want', 'something', 'like', 'oh', 'want', 'something', 'like']\n",
            "like\n",
            "['cause', 'sky', 'cause', 'sky', 'full', 'stars', 'gon', 'na', 'give', 'heart', 'cause', 'sky', 'cause', 'sky', 'full', 'stars', 'cause', 'light', 'path', 'nt', 'care', 'go', 'tear', 'apart', 'nt', 'care', 'ooh', 'cause', 'sky', 'cause', 'sky', 'full', 'stars', 'think', 'saw', 'cause', 'sky', 'cause', 'sky', 'full', 'stars', 'wan', 'na', 'die', 'arms', 'cause', 'get', 'lighter', 'gets', 'dark', 'gon', 'na', 'give', 'heart', 'nt', 'care', 'go', 'tear', 'apart', 'nt', 'care', 'ooh', 'cause', 'sky', 'cause', 'sky', 'full', 'stars', 'think', 'see', 'think', 'see', 'cause', 'sky', 'sky', 'full', 'stars', 'heavenly', 'view', 'heavenly', 'view']\n",
            "view\n"
          ],
          "name": "stdout"
        }
      ]
    },
    {
      "cell_type": "code",
      "metadata": {
        "id": "LZmiIbpkZYMI",
        "colab_type": "code",
        "colab": {
          "base_uri": "https://localhost:8080/",
          "height": 36
        },
        "outputId": "72715ec5-2c2d-4e73-f70c-a5ab537714d3"
      },
      "source": [
        "fb.shape"
      ],
      "execution_count": 13,
      "outputs": [
        {
          "output_type": "execute_result",
          "data": {
            "text/plain": [
              "(21, 2)"
            ]
          },
          "metadata": {
            "tags": []
          },
          "execution_count": 13
        }
      ]
    },
    {
      "cell_type": "code",
      "metadata": {
        "id": "eZIbptirYtd2",
        "colab_type": "code",
        "colab": {
          "base_uri": "https://localhost:8080/",
          "height": 797
        },
        "outputId": "3d99094e-bc21-4f0d-b1b4-dd815807dcc8"
      },
      "source": [
        "#preprocessing all the songs\n",
        "for i in range(0,20):\n",
        "    song=fb.iloc[i,1]\n",
        "    text=re.sub(r'\\d+','',song)#removing numbers\n",
        "\n",
        "\n",
        "    #lowercasing\n",
        "    text_lower=text.lower()\n",
        "\n",
        "    #punctuation removal \n",
        "    def  remove_punctuation(word): #function will take in the lowercased text and then remove all the punctuation\n",
        "        translator=str.maketrans('','',string.punctuation)\n",
        "        text_punct=word.translate(translator)\n",
        "        return text_punct\n",
        "    result=remove_punctuation(text_lower) #storing the resulting body of  text in variable result\n",
        "\n",
        "    #removing stopwords \n",
        "    def remove_stopwords(word):#The function will   tokenize the result and then filter off  the stop_words \n",
        "        stop_words=set(stopwords.words(\"english\")) \n",
        "        word_tokens= word_tokenize(word)\n",
        "        result=[ word for word in word_tokens if word not in stop_words ]\n",
        "        return result\n",
        "    song=remove_stopwords(result)\n",
        "    print(song)\n",
        "\n",
        "    #lemmatization\n",
        "    lemmatizer=WordNetLemmatizer()\n",
        "    for word in song :\n",
        "        fb_song=lemmatizer.lemmatize(word)\n",
        "    print(fb_song)\n",
        "\n",
        "\n",
        "\n"
      ],
      "execution_count": 14,
      "outputs": [
        {
          "output_type": "stream",
          "text": [
            "['gon', 'na', 'make', 'bend', 'break', 'sent', 'without', 'wait', 'say', 'prayer', 'let', 'good', 'times', 'roll', 'case', 'god', 'nt', 'show', 'let', 'good', 'times', 'roll', 'let', 'good', 'times', 'roll', 'want', 'words', 'make', 'things', 'right', 'wrongs', 'make', 'words', 'come', 'life', 'think', 'worst', 'got', 'better', 'put', 'fingers', 'back', 'key', 'one', 'night', 'one', 'time', 'thanks', 'memories', 'even', 'though', 'nt', 'great', 'tastes', 'like', 'sweeter', 'one', 'night', 'yeah', 'one', 'time', 'thanks', 'memories', 'thanks', 'memories', 'see', 'tastes', 'like', 'sweeter', 'oh', 'oh', 'oh', 'oh', 'looking', 'forward', 'future', 'eyesight', 'going', 'bad', 'crystal', 'ball', 'always', 'cloudy', 'except', 'except', 'look', 'past', 'look', 'past', 'one', 'night', 'stand', 'one', 'night', 'stand', 'oh', 'one', 'night', 'one', 'time', 'thanks', 'memories', 'even', 'though', 'nt', 'great', 'tastes', 'like', 'sweeter', 'one', 'night', 'yeah', 'one', 'time', 'thanks', 'memories', 'thanks', 'memories', 'see', 'tastes', 'like', 'sweeter', 'oh', 'say', 'think', 'form', 'crunching', 'numbers', 'hotel', 'rooms', 'collecting', 'page', 'six', 'lovers', 'get', 'mind', 'get', 'clothes', 'liner', 'away', 'getting', 'mood', 'whoa', 'one', 'night', 'one', 'time', 'thanks', 'memories', 'even', 'though', 'nt', 'great', 'tastes', 'like', 'sweeter', 'one', 'night', 'yeah', 'one', 'time', 'thanks', 'memories', 'thanks', 'memories', 'see', 'tastes', 'like', 'sweeter', 'oh', 'one', 'night', 'one', 'time', 'one', 'night', 'one', 'time', 'thanks', 'memories', 'even', 'though', 'nt', 'great', 'tastes', 'like', 'sweeter', 'one', 'night', 'yeah', 'one', 'time', 'one', 'night', 'one', 'time', 'thanks', 'memories', 'thanks', 'memories', 'see', 'tastes', 'like', 'sweeter', 'oh', 'oh', 'oh']\n",
            "oh\n",
            "['fire', 'fire', 'fire', 'fire', 'fire', 'listening', 'fourth', 'july', 'fire', 'fire', 'fireworks', 'went', 'soon', 'miss', 'june', 'gloom', 'fourth', 'july', 'fire', 'fire', 'fireworks', 'said', 'never', 'miss', 'guess', 'never', 'know', 'may', 'bridges', 'burned', 'light', 'way', 'back', 'home', 'fourth', 'july', 'last', 'time', 'talking', 'got', 'feeling', 'defeated', 'since', 'last', 'time', 'talked', 'shit', 'almost', 'got', 'deleted', 'nothin', 'personal', 'personally', 'thoughts', 'hurting', 'pushed', 'shit', 'misery', 'still', 'got', 'bitch', 'let', 'go', 'white', 'women', 'still', 'got', 'licks', 'sex', 'fire', 'shit', 'still', 'sexy', 'hoes', 'one', 'many', 'still', 'friends', 'explode', 'pressure', 'yeah', 'bombs', 'go', 'watch', 'bombs', 'go', 'fourth', 'july', 'fire', 'fire', 'fireworks', 'went', 'soon', 'miss', 'june', 'gloom', 'fourth', 'july', 'fire', 'fire', 'fireworks', 'said', 'never', 'miss', 'guess', 'never', 'know', 'may', 'bridges', 'burned', 'light', 'way', 'back', 'home', 'fourth', 'july', 'cutting', 'open', 'old', 'scars', 'till', 'stuck', 'head', 'doubts', 'let', 'drought', 'holy', 'water', 'without', 'thoughts', 'could', 'heat', 'cool', 'room', 'nt', 'tell', 'cried', 'oh', 'honey', 'nt', 'lie', 'oh', 'sorry', 'nt', 'mean', 'got', 'lonely', 'lonely', 'whoa', 'young', 'right', 'versailles', 'night', 'fourth', 'july', 'fire', 'fire', 'fireworks', 'went', 'soon', 'miss', 'june', 'gloom', 'fourth', 'july', 'fire', 'fire', 'fireworks', 'said', 'never', 'miss', 'guess', 'never', 'know', 'may', 'bridges', 'burned', 'light', 'way', 'back', 'home', 'fourth', 'july', 'fireworks', 'fourth', 'july', 'shining', 'bright', 'sky', 'went', 'soon', 'yeah', 'playing', 'fire', 'middle', 'june', 'explode', 'pressure', 'yeah', 'bombs', 'go', 'watch', 'bombs', 'go', 'fourth', 'july', 'fire', 'fire', 'fireworks', 'went', 'soon', 'miss', 'june', 'gloom', 'fourth', 'july', 'fire', 'fire', 'fireworks', 'said', 'never', 'miss', 'guess', 'never', 'know', 'may', 'bridges', 'burned', 'light', 'way', 'back', 'home', 'fourth', 'july']\n",
            "july\n",
            "['dodo', 'remember', 'drove', 'drove', 'drove', 'night', 'danced', 'danced', 'rancid', 'danced', 'danced', 'confessed', 'confessed', 'riding', 'shotgun', 'underneath', 'purple', 'skies', 'danced', 'danced', 'windows', 'danced', 'danced', 'spin', 'like', 'favorite', 'records', 'used', 'spin', 'like', 'favorite', 'records', 'used', 'song', 'stuck', 'head', 'every', 'song', 'ever', 'loved', 'play', 'get', 'want', 'never', 'enough', 'spin', 'like', 'favorite', 'records', 'used', 'spin', 'like', 'favorite', 'records', 'used', 'used', 'used', 'every', 'night', 'played', 'every', 'time', 'could', 'dumb', 'said', 'favorite', 'one', 'true', 'nt', 'really', 'want', 'way', 'used', 'always', 'one', 'like', 'favorite', 'records', 'spin', 'oh', 'spin', 'song', 'stuck', 'head', 'every', 'song', 'ever', 'loved', 'play', 'get', 'want', 'never', 'enough', 'spin', 'like', 'favorite', 'records', 'used', 'spin', 'like', 'favorite', 'records', 'used', 'spin', 'spin', 'spin', 'spin', 'youohoh', 'spin', 'like', 'favorite', 'records', 'used', 'used', 'used']\n",
            "used\n",
            "['say', 'nt', 'bad', 'behavior', 'best', 'way', 'watcher', 'watcher', 'eternal', 'flame', 'guard', 'dog', 'favorite', 'dreams', 'ooh', 'sand', 'bottom', 'half', 'hourglass', 'glass', 'glass', 'ooh', 'try', 'picture', 'without', 'cant', 'cause', 'could', 'immortals', 'immortals', 'long', 'long', 'live', 'forever', 'pull', 'blackout', 'curtains', 'long', 'long', 'could', 'immor', 'immortals', 'immor', 'immortals', 'immor', 'immortals', 'immor', 'immortals', 'sometimes', 'pay', 'faith', 'tested', 'everyday', 'still', 'comparing', 'past', 'future', 'might', 'wound', 'sutures', 'ooh', 'sand', 'bottom', 'half', 'hourglass', 'glass', 'glass', 'ooh', 'try', 'picture', 'without', 'cant', 'cause', 'could', 'immortals', 'immortals', 'long', 'long', 'live', 'forever', 'pull', 'blackout', 'curtains', 'long', 'long', 'could', 'immor', 'immortals', 'immor', 'immortals', 'immortals', 'live', 'forever', 'pull', 'blackout', 'curtains', 'could', 'immortals', 'immortals', 'long', 'long', 'could', 'immor', 'immortals', 'immor', 'immortals', 'immor', 'immortals', 'immor', 'immortals', 'immortals']\n",
            "immortal\n",
            "['took', 'love', 'filled', 'filled', 'novocaine', 'numb', 'numb', 'nt', 'mind', 'son', 'gun', 'nt', 'stop', 'nt', 'stop', 'till', 'heart', 'goes', 'numb', 'stuck', 'nt', 'feel', 'thing', 'black', 'black', 'ski', 'mask', 'song', 'put', 'anger', 'truly', 'gruesome', 'trust', 'always', 'land', 'like', 'sucker', 'punch', 'singing', 'worst', 'worst', 'nightmare', 'worst', 'worst', 'nightmare', 'knew', 'knew', 'blue', 'birds', 'sang', 'would', 'never', 'sing', 'along', 'cast', 'culture', 'new', 'flocks', 'nothing', 'vultures', 'took', 'love', 'filled', 'filled', 'novocaine', 'numb', 'numb', 'nt', 'mind', 'son', 'gun', 'nt', 'stop', 'nt', 'stop', 'till', 'heart', 'goes', 'numb', 'stuck', 'nt', 'feel', 'thing', 'uzi', 'fall', 'boy', 'lately', 'cooking', 'blue', 'flame', 'hanging', 'model', 'cause', 'caine', 'yeah', 'tweaking', 'dusse', 'uh', 'showed', 'party', 'blingbling', 'got', 'new', 'chain', 'every', 'single', 'time', 'news', 'change', 'never', 'strange', 'judging', 'things', 'turned', 'guessing', 'things', 'change', 'burnout', 'boy', 'stackin', 'loose', 'change', 'niggas', 'acting', 'brand', 'new', 'new', 'fame', 'swear', 'shit', 'lame', 'getting', 'twisted', 'liquor', 'champagne', 'pyrex', 'shawty', 'wear', 'wear', 'balmain', 'ball', 'niggas', 'small', 'small', 'change', 'stay', 'brand', 'new', 'new', 'brand', 'new', 'moon', 'new', 'room', 'ready', 'blaze', 'took', 'love', 'filled', 'filled', 'novocaine', 'numb', 'numb', 'nt', 'mind', 'son', 'gun', 'nt', 'stop', 'nt', 'stop', 'till', 'heart', 'goes', 'numb', 'stuck', 'nt', 'feel', 'thing', 'ooh', 'say', 'one', 'day', 'valley', 'gon', 'na', 'swallow', 'whole', 'hijack', 'hype', 'hijack', 'hype', 'feel', 'like', 'photo', 'overexposed', 'hijack', 'hype', 'hijack', 'hype', 'took', 'love', 'filled', 'filled', 'novocaine', 'numb', 'numb', 'nt', 'mind', 'son', 'gun', 'nt', 'stop', 'nt', 'stop', 'till', 'heart', 'goes', 'numb', 'stuck', 'nt', 'feel', 'thing']\n",
            "thing\n",
            "['know', 'heard', 'got', 'nominated', 'wo', 'nt', 'walk', 'red', 'carpet', 'dress', 'bought', 'awful', 'gone', 'long', 'call', 'like', 'ai', 'nt', 'promise', 'hold', 'seem', 'like', 'lyric', 'favorite', 'song', 'surprised', 'step', 'aside', 'get', 'another', 'way', 'hard', 'reach', 'like', 'boy', 'bubble', 'always', 'shuttle', 'another', 'planet', 'crazy', 'crash', 'landed', 'leave', 'damaged', 'keep', 'pieces', 'left', 'hoping', 'praying', 'home', 'see', 'understand', 'man', 'need', 'provide', 'lives', 'cause', 'know', 'got', 'jet', 'pack', 'blues', 'like', 'judy', 'kind', 'makes', 'june', 'feel', 'like', 'september', 'last', 'one', 'ever', 'remember', 'trying', 'find', 'peace', 'mind', 'behind', 'two', 'white', 'highway', 'lines', 'city', 'goes', 'silent', 'ringing', 'ears', 'gets', 'violent', 'long', 'black', 'coat', 'tonight', 'waiting', 'downpour', 'outside', 'singing', 'baby', 'come', 'home', 'melody', 'tears', 'rhythm', 'rain', 'keeps', 'time', 'remember', 'baby', 'come', 'home', 'baby', 'come', 'home', 'baby', 'come', 'home', 'baby', 'come', 'home', 'ever', 'love', 'know', 'never', 'want', 'alone', 'singing', 'baby', 'come', 'home', 'baby', 'come', 'home', 'talking', 'another', 'green', 'room', 'another', 'hotel', 'lot', 'well', 'maybe', 'kick', 'next', 'time', 'go', 'time', 'bone', 'appetite', 'bittersweet', 'come', 'around', 'always', 'phone', 'texting', 'scrolling', 'talking', 'bout', 'business', 'visit', 'realest', 'whispered', 'ear', 'last', 'time', 'cried', 'phone', 'felt', 'tear', 'believe', 'vamp', 'give', 'got', 'us', 'nt', 'ask', 'stop', 'lights', 'glamour', 'ai', 'nt', 'reason', 'put', 'work', 'seconds', 'stage', 'putting', 'first', 'despite', 'absence', 'words', 'closed', 'captions', 'read', 'like', 'simple', 'love', 'wrote', 'napkin', 'fly', 'night', 'action', 'fuel', 'everlasting', 'keep', 'jet', 'packing', 'got', 'jet', 'pack', 'blues', 'fight', 'light', 'tonight', 'stay', 'honey', 'nt', 'leave', 'nt', 'remember', 'used', 'split', 'drink', 'never', 'mattered', 'think', 'hands', 'close', 'sweetness', 'never', 'lasts', 'know', 'long', 'black', 'coat', 'tonight', 'waiting', 'downpour', 'outside', 'singing', 'baby', 'come', 'home', 'melody', 'tears', 'rhythm', 'rain', 'keeps', 'time', 'remember', 'baby', 'come', 'home', 'baby', 'come', 'home', 'baby', 'come', 'home', 'baby', 'come', 'home', 'ever', 'love', 'know', 'never', 'want', 'alone', 'singing', 'baby', 'come', 'home', 'baby', 'come', 'home']\n",
            "home\n",
            "['already', 'wants', 'dance', 'like', 'uma', 'thurman', 'bury', 'til', 'confess', 'wants', 'dance', 'like', 'uma', 'thurman', 'ca', 'nt', 'get', 'head', 'stench', 'stench', 'summer', 'sex', 'ck', 'eternity', 'oh', 'hell', 'yes', 'divide', 'smallest', 'put', 'put', 'vvvenom', 'move', 'mountains', 'work', 'miracle', 'work', 'miracle', 'oh', 'oh', 'oh', 'keep', 'like', 'oath', 'may', 'nothing', 'death', 'us', 'part', 'move', 'mountains', 'work', 'miracle', 'work', 'miracle', 'oh', 'oh', 'oh', 'move', 'mountains', 'work', 'mira', 'move', 'mountains', 'wants', 'dance', 'like', 'uma', 'thurman', 'bury', 'til', 'confess', 'wants', 'dance', 'like', 'uma', 'thurman', 'ca', 'nt', 'get', 'head', 'blood', 'blood', 'blood', 'lamb', 'worth', 'two', 'lions', 'slept', 'last', 'night', 'clothes', 'tomorrow', 'dreams', 'quite', 'seem', 'move', 'mountains', 'work', 'miracle', 'work', 'miracle', 'oh', 'oh', 'oh', 'keep', 'like', 'oath', 'may', 'nothing', 'death', 'us', 'part', 'move', 'mountains', 'uh', 'young', 'khalifa', 'man', 'hehe', 'work', 'miracle', 'work', 'miracle', 'oh', 'oh', 'oh', 'move', 'mountains', 'yeah', 'work', 'mira', 'move', 'mountains', 'joint', 'hand', 'rocking', 'jewels', 'job', 'well', 'take', 'care', 'crew', 'well', 'cancelled', 'old', 'show', 'bout', 'get', 'new', 'girl', 'new', 'girl', 'dull', 'brad', 'pitt', 'cruel', 'world', 'ai', 'nt', 'nothing', 'left', 'call', 'friends', 'bring', 'em', 'feelin', 'feelin', 'teacher', 'student', 'beat', 'nt', 'think', 'abusive', 'nothin', 'like', 'ex', 'exclusive', 'fleshest', 'bellugians', 'young', 'khalifa', 'uh', 'yup', 'yup', 'yup', 'yup', 'move', 'mountains', 'work', 'miracle', 'work', 'miracle', 'oh', 'oh', 'oh', 'keep', 'like', 'oath', 'may', 'nothin', 'death', 'us', 'part', 'move', 'mountains', 'work', 'miracle', 'work', 'miracle', 'oh', 'oh', 'oh', 'move', 'mountains', 'work', 'mira', 'move', 'mountains', 'move', 'mountains', 'move', 'mountains', 'work', 'miracle', 'move', 'mountains', 'work', 'miracle']\n",
            "miracle\n",
            "['break', 'let', 'tell', 'get', 'uh', 'run', 'town', 'number', 'one', 'together', 'deuce', 'numbers', 'pursuit', 'loot', 'dust', 'sphinx', 'cashing', 'drews', 'wave', 'new', 'new', 'thing', 'new', 'thing', 'oh', 'yeah', 'rang', 'calling', 'falling', 'coupe', 'hold', 'like', 'crown', 'king', 'supreme', 'soup', 'imma', 'come', 'clean', 'addicted', 'kitty', 'get', 'chills', 'rolling', 'rolling', 'highway', 'new', 'let', 'tell', 'truth', 'like', 'alright', 'bride', 'got', 'groom', 'stuck', 'jet', 'wash', 'bad', 'trip', 'could', 'nt', 'get', 'maybe', 'bit', 'could', 'chew', 'overhead', 'aqua', 'blue', 'fall', 'knees', 'bring', 'rapture', 'blessed', 'boys', 'time', 'ca', 'nt', 'capture', 'film', 'sheets', 'always', 'fall', 'window', 'pitch', 'black', 'street', 'black', 'banners', 'raised', 'crooked', 'smiles', 'fade', 'former', 'heroes', 'quit', 'late', 'wan', 'na', 'fill', 'trophy', 'case', 'end', 'think', 'best', 'friend', 'nt', 'know', 'kids', 'nt', 'al', 'kids', 'nt', 'alright', 'rains', 'pours', 'stay', 'thirsty', 'like', 'nt', 'know', 'kids', 'nt', 'al', 'kids', 'nt', 'alright', 'passive', 'aggressive', 'take', 'note', 'impressive', 'empty', 'sadness', 'like', 'dumping', 'purse', 'bedroom', 'floor', 'put', 'curse', 'reverse', 'time', 'want', 'maul', 'world', 'like', 'carnival', 'bear', 'set', 'free', 'love', 'anemic', 'ca', 'nt', 'believe', 'could', 'nt', 'see', 'coming', 'still', 'feel', 'rush', 'veins', 'twists', 'head', 'bit', 'think', 'people', 'old', 'photographs', 'seen', 'dead', 'end', 'think', 'best', 'friend', 'nt', 'know', 'kids', 'nt', 'al', 'kids', 'nt', 'alright', 'rains', 'pours', 'stay', 'thirsty', 'like', 'nt', 'know', 'kids', 'nt', 'al', 'kids', 'nt', 'alright', 'sometimes', 'want', 'sit', 'around', 'gaze', 'shoes', 'yeah', 'let', 'dirty', 'sadness', 'fill', 'like', 'balloon', 'end', 'think', 'best', 'friend', 'nt', 'know', 'kids', 'nt', 'al', 'kids', 'nt', 'alright', 'rains', 'pours', 'stay', 'thirsty', 'like', 'nt', 'know', 'kids', 'nt', 'al', 'kids', 'nt', 'alright']\n",
            "alright\n",
            "['remix', 'legendary', 'juicy', 'j', 'let', 'go', 'bread', 'need', 'bigger', 'stomach', 'name', 'ring', 'bells', 'coming', 'made', 'ai', 'nt', 'give', 'nothing', 'still', 'standing', 'like', 'set', 'crutches', 'ai', 'nt', 'way', 'gon', 'forget', 'name', 'legend', 'putting', 'work', 'ever', 'since', 'came', 'umbrella', 'naw', 'ca', 'nt', 'stop', 'reign', 'car', 'pool', 'different', 'lane', 'wake', 'every', 'morning', 'go', 'get', 'change', 'dirty', 'work', 'wo', 'nt', 'get', 'stain', 'heavy', 'game', 'better', 'know', 'hustle', 'speaks', 'nt', 'even', 'got', 'ta', 'show', 'legends', 'told', 'turn', 'dust', 'gold', 'remember', 'remember', 'centuries', 'let', 'go', 'one', 'mistake', 'take', 'go', 'history', 'remember', 'centuries', 'forever', 'hey', 'hey', 'yessir', 'hey', 'remember', 'centuries', 'mummified', 'teenage', 'dreams', 'nothing', 'wrong', 'kids', 'wrong', 'story', 'heavy', 'metal', 'broke', 'heart', 'come', 'come', 'let', 'bruises', 'thighs', 'like', 'fingerprints', 'supposed', 'match', 'darkness', 'felt', 'never', 'meant', 'fix', 'legends', 'told', 'turn', 'dust', 'gold', 'remember', 'always', 'remember', 'centuries', 'ai', 'nt', 'going', 'nowhere', 'one', 'mistake', 'take', 'go', 'history', 'history', 'remember', 'centuries', 'yeah', 'hey', 'hey', 'hey', 'remember', 'centuries', 'ca', 'nt', 'stop', 'til', 'whole', 'world', 'knows', 'name', 'cause', 'born', 'inside', 'dreams', 'die', 'long', 'light', 'shadow', 'cause', 'opposite', 'amnesia', 'cherry', 'blossom', 'bloom', 'look', 'pretty', 'gone', 'soon', 'real', 'og', 'legends', 'told', 'turn', 'dust', 'gold', 'remember', 'remember', 'centuries', 'one', 'mistake', 'take', 'go', 'history', 'remember', 'centuries', 'hey', 'hey', 'hey', 'remember', 'centuries']\n",
            "century\n",
            "['american', 'beauty', 'american', 'psycho', 'american', 'beauty', 'american', 'american', 'american', 'psycho', 'american', 'american', 'american', 'psycho', 'america', 'merica', 'merica', 'yeah', 'america', 'merica', 'merica', 'merica', 'yeah', 'america', 'merica', 'merica', 'yeah', 'america', 'merica', 'merica', 'merica', 'hoo', 'hoo', 'hoo', 'ahh', 'american', 'merican', 'ferg', 'office', 'runnin', 'president', 'fly', 'like', 'pelican', 'hittin', 'chick', 'thinkin', 'celibate', 'know', 'better', 'man', 'know', 'feelin', 'irrelevant', 'body', 'look', 'delicate', 'stomach', 'flat', 'booty', 'look', 'pregnant', 'booty', 'look', 'pregnant', 'hop', 'ass', 'like', 'ridin', 'elephant', 'think', 'evident', 'skeet', 'sheets', 'leavin', 'evidence', 'oh', 'gosh', 'oh', 'gosh', 'look', 'gelatin', 'walk', 'like', 'nicki', 'minaj', 'beauty', 'elegance', 'go', 'hard', 'want', 'never', 'settlin', 'pull', 'porsche', 'like', 'skrut', 'sick', 'need', 'medicine', 'go', 'crazy', 'lady', 'like', 'though', 'american', 'beauty', 'american', 'psycho', 'american', 'beauty', 'american', 'psycho', 'american', 'beauty', 'american', 'american', 'american', 'psycho', 'american', 'american', 'american', 'psycho', 'wish', 'dreamt', 'shape', 'mouth', 'thread', 'count', 'really', 'care', 'stay', 'til', 'lights', 'go', 'stay', 'stay', 'take', 'full', 'full', 'truth', 'pour', 'take', 'full', 'full', 'truth', 'pour', 'drifting', 'sleep', 'dirty', 'thoughts', 'never', 'keep', 'keep', 'whoa', 'altar', 'boys', 'altered', 'boys', 'things', 'love', 'destroys', 'american', 'american', 'us', 'resurrection', 'men', 'american', 'american', 'us', 'meant', 'make', 'live', 'american', 'american', 'us', 'pity', 'sex', 'nothing', 'nothing', 'less', 'american', 'american', 'beauty', 'american', 'psycho', 'american', 'beauty', 'american', 'american', 'american', 'psycho', 'american', 'american', 'american', 'psycho']\n",
            "psycho\n",
            "['count', 'unannounced', 'drag', 'nails', 'tile', 'follow', 'scent', 'ca', 'nt', 'follow', 'smile', 'flaws', 'aligned', 'mood', 'mine', 'cutting', 'bone', 'nothing', 'left', 'leave', 'behind', 'ought', 'keep', 'concealed', 'like', 'weapon', 'nt', 'come', 'fight', 'fight', 'till', 'end', 'might', 'battle', 'might', 'turn', 'okay', 'know', 'look', 'seattle', 'feel', 'la', 'eh', 'eh', 'eh', 'eh', 'eh', 'eh', 'eh', 'eh', 'eh', 'eh', 'eh', 'eh', 'eh', 'eh', 'eh', 'eh', 'eh', 'eh', 'eh', 'eh', 'love', 'way', 'hurt', 'irresistible', 'oh', 'oh', 'oh', 'oh', 'oh', 'oh', 'irresistible', 'oh', 'oh', 'oh', 'oh', 'oh', 'oh', 'yeah', 'love', 'way', 'love', 'way', 'love', 'way', 'hurt', 'baby', 'love', 'way', 'love', 'way', 'love', 'way', 'hurt', 'baby', 'hurt', 'one', 'time', 'love', 'one', 'time', 'hurt', 'two', 'times', 'fck', 'pockets', 'old', 'ready', 'go', 'pockets', 'got', 'relationship', 'goals', 'laid', 'eyes', 'excited', 'fuel', 'flame', 'ignited', 'stole', 'heart', 'heart', 'lion', 'fck', 'shit', 'let', 'start', 'riot', 'world', 'cold', 'bought', 'fur', 'coat', 'house', 'island', 'gon', 'need', 'need', 'boat', 'swim', 'sharks', 'til', 'side', 'feed', 'outside', 'came', 'bottom', 'bottom', 'ever', 'problems', 'started', 'bottom', 'holler', 'irresistible', 'oh', 'oh', 'oh', 'oh', 'oh', 'oh', 'irresistible', 'oh', 'oh', 'oh', 'oh', 'oh', 'oh', 'yeah', 'love', 'way', 'love', 'way', 'love', 'way', 'hurt', 'baby', 'love', 'way', 'love', 'way', 'love', 'way', 'hurt', 'baby', 'hey', 'talk', 'somethin', 'take', 'see', 'would', 'toss', 'salad', 'rock', 'never', 'fold', 'ima', 'tell', 'son', 'everythin', 'glitter', 'ai', 'nt', 'gold', 'showed', 'shit', 'basic', 'bitch', 'never', 'know', 'took', 'places', 'basic', 'bitch', 'never', 'go', 'running', 'around', 'showing', 'camel', 'toe', 'got', 'singing', 'sad', 'song', 'call', 'satchmo', 'go', 'home', 'tell', 'momma', 'us', 'fuss', 'called', 'phone', 'question', 'like', 'love', 'bugging', 'think', 'better', 'end', 'days', 'split', 'ways', 'know', 'like', 'red', 'bottles', 'put', 'right', 'back', 'js', 'go', 'shopping', 'cop', 'right', 'never', 'wait', 'depart', 'go', 'put', 'merchandise', 'layaway', 'tried', 'show', 'expensive', 'shit', 'luxury', 'living', 'breaking', 'news', 'break', 'heart', 'see', 'television', 'takeoff', 'second', 'hand', 'smoke', 'breathe', 'honey', 'nt', 'know', 'mon', 'chéri', 'truth', 'catches', 'us', 'eventually', 'try', 'say', 'live', 'live', 'let', 'live', 'good', 'good', 'lip', 'service', 'except', 'mi', 'amor', 'coming', 'making', 'war', 'still', 'love', 'way', 'hurt', 'irresistible', 'oh', 'oh', 'oh', 'oh', 'oh', 'oh', 'irresistible', 'oh', 'oh', 'oh', 'oh', 'oh', 'oh', 'yeah', 'love', 'way', 'love', 'way', 'love', 'way', 'hurt', 'baby', 'love', 'way', 'love', 'way', 'love', 'way', 'hurt', 'baby', 'eh', 'eh', 'eh', 'eh', 'eh', 'eh', 'eh', 'eh', 'eh', 'eh']\n",
            "eh\n",
            "['gone', 'way', 'fast', 'way', 'long', 'never', 'supposed', 'make', 'half', 'far', 'lived', 'much', 'life', 'lived', 'much', 'life', 'think', 'god', 'gon', 'na', 'kill', 'twice', 'kill', 'twice', 'like', 'name', 'nikki', 'sixx', 'woke', 'shoes', 'somewhere', 'exist', 'singing', 'oops', 'forgot', 'losing', 'mind', 'wrote', 'make', 'press', 'rewind', 'send', 'message', 'young', 'menace', 'young', 'young', 'young', 'menace', 'woke', 'wrong', 'side', 'reality', 'madness', 'coursing', 'right', 'far', 'time', 'far', 'time', 'sure', 'yet', 'certain', 'arrived', 'oops', 'forgot', 'losing', 'mind', 'wrote', 'make', 'press', 'rewind', 'send', 'message', 'young', 'menace', 'young', 'young', 'young', 'menace', 'flying', 'deep', 'end', 'become', 'best', 'yet', 'psych', 'assessment', 'young', 'menace', 'gone', 'way', 'fast', 'way', 'long']\n",
            "long\n",
            "['nt', 'even', 'attention', 'say', 'please', 'nt', 'ever', 'change', 'nt', 'like', 'way', 'sign', 'says', 'nt', 'tap', 'glass', 'read', 'reverse', 'ssalg', 'eht', 'pat', 'tnod', 'syas', 'ngis', 'eht', 'world', 'tried', 'burn', 'mercy', 'know', 'would', 'nt', 'let', 'tried', 'teach', 'hard', 'way', 'ca', 'nt', 'forget', 'driving', 'coast', 'pills', 'kicking', 'pills', 'kicking', 'said', 'love', 'till', 'dont', 'playing', 'house', 'idea', 'atheists', 'foxholes', 'pressure', 'getting', 'time', 'throw', 'towel', 'cause', 'stuck', 'sunshine', 'riptide', 'dancing', 'alone', 'morning', 'light', 'sunshine', 'riptide', 'came', 'like', 'wave', 'feeling', 'alright', 'sunshine', 'call', 'oluwaburna', 'fell', 'love', 'nt', 'say', 'nuh', 'normal', 'drinkin', 'messy', 'nah', 'drink', 'water', 'make', 'stumble', 'upon', 'air', 'jordan', 'ai', 'nt', 'slowin', 'know', 'keep', 'rollin', 'smokin', 'fuckin', 'brain', 'passin', 'fuckin', 'town', 'feel', 'like', 'bulletproof', 'bulletproof', 'baby', 'ooh', 'sun', 'shining', 'got', 'blunt', 'juice', 'ooze', 'riding', 'sunshine', 'riptide', 'dancing', 'alone', 'morning', 'light', 'sunshine', 'riptide', 'came', 'back', 'like', 'wave', 'feeling', 'alright', 'sun', 'sun', 'sun', 'sun', 'sun', 'sun', 'stuck', 'sun', 'sun', 'sun', 'sun', 'sun', 'sun', 'truest', 'feeling', 'yet', 'love', 'much', 'like', 'oxygen', 'going', 'head', 'public', 'meltdown', 'petulant', 'irreverent', 'take', 'possibilities', 'take', 'away', 'limits', 'take', 'ideas', 'throw', 'away', 'gimmicks', 'best', 'pills', 'kicking', 'pills', 'kicking', 'cause', 'stuck', 'sunshine', 'riptide', 'dancing', 'alone', 'morning', 'light', 'sunshine', 'riptide', 'came', 'back', 'like', 'wave', 'feeling', 'al', 'stuck', 'sunshine', 'riptide', 'dancing', 'alone', 'morning', 'light', 'sunshine', 'riptide', 'came', 'back', 'like', 'wave', 'feeling', 'alright', 'sun', 'sun', 'sun', 'sun', 'sun', 'sun', 'stuck', 'sun', 'sun', 'sun', 'sun', 'sun', 'sun', 'stuck']\n",
            "stuck\n",
            "['one', 'look', 'faded', 'love', 'body', 'flying', 'left', 'give', 'tell', 'ii', 'fine', 'ii', 'missile', 'guided', 'ooh', 'ooh', 'hoo', 'world', 'start', 'many', 'times', 'end', 'nt', 'make', 'list', 'would', 'sneak', 'wristband', 'would', 'give', 'give', 'give', 'give', 'boost', 'boost', 'heaven', 'gate', 'yeah', 'give', 'boost', 'heaven', 'gate', 'gon', 'na', 'need', 'boost', 'cause', 'everything', 'else', 'substitute', 'love', 'give', 'boost', 'heaven', 'gate', 'got', 'dreams', 'want', 'make', 'come', 'true', 'please', 'come', 'honey', 'please', 'please', 'come', 'go', 'go', 'world', 'start', 'many', 'times', 'end', 'nt', 'make', 'list', 'would', 'sneak', 'wristband', 'give', 'boost', 'boost', 'heaven', 'gate', 'yeah', 'give', 'boost', 'heaven', 'gate', 'gon', 'na', 'need', 'boost', 'cause', 'everything', 'else', 'substitute', 'love', 'give', 'boost', 'heaven', 'gate', 'one', 'habit', 'ca', 'nt', 'kick', 'one', 'habit', 'ca', 'nt', 'kick', 'one', 'habit', 'ca', 'nt', 'kick', 'one', 'habit', 'ca', 'nt', 'kick', 'one', 'one', 'one', 'one', 'habit', 'ca', 'nt', 'kick', 'give', 'boost', 'boost', 'heaven', 'gate', 'yeah', 'give', 'boost', 'heaven', 'gate', 'gon', 'na', 'need', 'boost', 'cause', 'everything', 'else', 'substitute', 'love', 'give', 'boost', 'heaven', 'gate', 'give', 'boost']\n",
            "boost\n",
            "['church', 'get', 'knees', 'confess', 'love', 'know', 'sanctuary', 'holy', 'church', 'get', 'knees', 'get', 'knees', 'get', 'knees', 'get', 'knees', 'take', 'pain', 'make', 'billboard', 'big', 'swallow', 'timecapsule', 'future', 'trust', 'oh', 'things', 'name', 'love', 'doomed', 'enough', 'doomed', 'enough', 'church', 'whoo', 'get', 'knees', 'yeah', 'confess', 'love', 'know', 'sanctuary', 'holy', 'church', 'yeah', 'get', 'knees', 'get', 'knees', 'whoo', 'get', 'knees', 'get', 'knees', 'love', 'world', 'nt', 'love', 'way', 'makes', 'feel', 'got', 'fake', 'friends', 'getting', 'hard', 'know', 'real', 'death', 'last', 'appointment', 'sitting', 'waiting', 'room', 'human', 'trying', 'avoid', 'certain', 'doom', 'church', 'yeah', 'get', 'knees', 'confess', 'love', 'know', 'sanctuary', 'holy', 'church', 'yeah', 'get', 'knees', 'get', 'knees', 'yeah', 'oh', 'get', 'knees', 'ah', 'ah', 'ah', 'get', 'knees', 'yeah', 'get', 'knees', 'church', 'get', 'knees', 'confess', 'love', 'know', 'sanctuary', 'holy', 'holy', 'church', 'yeah', 'get', 'knees', 'yeah']\n",
            "yeah\n",
            "['oh', 'na', 'na', 'na', 'na', 'na', 'na', 'na', 'na', 'never', 'really', 'feel', 'thing', 'kinda', 'froze', 'one', 'even', 'kinda', 'came', 'close', 'pinch', 'longer', 'comatose', 'woke', 'luck', 'woke', 'luck', 'stitch', 'comes', 'loose', 'wan', 'na', 'sleep', 'every', 'piece', 'fuzz', 'stuffing', 'comes', 'took', 'many', 'hits', 'memory', 'need', 'come', 'annnnnnnnnother', 'day', 'goes', 'hold', 'tight', 'hold', 'tight', 'dont', 'oh', 'nnno', 'nt', 'story', 'ends', 'hold', 'tight', 'hold', 'tight', 'dont', 'oh', 'na', 'na', 'na', 'na', 'na', 'na', 'na', 'na', 'na', 'na', 'na', 'na', 'na', 'na', 'na', 'na', 'na', 'na', 'oh', 'na', 'na', 'na', 'na', 'na', 'na', 'na', 'na', 'na', 'na', 'na', 'got', 'high', 'realized', 'ca', 'nt', 'friend', 'love', 'death', 'ca', 'nt', 'ca', 'nt', 'pretend', 'lovers', 'first', 'confidants', 'never', 'friends', 'ever', 'friends', 'stitch', 'comes', 'loose', 'wan', 'na', 'sleep', 'every', 'piece', 'fuzz', 'stuffing', 'comes', 'took', 'many', 'hits', 'memory', 'need', 'come', 'annnnnnnnnother', 'day', 'goes', 'hold', 'tight', 'hold', 'tight', 'dont', 'oh', 'nnno', 'nt', 'story', 'ends', 'hold', 'tight', 'hold', 'tight', 'dont', 'oh', 'na', 'na', 'na', 'na', 'na', 'na', 'na', 'na', 'na', 'na', 'na', 'na', 'na', 'na', 'na', 'na', 'na', 'na', 'oh', 'na', 'na', 'na', 'na', 'na', 'na', 'na', 'na', 'na', 'na', 'na', 'hold', 'tight', 'dont', 'cause', 'past', 'limits', 'distance', 'us', 'sharpens', 'like', 'knife', 'past', 'limits', 'distance', 'us', 'sharpens', 'like', 'knife', 'annnnnnnnnother', 'day', 'goes', 'hold', 'tight', 'hold', 'tight', 'dont', 'pretty', 'sure', 'nt', 'story', 'ends', 'hold', 'tight', 'hold', 'tight', 'hold', 'tight', 'dont', 'oh', 'na', 'na', 'na', 'na', 'na', 'na', 'na', 'na', 'na', 'na', 'na', 'na', 'na', 'na', 'na', 'na', 'na', 'na', 'oh', 'na', 'na', 'na', 'na', 'na', 'na', 'na', 'na', 'na', 'na', 'na']\n",
            "na\n",
            "['think', 'got', 'many', 'memories', 'getting', 'way', 'bout', 'go', 'tonya', 'harding', 'whole', 'world', 'knee', 'stuck', 'nightvision', 'stuck', 'nightvision', 'come', 'life', 'come', 'life', 'princes', 'nt', 'become', 'kings', 'even', 'best', 'times', 'mind', 'get', 'grieve', 'smelling', 'shit', 'smelling', 'shit', 'eau', 'de', 'résistance', 'thing', 'ever', 'stopping', 'hey', 'thing', 'ever', 'stopping', 'hey', 'testify', 'die', 'sleep', 'know', 'life', 'killer', 'dream', 'yeah', 'seems', 'like', 'whole', 'damn', 'world', 'went', 'lost', 'mind', 'childhood', 'heroes', 'fallen', 'died', 'fake', 'tears', 'living', 'fake', 'tears', 'alcohol', 'never', 'lies', 'never', 'lies', 'princes', 'nt', 'become', 'kings', 'even', 'best', 'times', 'mind', 'get', 'grieve', 'smelling', 'shit', 'smelling', 'shit', 'eau', 'de', 'résistance', 'thing', 'ever', 'stopping', 'hey', 'thing', 'ever', 'stopping', 'hey', 'testify', 'die', 'sleep', 'know', 'life', 'killer', 'dream', 'yeah', 'know', 'life', 'killer', 'dream', 'yeah', 'testify', 'testify', 'smelling', 'shit', 'eau', 'de', 'résistance', 'hey', 'hey', 'hey', 'princes', 'nt', 'become', 'kings', 'even', 'best', 'times', 'mind', 'get', 'grieve', 'smelling', 'shit', 'smelling', 'shit', 'thing', 'ever', 'stopping', 'hey', 'thing', 'ever', 'stopping', 'hey', 'testify', 'die', 'sleep', 'know', 'life', 'killer', 'dream', 'yeah', 'know', 'life', 'killer', 'dream', 'yeah', 'smelling', 'shit', 'eau', 'de', 'résistance']\n",
            "résistance\n",
            "['champion', 'champion', 'calling', 'future', 'let', 'know', 'made', 'mistake', 'fog', 'past', 'giving', 'giving', 'headache', 'back', 'madness', 'champion', 'people', 'nt', 'believe', 'champions', 'got', 'nothing', 'dreams', 'inside', 'got', 'nothing', 'dreams', 'young', 'enough', 'still', 'believe', 'still', 'believe', 'young', 'enough', 'know', 'believe', 'young', 'enough', 'know', 'believe', 'yeah', 'live', 'live', 'live', 'anything', 'live', 'live', 'live', 'anything', 'champion', 'champion', 'champion', 'champion', 'got', 'rage', 'every', 'day', 'inside', 'thing', 'sit', 'around', 'kill', 'time', 'trying', 'blow', 'pilot', 'light', 'trying', 'blow', 'light', 'young', 'enough', 'still', 'believe', 'still', 'believe', 'young', 'enough', 'know', 'believe', 'young', 'enough', 'know', 'believe', 'live', 'live', 'live', 'anything', 'live', 'live', 'live', 'anything', 'champion', 'champion', 'anything', 'champion', 'champion', 'anything', 'champion', 'champion', 'anything', 'champion', 'champion', 'anything', 'live', 'live', 'live', 'anything', 'live', 'live', 'live', 'live', 'live', 'live', 'live', 'live', 'live', 'anything', 'live', 'live', 'live', 'anything', 'champion', 'champion']\n",
            "champion\n",
            "['child', 'universe', 'found', 'found', 'sun', 'planets', 'spinning', 'around', 'spinning', 'around', 'good', 'true', 'gold', 'plated', 'inside', 'inside', 'know', 'whole', 'damn', 'city', 'thinks', 'needs', 'much', 'much', 'yeah', 'cause', 'last', 'dying', 'breed', 'write', 'names', 'wet', 'concrete', 'wonder', 'therapist', 'knows', 'everything', 'search', 'glory', 'million', 'ultrakind', 'love', 'never', 'walk', 'away', 'last', 'real', 'ones', 'last', 'real', 'ones', 'last', 'real', 'ones', 'last', 'real', 'ones', 'last', 'real', 'ones', 'last', 'real', 'ones', 'last', 'real', 'ones', 'collapsing', 'star', 'tunnel', 'vision', 'head', 'stripped', 'like', 'screw', 'tightened', 'many', 'times', 'think', 'think', 'shield', 'waves', 'find', 'protect', 'protect', 'tell', 'tell', 'tell', 'one', 'even', 'true', 'even', 'true', 'yeah', 'cause', 'last', 'dying', 'breed', 'write', 'names', 'wet', 'concrete', 'wonder', 'therapist', 'knows', 'everything', 'search', 'glory', 'million', 'ultrakind', 'love', 'never', 'walk', 'away', 'last', 'real', 'ones', 'last', 'real', 'ones', 'last', 'real', 'ones', 'last', 'real', 'ones', 'last', 'real', 'ones', 'last', 'real', 'ones', 'last', 'real', 'ones', 'beginning', 'end', 'oh', 'end', 'infinity', 'beginning', 'end', 'oh', 'end', 'infinity', 'done', 'dreams', 'thing', 'believe', 'oh', 'drain', 'fear', 'done', 'dreams', 'thing', 'believe', 'drain', 'fear', 'cause', 'last', 'dying', 'breed', 'write', 'names', 'wet', 'concrete', 'wonder', 'therapist', 'knows', 'everything', 'search', 'glory', 'million', 'ultrakind', 'love', 'never', 'walk', 'away', 'last', 'real', 'ones', 'last', 'real', 'ones', 'last', 'real', 'ones', 'last', 'real', 'ones', 'last', 'real', 'ones', 'last', 'real', 'ones', 'last', 'real', 'ones']\n",
            "one\n",
            "['oh', 'na', 'na', 'na', 'na', 'na', 'na', 'na', 'na', 'never', 'really', 'feel', 'thing', 'kinda', 'froze', 'one', 'even', 'kinda', 'came', 'close', 'pinch', 'longer', 'comatose', 'woke', 'luck', 'woke', 'luck', 'stitch', 'comes', 'loose', 'wan', 'na', 'sleep', 'every', 'piece', 'fuzz', 'stuffing', 'comes', 'took', 'many', 'hits', 'memory', 'need', 'come', 'annnnnnnnnother', 'day', 'goes', 'hold', 'tight', 'hold', 'tight', 'dont', 'oh', 'nnno', 'nt', 'story', 'ends', 'hold', 'tight', 'hold', 'tight', 'dont', 'oh', 'na', 'na', 'na', 'na', 'na', 'na', 'na', 'na', 'na', 'na', 'na', 'na', 'na', 'na', 'na', 'na', 'na', 'na', 'oh', 'na', 'na', 'na', 'na', 'na', 'na', 'na', 'na', 'na', 'na', 'na', 'got', 'high', 'realized', 'ca', 'nt', 'friend', 'love', 'death', 'ca', 'nt', 'ca', 'nt', 'pretend', 'lovers', 'first', 'confidants', 'never', 'friends', 'ever', 'friends', 'stitch', 'comes', 'loose', 'wan', 'na', 'sleep', 'every', 'piece', 'fuzz', 'stuffing', 'comes', 'took', 'many', 'hits', 'memory', 'need', 'come', 'annnnnnnnnother', 'day', 'goes', 'hold', 'tight', 'hold', 'tight', 'dont', 'oh', 'nnno', 'nt', 'story', 'ends', 'hold', 'tight', 'hold', 'tight', 'dont', 'oh', 'na', 'na', 'na', 'na', 'na', 'na', 'na', 'na', 'na', 'na', 'na', 'na', 'na', 'na', 'na', 'na', 'na', 'na', 'oh', 'na', 'na', 'na', 'na', 'na', 'na', 'na', 'na', 'na', 'na', 'na', 'hold', 'tight', 'dont', 'cause', 'past', 'limits', 'distance', 'us', 'sharpens', 'like', 'knife', 'past', 'limits', 'distance', 'us', 'sharpens', 'like', 'knife', 'annnnnnnnnother', 'day', 'goes', 'hold', 'tight', 'hold', 'tight', 'dont', 'pretty', 'sure', 'nt', 'story', 'ends', 'hold', 'tight', 'hold', 'tight', 'hold', 'tight', 'dont', 'oh', 'na', 'na', 'na', 'na', 'na', 'na', 'na', 'na', 'na', 'na', 'na', 'na', 'na', 'na', 'na', 'na', 'na', 'na', 'oh', 'na', 'na', 'na', 'na', 'na', 'na', 'na', 'na', 'na', 'na', 'na']\n",
            "na\n"
          ],
          "name": "stdout"
        }
      ]
    },
    {
      "cell_type": "code",
      "metadata": {
        "id": "3Cki83LZbLP8",
        "colab_type": "code",
        "colab": {
          "base_uri": "https://localhost:8080/",
          "height": 36
        },
        "outputId": "95e9c084-d073-4ae6-ec81-7c453412e184"
      },
      "source": [
        "sp.shape"
      ],
      "execution_count": 15,
      "outputs": [
        {
          "output_type": "execute_result",
          "data": {
            "text/plain": [
              "(14, 2)"
            ]
          },
          "metadata": {
            "tags": []
          },
          "execution_count": 15
        }
      ]
    },
    {
      "cell_type": "code",
      "metadata": {
        "id": "ASCGXsvsbslo",
        "colab_type": "code",
        "colab": {
          "base_uri": "https://localhost:8080/",
          "height": 204
        },
        "outputId": "c4b8bb88-7493-4c62-e50e-5b7a45905c37"
      },
      "source": [
        "sp.head()"
      ],
      "execution_count": 18,
      "outputs": [
        {
          "output_type": "execute_result",
          "data": {
            "text/html": [
              "<div>\n",
              "<style scoped>\n",
              "    .dataframe tbody tr th:only-of-type {\n",
              "        vertical-align: middle;\n",
              "    }\n",
              "\n",
              "    .dataframe tbody tr th {\n",
              "        vertical-align: top;\n",
              "    }\n",
              "\n",
              "    .dataframe thead th {\n",
              "        text-align: right;\n",
              "    }\n",
              "</style>\n",
              "<table border=\"1\" class=\"dataframe\">\n",
              "  <thead>\n",
              "    <tr style=\"text-align: right;\">\n",
              "      <th></th>\n",
              "      <th>0</th>\n",
              "      <th>1</th>\n",
              "    </tr>\n",
              "  </thead>\n",
              "  <tbody>\n",
              "    <tr>\n",
              "      <th>0</th>\n",
              "      <td>Just Say Yes</td>\n",
              "      <td>[['I', \"'m\", 'running', 'out', 'of', 'ways', '...</td>\n",
              "    </tr>\n",
              "    <tr>\n",
              "      <th>1</th>\n",
              "      <td>Open Your Eyes [Live]</td>\n",
              "      <td>[['All', 'this', 'feels', 'strange', 'and', 'u...</td>\n",
              "    </tr>\n",
              "    <tr>\n",
              "      <th>2</th>\n",
              "      <td>You're All I Have [Live]</td>\n",
              "      <td>[['Train', 'this', 'chaos', ',', 'turn', 'it',...</td>\n",
              "    </tr>\n",
              "    <tr>\n",
              "      <th>3</th>\n",
              "      <td>Chocolate [Live]</td>\n",
              "      <td>[['This', 'could', 'be', 'the', 'very', 'minut...</td>\n",
              "    </tr>\n",
              "    <tr>\n",
              "      <th>4</th>\n",
              "      <td>Set the Fire to the Third Bar [Live]</td>\n",
              "      <td>[['I', 'find', 'the', 'map', 'and', 'draw', 'a...</td>\n",
              "    </tr>\n",
              "  </tbody>\n",
              "</table>\n",
              "</div>"
            ],
            "text/plain": [
              "                                      0                                                  1\n",
              "0                          Just Say Yes  [['I', \"'m\", 'running', 'out', 'of', 'ways', '...\n",
              "1                 Open Your Eyes [Live]  [['All', 'this', 'feels', 'strange', 'and', 'u...\n",
              "2              You're All I Have [Live]  [['Train', 'this', 'chaos', ',', 'turn', 'it',...\n",
              "3                      Chocolate [Live]  [['This', 'could', 'be', 'the', 'very', 'minut...\n",
              "4  Set the Fire to the Third Bar [Live]  [['I', 'find', 'the', 'map', 'and', 'draw', 'a..."
            ]
          },
          "metadata": {
            "tags": []
          },
          "execution_count": 18
        }
      ]
    },
    {
      "cell_type": "code",
      "metadata": {
        "id": "eofv-VWubPJM",
        "colab_type": "code",
        "colab": {
          "base_uri": "https://localhost:8080/",
          "height": 531
        },
        "outputId": "0e32887c-a6ad-4c80-e05e-ed57bc4747c3"
      },
      "source": [
        "#preprocessing all the songs\n",
        "for i in range(0,13):\n",
        "    song=sp.iloc[i,1]\n",
        "    text=re.sub(r'\\d+','',song)#removing numbers\n",
        "\n",
        "\n",
        "    #lowercasing\n",
        "    text_lower=text.lower()\n",
        "\n",
        "    #punctuation removal \n",
        "    def  remove_punctuation(word): #function will take in the lowercased text and then remove all the punctuation\n",
        "        translator=str.maketrans('','',string.punctuation)\n",
        "        text_punct=word.translate(translator)\n",
        "        return text_punct\n",
        "    result=remove_punctuation(text_lower) #storing the resulting body of  text in variable result\n",
        "\n",
        "    #removing stopwords \n",
        "    def remove_stopwords(word):#The function will   tokenize the result and then filter off  the stop_words \n",
        "        stop_words=set(stopwords.words(\"english\")) \n",
        "        word_tokens= word_tokenize(word)\n",
        "        result=[ word for word in word_tokens if word not in stop_words ]\n",
        "        return result\n",
        "    song=remove_stopwords(result)\n",
        "    print(song)\n",
        "\n",
        "    #lemmatization\n",
        "    lemmatizer=WordNetLemmatizer()\n",
        "    for word in song :\n",
        "        sp_song=lemmatizer.lemmatize(word)\n",
        "    print(sp_song)\n",
        "\n",
        "\n",
        "\n"
      ],
      "execution_count": 16,
      "outputs": [
        {
          "output_type": "stream",
          "text": [
            "['running', 'ways', 'make', 'see', 'want', 'stay', 'beside', 'wo', 'nt', 'ok', 'wo', 'nt', 'pretend', 'tell', 'today', 'take', 'hand', 'please', 'take', 'hand', 'please', 'take', 'hand', 'please', 'take', 'hand', 'please', 'take', 'hand', 'say', 'yes', 'say', 'nothing', 'holding', 'back', 'test', 'trick', 'mind', 'love', 'simple', 'know', 'know', 'ca', 'nt', 'fro', 'like', 'lives', 'way', 'path', 'clear', 'say', 'gods', 'sake', 'dear', 'gods', 'sake', 'dear', 'gods', 'sake', 'dear', 'gods', 'sake', 'dear', 'gods', 'sake', 'dear', 'say', 'yes', 'say', 'nothing', 'holding', 'back', 'test', 'trick', 'mind', 'love', 'say', 'yes', 'cause', 'aching', 'know', 'touch', 'warm', 'skin', 'breathe', 'feel', 'heart', 'beat', 'shirt', 'wanted', 'want', 'want', 'want', 'want', 'want', 'say', 'yes', 'say', 'nothing', 'holding', 'back', 'test', 'trick', 'mind', 'love', 'say', 'yes', 'cause', 'aching', 'know', 'touch', 'warm', 'skin', 'breathe']\n",
            "breathe\n",
            "['feels', 'strange', 'untrue', 'wo', 'nt', 'waste', 'minute', 'without', 'bones', 'ache', 'skin', 'feels', 'cold', 'getting', 'tired', 'old', 'anger', 'swells', 'guts', 'wo', 'nt', 'feel', 'slices', 'cuts', 'want', 'much', 'open', 'eyes', 'cause', 'need', 'look', 'mine', 'tell', 'open', 'eyes', 'tell', 'open', 'eyes', 'tell', 'open', 'eyes', 'tell', 'open', 'eyes', 'get', 'get', 'get', 'away', 'liars', 'cause', 'nt', 'get', 'soul', 'fire', 'take', 'hand', 'knot', 'fingers', 'mine', 'walk', 'dark', 'room', 'last', 'time', 'every', 'minute', 'minute', 'like', 'anywhere', 'want', 'much', 'open', 'eyes', 'cause', 'need', 'look', 'mine', 'tell', 'open', 'eyes', 'tell', 'open', 'eyes', 'tell', 'open', 'eyes', 'tell', 'open', 'eyes', 'tell', 'open', 'eyes', 'tell', 'open', 'eyes', 'tell', 'open', 'eyes', 'tell', 'open', 'eyes', 'feels', 'strange', 'untrue', 'wo', 'nt', 'waste', 'minute', 'without']\n",
            "without\n",
            "['train', 'chaos', 'turn', 'light', 'got', 'ta', 'see', 'one', 'last', 'night', 'lions', 'take', 'share', 'leave', 'us', 'pieces', 'scattered', 'everywhere', 'give', 'chance', 'hold', 'give', 'chance', 'hold', 'give', 'chance', 'hold', 'give', 'something', 'hold', 'onto', 'clear', 'fear', 'cause', 'clear', 'fear', 'cause', 'cinematic', 'razor', 'sharp', 'welcome', 'arrow', 'heart', 'skin', 'feels', 'like', 'home', 'electric', 'shocks', 'aching', 'bones', 'give', 'chance', 'hold', 'give', 'chance', 'hold', 'give', 'chance', 'hold', 'give', 'something', 'hold', 'onto', 'clear', 'fear', 'cause', 'clear', 'fear', 'cause', 'darkness', 'deep', 'frightening', 'magic', 'cling', 'give', 'chance', 'hold', 'give', 'chance', 'hold', 'give', 'chance', 'hold', 'give', 'something', 'hold', 'onto', 'clear', 'fear', 'clear', 'fear']\n",
            "fear\n",
            "['could', 'minute', 'aware', 'alive', 'places', 'feel', 'like', 'home', 'name', 'never', 'chosen', 'make', 'first', 'steps', 'child', 'straw', 'final', 'straw', 'roof', 'mouth', 'lie', 'sorry', 'nt', 'mean', 'nt', 'enjoy', 'time', 'thing', 'love', 'scares', 'every', 'day', 'knees', 'think', 'clearer', 'goodness', 'knows', 'saw', 'coming', 'least', 'claim', 'truth', 'lost', 'words', 'done', 'late', 'become', 'truth', 'nothing', 'yet', 'simple', 'mistake', 'starts', 'hardest', 'time', 'promise', 'anything', 'ask', 'time']\n",
            "time\n",
            "['find', 'map', 'draw', 'straight', 'line', 'rivers', 'farms', 'state', 'lines', 'distance', 'fingerlengths', 'see', 'touch', 'place', 'find', 'face', 'fingers', 'increases', 'distant', 'dark', 'places', 'hang', 'coat', 'first', 'bar', 'peace', 'found', 'far', 'laughter', 'penetrates', 'silence', 'drunken', 'men', 'find', 'flaws', 'science', 'word', 'mostly', 'noises', 'ghosts', 'voices', 'words', 'memory', 'like', 'music', 'miles', 'lay', 'cold', 'ground', 'pray', 'something', 'picks', 'sets', 'warm', 'arms', 'traveled', 'far', 'set', 'fire', 'third', 'bar', 'share', 'like', 'island', 'exhausted', 'close', 'eyelids', 'dreaming', 'pick', 'last', 'place', 'left', 'soft', 'skin', 'weeping', 'joy', 'ca', 'nt', 'keep', 'miles', 'lay', 'cold', 'ground', 'pray', 'something', 'picks', 'sets', 'warm', 'arms', 'miles', 'lay', 'cold', 'ground', 'pray', 'something', 'picks', 'sets', 'warm', 'arms']\n",
            "arm\n",
            "['everything', 'nt', 'need', 'anything', 'anyone', 'lay', 'lay', 'would', 'lie', 'forget', 'world', 'nt', 'quite', 'know', 'say', 'feel', 'three', 'words', 'said', 'much', 'enough', 'lay', 'lay', 'would', 'lie', 'forget', 'world', 'forget', 'told', 'get', 'old', 'show', 'garden', 'bursting', 'life', 'let', 'waste', 'time', 'chasing', 'cars', 'around', 'heads', 'need', 'grace', 'remind', 'find', 'lay', 'lay', 'would', 'lie', 'forget', 'world', 'forget', 'told', 'get', 'old', 'show', 'garden', 'bursting', 'life', 'ever', 'perfect', 'eyes', 'see', 'nt', 'know', 'confused', 'well', 'know', 'things', 'never', 'change', 'us', 'lay', 'lay', 'would', 'lie', 'forget', 'world']\n",
            "world\n",
            "['shut', 'eyes', 'think', 'somewhere', 'somewhere', 'cold', 'caked', 'snow', 'fire', 'break', 'quiet', 'learn', 'wear', 'well', 'worrying', 'starts', 'hurt', 'world', 'feels', 'like', 'graves', 'dirt', 'close', 'eyes', 'imagine', 'place', 'yeah', 'secret', 'space', 'shut', 'eyes', 'spin', 'big', 'chair', 'feel', 'dizzy', 'light', 'free', 'falling', 'gently', 'cushion', 'come', 'sing', 'worrying', 'starts', 'hurt', 'world', 'feels', 'like', 'graves', 'dirt', 'close', 'eyes', 'imagine', 'place', 'yeah', 'secret', 'space', 'shut', 'eyes', 'shut', 'eyes', 'shut', 'eyes', 'shut', 'eyes', 'shut', 'eyes', 'sing', 'shut', 'eyes', 'sing', 'shut', 'eyes', 'sing', 'shut', 'eyes', 'sing', 'shut', 'eyes', 'sing', 'shut', 'eyes', 'sing', 'shut', 'eyes', 'sing', 'shut', 'eyes', 'sing', 'shut', 'eyes', 'sing', 'shut', 'eyes', 'sing']\n",
            "sing\n",
            "['price', 'guess', 'lies', 'told', 'truth', 'longer', 'thrills', 'ca', 'nt', 'laugh', 'put', 'childish', 'things', 'away', 'lost', 'magic', 'end', 'end', 'nothing', 'life', 'love', 'end', 'end', 'time', 'us', 'lose', 'weary', 'minds', 'dance', 'like', 'used', 'dance', 'remember', 'move', 'together', 'torch', 'makes', 'sense', 'waited', 'forever', 'waited', 'forever', 'end', 'end', 'nothing', 'life', 'love', 'end', 'end', 'time', 'us', 'lose', 'weary', 'minds', 'lost', 'til', 'learn', 'ask', 'lost', 'til', 'learn', 'ask', 'lost', 'til', 'learn', 'ask', 'please', 'please', 'ask', 'end', 'end', 'nothing', 'life', 'love', 'end', 'end', 'time', 'us', 'lose', 'weary', 'minds', 'nothing', 'life', 'love']\n",
            "love\n",
            "['beside', 'instead', 'new', 'york', 'curve', 'curved', 'tell', 'loved', 'even', 'knew', 'cause', 'loved', 'simple', 'thought', 'hearts', 'never', 'broken', 'joy', 'mending', 'much', 'hurt', 'teach', 'us', 'distance', 'silence', 'words', 'never', 'left', 'prayer', 'say', 'every', 'day', 'come', 'come', 'come', 'come', 'come', 'come', 'come', 'come', 'come', 'come', 'come', 'come', 'come', 'come', 'come', 'come', 'lone', 'neon', 'lights', 'ache', 'ocean', 'fire', 'starting', 'spark', 'miss', 'love', 'lightning', 'lack', 'snaps', 'two', 'beside', 'instead', 'new', 'york', 'arms', 'said', 'never', 'leave', 'tell', 'simple', 'ever', 'thus', 'nowhere', 'else', 'belong', 'come', 'come', 'come', 'come', 'come', 'come', 'come', 'come', 'come', 'come', 'come', 'come', 'come', 'come', 'come', 'come', 'lone', 'neon', 'lights', 'ache', 'ocean', 'fire', 'starting', 'spark', 'miss', 'love', 'lightning', 'lack', 'snaps', 'two', 'give', 'sign', 'end', 'beginning', 'quiet', 'chaos', 'driving', 'back', 'lone', 'neon', 'lights', 'warmth', 'ocean', 'fire', 'starting', 'go']\n",
            "go\n",
            "['ca', 'nt', 'find', 'phone', 'call', 'might', 'best', 'ca', 'nt', 'walk', 'away', 'anyway', 'cause', 'nowhere', 'else', 'go', 'worth', 'simple', 'yes', 'cause', 'think', 'fucked', 'feels', 'like', 'loved', 'loved', 'wish', 'never', 'met', 'nt', 'keel', 'nt', 'keel', 'nt', 'keel', 'nt', 'keel', 'night', 'night', 'lost', 'count', 'drinks', 'time', 'friends', 'keep', 'calling', 'worried', 'sick', 'strangers', 'everywhere', 'nt', 'keel', 'nt', 'keel', 'nt', 'keel', 'nt', 'keel', 'one', 'little', 'moment', 'implodes', 'nt', 'everything', 'breathe', 'deeply', 'silence', 'sudden', 'moves', 'nt', 'everything', 'take', 'hand', 'offered', 'hold', 'tight', 'nt', 'everything', 'joy', 'far', 'know', 'nt', 'everything', 'took', 'call', 'could', 'know', 'slipped', 'away', 'last', 'night', 'wish', 'went', 'home', 'days', 'ago', 'say', 'goodbye', 'hello', 'nt', 'keel', 'nt', 'keel', 'nt', 'keel', 'nt', 'keel', 'one', 'little', 'moment', 'implodes', 'nt', 'everything', 'breathe', 'deeply', 'silence', 'sudden', 'moves', 'nt', 'everything', 'take', 'hand', 'offered', 'hold', 'tight', 'nt', 'everything', 'joy', 'far', 'know', 'nt', 'everything', 'nt', 'everything', 'nt', 'everything']\n",
            "everything\n",
            "['seems', 'day', 'house', 'burned', 'ground', 'day', 'always', 'planned', 'leave', 'anyway', 'vast', 'empire', 'come', 'get', 'makes', 'world', 'look', 'like', 'pennies', 'hand', 'never', 'let', 'go', 'never', 'let', 'go', 'said', 'loud', 'never', 'let', 'go', 'never', 'let', 'go', 'shouted', 'words', 'shook', 'right', 'daydream', 'lost', 'somewhere', 'cold', 'looked', 'haunted', 'asking', 'strangers', 'one', 'understood', 'drenched', 'sweat', 'words', 'came', 'never', 'let', 'go', 'never', 'let', 'go', 'said', 'loud', 'never', 'let', 'go', 'never', 'let', 'go', 'shouted', 'oh', 'oh', 'oh', 'oh', 'oh', 'oh', 'oh', 'oh', 'last', 'highway', 'would', 'ever', 'travel', 'long', 'road', 'daughter', 'wife', 'son', 'bus', 'stopped', 'beat', 'california', 'tired', 'feet', 'ached', 'road', 'never', 'let', 'go', 'never', 'let', 'go', 'said', 'loud', 'never', 'let', 'go', 'never', 'let', 'go', 'shouted', 'never', 'let', 'go', 'never', 'let', 'go', 'said', 'loud', 'never', 'let', 'go', 'never', 'let', 'go', 'shouted', 'oh', 'oh', 'oh', 'oh', 'oh', 'oh', 'oh', 'oh', 'oh', 'oh', 'oh', 'oh', 'oh', 'oh', 'oh', 'oh']\n",
            "oh\n",
            "['broke', 'house', 'last', 'night', 'left', 'note', 'bedside', 'far', 'shy', 'speak', 'school', 'leave', 'numb', 'sure', 'find', 'easier', 'sit', 'stare', 'push', 'limbs', 'towards', 'right', 'heart', 'bursting', 'perfect', 'eyes', 'blue', 'oceans', 'pure', 'skies', 'struggle', 'words', 'give', 'heads', 'birds', 'thut', 'little', 'piece', 'mind', 'know', 'better', 'plain', 'disgrace', 'letters', 'floodgates', 'opened', 'fell', 'love', 'everyone', 'saw', 'please', 'take', 'time', 'rush', 'everything', 'ever', 'write', 'need', 'extra', 'weight', 'confused', 'enough', 'life', 'thanks', 'lot', 'lonely', 'written', 'words', 'company', 'raise', 'roof', 'follow']\n",
            "follow\n",
            "['trying', 'stare', 'late', 'blankets', 'like', 'broken', 'colder', 'hell', 'said', 'come', 'back', 'breakfast', 'get', 'cold', 'really', 'go', 'easier', 'lie', 'safe', 'time', 'time', 'half', 'stalled', 'one', 'giant', 'leap', 'faith', 'easy', 'everyone', 'ask', 'sure', 'give', 'second', 'thought', 'nt', 'get', 'caught', 'say', 'love', 'forget', 'whole', 'row', 'save', 'energy', 'making']\n",
            "making\n"
          ],
          "name": "stdout"
        }
      ]
    },
    {
      "cell_type": "code",
      "metadata": {
        "id": "2fsQ8FjEb4n1",
        "colab_type": "code",
        "colab": {
          "base_uri": "https://localhost:8080/",
          "height": 36
        },
        "outputId": "47de9602-b888-45fe-cd8d-586f620ad5b9"
      },
      "source": [
        "id.head()\n",
        "id.shape"
      ],
      "execution_count": 19,
      "outputs": [
        {
          "output_type": "execute_result",
          "data": {
            "text/plain": [
              "(15, 2)"
            ]
          },
          "metadata": {
            "tags": []
          },
          "execution_count": 19
        }
      ]
    },
    {
      "cell_type": "code",
      "metadata": {
        "id": "sdwXXEWVcLRa",
        "colab_type": "code",
        "colab": {
          "base_uri": "https://localhost:8080/",
          "height": 531
        },
        "outputId": "1d166533-b5d7-4214-f053-5138322d0bae"
      },
      "source": [
        "#preprocessing all the songs\n",
        "for i in range(0,14):\n",
        "    song=id.iloc[i,1]\n",
        "    text=re.sub(r'\\d+','',song)#removing numbers\n",
        "    #lowercasing\n",
        "    text_lower=text.lower()\n",
        "\n",
        "    #punctuation removal \n",
        "    def  remove_punctuation(word): #function will take in the lowercased text and then remove all the punctuation\n",
        "        translator=str.maketrans('','',string.punctuation)\n",
        "        text_punct=word.translate(translator)\n",
        "        return text_punct\n",
        "    result=remove_punctuation(text_lower) #storing the resulting body of  text in variable result\n",
        "\n",
        "    #removing stopwords \n",
        "    def remove_stopwords(word):#The function will   tokenize the result and then filter off  the stop_words \n",
        "        stop_words=set(stopwords.words(\"english\")) \n",
        "        word_tokens= word_tokenize(word)\n",
        "        result=[ word for word in word_tokens if word not in stop_words ]\n",
        "        return result\n",
        "    song=remove_stopwords(result)\n",
        "    print(song)\n",
        "\n",
        "    #lemmatization\n",
        "    lemmatizer=WordNetLemmatizer()\n",
        "    for word in song :\n",
        "        id_song=lemmatizer.lemmatize(word)\n",
        "    print(id_song)\n",
        "\n",
        "\n",
        "\n"
      ],
      "execution_count": 20,
      "outputs": [
        {
          "output_type": "stream",
          "text": [
            "['first', 'things', 'first', 'ima', 'say', 'words', 'inside', 'head', 'fired', 'tired', 'way', 'things', 'oh', 'ooh', 'way', 'things', 'oh', 'ooh', 'second', 'thing', 'second', 'nt', 'tell', 'think', 'one', 'sail', 'master', 'sea', 'oh', 'ooh', 'master', 'sea', 'oh', 'ooh', 'broken', 'young', 'age', 'taking', 'sulking', 'masses', 'write', 'poems', 'looked', 'took', 'shook', 'feeling', 'singing', 'heartache', 'pain', 'taking', 'message', 'veins', 'speaking', 'lesson', 'brain', 'seeing', 'beauty', 'pain', 'made', 'made', 'believer', 'believer', 'pain', 'pain', 'break', 'build', 'believer', 'believer', 'pain', 'oh', 'let', 'bullets', 'fly', 'oh', 'let', 'rain', 'life', 'love', 'drive', 'came', 'pain', 'made', 'made', 'believer', 'believer', 'third', 'things', 'third', 'send', 'prayer', 'ones', 'hate', 'heard', 'turned', 'spirit', 'dove', 'oh', 'ooh', 'spirit', 'oh', 'ooh', 'choking', 'crowd', 'building', 'rain', 'cloud', 'falling', 'like', 'ashes', 'ground', 'hoping', 'feelings', 'would', 'drown', 'never', 'ever', 'lived', 'ebbing', 'flowing', 'inhibited', 'limited', 'til', 'broke', 'rained', 'rained', 'like', 'pain', 'made', 'made', 'believer', 'believer', 'pain', 'pain', 'break', 'built', 'believer', 'believer', 'pain', 'let', 'bullets', 'fly', 'oh', 'let', 'rain', 'life', 'love', 'drive', 'came', 'pain', 'made', 'made', 'believer', 'believer', 'last', 'things', 'last', 'grace', 'fire', 'flames', 'face', 'future', 'blood', 'veins', 'oh', 'ooh', 'blood', 'veins', 'oh', 'ooh', 'never', 'ever', 'lived', 'ebbing', 'flowing', 'inhibited', 'limited', 'til', 'broke', 'rained', 'rained', 'like', 'pain', 'made', 'made', 'believer', 'believer', 'pain', 'pain', 'break', 'built', 'believer', 'believer', 'pain', 'let', 'bullets', 'fly', 'oh', 'let', 'rain', 'life', 'love', 'drive', 'came', 'pain', 'made', 'made', 'believer', 'believer']\n",
            "believer\n",
            "['could', 'strangers', 'night', 'could', 'passing', 'shadows', 'could', 'nt', 'closer', 'tried', 'caught', 'headlights', 'could', 'faces', 'crowd', 'could', 'passing', 'shadows', 'upping', 'risk', 'found', 'caught', 'headlights', 'dangerous', 'love', 'always', 'dangerous', 'lost', 'us', 'livin', 'lying', 'trust', 'nt', 'know', 'guess', 'got', 'something', 'nt', 'know', 'guess', 'got', 'something', 'faking', 'alibi', 'trading', 'truth', 'lie', 'oh', 'essence', 'desire', 'caught', 'headlights', 'dangerous', 'love', 'always', 'dangerous', 'lost', 'us', 'livin', 'lying', 'trust', 'nt', 'know', 'guess', 'got', 'something', 'nt', 'know', 'guess', 'got', 'something', 'nt', 'know', 'nt', 'know', 'guess', 'got', 'something', 'nt', 'know', 'nt', 'know', 'nt', 'know', 'guess', 'got', 'something', 'love', 'tell', 'love', 'tell', 'love', 'tell', 'love', 'tell', 'love', 'dangerous', 'tell', 'love', 'tell', 'love', 'love', 'always', 'dangerous', 'tell', 'love', 'nt', 'know', 'nt', 'know', 'guess', 'got', 'something', 'nt', 'know', 'nt', 'know', 'nt', 'know', 'guess', 'got', 'something', 'nt', 'know', 'nt', 'know', 'guess', 'got', 'something', 'nt', 'know', 'nt', 'know', 'nt', 'know', 'guess', 'got', 'something']\n",
            "something\n",
            "['something', 'way', 'walked', 'living', 'room', 'casually', 'confident', 'lookin', 'mess', 'still', 'still', 'want', 'stress', 'lines', 'cigarettes', 'politics', 'deficits', 'late', 'bills', 'overages', 'screamin', 'hollerin', 'still', 'still', 'want', 'oh', 'always', 'let', 'shattered', 'ground', 'still', 'find', 'next', 'oh', 'stupid', 'things', 'far', 'good', 'true', 'still', 'find', 'next', 'next', 'something', 'way', 'always', 'see', 'pretty', 'view', 'overlook', 'blooded', 'mess', 'always', 'lookin', 'effortless', 'still', 'still', 'want', 'got', 'innocence', 'faith', 'ai', 'nt', 'privilege', 'deck', 'cards', 'vice', 'game', 'hearts', 'still', 'still', 'want', 'oh', 'always', 'let', 'shattered', 'ground', 'still', 'find', 'next', 'oh', 'stupid', 'things', 'far', 'good', 'true', 'still', 'find', 'next', 'thank', 'taking', 'chance', 'know', 'nt', 'easy', 'hope', 'worth', 'oh', 'thank', 'taking', 'chance', 'know', 'nt', 'easy', 'hope', 'worth', 'oh', 'oh', 'always', 'let', 'always', 'let', 'shattered', 'ground', 'shattered', 'ground', 'still', 'find', 'next', 'oh', 'stupid', 'things', 'stupid', 'things', 'far', 'good', 'true', 'still', 'find', 'next', 'next']\n",
            "next\n",
            "['falling', 'fast', 'prepare', 'tripping', 'world', 'could', 'dangerous', 'everybody', 'circling', 'vulturous', 'negative', 'nepotist', 'everybody', 'waiting', 'fall', 'man', 'everybody', 'praying', 'end', 'times', 'everybody', 'hoping', 'could', 'one', 'born', 'run', 'born', 'whip', 'whip', 'run', 'like', 'racehorse', 'pull', 'like', 'ripcord', 'break', 'build', 'wan', 'na', 'slip', 'slip', 'word', 'upon', 'lip', 'lip', 'letter', 'rip', 'rip', 'break', 'build', 'whatever', 'takes', 'cause', 'love', 'adrenaline', 'veins', 'whatever', 'takes', 'cause', 'love', 'feels', 'break', 'chains', 'whatever', 'takes', 'take', 'top', 'ready', 'whatever', 'takes', 'cause', 'love', 'adrenaline', 'veins', 'takes', 'always', 'fear', 'typical', 'looking', 'body', 'feeling', 'miserable', 'always', 'hanging', 'visual', 'wan', 'na', 'invisible', 'looking', 'years', 'like', 'martyrdom', 'everybody', 'needs', 'part', 'em', 'never', 'enough', 'prodigal', 'son', 'born', 'run', 'born', 'whip', 'whip', 'run', 'like', 'racehorse', 'pull', 'like', 'ripcord', 'break', 'build', 'wan', 'na', 'slip', 'slip', 'word', 'upon', 'lip', 'lip', 'letter', 'rip', 'rip', 'break', 'build', 'whatever', 'takes', 'cause', 'love', 'adrenaline', 'veins', 'whatever', 'takes', 'cause', 'love', 'feels', 'break', 'chains', 'whatever', 'takes', 'take', 'top', 'ready', 'whatever', 'takes', 'cause', 'love', 'adrenaline', 'veins', 'takes', 'hypocritical', 'egotistical', 'nt', 'wan', 'na', 'parenthetical', 'hypothetical', 'working', 'onto', 'something', 'proud', 'box', 'epoxy', 'world', 'vision', 'lost', 'apostrophe', 'symbol', 'remind', 'see', 'product', 'system', 'catastrophe', 'yet', 'masterpiece', 'yet', 'halfdiseased', 'deceased', 'least', 'go', 'grave', 'die', 'happily', 'leave', 'body', 'soul', 'part', 'thee', 'takes', 'whatever', 'takes', 'cause', 'love', 'adrenaline', 'veins', 'whatever', 'takes', 'cause', 'love', 'feels', 'break', 'chains', 'whatever', 'takes', 'take', 'top', 'ready', 'whatever', 'takes', 'cause', 'love', 'adrenaline', 'veins', 'takes']\n",
            "take\n",
            "['feel', 'away', 'know', 'line', 'walk', 'could', 'turn', 'around', 'could', 'give', 'take', 'comes', 'take', 'comes', 'oh', 'storm', 'raging', 'us', 'afraid', 'falling', 'nt', 'look', 'took', 'step', 'took', 'leap', 'take', 'comes', 'take', 'comes', 'feel', 'wind', 'hair', 'feel', 'rush', 'way', 'walking', 'wire', 'love', 'walking', 'wire', 'love', 'gon', 'na', 'higher', 'walking', 'wire', 'wire', 'wire', 'nights', 'walk', 'away', 'tears', 'cry', 'tears', 'fade', 'price', 'pay', 'comes', 'love', 'take', 'comes', 'take', 'comes', 'feel', 'wind', 'hair', 'feel', 'rush', 'way', 'walking', 'wire', 'love', 'walking', 'wire', 'love', 'gon', 'na', 'higher', 'walking', 'wire', 'wire', 'wire', 'look', 'look', 'look', 'walking', 'wire', 'wire', 'wire', 'look', 'oh', 'take', 'hand', 'thunder', 'roars', 'hold', 'close', 'stay', 'course', 'promise', 'take', 'comes', 'take', 'comes', 'love', 'walking', 'wire', 'love', 'walking', 'wire', 'love', 'gon', 'na', 'higher', 'walking', 'wire', 'wire', 'wire', 'look', 'look', 'look', 'walking', 'wire', 'wire', 'wire', 'look', 'walking', 'wire', 'walking', 'wire', 'walking', 'wire', 'wire', 'wire']\n",
            "wire\n",
            "['young', 'gun', 'quick', 'fuse', 'uptight', 'wan', 'na', 'let', 'loose', 'dreaming', 'bigger', 'things', 'wan', 'na', 'leave', 'life', 'behind', 'yes', 'sir', 'follower', 'fit', 'box', 'fit', 'mold', 'seat', 'foyer', 'take', 'number', 'lightning', 'thunder', 'thunder', 'thunder', 'thunder', 'thun', 'thunder', 'thunthunthunder', 'thunder', 'thunder', 'thunder', 'thun', 'thunder', 'thunthunthunder', 'thunder', 'thunder', 'feel', 'thunder', 'lightning', 'thunder', 'thunder', 'feel', 'thunder', 'lightning', 'thunder', 'thunder', 'thunder', 'thunder', 'kids', 'laughing', 'classes', 'scheming', 'masses', 'think', 'dreaming', 'bout', 'big', 'star', 'say', 'basic', 'say', 'easy', 'always', 'riding', 'back', 'seat', 'smiling', 'stage', 'clapping', 'nose', 'bleeds', 'thunder', 'thunder', 'thun', 'thunder', 'thunthunthunder', 'thunder', 'thunder', 'thunder', 'thun', 'thunder', 'thunthunthunder', 'thunder', 'thunder', 'feel', 'thunder', 'lightning', 'thunder', 'thunder', 'feel', 'thunder', 'lightning', 'thunder', 'thunder', 'thunder', 'feel', 'thunder', 'lightning', 'thunder', 'thunder', 'thunder', 'feel', 'thunder', 'lightning', 'thunder', 'thunder', 'thunder', 'feel', 'thunder', 'lightning', 'thunder', 'thunder', 'thunder', 'feel', 'thunder', 'lightning', 'thunder', 'thunder', 'thunder', 'feel', 'thunder', 'lightning', 'thunder', 'thunder', 'thunder', 'thunder', 'thunder', 'thunthunthunder', 'thunder', 'thunder', 'thunder', 'thunder', 'thunthunthunder', 'thunder', 'thunder', 'thunder', 'thunder', 'thunthunthunder', 'thunder', 'thunder', 'thunder', 'thunder', 'thunthunthunder', 'thunder']\n",
            "thunder\n",
            "['clenched', 'teeth', 'words', 'distance', 'taking', 'toll', 'speaking', 'volumes', 'silence', 'screaming', 'words', 'never', 'right', 'know', 'many', 'sleepless', 'nights', 'said', 'time', 'time', 'know', 'want', 'try', 'start', 'start', 'start', 'cold', 'nights', 'cold', 'sheets', 'one', 'lonely', 'empty', 'hotel', 'room', 'give', 'find', 'way', 'back', 'never', 'right', 'know', 'many', 'sleepless', 'nights', 'said', 'time', 'time', 'know', 'want', 'try', 'start', 'start', 'start', 'start', 'get', 'closer', 'start', 'come', 'alive', 'come', 'alive', 'come', 'alive', 'come', 'alive', 'come', 'alive', 'come', 'alive', 'come', 'alive', 'come', 'alive', 'come', 'alive', 'come', 'alive', 'come', 'alive', 'come', 'alive', 'start', 'start', 'start', 'start', 'start', 'come', 'alive', 'come', 'alive', 'come', 'alive', 'get', 'closer', 'come', 'alive', 'come', 'alive', 'come', 'alive', 'start', 'come', 'alive', 'come', 'alive', 'come', 'alive', 'come', 'alive', 'come', 'alive', 'come', 'alive']\n",
            "alive\n",
            "['hoping', 'indication', 'seeking', 'higher', 'elevation', 'ay', 'ay', 'ay', 'ay', 'ay', 'ay', 'shaken', 'wakin', 'night', 'light', 'breakin', 'hiding', 'spotlight', 'ay', 'ay', 'ay', 'ay', 'ay', 'ay', 'stray', 'less', 'fear', 'reach', 'fade', 'away', 'darkness', 'right', 'front', 'oh', 'calling', 'wo', 'nt', 'walk', 'away', 'would', 'always', 'open', 'door', 'always', 'looking', 'higher', 'floors', 'want', 'see', 'give', 'rise', 'rise', 'always', 'making', 'changes', 'walking', 'street', 'meeting', 'strangers', 'flipping', 'life', 'turning', 'pages', 'rise', 'rise', 'like', 'prayer', 'needs', 'reason', 'like', 'hunter', 'waiting', 'season', 'ay', 'ay', 'ay', 'ay', 'ay', 'ay', 'always', 'leaving', 'believe', 'never', 'breathing', 'ay', 'ay', 'ay', 'ay', 'ay', 'ay', 'stray', 'less', 'fear', 'reach', 'fade', 'away', 'darkness', 'right', 'front', 'oh', 'calling', 'wo', 'nt', 'walk', 'away', 'would', 'always', 'open', 'door', 'always', 'looking', 'higher', 'floors', 'want', 'see', 'give', 'rise', 'rise', 'always', 'making', 'changes', 'walking', 'street', 'meeting', 'strangers', 'flipping', 'life', 'turning', 'pages', 'rise', 'rise', 'bursting', 'like', 'th', 'july', 'color', 'blow', 'away', 'broken', 'prime', 'life', 'embrace', 'leave', 'stray', 'would', 'always', 'open', 'door', 'always', 'looking', 'higher', 'floors', 'want', 'see', 'give', 'rise', 'rise', 'always', 'making', 'changes', 'walking', 'street', 'meeting', 'strangers', 'flipping', 'life', 'turning', 'pages', 'rise', 'rise', 'would', 'always', 'open', 'door', 'always', 'looking', 'higher', 'floors', 'want', 'see', 'give', 'rise', 'rise', 'always', 'making', 'changes', 'walking', 'street', 'meeting', 'strangers', 'flipping', 'life', 'turning', 'pages', 'rise', 'rise']\n",
            "rise\n",
            "['whoa', 'oh', 'oh', 'whoa', 'oh', 'oh', 'whoa', 'oh', 'oh', 'whoa', 'waking', 'ash', 'dust', 'wipe', 'brow', 'sweat', 'rust', 'breathing', 'chemicals', 'breaking', 'shaping', 'checking', 'prison', 'bus', 'apocalypse', 'whoa', 'waking', 'feel', 'bones', 'enough', 'make', 'systems', 'blow', 'welcome', 'new', 'age', 'new', 'age', 'welcome', 'new', 'age', 'new', 'age', 'whoa', 'oh', 'oh', 'oh', 'oh', 'whoa', 'oh', 'oh', 'oh', 'radioactive', 'radioactive', 'whoa', 'oh', 'oh', 'oh', 'oh', 'whoa', 'oh', 'oh', 'oh', 'radioactive', 'radioactive', 'raise', 'flags', 'clothes', 'revolution', 'suppose', 'paint', 'red', 'fit', 'right', 'whoa', 'breaking', 'shaping', 'checking', 'prison', 'bus', 'apocalypse', 'whoa', 'waking', 'feel', 'bones', 'enough', 'make', 'systems', 'blow', 'welcome', 'new', 'age', 'new', 'age', 'welcome', 'new', 'age', 'new', 'age', 'whoa', 'oh', 'oh', 'oh', 'oh', 'whoa', 'oh', 'oh', 'oh', 'radioactive', 'radioactive', 'whoa', 'oh', 'oh', 'oh', 'oh', 'whoa', 'oh', 'oh', 'oh', 'radioactive', 'radioactive', 'systems', 'go', 'sun', 'nt', 'died', 'deep', 'bones', 'straight', 'inside', 'waking', 'feel', 'bones', 'enough', 'make', 'systems', 'blow', 'welcome', 'new', 'age', 'new', 'age', 'welcome', 'new', 'age', 'new', 'age', 'whoa', 'oh', 'oh', 'oh', 'oh', 'whoa', 'oh', 'oh', 'oh', 'radioactive', 'radioactive', 'whoa', 'oh', 'oh', 'oh', 'oh', 'whoa', 'oh', 'oh', 'oh', 'radioactive', 'radioactive']\n",
            "radioactive\n",
            "['days', 'cold', 'cards', 'fold', 'saints', 'see', 'made', 'gold', 'dreams', 'fail', 'ones', 'hail', 'worst', 'blood', 'run', 'stale', 'wan', 'na', 'hide', 'truth', 'wan', 'na', 'shelter', 'beast', 'inside', 'nowhere', 'hide', 'matter', 'breed', 'still', 'made', 'greed', 'kingdom', 'come', 'kingdom', 'come', 'feel', 'heat', 'look', 'eyes', 'demons', 'hide', 'demons', 'hide', 'nt', 'get', 'close', 'dark', 'inside', 'demons', 'hide', 'demons', 'hide', 'curtain', 'call', 'last', 'lights', 'fade', 'sinners', 'crawl', 'dug', 'grave', 'masquerade', 'come', 'calling', 'mess', 'made', 'nt', 'wan', 'na', 'let', 'hell', 'bound', 'though', 'nt', 'wan', 'na', 'hide', 'truth', 'matter', 'breed', 'still', 'made', 'greed', 'kingdom', 'come', 'kingdom', 'come', 'feel', 'heat', 'look', 'eyes', 'demons', 'hide', 'demons', 'hide', 'nt', 'get', 'close', 'dark', 'inside', 'demons', 'hide', 'demons', 'hide', 'say', 'make', 'say', 'fate', 'woven', 'soul', 'need', 'let', 'go', 'eyes', 'shine', 'bright', 'wan', 'na', 'save', 'light', 'ca', 'nt', 'escape', 'unless', 'show', 'feel', 'heat', 'look', 'eyes', 'demons', 'hide', 'demons', 'hide', 'nt', 'get', 'close', 'dark', 'inside', 'demons', 'hide', 'demons', 'hide']\n",
            "hide\n",
            "['love', 'somebody', 'better', 'tell', 'cause', 'may', 'run', 'away', 'never', 'know', 'went', 'well', 'depends', 'long', 'time', 'left', 'highest', 'mountains', 'deepest', 'rivers', 'til', 'move', 'take', 'nt', 'look', 'cause', 'top', 'world', 'ey', 'top', 'world', 'ey', 'waiting', 'paying', 'dues', 'dirt', 'waiting', 'smile', 'ey', 'holding', 'ey', 'take', 'dreaming', 'since', 'child', 'top', 'world', 'tried', 'cut', 'corners', 'try', 'take', 'easy', 'way', 'kept', 'falling', 'short', 'something', 'coulda', 'gave', 'could', 'nt', 'cause', 'traveled', 'way', 'something', 'take', 'nt', 'look', 'cause', 'top', 'world', 'ey', 'top', 'world', 'ey', 'waiting', 'paying', 'dues', 'dirt', 'waiting', 'smile', 'ey', 'holding', 'ey', 'take', 'dreaming', 'since', 'child', 'top', 'world', 'cause', 'top', 'world', 'ey', 'top', 'world', 'ey', 'waiting', 'paying', 'dues', 'dirt', 'waiting', 'smile', 'ey', 'holding', 'ey', 'take', 'dreaming', 'since', 'child', 'know', 'hard', 'falling', 'long', 'way', 'hit', 'ground', 'get', 'get', 'get', 'know', 'hard', 'falling', 'long', 'way', 'hit', 'ground', 'get', 'get', 'get', 'cause', 'top', 'world', 'ey', 'top', 'world', 'ey', 'waiting', 'paying', 'dues', 'dirt', 'waiting', 'smile', 'ey', 'holding', 'ey', 'take', 'dreaming', 'since', 'child', 'top', 'world']\n",
            "world\n",
            "['living', 'way', 'escaping', 'way', 'circling', 'part', 'play', 'think', 'making', 'way', 'circling', 'nt', 'hold', 'head', 'high', 'round', 'round', 'wo', 'nt', 'run', 'away', 'time', 'till', 'show', 'life', 'round', 'round', 'gon', 'na', 'let', 'change', 'mind', 'till', 'show', 'life', 'afflicted', 'fiction', 'building', 'case', 'eviction', 'circling', 'guarding', 'tower', 'ancients', 'shooting', 'arrows', 'patience', 'patiently', 'circling', 'nt', 'hold', 'head', 'high', 'round', 'round', 'wo', 'nt', 'run', 'away', 'time', 'till', 'show', 'life', 'round', 'round', 'gon', 'na', 'let', 'change', 'mind', 'till', 'show', 'life', 'emptiness', 'inside', 'hard', 'enough', 'fill', 'without', 'sense', 'purpose', 'setting', 'fail', 'nt', 'make', 'right', 'hold', 'head', 'high', 'round', 'round', 'wo', 'nt', 'run', 'away', 'time', 'till', 'show', 'life', 'round', 'round', 'gon', 'na', 'let', 'change', 'mind', 'till', 'show', 'life']\n",
            "life\n",
            "['meant', 'said', 'spent', 'time', 'build', 'bottom', 'pit', 'right', 'top', 'nt', 'hold', 'back', 'packing', 'bags', 'giving', 'academy', 'rain', 'check', 'nt', 'ever', 'want', 'let', 'nt', 'ever', 'want', 'leave', 'town', 'cause', 'city', 'never', 'sleeps', 'night', 'time', 'begin', 'nt', 'get', 'little', 'bit', 'bigger', 'admit', 'nt', 'understand', 'never', 'changing', 'fell', 'left', 'sell', 'path', 'heaven', 'runs', 'miles', 'clouded', 'hell', 'right', 'top', 'nt', 'look', 'back', 'turning', 'rags', 'giving', 'commodities', 'rain', 'check', 'nt', 'ever', 'want', 'let', 'nt', 'ever', 'want', 'leave', 'town', 'cause', 'city', 'never', 'sleeps', 'night', 'time', 'begin', 'nt', 'get', 'little', 'bit', 'bigger', 'admit', 'nt', 'understand', 'never', 'changing', 'time', 'begin', 'nt', 'get', 'little', 'bit', 'bigger', 'admit', 'nt', 'understand', 'never', 'changing', 'road', 'never', 'looked', 'lonely', 'house', 'nt', 'burn', 'slowly', 'ashes', 'ashes', 'time', 'begin', 'nt', 'get', 'little', 'bit', 'bigger', 'admit', 'nt', 'understand', 'never', 'changing', 'time', 'begin', 'nt', 'get', 'little', 'bit', 'bigger', 'admit', 'nt', 'understand', 'never', 'changing']\n",
            "changing\n"
          ],
          "name": "stdout"
        }
      ]
    },
    {
      "cell_type": "code",
      "metadata": {
        "id": "Yvc9nIjfdH53",
        "colab_type": "code",
        "colab": {
          "base_uri": "https://localhost:8080/",
          "height": 204
        },
        "outputId": "1b49cd98-87e1-4b56-dfb5-326337486cdd"
      },
      "source": [
        "jb.head()"
      ],
      "execution_count": 21,
      "outputs": [
        {
          "output_type": "execute_result",
          "data": {
            "text/html": [
              "<div>\n",
              "<style scoped>\n",
              "    .dataframe tbody tr th:only-of-type {\n",
              "        vertical-align: middle;\n",
              "    }\n",
              "\n",
              "    .dataframe tbody tr th {\n",
              "        vertical-align: top;\n",
              "    }\n",
              "\n",
              "    .dataframe thead th {\n",
              "        text-align: right;\n",
              "    }\n",
              "</style>\n",
              "<table border=\"1\" class=\"dataframe\">\n",
              "  <thead>\n",
              "    <tr style=\"text-align: right;\">\n",
              "      <th></th>\n",
              "      <th>0</th>\n",
              "      <th>1</th>\n",
              "    </tr>\n",
              "  </thead>\n",
              "  <tbody>\n",
              "    <tr>\n",
              "      <th>0</th>\n",
              "      <td>Bonfire Heart</td>\n",
              "      <td>[['Your', 'mouth', 'is', 'a', 'revolver', 'fir...</td>\n",
              "    </tr>\n",
              "    <tr>\n",
              "      <th>1</th>\n",
              "      <td>Blue on Blue</td>\n",
              "      <td>[['How', 'come', 'you', 'do', \"n't\", 'wan', 'n...</td>\n",
              "    </tr>\n",
              "    <tr>\n",
              "      <th>2</th>\n",
              "      <td>Postcards</td>\n",
              "      <td>[['Sundays', 'sitting', 'on', 'your', 'back', ...</td>\n",
              "    </tr>\n",
              "    <tr>\n",
              "      <th>3</th>\n",
              "      <td>Always Hate Me</td>\n",
              "      <td>[['Oh', 'God', 'it', 'hurt', 'The', 'moment', ...</td>\n",
              "    </tr>\n",
              "    <tr>\n",
              "      <th>4</th>\n",
              "      <td>Bones</td>\n",
              "      <td>[['I', 'have', 'never', 'been', 'a', 'beautifu...</td>\n",
              "    </tr>\n",
              "  </tbody>\n",
              "</table>\n",
              "</div>"
            ],
            "text/plain": [
              "                0                                                  1\n",
              "0   Bonfire Heart  [['Your', 'mouth', 'is', 'a', 'revolver', 'fir...\n",
              "1    Blue on Blue  [['How', 'come', 'you', 'do', \"n't\", 'wan', 'n...\n",
              "2       Postcards  [['Sundays', 'sitting', 'on', 'your', 'back', ...\n",
              "3  Always Hate Me  [['Oh', 'God', 'it', 'hurt', 'The', 'moment', ...\n",
              "4           Bones  [['I', 'have', 'never', 'been', 'a', 'beautifu..."
            ]
          },
          "metadata": {
            "tags": []
          },
          "execution_count": 21
        }
      ]
    },
    {
      "cell_type": "code",
      "metadata": {
        "id": "UgPoXUAYdSoq",
        "colab_type": "code",
        "colab": {
          "base_uri": "https://localhost:8080/",
          "height": 36
        },
        "outputId": "4a92f49f-4f64-48d6-92ea-3264339954fc"
      },
      "source": [
        "jb.shape"
      ],
      "execution_count": 22,
      "outputs": [
        {
          "output_type": "execute_result",
          "data": {
            "text/plain": [
              "(24, 2)"
            ]
          },
          "metadata": {
            "tags": []
          },
          "execution_count": 22
        }
      ]
    },
    {
      "cell_type": "code",
      "metadata": {
        "id": "XPpvK034dX16",
        "colab_type": "code",
        "colab": {
          "base_uri": "https://localhost:8080/",
          "height": 911
        },
        "outputId": "a4588f43-bc2c-412c-bd71-a0a23ee059cb"
      },
      "source": [
        "#preprocessing all the songs\n",
        "for i in range(0,23):\n",
        "    song=jb.iloc[i,1]\n",
        "    text=re.sub(r'\\d+','',song)#removing numbers\n",
        "    #lowercasing\n",
        "    text_lower=text.lower()\n",
        "\n",
        "    #punctuation removal \n",
        "    def  remove_punctuation(word): #function will take in the lowercased text and then remove all the punctuation\n",
        "        translator=str.maketrans('','',string.punctuation)\n",
        "        text_punct=word.translate(translator)\n",
        "        return text_punct\n",
        "    result=remove_punctuation(text_lower) #storing the resulting body of  text in variable result\n",
        "\n",
        "    #removing stopwords \n",
        "    def remove_stopwords(word):#The function will   tokenize the result and then filter off  the stop_words \n",
        "        stop_words=set(stopwords.words(\"english\")) \n",
        "        word_tokens= word_tokenize(word)\n",
        "        result=[ word for word in word_tokens if word not in stop_words ]\n",
        "        return result\n",
        "    song=remove_stopwords(result)\n",
        "    print(song)\n",
        "\n",
        "    #lemmatization\n",
        "    lemmatizer=WordNetLemmatizer()\n",
        "    for word in song :\n",
        "        jb_song=lemmatizer.lemmatize(word)\n",
        "    print(jb_song)\n",
        "\n",
        "\n",
        "\n"
      ],
      "execution_count": 24,
      "outputs": [
        {
          "output_type": "stream",
          "text": [
            "['mouth', 'revolver', 'firing', 'bullets', 'sky', 'love', 'like', 'soldier', 'loyal', 'til', 'die', 'looking', 'stars', 'long', 'long', 'time', 'putting', 'fires', 'life', 'everybody', 'wants', 'flame', 'nt', 'want', 'get', 'burned', 'today', 'turn', 'days', 'like', 'lead', 'nights', 'like', 'lead', 'love', 'like', 'light', 'spark', 'bonfire', 'heart', 'people', 'like', 'us', 'dont', 'need', 'much', 'someone', 'starts', 'starts', 'spark', 'bonfire', 'hearts', 'world', 'getting', 'colder', 'strangers', 'passing', 'one', 'offers', 'shoulder', 'one', 'looks', 'eye', 'looking', 'long', 'long', 'time', 'tryna', 'break', 'tryna', 'make', 'mine', 'everybody', 'wants', 'flame', 'nt', 'want', 'get', 'burned', 'well', 'today', 'turn', 'days', 'like', 'lead', 'nights', 'like', 'lead', 'love', 'like', 'light', 'spark', 'bonfire', 'heart', 'people', 'like', 'us', 'dont', 'need', 'much', 'someone', 'starts', 'starts', 'spark', 'bonfire', 'hearts', 'bonfire', 'hearts', 'bonfire', 'hearts', 'bonfire', 'hearts', 'like', 'spark', 'people', 'like', 'us', 'dont', 'need', 'much', 'someone', 'starts', 'starts', 'spark', 'bonfire', 'hearts', 'days', 'like', 'lead', 'nights', 'like', 'lead', 'love', 'like', 'light', 'spark', 'bonfire', 'heart', 'people', 'like', 'us', 'dont', 'need', 'much', 'someone', 'starts', 'starts', 'spark', 'bonfire', 'heart', 'bonfire', 'hearts', 'days', 'like', 'lead', 'nights', 'like', 'lead', 'love', 'like', 'light', 'spark', 'bonfire', 'heart', 'people', 'like', 'us', 'dont', 'need', 'much', 'someone', 'starts', 'starts', 'spark', 'bonfire', 'hearts']\n",
            "heart\n",
            "['come', 'nt', 'wan', 'na', 'see', 'come', 'gone', 'left', 'alone', 'come', 'took', 'slow', 'boat', 'china', 'ca', 'nt', 'get', 'baby', 'blue', 'blue', 'want', 'ever', 'wanted', 'ever', 'needed', 'anyone', 'ever', 'knew', 'love', 'love', 'ever', 'thought', 'never', 'feel', 'way', 'long', 'gon', 'na', 'leave', 'standing', 'long', 'til', 'gon', 'na', 'make', 'mind', 'long', 'balloon', 'ride', 'nowhere', 'ca', 'nt', 'baby', 'blue', 'blue', 'want', 'ever', 'wanted', 'ever', 'needed', 'anyone', 'ever', 'knew', 'love', 'ever', 'thought', 'never', 'feel', 'way', 'coming', 'fire', 'coming', 'fire', 'coming', 'fire', 'coming', 'fire', 'coming', 'fire', 'coming', 'fire', 'coming', 'fire', 'coming', 'fire', 'baby', 'blue', 'blue']\n",
            "blue\n",
            "['sundays', 'sitting', 'back', 'porch', 'came', 'couple', 'cords', 'played', 'let', 'keep', 'entertained', 'stories', 'exaggerate', 'know', 'nt', 'true', 'sit', 'making', 'daisy', 'chains', 'throw', 'hand', 'granate', 'tell', 'really', 'feel', 'sending', 'postcards', 'heart', 'love', 'postmark', 'know', 'make', 'feel', 'like', 'caught', 'like', 'kids', 'school', 'yard', 'ca', 'nt', 'keep', 'ca', 'nt', 'spell', 'better', 'love', 'forever', 'hope', 'know', 'sending', 'postcard', 'nt', 'care', 'sees', 'sent', 'whole', 'world', 'knows', 'head', 'chased', 'sun', 'til', 'got', 'away', 'bicycle', 'daddy', 'made', 'made', 'two', 'sat', 'rocking', 'chair', 'flower', 'hair', 'found', 'monday', 'always', 'comes', 'around', 'sad', 'cause', 'ca', 'nt', 'see', 'wa', 'nt', 'know', 'always', 'head', 'sending', 'postcards', 'heart', 'love', 'postmark', 'know', 'make', 'feel', 'like', 'caught', 'like', 'kids', 'school', 'yard', 'ca', 'nt', 'keep', 'ca', 'nt', 'spell', 'better', 'love', 'forever', 'hope', 'know', 'sending', 'postcard', 'nt', 'care', 'sees', 'sent', 'whole', 'world', 'knows', 'head', 'know', 'sometimes', 'hard', 'see', 'say', 'world', 'torture', 'inside', 'know', 'exactly', 'feel', 'things', 'ca', 'nt', 'say', 'loud', 'find', 'place', 'write', 'hope', 'find', 'end', 'sending', 'postcards', 'heart', 'love', 'postmark', 'know', 'make', 'feel', 'like', 'caught', 'like', 'kids', 'school', 'yard', 'ca', 'nt', 'keep', 'ca', 'nt', 'spell', 'better', 'love', 'forever', 'hope', 'know', 'sending', 'postcard', 'nt', 'care', 'sees', 'sent', 'whole', 'world', 'knows', 'head', 'know', 'know', 'know', 'things', 'want', 'know', 'know', 'know', 'things', 'want', 'know', 'know', 'know', 'things', 'want', 'know', 'know', 'know', 'things', 'want', 'know', 'know', 'know', 'things', 'want', 'know', 'know', 'know', 'things', 'want', 'know']\n",
            "know\n",
            "['oh', 'god', 'hurt', 'moment', 'saw', 'someone', 'else', 'one', 'belong', 'never', 'thought', 'drown', 'shallow', 'heart', 'like', 'say', 'things', 'never', 'used', 'come', 'today', 'wont', 'ever', 'useful', 'never', 'learn', 'use', 'shallow', 'heart', 'never', 'meant', 'hurt', 'something', 'guess', 'good', 'excuse', 'always', 'hate', 'matter', 'say', 'mistaking', 'love', 'gone', 'always', 'hate', 'said', 'lost', 'baby', 'matter', 'say', 'love', 'gone', 'looking', 'back', 'guess', 'holding', 'onto', 'good', 'know', 'wrong', 'end', 'never', 'gon', 'na', 'hold', 'heart', 'knows', 'nt', 'want', 'know', 'suppose', 'one', 'lonely', 'never', 'thought', 'could', 'cold', 'cold', 'heart', 'never', 'meant', 'hurt', 'something', 'guess', 'good', 'excuse', 'always', 'hate', 'matter', 'say', 'mistaking', 'love', 'gone', 'always', 'hate', 'said', 'lost', 'baby', 'matter', 'say', 'love', 'gone', 'never', 'meant', 'hurt', 'something', 'guess', 'good', 'excuse', 'always', 'hate', 'matter', 'say', 'mistaking', 'love', 'gone', 'always', 'hate', 'said', 'lost', 'baby', 'matter', 'say', 'love', 'gone']\n",
            "gone\n",
            "['never', 'beautiful', 'boy', 'never', 'liked', 'sound', 'voice', 'nt', 'cool', 'teens', 'never', 'slept', 'dreams', 'step', 'big', 'old', 'world', 'seven', 'billion', 'trying', 'cope', 'everyone', 'us', 'someday', 'die', 'today', 'never', 'felt', 'alive', 'feel', 'coming', 'feel', 'coming', 'feel', 'feel', 'feel', 'running', 'bones', 'running', 'bones', 'yeah', 'set', 'heart', 'fire', 'hot', 'wired', 'bones', 'count', 'things', 'fear', 'close', 'eyes', 'nt', 'disappear', 'god', 'guarantee', 'feel', 'coming', 'feel', 'coming', 'feel', 'feel', 'feel', 'running', 'bones', 'running', 'bones', 'yeah', 'set', 'heart', 'fire', 'hot', 'wired', 'bones', 'kiss', 'sun', 'falls', 'run', 'legs', 'give', 'way', 'swallow', 'drown', 'feel', 'coming', 'feel', 'coming', 'feel', 'feel', 'feel', 'running', 'bones', 'running', 'bones', 'yeah', 'set', 'heart', 'fire', 'hot', 'wired', 'bones', 'running', 'bones', 'yeah', 'set', 'heart', 'fire', 'hot', 'wired', 'bones', 'running', 'bones', 'running', 'bones']\n",
            "bone\n",
            "['silent', 'tear', 'empty', 'smile', 'insincerely', 'gently', 'denial', 'thief', 'selfishly', 'moments', 'meant', 'made', 'mine', 'blind', 'miss', 'crumbling', 'inside', 'late', 'fix', 'let', 'make', 'right', 'cause', 'sun', 'sunday', 'reason', 'words', 'rhyme', 'cause', 'bleeding', 'wishful', 'look', 'hesitate', 'hoping', 'notice', 'ok', 'fool', 'turn', 'away', 'feel', 'weight', 'mistakes', 'blind', 'miss', 'crumbling', 'inside', 'late', 'fix', 'let', 'make', 'right', 'cause', 'sun', 'sunday', 'reason', 'words', 'rhyme', 'cause', 'bleeding', 'cut', 'bruise', 'scars', 'always', 'mine', 'cause', 'love', 'lose', 'would', 'worse', 'died', 'blind', 'miss', 'crumbling', 'inside', 'late', 'fix', 'let', 'make', 'right', 'cause', 'sun', 'sunday', 'reason', 'words', 'rhyme', 'cause', 'bleeding']\n",
            "bleeding\n",
            "['words', 'never', 'said', 'hurt', 'bad', 'know', 'never', 'even', 'cared', 'could', 'go', 'turn', 'back', 'time', 'could', 'press', 'rewind', 'would', 'bleed', 'heart', 'mine', 'show', 'first', 'say', 'sorry', 'first', 'say', 'stupid', 'always', 'take', 'hopeless', 'maybe', 'still', 'want', 'meet', 'altar', 'lay', 'bare', 'told', 'secrets', 'fears', 'let', 'go', 'flawless', 'one', 'one', 'nt', 'know', 'nt', 'know', 'fading', 'mind', 'distance', 'blurred', 'lines', 'say', 'things', 'heal', 'time', 'untrue', 'linger', 'every', 'word', 'know', 'deserve', 'chances', 'make', 'worse', 'need', 'tell', 'tell', 'sorry', 'tell', 'stupid', 'always', 'take', 'hopeless', 'maybe', 'still', 'want', 'meet', 'altar', 'lay', 'bare', 'told', 'secrets', 'fears', 'let', 'go', 'flawless', 'one', 'one', 'nt', 'know', 'nt', 'know', 'hardest', 'part', 'hold', 'nt', 'know', 'old', 'heart', 'mine', 'ca', 'nt', 'bear', 'see', 'go', 'told', 'secrets', 'fears', 'let', 'go', 'flawless', 'one', 'one', 'nt', 'know', 'told', 'secrets', 'fears', 'let', 'go', 'flawless', 'one', 'one', 'nt', 'know', 'told', 'secrets', 'fears', 'let', 'go', 'flawless', 'one', 'one', 'nt', 'know']\n",
            "know\n",
            "['someone', 'give', 'something', 'help', 'ease', 'pain', 'like', 'liquor', 'bottle', 'watched', 'slip', 'away', 'feel', 'know', 'bars', 'song', 'always', 'surrounded', 'alone', 'goodbyes', 'always', 'miss', 'america', 'watched', 'fly', 'nothing', 'free', 'miss', 'america', 'fall', 'apart', 'call', 'art', 'hard', 'breathe', 'picture', 'paper', 'face', 'recognize', 'makeup', 'never', 'make', 'pain', 'behind', 'eyes', 'cause', 'feel', 'know', 'silver', 'screen', 'nt', 'know', 'dark', 'places', 'goodbyes', 'always', 'miss', 'america', 'watched', 'fly', 'nothing', 'free', 'miss', 'america', 'fall', 'apart', 'call', 'art', 'hard', 'breathe', 'another', 'voice', 'sing', 'heaven', 'choir', 'tonight', 'fill', 'silence', 'left', 'behind', 'nt', 'know', 'goes', 'mind', 'sure', 'enough', 'make', 'cry', 'someday', 'find', 'lived', 'forever', 'goodbyes', 'always', 'miss', 'america', 'watched', 'fly', 'nothing', 'free', 'miss', 'america', 'fall', 'apart', 'call', 'art', 'hard', 'breathe']\n",
            "breathe\n",
            "['times', 'nt', 'know', 'stand', 'make', 'feel', 'like', 'boy', 'man', 'times', 'nt', 'give', 'smile', 'lie', 'awake', 'night', 'worry', 'ok', 'cause', 'know', 'shine', 'even', 'rainy', 'day', 'find', 'halo', 'guides', 'wherever', 'fall', 'need', 'hand', 'hold', 'come', 'running', 'wo', 'nt', 'part', 'till', 'die', 'know', 'see', 'eye', 'eye', 'heart', 'heart', 'times', 'cry', 'cause', 'shed', 'tears', 'mind', 'far', 'away', 'body', 'right', 'times', 'walked', 'door', 'thought', 'never', 'get', 'see', 'anymore', 'ok', 'cause', 'know', 'shine', 'even', 'rainy', 'day', 'find', 'halo', 'guides', 'wherever', 'fall', 'need', 'hand', 'hold', 'come', 'running', 'wo', 'nt', 'part', 'till', 'die', 'know', 'see', 'eye', 'eye', 'heart', 'heart', 'oh', 'sometimes', 'oh', 'sometimes', 'oh', 'sometimes', 'oh', 'wherever', 'fall', 'need', 'hand', 'hold', 'come', 'running', 'wo', 'nt', 'part', 'till', 'die', 'know', 'see', 'eye', 'eye', 'heart', 'heart']\n",
            "heart\n",
            "['five', 'four', 'three', 'two', 'one', 'another', 'victim', 'life', 'come', 'know', 'technology', 'celebrity', 'things', 'hold', 'long', 'lost', 'tribe', 'looking', 'light', 'friend', 'hold', 'hand', 'best', 'seems', 'everyone', 'knows', 'waiting', 'phone', 'wondering', 'feel', 'alone', 'life', 'satellites', 'love', 'show', 'tonight', 'moment', 'unite', 'know', 'life', 'dream', 'hell', 'knows', 'means', 'stop', 'world', 'sing', 'memories', 'experienced', 'high', 'speed', 'video', 'screen', 'ever', 'knew', 'know', 'none', 'real', 'ca', 'nt', 'feel', 'beating', 'someone', 'heart', 'nt', 'leave', 'dark', 'seems', 'everyone', 'knows', 'waiting', 'phone', 'wondering', 'feel', 'alone', 'life', 'satellites', 'love', 'show', 'tonight', 'moment', 'unite', 'know', 'life', 'dream', 'hell', 'knows', 'means', 'stop', 'world', 'sing', 'satellites', 'satellites', 'satellites', 'love', 'show', 'tonight', 'moment', 'unite', 'know', 'life', 'dream', 'hell', 'knows', 'means', 'stop', 'world', 'sing', 'satellites', 'love', 'show', 'tonight', 'moment', 'unite', 'know', 'life', 'dream', 'hell', 'knows', 'means', 'stop', 'world', 'sing']\n",
            "sing\n",
            "['yes', 'love', 'good', 'enough', 'time', 'let', 'go', 'weary', 'hearts', 'fall', 'apart', 'feel', 'bones', 'god', 'knows', 'hard', 'find', 'one', 'time', 'flowers', 'turn', 'face', 'sun', 'silently', 'walk', 'like', 'day', 'sad', 'goodbyes', 'tears', 'lies', 'go', 'separate', 'ways', 'god', 'knows', 'hard', 'find', 'one', 'time', 'flowers', 'yes', 'time', 'flowers', 'turn', 'face', 'sun', 'yeah', 'say', 'say', 'anyway', 'walk', 'away', 'walk', 'away', 'say', 'say', 'anyway', 'yeah', 'know', 'true', 'god', 'knows', 'hard', 'find', 'one', 'time', 'flowers', 'yes', 'time', 'flowers', 'turn', 'face', 'sun']\n",
            "sun\n",
            "['really', 'need', 'really', 'need', 'love', 'right', 'fading', 'fast', 'gon', 'na', 'last', 'really', 'stupid', 'burning', 'going', 'win', 'back', 'nt', 'even', 'ask', 'find', 'middle', 'middle', 'middle', 'could', 'love', 'little', 'little', 'overcomplicate', 'simple', 'simple', 'simple', 'would', 'love', 'little', 'tell', 'every', 'star', 'falls', 'sky', 'every', 'last', 'heart', 'world', 'breaks', 'oh', 'hold', 'every', 'ship', 'going', 'nt', 'fear', 'nothing', 'hear', 'say', 'gon', 'na', 'ok', 'gon', 'na', 'ok', 'gon', 'na', 'ok', 'gon', 'na', 'ok', 'really', 'sorry', 'sorry', 'dragged', 'overthink', 'way', 'love', 'way', 'love', 'til', 'end', 'way', 'love', 'oh', 'yeah', 'makes', 'king', 'find', 'middle', 'middle', 'middle', 'could', 'love', 'little', 'little', 'overcomplicate', 'simple', 'simple', 'simple', 'would', 'love', 'little', 'tell', 'every', 'star', 'falls', 'sky', 'every', 'last', 'heart', 'world', 'breaks', 'oh', 'hold', 'every', 'ship', 'going', 'nt', 'fear', 'nothing', 'hear', 'say', 'gon', 'na', 'ok', 'gon', 'na', 'ok', 'gon', 'na', 'ok', 'gon', 'na', 'ok', 'gon', 'na', 'ok', 'gon', 'na', 'ok', 'gon', 'na', 'ok', 'gon', 'na', 'ok', 'gon', 'na', 'ok', 'gon', 'na', 'ok', 'gon', 'na', 'ok', 'gon', 'na', 'ok', 'gon', 'na', 'ok', 'every', 'star', 'falls', 'sky', 'every', 'last', 'heart', 'world', 'breaks', 'gon', 'na', 'ok', 'every', 'ship', 'going', 'nt', 'fear', 'nothing', 'hear', 'say', 'gon', 'na', 'ok', 'ok', 'ok', 'ok', 'ok']\n",
            "ok\n",
            "['could', 'never', 'gon', 'na', 'regret', 'gon', 'na', 'remember', 'name', 'cause', 'end', 'girl', 'got', 'blame', 'amazing', 'everything', 'changed', 'babe', 'thrown', 'away', 'say', 'girl', 'got', 'blame', 'nt', 'try', 'lie', 'cause', 'know', 'made', 'choice', 'made', 'see', 'dreams', 'touching', 'skin', 'baby', 'bad', 'know', 'sad', 'known', 'would', 'baby', 'late', 'great', 'moment', 'heart', 'breaks', 'know', 'say', 'love', 'go', 'hell', 'nt', 'try', 'find', 'last', 'farewell', 'gon', 'na', 'fall', 'gon', 'na', 'fall', 'tears', 'nt', 'say', 'nt', 'mean', 'anything', 'made', 'choice', 'made', 'see', 'dreams', 'touching', 'skin', 'baby', 'bad', 'know', 'sad', 'known', 'would', 'baby', 'late', 'great', 'moment', 'heart', 'breaks', 'know', 'see', 'dress', 'falls', 'holding', 'hips', 'begging', 'eating', 'tearing', 'soul', 'apart', 'moving', 'inside', 'bedroom', 'floor', 'collapsed', 'together', 'wrapped', 'arms', 'eating', 'tearing', 'soul', 'apart', 'baby', 'bad', 'know', 'sad', 'known', 'would', 'baby', 'late', 'great', 'moment', 'heart', 'breaks', 'know', 'know', 'know', 'know']\n",
            "know\n",
            "['woke', 'morning', 'realized', 'apologize', 'song', 'wrote', 'nt', 'come', 'warning', 'fame', 'unkind', 'put', 'top', 'world', 'couple', 'girls', 'left', 'behind', 'sure', 'let', 'take', 'photograph', 'show', 'friends', 'laugh', 'tell', 'nt', 'really', 'wan', 'na', 'know', 'wrote', 'love', 'song', 'something', 'hate', 'sad', 'record', 'broken', 'nt', 'think', 'write', 'better', 'love', 'song', 'without', 'one', 'forgotten', 'tell', 'write', 'one', 'better', 'gon', 'na', 'lie', 'saying', 'nt', 'work', 'cause', 'live', 'big', 'house', 'made', 'pounds', 'nice', 'car', 'drive', 'went', 'round', 'world', 'twice', 'saw', 'sun', 'set', 'sun', 'rise', 'big', 'highs', 'big', 'price', 'criticize', 'sure', 'let', 'take', 'photograph', 'show', 'friends', 'laugh', 'tell', 'nt', 'really', 'wan', 'na', 'know', 'wrote', 'love', 'song', 'something', 'hate', 'sad', 'record', 'broken', 'nt', 'think', 'write', 'better', 'love', 'song', 'without', 'one', 'forgotten', 'tell', 'write', 'one', 'better', 'nt', 'think', 'write', 'one', 'better', 'wrote', 'love', 'song', 'something', 'hate', 'sad', 'record', 'broken', 'nt', 'think', 'write', 'one', 'better', 'love', 'song', 'something', 'hate', 'sad', 'record', 'broken', 'nt', 'think', 'write', 'better', 'love', 'song', 'without', 'one', 'forgotten', 'tell', 'write', 'one', 'better', 'woke', 'morning', 'realized', 'apologize', 'song', 'wrote']\n",
            "wrote\n",
            "['still', 'light', 'table', 'still', 'name', 'phone', 'ca', 'nt', 'believe', 'able', 'call', 'met', 'beautiful', 'place', 'danced', 'talked', 'go', 'back', 'every', 'single', 'day', 'still', 'lit', 'led', 'inside', 'disappeared', 'warning', 'sign', 'broke', 'heart', 'left', 'without', 'saying', 'goodbye', 'let', 'know', 'let', 'go', 'still', 'voice', 'memory', 'still', 'way', 'move', 'ca', 'nt', 'believe', 'way', 'choose', 'live', 'beautiful', 'world', 'dance', 'talk', 'found', 'girl', 'stayed', 'lit', 'led', 'inside', 'disappeared', 'warning', 'sign', 'broke', 'heart', 'left', 'without', 'saying', 'goodbye', 'let', 'know', 'let', 'go', 'live', 'breathe', 'hope', 'bleed', 'love', 'lose', 'die', 'live', 'breathe', 'hope', 'bleed', 'love', 'lose', 'die', 'live', 'breathe', 'hope', 'bleed', 'love', 'lose', 'die', 'live', 'breathe', 'hope', 'bleed', 'love', 'lose', 'die', 'lit', 'led', 'inside', 'disappeared', 'warning', 'sign', 'broke', 'heart', 'left', 'without', 'saying', 'goodbye', 'let', 'know', 'let', 'go']\n",
            "go\n",
            "['holding', 'back', 'going', 'black', 'oh', 'god', 'beautiful', 'throat', 'kaleidoscope', 'oh', 'god', 'beautiful', 'feel', 'heart', 'beating', 'feel', 'blood', 'pumping', 'love', 'coming', 'nothing', 'like', 'lifesafer', 'signs', 'say', 'may', 'trouble', 'head', 'let', 'love', 'reason', 'breathing', 'let', 'love', 'light', 'eye', 'cause', 'nt', 'need', 'reason', 'fall', 'love', 'tonight', 'darlin', 'wo', 'nt', 'close', 'eyes', 'hold', 'tight', 'find', 'paradise', 'let', 'love', 'reason', 'breathing', 'tonight', 'freefall', 'recall', 'oh', 'god', 'beautiful', 'cold', 'sweat', 'regret', 'oh', 'beautiful', 'feel', 'heart', 'beating', 'feel', 'blood', 'pumping', 'love', 'coming', 'nothing', 'like', 'lifesafer', 'signs', 'say', 'may', 'trouble', 'head', 'let', 'love', 'reason', 'breathing', 'let', 'love', 'light', 'eye', 'cause', 'nt', 'need', 'reason', 'fall', 'love', 'tonight', 'darlin', 'wo', 'nt', 'close', 'eyes', 'hold', 'tight', 'find', 'paradise', 'let', 'love', 'reason', 'breathing', 'tonight', 'spent', 'life', 'tryin', 'find', 'paradise', 'paradise', 'spent', 'life', 'tryin', 'find', 'let', 'love', 'reason', 'breathing', 'let', 'love', 'light', 'eye', 'cause', 'nt', 'need', 'reason', 'fall', 'love', 'tonight', 'darlin', 'wo', 'nt', 'close', 'eyes', 'hold', 'tight', 'find', 'paradise', 'paradise', 'let', 'love', 'reason', 'breathing', 'tonight']\n",
            "tonight\n",
            "['let', 'slide', 'choices', 'made', 'let', 'burn', 'rows', 'face', 'let', 'fall', 'one', 'want', 'wo', 'nt', 'loved', 'let', 'slip', 'every', 'promise', 'break', 'let', 'burn', 'blows', 'trade', 'let', 'fall', 'cause', 'place', 'condemned', 'know', 'ca', 'nt', 'anymore', 'yeah', 'know', 'put', 'pin', 'heart', 'lost', 'sight', 'target', 'let', 'guard', 'run', 'run', 'hundred', 'miles', 'never', 'look', 'back', 'jack', 'cause', 'ca', 'nt', 'backtrack', 'yeah', 'know', 'sayin', 'nothing', 'change', 'one', 'blame', 'tip', 'tongue', 'comes', 'crazy', 'know', 'would', 'go', 'back', 'heartbeat', 'make', 'heart', 'beat', 'let', 'fail', 'late', 'saved', 'let', 'roll', 'across', 'grey', 'let', 'blaze', 'darkness', 'flame', 'lost', 'ca', 'nt', 'bear', 'anymore', 'let', 'slide', 'ca', 'nt', 'start', 'let', 'burn', 'held', 'hand', 'let', 'fall', 'cause', 'journey', 'end', 'luck', 'loved', 'yeah', 'know', 'put', 'pin', 'heart', 'lost', 'sight', 'target', 'let', 'guard', 'run', 'run', 'hundred', 'miles', 'never', 'look', 'back', 'jack', 'cause', 'ca', 'nt', 'backtrack', 'yeah', 'know', 'sayin', 'nothing', 'change', 'one', 'blame', 'tip', 'tongue', 'comes', 'crazy', 'know', 'would', 'go', 'back', 'heartbeat', 'make', 'heart', 'beat', 'yeah', 'know', 'put', 'pin', 'heart', 'lost', 'sight', 'target', 'let', 'guard', 'run', 'run', 'hundred', 'miles', 'never', 'look', 'back', 'jack', 'cause', 'ca', 'nt', 'backtrack', 'yeah', 'know', 'sayin', 'nothing', 'change', 'one', 'blame', 'tip', 'tongue', 'comes', 'crazy', 'know', 'would', 'go', 'back', 'heartbeat', 'make', 'heart', 'beat']\n",
            "beat\n",
            "['nt', 'close', 'eyes', 'dear', 'nt', 'nervous', 'put', 'whole', 'damn', 'place', 'spell', 'see', 'friends', 'jealous', 'cause', 'know', 'love', 'nt', 'come', 'shelf', 'saw', 'mother', 'looked', 'beautiful', 'remember', 'nt', 'think', 'would', 'stay', 'latenight', 'brokersheld', 'dinners', 'led', 'us', 'standing', 'today', 'feeling', 'time', 'moves', 'slow', 'seeing', 'faces', 'glow', 'none', 'shine', 'bright', 'tonight', 'hearing', 'voices', 'hush', 'one', 'else', 'us', 'darling', 'much', 'love', 'lights', 'okay', 'let', 'time', 'lives', 'saw', 'father', 'would', 'nt', 'talk', 'till', 'could', 'tell', 'stay', 'awkward', 'short', 'conversations', 'led', 'us', 'standing', 'today', 'feeling', 'time', 'moves', 'slow', 'seeing', 'faces', 'glow', 'none', 'shine', 'bright', 'tonight', 'hearing', 'voices', 'hush', 'one', 'else', 'us', 'darling', 'much', 'love', 'lights', 'okay', 'let', 'time', 'lives', 'time', 'lives', 'time', 'lives', 'time', 'lives', 'feeling', 'time', 'moves', 'slow', 'seeing', 'faces', 'glow', 'none', 'shine', 'bright', 'tonight', 'hearing', 'voices', 'hush', 'one', 'else', 'us', 'darling', 'much', 'love', 'lights', 'okay', 'let', 'time', 'let', 'time', 'lives']\n",
            "life\n",
            "['made', 'breakfast', 'every', 'morning', 'made', 'sleep', 'night', 'made', 'worry', 'without', 'warning', 'let', 'lie', 'drown', 'eyes', 'dear', 'made', 'sorry', 'nt', 'always', 'made', 'hungry', 'body', 'babe', 'made', 'run', 'hospital', 'hallways', 'gave', 'life', 'dear', 'got', 'eyes', 'waited', 'long', 'baby', 'wrong', 'let', 'make', 'time', 'wasted', 'would', 'wait', 'phone', 'every', 'time', 'gone', 'along', 'everything', 'never', 'want', 'make', 'better', 'wondering', 'let', 'want', 'make', 'better', 'made', 'stop', 'savor', 'moment', 'made', 'laugh', 'loud', 'give', 'memories', 'like', 'time', 'frozen', 'gave', 'child', 'got', 'smile', 'sang', 'song', 'every', 'night', 'gone', 'dreams', 'chasing', 'wrong', 'things', 'done', 'cause', 'along', 'everything', 'never', 'want', 'make', 'better', 'wondering', 'let', 'want', 'make', 'better', 'although', 'never', 'read', 'mind', 'figured', 'glad', 'caught', 'time', 'left', 'alone', 'alone', 'everything', 'never', 'want', 'make', 'better', 'please', 'darling', 'take', 'wedding', 'ring', 'want', 'make', 'better', 'wondering', 'ever', 'let', 'want', 'make', 'better', 'want', 'make', 'better', 'want', 'make', 'better']\n",
            "better\n",
            "['somebody', 'gon', 'na', 'wave', 'flag', 'somebody', 'going', 'attack', 'someone', 'tell', 'take', 'side', 'tell', 'version', 'wrong', 'right', 'somebody', 'gon', 'na', 'let', 'judged', 'color', 'skin', 'slam', 'door', 'face', 'friend', 'simply', 'nt', 'look', 'like', 'got', 'ta', 'find', 'way', 'walkin', 'everybody', 'walkin', 'got', 'ta', 'find', 'words', 'say', 'talkin', 'everybody', 'talkin', 'built', 'words', 'song', 'hopin', 'someone', 'singing', 'along', 'even', 'notes', 'wrong', 'hopin', 'someone', 'singing', 'along', 'cause', 'one', 'voice', 'enough', 'need', 'hear', 'everyone', 'even', 'dead', 'gone', 'hopin', 'someone', 'singing', 'along', 'somebody', 'gon', 'na', 'build', 'wall', 'smash', 'cannon', 'ball', 'someone', 'somehow', 'got', 'gun', 'tell', 'ca', 'nt', 'love', 'people', 'keeping', 'cash', 'gon', 'na', 'get', 'away', 'cause', 'people', 'nt', 'think', 'like', 'really', 'make', 'enemy', 'got', 'ta', 'find', 'way', 'walkin', 'everybody', 'walkin', 'got', 'ta', 'find', 'words', 'say', 'talkin', 'everybody', 'talkin', 'built', 'words', 'song', 'hopin', 'someone', 'singing', 'along', 'even', 'notes', 'wrong', 'hopin', 'someone', 'singing', 'along', 'cause', 'one', 'voice', 'enough', 'need', 'hear', 'everyone', 'even', 'dead', 'gone', 'hopin', 'someone', 'singing', 'along', 'make', 'noise', 'hear', 'wo', 'nt', 'raise', 'voice', 'little', 'louder', 'make', 'noise', 'hear', 'wo', 'nt', 'raise', 'voice', 'little', 'louder', 'built', 'words', 'song', 'hopin', 'someone', 'singing', 'along', 'even', 'notes', 'wrong', 'hopin', 'someone', 'singing', 'along', 'cause', 'one', 'voice', 'enough', 'need', 'hear', 'everyone', 'even', 'dead', 'gone', 'hopin', 'someone', 'singing', 'along']\n",
            "along\n",
            "['forget', 'call', 'oh', 'baby', 'lose', 'number', 'nt', 'tell', 'sorry', 'whose', 'covers', 'sleeping', 'across', 'street', 'wanted', 'reach', 'thinking', 'could', 'get', 'together', 'nt', 'mean', 'stalk', 'saw', 'guy', 'talked', 'everybody', 'knows', 'jealous', 'know', 'know', 'nt', 'come', 'easily', 'reach', 'stars', 'worth', 'gon', 'na', 'act', 'like', 'friends', 'throw', 'away', 'messages', 'sent', 'playing', 'game', 'working', 'forget', 'call', 'oh', 'baby', 'lose', 'number', 'lose', 'number', 'nt', 'tell', 'sorry', 'whose', 'covers', 'sleeping', 'know', 'want', 'someone', 'love', 'someone', 'love', 'someone', 'love', 'love', 'forget', 'call', 'oh', 'baby', 'lose', 'number', 'lose', 'number', 'really', 'thought', 'liked', 'since', 'invite', 'modern', 'friends', 'hang', 'guess', 'touched', 'know', 'ghosted', 'knew', 'could', 'calloused', 'forget', 'call', 'oh', 'baby', 'lose', 'number', 'lose', 'number', 'nt', 'tell', 'sorry', 'whose', 'covers', 'sleeping', 'know', 'want', 'someone', 'love', 'someone', 'love', 'someone', 'love', 'love', 'know', 'want', 'someone', 'love', 'someone', 'love', 'someone', 'love', 'love', 'forget', 'call', 'oh', 'baby', 'lose', 'number', 'lose', 'number', 'forget', 'call', 'forget', 'call', 'across', 'street', 'wanted', 'reach', 'thinking', 'could', 'get', 'together', 'know', 'want', 'someone', 'love', 'someone', 'love', 'someone', 'love', 'love', 'know', 'want', 'someone', 'love', 'someone', 'love', 'someone', 'love', 'love', 'forget', 'call']\n",
            "call\n",
            "['little', 'midnight', 'couple', 'corner', 'wonder', 'said', 'crying', 'guess', 'wo', 'nt', 'remember', 'wake', 'morning', 'headache', 'whiskey', 'wine', 'know', 'said', 'things', 'regret', 'sober', 'cause', 'always', 'hurt', 'ones', 'love', 'messed', 'know', 'hurt', 'girl', 'sorry', 'good', 'see', 'girl', 'used', 'know', 'dance', 'ca', 'nt', 'dance', 'maybe', 'stick', 'holding', 'hands', 'raise', 'glass', 'forget', 'past', 'keep', 'drinking', 'gon', 'fall', 'back', 'love', 'fill', 'fill', 'must', 'thinking', 'cause', 'ca', 'nt', 'get', 'enough', 'fill', 'fill', 'bartender', 'pour', 'love', 'bartender', 'pour', 'love', 'talk', 'future', 'nt', 'wan', 'na', 'reminisce', 'know', 'got', 'wrong', 'fck', 'good', 'see', 'look', 'awesome', 'miss', 'baby', 'listen', 'playing', 'song', 'dance', 'ca', 'nt', 'dance', 'maybe', 'stick', 'holding', 'hands', 'let', 'raise', 'glass', 'forget', 'past', 'keep', 'drinking', 'gon', 'fall', 'back', 'love', 'fill', 'fill', 'must', 'thinking', 'cause', 'ca', 'nt', 'get', 'enough', 'fill', 'fill', 'bartender', 'pour', 'love', 'bartender', 'pour', 'love', 'closing', 'time', 'back', 'mine', 'time', 'still', 'blow', 'mind', 'closing', 'time', 'back', 'mine', 'time', 'time', 'keep', 'drinking', 'gon', 'fall', 'back', 'love', 'fill', 'fill', 'must', 'thinking', 'cause', 'ca', 'nt', 'get', 'enough', 'fill', 'fill', 'bartender', 'pour', 'love', 'bartender', 'pour', 'love']\n",
            "love\n",
            "['people', 'say', 'meanest', 'things', 'yeah', 'called', 'dick', 'called', 'many', 'things', 'know', 'done', 'shit', 'admit', 'deserves', 'nt', 'mean', 'nt', 'sting', 'saw', 'standing', 'outside', 'bar', 'would', 'said', 'beautiful', 'used', 'line', 'share', 'shallow', 'nights', 'cause', 'scared', 'get', 'right', 'hanging', 'whoever', 'baby', 'love', 'love', 'love', 'love', 'better', 'love', 'love', 'love', 'love', 'better', 'times', 'gave', 'someone', 'else', 'someone', 'lesser', 'love', 'love', 'love', 'love', 'better', 'love', 'better', 'met', 'treading', 'water', 'baby', 'know', 'know', 'got', 'eye', 'wanders', 'right', 'car', 'driving', 'sisters', 'lookin', 'something', 'forever', 'baby', 'love', 'love', 'love', 'love', 'better', 'love', 'love', 'love', 'love', 'better', 'people', 'loved', 'something', 'lesser', 'cause', 'love', 'love', 'love', 'love', 'better', 'love', 'love', 'better', 'love', 'love', 'better', 'people', 'say', 'meanest', 'things', 'yeah', 'truth', 'told', 'nt', 'care', 'think', 'got', 'someone', 'lying', 'bed', 'right', 'next', 'yeah', 'love', 'love', 'loves', 'love', 'love', 'loves', 'love', 'better', 'loves', 'better', 'times', 'gave', 'someone', 'else', 'someone', 'lesser', 'love', 'love', 'love', 'love', 'better']\n",
            "better\n"
          ],
          "name": "stdout"
        }
      ]
    },
    {
      "cell_type": "code",
      "metadata": {
        "id": "5or3ASHSeS_v",
        "colab_type": "code",
        "colab": {
          "base_uri": "https://localhost:8080/",
          "height": 36
        },
        "outputId": "38c5b3f2-64a4-4efc-82e2-ed0d45b393fa"
      },
      "source": [
        "m.shape"
      ],
      "execution_count": 25,
      "outputs": [
        {
          "output_type": "execute_result",
          "data": {
            "text/plain": [
              "(21, 2)"
            ]
          },
          "metadata": {
            "tags": []
          },
          "execution_count": 25
        }
      ]
    },
    {
      "cell_type": "code",
      "metadata": {
        "id": "QDHRyReLfj4L",
        "colab_type": "code",
        "colab": {
          "base_uri": "https://localhost:8080/",
          "height": 797
        },
        "outputId": "50fef453-f729-4139-c940-cb3d6f0cd3cd"
      },
      "source": [
        "#preprocessing all the songs\n",
        "for i in range(0,20):\n",
        "    song=m.iloc[i,1]\n",
        "    text=re.sub(r'\\d+','',song)#removing numbers\n",
        "    #lowercasing\n",
        "    text_lower=text.lower()\n",
        "\n",
        "    #punctuation removal \n",
        "    def  remove_punctuation(word): #function will take in the lowercased text and then remove all the punctuation\n",
        "        translator=str.maketrans('','',string.punctuation)\n",
        "        text_punct=word.translate(translator)\n",
        "        return text_punct\n",
        "    result=remove_punctuation(text_lower) #storing the resulting body of  text in variable result\n",
        "\n",
        "    #removing stopwords \n",
        "    def remove_stopwords(word):#The function will   tokenize the result and then filter off  the stop_words \n",
        "        stop_words=set(stopwords.words(\"english\")) \n",
        "        word_tokens= word_tokenize(word)\n",
        "        result=[ word for word in word_tokens if word not in stop_words ]\n",
        "        return result\n",
        "    song=remove_stopwords(result)\n",
        "    print(song)\n",
        "\n",
        "    #lemmatization\n",
        "    lemmatizer=WordNetLemmatizer()\n",
        "    for word in song :\n",
        "        m_song=lemmatizer.lemmatize(word)\n",
        "    print(m_song)\n",
        "\n",
        "\n"
      ],
      "execution_count": 26,
      "outputs": [
        {
          "output_type": "stream",
          "text": [
            "['ones', 'got', 'cheers', 'wish', 'cause', 'drinks', 'bring', 'back', 'memories', 'everything', 'toast', 'ones', 'today', 'toast', 'ones', 'lost', 'way', 'cause', 'drinks', 'bring', 'back', 'memories', 'memories', 'bring', 'back', 'memories', 'bring', 'back', 'time', 'remember', 'know', 'pain', 'believed', 'forever', 'everything', 'would', 'stay', 'heart', 'feel', 'like', 'december', 'somebody', 'say', 'name', 'cause', 'ca', 'nt', 'reach', 'call', 'know', 'one', 'day', 'yeah', 'everybody', 'hurts', 'sometimes', 'everybody', 'hurts', 'someday', 'aye', 'aye', 'everything', 'gon', 'alright', 'go', 'raise', 'glass', 'say', 'aye', 'ones', 'got', 'cheers', 'wish', 'cause', 'drinks', 'bring', 'back', 'memories', 'everything', 'toast', 'ones', 'today', 'toast', 'ones', 'lost', 'way', 'cause', 'drinks', 'bring', 'back', 'memories', 'memories', 'bring', 'back', 'memories', 'bring', 'back', 'doo', 'doo', 'doo', 'doo', 'doo', 'doo', 'doo', 'doo', 'doo', 'doo', 'doo', 'doo', 'doo', 'doo', 'doo', 'doo', 'doo', 'doo', 'doo', 'doo', 'doo', 'memories', 'bring', 'back', 'memories', 'bring', 'back', 'time', 'remember', 'never', 'felt', 'lost', 'felt', 'hatred', 'powerful', 'stop', 'ooh', 'yeah', 'heart', 'feel', 'like', 'ember', 'lighting', 'dark', 'carry', 'torches', 'ya', 'know', 'never', 'drop', 'yeah', 'everybody', 'hurts', 'sometimes', 'everybody', 'hurts', 'someday', 'aye', 'aye', 'everything', 'gon', 'alright', 'go', 'raise', 'glass', 'say', 'aye', 'ones', 'got', 'oh', 'oh', 'cheers', 'wish', 'cause', 'drinks', 'bring', 'back', 'memories', 'everything', 'toast', 'ones', 'today', 'aye', 'toast', 'ones', 'lost', 'way', 'cause', 'drinks', 'bring', 'back', 'memories', 'aye', 'memories', 'bring', 'back', 'memories', 'bring', 'back', 'doo', 'doo', 'doo', 'doo', 'doo', 'doo', 'doo', 'doo', 'doo', 'doo', 'doo', 'doo', 'doo', 'doo', 'doo', 'doo', 'doo', 'doo', 'doo', 'doo', 'doo', 'memories', 'bring', 'back', 'memories', 'bring', 'back', 'doo', 'doo', 'doo', 'doo', 'doo', 'doo', 'doo', 'doo', 'doo', 'doo', 'doo', 'doo', 'doo', 'doo', 'doo', 'doo', 'doo', 'doo', 'doo', 'doo', 'doo', 'ooh', 'yeah', 'memories', 'bring', 'back', 'memories', 'bring', 'back', 'yeah', 'yeah', 'yeah', 'yeah', 'yeah', 'yeah', 'yeah', 'yeah', 'memories', 'bring', 'back', 'memories', 'bring', 'back']\n",
            "back\n",
            "['shoot', 'stars', 'feels', 'right', 'aim', 'heart', 'feel', 'like', 'take', 'away', 'make', 'okay', 'swear', 'behave', 'wanted', 'control', 'waited', 'put', 'show', 'naked', 'say', 'kid', 'ego', 'big', 'nt', 'give', 'shit', 'goes', 'like', 'take', 'tongue', 'know', 'kiss', 'til', 'drunk', 'show', 'moves', 'like', 'jagger', 'got', 'moves', 'like', 'jagger', 'got', 'moves', 'like', 'jagger', 'nt', 'need', 'try', 'control', 'look', 'eyes', 'moves', 'like', 'jagger', 'got', 'moves', 'like', 'jagger', 'got', 'moves', 'like', 'jagger', 'baby', 'hard', 'feel', 'like', 'broken', 'scarred', 'nothing', 'feels', 'right', 'make', 'believe', 'got', 'key', 'oh', 'get', 'car', 'ride', 'wherever', 'want', 'get', 'inside', 'want', 'steer', 'shifting', 'gear', 'take', 'oh', 'yeah', 'yeah', 'goes', 'like', 'take', 'tongue', 'know', 'kiss', 'til', 'drunk', 'show', 'moves', 'like', 'jagger', 'got', 'moves', 'like', 'jagger', 'got', 'moves', 'like', 'jagger', 'nt', 'need', 'try', 'control', 'look', 'eyes', 'moves', 'like', 'jagger', 'got', 'moves', 'like', 'jagger', 'got', 'moves', 'like', 'jagger', 'want', 'know', 'make', 'smile', 'take', 'control', 'night', 'share', 'secret', 'gon', 'na', 'keep', 'nobody', 'else', 'see', 'watch', 'learn', 'wo', 'nt', 'show', 'twice', 'head', 'toe', 'ooh', 'baby', 'rub', 'right', 'share', 'secret', 'gon', 'na', 'keep', 'nobody', 'else', 'see', 'goes', 'like', 'take', 'tongue', 'know', 'kiss', 'til', 'drunk', 'show', 'moves', 'like', 'jagger', 'got', 'moves', 'like', 'jagger', 'got', 'moves', 'like', 'jagger', 'nt', 'need', 'try', 'control', 'look', 'eyes', 'moves', 'like', 'jagger', 'got', 'moves', 'like', 'jagger', 'got', 'moves', 'like', 'jagger']\n",
            "jagger\n",
            "['put', 'hands', 'put', 'hands', 'put', 'hands', 'put', 'hands', 'put', 'hands', 'ca', 'nt', 'seem', 'find', 'pretty', 'little', 'face', 'left', 'behind', 'wandered', 'open', 'road', 'looking', 'better', 'place', 'call', 'home', 'gave', 'place', 'stay', 'got', 'ran', 'away', 'enough', 'pretty', 'little', 'face', 'torn', 'put', 'hands', 'please', 'talk', 'talk', 'tell', 'everything', 'gon', 'na', 'alright', 'put', 'hands', 'please', 'walk', 'walk', 'love', 'game', 'say', 'play', 'put', 'away', 'put', 'hands', 'oh', 'lost', 'mind', 'pretty', 'little', 'girl', 'left', 'behind', 'getting', 'rough', 'everybody', 'knows', 'tough', 'wandered', 'open', 'road', 'looking', 'place', 'call', 'scared', 'death', 'road', 'ahead', 'pretty', 'little', 'thing', 'nt', 'get', 'upset', 'put', 'hands', 'please', 'talk', 'talk', 'tell', 'everything', 'gon', 'na', 'alright', 'gon', 'na', 'alright', 'put', 'hands', 'please', 'walk', 'walk', 'love', 'game', 'say', 'play', 'put', 'away', 'love', 'game', 'say', 'play', 'put', 'away', 'put', 'hands', 'ooh', 'woo', 'put', 'hands', 'yeah', 'yeah', 'yeah', 'put', 'hands', 'ooh', 'come', 'cloud', 'say', 'say', 'loud', 'get', 'face', 'pretty', 'little', 'girl', 'come', 'make', 'day', 'put', 'hands', 'please', 'talk', 'talk', 'girl', 'put', 'hands', 'got', 'ta', 'walk', 'walk', 'come', 'woo', 'put', 'hands', 'got', 'ta', 'talk', 'talk', 'come', 'babe', 'put', 'hands', 'woo', 'got', 'ta', 'walk', 'walk', 'love', 'game', 'say', 'play', 'put', 'away', 'love', 'game', 'say', 'play', 'put', 'away', 'put', 'hands', 'yeah', 'put', 'hands', 'put', 'hands']\n",
            "hand\n",
            "['bad', 'goes', 'til', 'come', 'home', 'babe', 'til', 'come', 'home', 'taste', 'past', 'poison', 'learned', 'love', 'gone', 'alone', 'baby', 'alone', 'waiting', 'something', 'always', 'waiting', 'feeling', 'nothing', 'wondering', 'ever', 'change', 'give', 'little', 'oh', 'babe', 'oh', 'give', 'little', 'oh', 'babe', 'fallin', 'love', 'ya', 'fallin', 'love', 'fallin', 'love', 'ya', 'fallin', 'love', 'til', 'get', 'little', 'baby', 'oh', 'get', 'little', 'babe', 'wrong', 'turning', 'yeah', 'make', 'hard', 'waiting', 'something', 'always', 'waiting', 'feeling', 'nothing', 'wondering', 'ever', 'change', 'ever', 'change', 'give', 'little', 'oh', 'babe', 'oh', 'give', 'little', 'oh', 'babe', 'fallin', 'love', 'ya', 'fallin', 'love', 'gon', 'na', 'love', 'ya', 'gon', 'na', 'love', 'til', 'get', 'little', 'baby', 'get', 'little', 'babe', 'defense', 'know', 'gon', 'na', 'get', 'end', 'pretend', 'never', 'wan', 'na', 'feel', 'way', 'fallin', 'love', 'ya', 'fallin', 'love', 'fallin', 'love', 'ya', 'fallin', 'love', 'til', 'get', 'little', 'baby', 'oh', 'get', 'little', 'babe', 'gon', 'na', 'love', 'ya', 'gon', 'na', 'love', 'gon', 'na', 'love', 'ya', 'fallin', 'love', 'til', 'get', 'little', 'baby', 'oh', 'get', 'little', 'babe']\n",
            "babe\n",
            "['oh', 'yeah', 'oh', 'yeah', 'scared', 'breaking', 'wo', 'nt', 'let', 'bend', 'wrote', 'two', 'hundred', 'letters', 'never', 'send', 'sometimes', 'cuts', 'much', 'deeper', 'seem', 'rather', 'cover', 'rather', 'let', 'bleed', 'let', 'set', 'free', 'misery', 'ai', 'nt', 'nobody', 'comfort', 'wo', 'nt', 'answer', 'silence', 'slowly', 'killing', 'girl', 'really', 'got', 'bad', 'really', 'got', 'bad', 'gon', 'na', 'get', 'back', 'gon', 'na', 'get', 'back', 'salty', 'skin', 'mixes', 'mine', 'way', 'feels', 'completely', 'intertwined', 'nt', 'care', 'nt', 'know', 'nt', 'feel', 'nt', 'show', 'let', 'set', 'free', 'misery', 'ai', 'nt', 'nobody', 'comfort', 'wo', 'nt', 'answer', 'silence', 'slowly', 'killing', 'girl', 'really', 'got', 'bad', 'really', 'got', 'bad', 'gon', 'na', 'get', 'back', 'gon', 'na', 'get', 'back', 'say', 'faith', 'shaken', 'may', 'mistaken', 'keep', 'wide', 'awake', 'waiting', 'sun', 'desperate', 'confused', 'far', 'away', 'getting', 'nt', 'care', 'run', 'yeah', 'wo', 'nt', 'answer', 'answer', 'yeah', 'yeah', 'wo', 'nt', 'answer', 'answer', 'yeah', 'misery', 'ai', 'nt', 'nobody', 'comfort', 'wo', 'nt', 'answer', 'silence', 'slowly', 'killing', 'girl', 'really', 'got', 'bad', 'really', 'got', 'bad', 'gon', 'na', 'get', 'back', 'gon', 'na', 'get', 'back', 'girl', 'really', 'got', 'bad', 'really', 'got', 'bad', 'gon', 'na', 'get', 'back', 'gon', 'na', 'get', 'back', 'girl', 'really', 'got', 'bad', 'really', 'got', 'bad', 'gon', 'na', 'get', 'back', 'gon', 'na', 'get', 'back']\n",
            "back\n",
            "['hurting', 'baby', 'broken', 'need', 'loving', 'loving', 'need', 'without', 'something', 'weak', 'got', 'begging', 'begging', 'knees', 'nt', 'wan', 'na', 'needing', 'love', 'wan', 'na', 'deep', 'love', 'killing', 'away', 'ooh', 'baby', 'cause', 'really', 'nt', 'care', 'wan', 'na', 'got', 'ta', 'get', 'one', 'little', 'taste', 'sugar', 'yes', 'please', 'wo', 'nt', 'come', 'put', 'right', 'cause', 'need', 'little', 'love', 'little', 'sympathy', 'yeah', 'show', 'good', 'loving', 'make', 'alright', 'need', 'little', 'sweetness', 'life', 'sugar', 'yes', 'please', 'wo', 'nt', 'come', 'put', 'broken', 'pieces', 'pick', 'nt', 'leave', 'hanging', 'hanging', 'come', 'give', 'without', 'ya', 'insecure', 'one', 'thing', 'one', 'thing', 'living', 'nt', 'wan', 'na', 'needing', 'love', 'wan', 'na', 'deep', 'love', 'killing', 'away', 'ooh', 'baby', 'cause', 'really', 'nt', 'care', 'wan', 'na', 'got', 'ta', 'get', 'one', 'little', 'taste', 'sugar', 'yes', 'please', 'wo', 'nt', 'come', 'put', 'right', 'cause', 'need', 'little', 'love', 'little', 'sympathy', 'yeah', 'show', 'good', 'loving', 'make', 'alright', 'need', 'little', 'sweetness', 'life', 'sugar', 'sugar', 'yes', 'please', 'yes', 'please', 'wo', 'nt', 'come', 'put', 'yeah', 'want', 'red', 'velvet', 'want', 'sugar', 'sweet', 'nt', 'let', 'nobody', 'touch', 'unless', 'somebody', 'got', 'ta', 'man', 'ai', 'nt', 'way', 'cause', 'girl', 'hotter', 'southern', 'california', 'bay', 'nt', 'wan', 'na', 'play', 'games', 'nt', 'got', 'ta', 'afraid', 'nt', 'give', 'shy', 'shit', 'make', 'sugar', 'yes', 'please', 'wo', 'nt', 'come', 'put', 'oh', 'right', 'right', 'cause', 'need', 'need', 'little', 'love', 'little', 'sympathy', 'yeah', 'show', 'good', 'loving', 'make', 'alright', 'need', 'little', 'sweetness', 'life', 'sugar', 'sugar', 'yes', 'please', 'yes', 'please', 'wo', 'nt', 'come', 'put', 'sugar', 'yes', 'please', 'wo', 'nt', 'come', 'put', 'right', 'cause', 'need', 'little', 'love', 'little', 'sympathy', 'yeah', 'show', 'good', 'loving', 'make', 'alright', 'need', 'little', 'sweetness', 'life', 'sugar', 'yes', 'please', 'wo', 'nt', 'come', 'put']\n",
            "put\n",
            "['hurting', 'baby', 'broken', 'need', 'loving', 'loving', 'need', 'without', 'something', 'weak', 'got', 'begging', 'begging', 'knees', 'nt', 'wan', 'na', 'needing', 'love', 'wan', 'na', 'deep', 'love', 'killing', 'away', 'ooh', 'baby', 'cause', 'really', 'nt', 'care', 'wan', 'na', 'got', 'ta', 'get', 'one', 'little', 'taste', 'sugar', 'yes', 'please', 'wo', 'nt', 'come', 'put', 'right', 'cause', 'need', 'little', 'love', 'little', 'sympathy', 'yeah', 'show', 'good', 'loving', 'make', 'alright', 'need', 'little', 'sweetness', 'life', 'sugar', 'yes', 'please', 'wo', 'nt', 'come', 'put', 'broken', 'pieces', 'pick', 'nt', 'leave', 'hanging', 'hanging', 'come', 'give', 'without', 'ya', 'insecure', 'one', 'thing', 'one', 'thing', 'living', 'nt', 'wan', 'na', 'needing', 'love', 'wan', 'na', 'deep', 'love', 'killing', 'away', 'ooh', 'baby', 'cause', 'really', 'nt', 'care', 'wan', 'na', 'got', 'ta', 'get', 'one', 'little', 'taste', 'sugar', 'yes', 'please', 'wo', 'nt', 'come', 'put', 'right', 'cause', 'need', 'little', 'love', 'little', 'sympathy', 'yeah', 'show', 'good', 'loving', 'make', 'alright', 'need', 'little', 'sweetness', 'life', 'sugar', 'sugar', 'yes', 'please', 'yes', 'please', 'wo', 'nt', 'come', 'put', 'yeah', 'want', 'red', 'velvet', 'want', 'sugar', 'sweet', 'nt', 'let', 'nobody', 'touch', 'unless', 'somebody', 'got', 'ta', 'man', 'ai', 'nt', 'way', 'cause', 'girl', 'hotter', 'southern', 'california', 'bay', 'nt', 'wan', 'na', 'play', 'games', 'nt', 'got', 'ta', 'afraid', 'nt', 'give', 'shy', 'shit', 'make', 'sugar', 'yes', 'please', 'wo', 'nt', 'come', 'put', 'oh', 'right', 'right', 'cause', 'need', 'need', 'little', 'love', 'little', 'sympathy', 'yeah', 'show', 'good', 'loving', 'make', 'alright', 'need', 'little', 'sweetness', 'life', 'sugar', 'sugar', 'yes', 'please', 'yes', 'please', 'wo', 'nt', 'come', 'put', 'sugar', 'yes', 'please', 'wo', 'nt', 'come', 'put', 'right', 'cause', 'need', 'little', 'love', 'little', 'sympathy', 'yeah', 'show', 'good', 'loving', 'make', 'alright', 'need', 'little', 'sweetness', 'life', 'sugar', 'yes', 'please', 'wo', 'nt', 'come', 'put']\n",
            "put\n",
            "['shoot', 'stars', 'feels', 'right', 'aim', 'heart', 'feel', 'like', 'take', 'away', 'make', 'okay', 'swear', 'behave', 'wanted', 'control', 'waited', 'put', 'show', 'naked', 'say', 'kid', 'ego', 'big', 'nt', 'give', 'shit', 'goes', 'like', 'take', 'tongue', 'know', 'kiss', 'til', 'drunk', 'show', 'moves', 'like', 'jagger', 'got', 'moves', 'like', 'jagger', 'got', 'moves', 'like', 'jagger', 'nt', 'need', 'try', 'control', 'look', 'eyes', 'moves', 'like', 'jagger', 'got', 'moves', 'like', 'jagger', 'got', 'moves', 'like', 'jagger', 'baby', 'hard', 'feel', 'like', 'broken', 'scarred', 'nothing', 'feels', 'right', 'make', 'believe', 'got', 'key', 'oh', 'get', 'car', 'ride', 'wherever', 'want', 'get', 'inside', 'want', 'steer', 'shifting', 'gear', 'take', 'oh', 'yeah', 'yeah', 'goes', 'like', 'take', 'tongue', 'know', 'kiss', 'til', 'drunk', 'show', 'moves', 'like', 'jagger', 'got', 'moves', 'like', 'jagger', 'got', 'moves', 'like', 'jagger', 'nt', 'need', 'try', 'control', 'look', 'eyes', 'moves', 'like', 'jagger', 'got', 'moves', 'like', 'jagger', 'got', 'moves', 'like', 'jagger', 'want', 'know', 'make', 'smile', 'take', 'control', 'night', 'share', 'secret', 'gon', 'na', 'keep', 'nobody', 'else', 'see', 'watch', 'learn', 'wo', 'nt', 'show', 'twice', 'head', 'toe', 'ooh', 'baby', 'rub', 'right', 'share', 'secret', 'gon', 'na', 'keep', 'nobody', 'else', 'see', 'goes', 'like', 'take', 'tongue', 'know', 'kiss', 'til', 'drunk', 'show', 'moves', 'like', 'jagger', 'got', 'moves', 'like', 'jagger', 'got', 'moves', 'like', 'jagger', 'nt', 'need', 'try', 'control', 'look', 'eyes', 'moves', 'like', 'jagger', 'got', 'moves', 'like', 'jagger', 'got', 'moves', 'like', 'jagger']\n",
            "jagger\n",
            "['know', 'insides', 'feeling', 'hollow', 'hard', 'pill', 'swallow', 'yeah', 'fall', 'never', 'recover', 'fall', 'never', 'really', 'wan', 'na', 'love', 'somebody', 'really', 'wan', 'na', 'dance', 'night', 'away', 'know', 'half', 'way', 'take', 'way', 'take', 'way', 'really', 'wan', 'na', 'touch', 'somebody', 'think', 'every', 'single', 'day', 'know', 'half', 'way', 'take', 'way', 'take', 'way', 'hard', 'act', 'follow', 'love', 'today', 'nt', 'leave', 'tomorrow', 'yeah', 'fall', 'never', 'recover', 'fall', 'never', 'really', 'wan', 'na', 'love', 'somebody', 'really', 'wan', 'na', 'dance', 'night', 'away', 'know', 'half', 'way', 'take', 'way', 'take', 'way', 'really', 'wan', 'na', 'touch', 'somebody', 'think', 'every', 'single', 'day', 'know', 'half', 'way', 'take', 'way', 'take', 'way', 'oh', 'oh', 'oh', 'oh', 'oh', 'oh', 'oh', 'oh', 'oh', 'oh', 'oh', 'oh', 'nt', 'know', 'start', 'little', 'lost', 'wan', 'na', 'feel', 'like', 'never', 'gon', 'na', 'ever', 'stop', 'nt', 'know', 'right', 'front', 'asking', 'stay', 'stay', 'stay', 'tonight', 'yeah', 'really', 'wan', 'na', 'love', 'somebody', 'really', 'wan', 'na', 'dance', 'night', 'away', 'know', 'half', 'way', 'take', 'way', 'take', 'way', 'really', 'wan', 'na', 'touch', 'somebody', 'think', 'every', 'single', 'day', 'know', 'half', 'way', 'take', 'way', 'take', 'way', 'oh', 'oh', 'oh', 'oh', 'oh', 'oh', 'oh', 'oh', 'oh', 'oh', 'oh', 'oh', 'take', 'way', 'take', 'way', 'yeah']\n",
            "yeah\n",
            "['baby', 'preying', 'tonight', 'hunt', 'eat', 'alive', 'like', 'animals', 'animals', 'like', 'animalsmals', 'maybe', 'think', 'hide', 'smell', 'scent', 'miles', 'like', 'animals', 'animals', 'like', 'animalsmals', 'baby', 'im', 'trying', 'like', 'ca', 'nt', 'stop', 'enemies', 'get', 'along', 'inside', 'eh', 'like', 'drug', 'killing', 'cut', 'entirely', 'get', 'high', 'inside', 'yeah', 'start', 'run', 'free', 'find', 'fish', 'sea', 'pretend', 'meant', 'ca', 'nt', 'stay', 'away', 'still', 'hear', 'making', 'sound', 'taking', 'rolling', 'ground', 'pretend', 'oh', 'baby', 'preying', 'tonight', 'hunt', 'eat', 'alive', 'like', 'animals', 'animals', 'like', 'animals', 'maybe', 'think', 'hide', 'smell', 'scent', 'miles', 'like', 'animals', 'animals', 'like', 'animalsmals', 'baby', 'im', 'run', 'enough', 'still', 'head', 'forever', 'stuck', 'wan', 'na', 'eh', 'love', 'lies', 'eat', 'em', 'nt', 'deny', 'animal', 'comes', 'alive', 'inside', 'yeah', 'start', 'run', 'free', 'find', 'fish', 'sea', 'pretend', 'meant', 'ca', 'nt', 'stay', 'away', 'still', 'hear', 'making', 'sound', 'taking', 'rolling', 'ground', 'pretend', 'oh', 'baby', 'preying', 'tonight', 'hunt', 'eat', 'alive', 'like', 'animals', 'animals', 'like', 'animalsmals', 'maybe', 'think', 'hide', 'smell', 'scent', 'miles', 'like', 'animals', 'animals', 'like', 'animalsmals', 'baby', 'im', 'nt', 'tell', 'lie', 'lie', 'lie', 'lie', 'ca', 'nt', 'denynynyny', 'beast', 'insidesidesideside', 'yeah', 'yeah', 'yeah', 'girl', 'nt', 'lie', 'lie', 'lie', 'lie', 'girl', 'nt', 'lie', 'ca', 'nt', 'deny', 'nynyny', 'ca', 'nt', 'deny', 'beast', 'insidesidesideside', 'yeah', 'yeah', 'yeah', 'yo', 'whoa', 'whoa', 'like', 'animals', 'animals', 'like', 'animalsmals', 'like', 'animals', 'yeah', 'animals', 'yeah', 'like', 'animalsmals', 'yeah', 'ow', 'baby', 'preying', 'tonight', 'hunt', 'eat', 'alive', 'like', 'animals', 'animals', 'like', 'animalsmals', 'maybe', 'think', 'hide', 'smell', 'scent', 'miles', 'like', 'animals', 'animals', 'like', 'animalsmals', 'baby', 'im', 'nt', 'tell', 'lie', 'lie', 'lie', 'lie', 'ca', 'nt', 'denynynyny', 'beast', 'insidesidesideside', 'yeah', 'yeah', 'yeah', 'girl', 'nt', 'lie', 'lie', 'lie', 'lie', 'girl', 'nt', 'lie', 'ca', 'nt', 'denynynyny', 'ca', 'nt', 'deny', 'beast', 'insidesidesideside', 'yeah', 'yeah', 'yeah']\n",
            "yeah\n",
            "['nt', 'hear', 'saying', 'live', 'raw', 'emotion', 'baby', 'answer', 'questions', 'never', 'maybe', 'kind', 'betray', 'hell', 'save', 'never', 'would', 'made', 'babe', 'needed', 'love', 'well', 'ask', 'love', 'could', 'given', 'love', 'taking', 'love', 'fault', 'cause', 'deserve', 'coming', 'nt', 'say', 'word', 'wake', 'call', 'caught', 'morning', 'another', 'one', 'bed', 'nt', 'care', 'anymore', 'nt', 'care', 'nt', 'think', 'six', 'foot', 'tall', 'came', 'without', 'warning', 'shoot', 'dead', 'wo', 'nt', 'come', 'around', 'anymore', 'come', 'around', 'nt', 'think', 'would', 'bled', 'make', 'happy', 'nt', 'need', 'treat', 'way', 'beat', 'game', 'finally', 'sleeping', 'soundly', 'lover', 'screaming', 'loudly', 'hear', 'sound', 'hit', 'ground', 'needed', 'love', 'well', 'ask', 'love', 'could', 'given', 'love', 'taking', 'love', 'fault', 'cause', 'deserve', 'coming', 'nt', 'say', 'word', 'wake', 'call', 'caught', 'morning', 'another', 'one', 'bed', 'nt', 'care', 'anymore', 'nt', 'care', 'nt', 'think', 'six', 'foot', 'tall', 'came', 'without', 'warning', 'shoot', 'dead', 'wo', 'nt', 'come', 'around', 'anymore', 'come', 'around', 'nt', 'feel', 'bad', 'nt', 'feel', 'bad', 'nt', 'feel', 'bad', 'sorry', 'darling', 'wrong', 'thing', 'oh', 'thinking', 'heart', 'still', 'beating', 'whoa', 'oh', 'oh', 'wake', 'call', 'caught', 'morning', 'another', 'one', 'bed', 'nt', 'care', 'anymore', 'nt', 'care', 'nt', 'think', 'six', 'foot', 'tall', 'came', 'without', 'warning', 'shoot', 'dead', 'wo', 'nt', 'come', 'around', 'anymore', 'come', 'around', 'nt', 'feel', 'bad', 'wake', 'call', 'caught', 'morning', 'another', 'one', 'bed', 'nt', 'care', 'anymore', 'nt', 'care', 'nt', 'think', 'six', 'foot', 'tall', 'came', 'without', 'warning', 'shoot', 'dead', 'wo', 'nt', 'come', 'around', 'anymore', 'wo', 'nt', 'come', 'around', 'nt', 'feel', 'bad', 'wake', 'call', 'caught', 'morning', 'another', 'one', 'bed', 'nt', 'care', 'anymore', 'nt', 'care', 'nt', 'feel', 'bad', 'wake', 'call', 'caught', 'morning', 'another', 'one', 'bed', 'nt', 'care', 'anymore']\n",
            "anymore\n",
            "['ooh', 'ooh', 'ooh', 'ooh', 'ooh', 'ooh', 'ooh', 'ooh', 'go', 'hard', 'like', 'going', 'war', 'go', 'rough', 'keep', 'throwing', 'things', 'slamming', 'door', 'get', 'damn', 'dysfunctional', 'start', 'keeping', 'score', 'get', 'sick', 'yeah', 'know', 'ca', 'nt', 'baby', 'go', 'go', 'making', 'love', 'yeah', 'stopped', 'using', 'head', 'using', 'head', 'let', 'go', 'got', 'stuck', 'body', 'body', 'like', 'tattoo', 'feeling', 'stupid', 'feeling', 'stupid', 'crawling', 'back', 'cross', 'heart', 'hope', 'die', 'stay', 'one', 'night', 'know', 'said', 'million', 'times', 'stay', 'one', 'night', 'try', 'tell', 'body', 'keeps', 'telling', 'yes', 'try', 'tell', 'stop', 'lipstick', 'got', 'breath', 'waking', 'morning', 'probably', 'hating', 'waking', 'feeling', 'satisfied', 'guilty', 'hell', 'baby', 'go', 'go', 'making', 'love', 'stopped', 'using', 'head', 'using', 'head', 'let', 'go', 'got', 'stuck', 'body', 'body', 'like', 'tattoo', 'feeling', 'stupid', 'feeling', 'stupid', 'crawling', 'back', 'cross', 'heart', 'hope', 'die', 'stay', 'one', 'night', 'know', 'said', 'million', 'times', 'stay', 'one', 'night', 'yeah', 'baby', 'give', 'one', 'night', 'yeah', 'baby', 'give', 'one', 'night', 'yeah', 'baby', 'give', 'one', 'night', 'baby', 'go', 'go', 'making', 'love', 'stopped', 'using', 'head', 'using', 'head', 'let', 'go', 'got', 'stuck', 'body', 'body', 'like', 'tattoo', 'yeah', 'yeah', 'yeah', 'yeah', 'cross', 'heart', 'hope', 'die', 'stay', 'one', 'night', 'know', 'said', 'million', 'times', 'stay', 'one', 'night', 'yeah', 'baby', 'give', 'one', 'night', 'cross', 'heart', 'hope', 'die', 'stay', 'one', 'night', 'know', 'said', 'million', 'times', 'stay', 'one', 'night']\n",
            "night\n",
            "['sunday', 'morning', 'rain', 'falling', 'steal', 'covers', 'share', 'skin', 'clouds', 'shrouding', 'us', 'moments', 'unforgettable', 'twist', 'fit', 'mold', 'things', 'get', 'crazy', 'living', 'life', 'gets', 'hard', 'would', 'gladly', 'hit', 'road', 'get', 'go', 'knew', 'someday', 'would', 'lead', 'back', 'someday', 'would', 'lead', 'back', 'may', 'need', 'darkness', 'see', 'come', 'rest', 'bones', 'driving', 'slow', 'sunday', 'morning', 'never', 'want', 'leave', 'fingers', 'trace', 'every', 'outline', 'paint', 'picture', 'hands', 'back', 'forth', 'sway', 'like', 'branches', 'storm', 'change', 'weather', 'still', 'together', 'ends', 'may', 'need', 'darkness', 'see', 'come', 'rest', 'bones', 'driving', 'slow', 'sunday', 'morning', 'never', 'want', 'leave', 'things', 'get', 'crazy', 'living', 'life', 'gets', 'hard', 'sunday', 'morning', 'rain', 'falling', 'calling', 'singing', 'someday', 'bring', 'back', 'find', 'way', 'bring', 'back', 'home', 'may', 'need', 'darkness', 'see', 'come', 'rest', 'bones', 'driving', 'slow', 'sunday', 'morning', 'driving', 'slow', 'flower', 'hair', 'flower', 'hair']\n",
            "hair\n",
            "['miss', 'taste', 'sweet', 'life', 'miss', 'conversation', 'searching', 'song', 'tonight', 'changing', 'stations', 'like', 'think', 'drew', 'map', 'better', 'place', 'road', 'took', 'fall', 'oh', 'baby', 'run', 'away', 'darkest', 'times', 'darkest', 'nights', 'wonder', 'worst', 'knees', 'said', 'back', 'wonder', 'roads', 'took', 'came', 'back', 'following', 'map', 'leads', 'map', 'leads', 'ai', 'nt', 'nothing', 'map', 'leads', 'following', 'following', 'following', 'map', 'leads', 'ai', 'nt', 'nothing', 'map', 'leads', 'following', 'following', 'following', 'hear', 'voice', 'sleep', 'night', 'hard', 'resist', 'temptation', 'cause', 'something', 'strange', 'come', 'ca', 'nt', 'get', 'ca', 'nt', 'get', 'darkest', 'times', 'darkest', 'nights', 'wonder', 'worst', 'knees', 'said', 'back', 'wonder', 'roads', 'took', 'came', 'back', 'following', 'map', 'leads', 'map', 'leads', 'ai', 'nt', 'nothing', 'map', 'leads', 'following', 'following', 'following', 'map', 'leads', 'ai', 'nt', 'nothing', 'map', 'leads', 'oh', 'oh', 'oh', 'oh', 'oh', 'oh', 'yeah', 'yeah', 'yeah', 'oh', 'oh', 'oh', 'oh', 'darkest', 'times', 'oh', 'oh', 'darkest', 'nights', 'oh', 'oh', 'darkest', 'times', 'oh', 'oh', 'darkest', 'nights', 'wonder', 'worst', 'knees', 'said', 'back', 'wonder', 'roads', 'took', 'came', 'back', 'following', 'map', 'leads', 'map', 'leads', 'ai', 'nt', 'nothing', 'map', 'leads', 'following', 'following', 'following', 'map', 'leads', 'ai', 'nt', 'nothing', 'map', 'leads', 'following', 'following', 'following']\n",
            "following\n",
            "['beauty', 'queen', 'eighteen', 'trouble', 'always', 'help', 'always', 'belonged', 'someone', 'else', 'drove', 'miles', 'miles', 'wound', 'door', 'many', 'times', 'somehow', 'want', 'nt', 'mind', 'spendin', 'everyday', 'corner', 'pourin', 'rain', 'look', 'girl', 'broken', 'smile', 'ask', 'wants', 'stay', 'awhile', 'loved', 'loved', 'tap', 'window', 'knock', 'door', 'want', 'make', 'feel', 'beautiful', 'know', 'tend', 'get', 'insecure', 'nt', 'matter', 'anymore', 'always', 'rainbows', 'butterflies', 'compromise', 'moves', 'us', 'along', 'yeah', 'heart', 'full', 'door', 'always', 'open', 'come', 'anytime', 'want', 'yeah', 'nt', 'mind', 'spendin', 'everyday', 'corner', 'pourin', 'rain', 'look', 'girl', 'broken', 'smile', 'ask', 'wants', 'stay', 'awhile', 'loved', 'loved', 'loved', 'loved', 'know', 'hide', 'alone', 'car', 'know', 'things', 'make', 'know', 'goodbye', 'means', 'nothing', 'comes', 'back', 'makes', 'catch', 'every', 'time', 'falls', 'yeah', 'tap', 'window', 'knock', 'door', 'want', 'make', 'feel', 'beautiful', 'nt', 'mind', 'spendin', 'everyday', 'corner', 'pourin', 'rain', 'oh', 'look', 'girl', 'broken', 'smile', 'ask', 'wants', 'stay', 'awhile', 'loved', 'loved', 'loved', 'loved', 'please', 'nt', 'try', 'hard', 'say', 'goodbye', 'nt', 'mind', 'spendin', 'everyday', 'corner', 'pourin', 'rain', 'please', 'nt', 'try', 'hard', 'say', 'goodbye']\n",
            "goodbye\n",
            "['high', 'recognize', 'fire', 'burning', 'eyes', 'chaos', 'controlled', 'mind', 'whispered', 'goodbye', 'got', 'plane', 'never', 'return', 'always', 'heart', 'love', 'taken', 'toll', 'said', 'goodbye', 'many', 'times', 'heart', 'breaking', 'front', 'choice', 'cause', 'wo', 'nt', 'say', 'goodbye', 'anymore', 'whoa', 'whoa', 'whoa', 'tried', 'best', 'feed', 'appetite', 'keep', 'coming', 'every', 'night', 'hard', 'keep', 'satisfied', 'oh', 'kept', 'playing', 'love', 'like', 'game', 'pretending', 'feel', 'turn', 'around', 'leave', 'oh', 'love', 'taken', 'toll', 'said', 'goodbye', 'many', 'times', 'heart', 'breaking', 'front', 'choice', 'cause', 'wo', 'nt', 'say', 'goodbye', 'anymore', 'whoa', 'whoa', 'whoa', 'fix', 'broken', 'things', 'repair', 'broken', 'wings', 'make', 'sure', 'everything', 'alright', 'pressure', 'hips', 'sinking', 'fingertips', 'every', 'inch', 'cause', 'know', 'want', 'love', 'taken', 'toll', 'said', 'goodbye', 'many', 'times', 'heart', 'breaking', 'front', 'choice', 'cause', 'wo', 'nt', 'say', 'goodbye', 'anymore', 'love', 'taken', 'toll', 'said', 'goodbye', 'many', 'times', 'heart', 'breaking', 'front', 'said', 'goodbye', 'many', 'times', 'love', 'taken', 'toll', 'said', 'goodbye', 'many', 'times', 'heart', 'breaking', 'front', 'choice', 'cause', 'wo', 'nt', 'say', 'goodbye', 'anymore']\n",
            "anymore\n",
            "['dare', 'say', 'behavior', 'unacceptable', 'condescending', 'unnecessarily', 'critical', 'tendency', 'getting', 'physical', 'watch', 'step', 'cause', 'need', 'miracle', 'drain', 'dry', 'make', 'wonder', 'even', 'double', 'vision', 'seeing', 'finally', 'clear', 'want', 'stay', 'know', 'well', 'want', 'gone', 'fit', 'fuckin', 'tread', 'ground', 'walking', 'gets', 'cold', 'outside', 'got', 'nobody', 'love', 'understand', 'mean', 'say', 'way', 'gon', 'na', 'give', 'like', 'little', 'girl', 'cries', 'face', 'monster', 'lives', 'dreams', 'anyone', 'cause', 'getting', 'harder', 'harder', 'breathe', 'anyone', 'cause', 'getting', 'harder', 'harder', 'breathe', 'screwing', 'things', 'inside', 'head', 'know', 'better', 'never', 'listened', 'word', 'said', 'clutching', 'pillow', 'writhing', 'naked', 'sweat', 'hoping', 'somebody', 'someday', 'like', 'gets', 'cold', 'outside', 'got', 'nobody', 'love', 'understand', 'mean', 'say', 'way', 'gon', 'na', 'give', 'like', 'little', 'girl', 'cries', 'face', 'monster', 'lives', 'dreams', 'anyone', 'cause', 'getting', 'harder', 'harder', 'breathe', 'anyone', 'cause', 'getting', 'harder', 'harder', 'breathe', 'kill', 'burn', 'painful', 'learn', 'control', 'thrill', 'sting', 'feel', 'bring', 'wish', 'hold', 'gets', 'cold', 'outside', 'got', 'nobody', 'love', 'understand', 'mean', 'say', 'way', 'gon', 'na', 'give', 'like', 'little', 'girl', 'cries', 'face', 'monster', 'lives', 'dreams', 'anyone', 'cause', 'getting', 'harder', 'harder', 'breathe', 'anyone', 'cause', 'getting', 'harder', 'harder', 'breathe', 'anyone', 'cause', 'getting', 'harder', 'harder', 'breathe']\n",
            "breathe\n",
            "['watch', 'sunrise', 'say', 'goodbyes', 'go', 'conversation', 'contemplation', 'hit', 'road', 'car', 'overheats', 'jump', 'seat', 'side', 'highway', 'baby', 'road', 'long', 'hold', 'strong', 'please', 'nt', 'ever', 'let', 'go', 'oh', 'know', 'nt', 'know', 'want', 'bad', 'everyone', 'secret', 'oh', 'keep', 'oh', 'cant', 'driving', 'fast', 'nt', 'think', 'know', 'go', 'slow', 'oh', 'feel', 'around', 'cool', 'engines', 'calm', 'jets', 'ask', 'hot', 'get', 'wipe', 'beads', 'sweat', 'slowly', 'say', 'yet', 'know', 'nt', 'know', 'want', 'bad', 'everyone', 'secret', 'oh', 'keep', 'oh', 'cant', 'know', 'nt', 'know', 'want', 'bad', 'everyone', 'secret', 'oh', 'keep', 'oh', 'ca', 'nt']\n",
            "nt\n",
            "['asked', 'stay', 'would', 'nt', 'listen', 'left', 'chance', 'say', 'oh', 'words', 'would', 'mend', 'things', 'broken', 'far', 'late', 'gone', 'away', 'every', 'night', 'cry', 'sleep', 'thinking', 'happen', 'every', 'moment', 'hard', 'hard', 'believe', 'tonight', 'give', 'one', 'chance', 'make', 'right', 'may', 'make', 'night', 'wo', 'nt', 'go', 'home', 'without', 'taste', 'breath', 'never', 'get', 'noises', 'made', 'kept', 'awake', 'oh', 'weight', 'things', 'remained', 'unspoken', 'built', 'much', 'crushed', 'us', 'everyday', 'every', 'night', 'cry', 'sleep', 'thinking', 'happen', 'every', 'moment', 'hard', 'hard', 'believe', 'tonight', 'give', 'one', 'chance', 'make', 'right', 'may', 'make', 'night', 'wo', 'nt', 'go', 'home', 'without', 'tonight', 'give', 'one', 'chance', 'make', 'right', 'may', 'make', 'night', 'wo', 'nt', 'go', 'home', 'without', 'things', 'felt', 'never', 'really', 'shown', 'perhaps', 'worst', 'ever', 'let', 'go', 'ever', 'let', 'go', 'oh', 'oh', 'oh', 'tonight', 'give', 'one', 'chance', 'make', 'right', 'may', 'make', 'night', 'wo', 'nt', 'go', 'home', 'without', 'oh', 'oh', 'oh', 'tonight', 'give', 'one', 'chance', 'make', 'right', 'may', 'make', 'night', 'wo', 'nt', 'go', 'home', 'without', 'wo', 'nt', 'go', 'home', 'without', 'wo', 'nt', 'go', 'home', 'without', 'wo', 'nt', 'go', 'home', 'without']\n",
            "without\n",
            "['payphone', 'trying', 'call', 'home', 'change', 'spent', 'times', 'gone', 'baby', 'wrong', 'plans', 'made', 'two', 'yeah', 'know', 'hard', 'remember', 'people', 'used', 'even', 'harder', 'picture', 'next', 'say', 'late', 'make', 'late', 'try', 'time', 'wasted', 'bridges', 'burned', 'wasted', 'nights', 'turned', 'lights', 'paralyzed', 'still', 'stuck', 'time', 'called', 'love', 'even', 'sun', 'sets', 'paradise', 'payphone', 'trying', 'call', 'home', 'change', 'spent', 'times', 'gone', 'baby', 'wrong', 'plans', 'made', 'two', 'happy', 'ever', 'afters', 'exist', 'would', 'still', 'holding', 'like', 'fairy', 'tales', 'full', 'shit', 'one', 'fucking', 'love', 'song', 'sick', 'oh', 'turned', 'back', 'tomorrow', 'cause', 'forgot', 'yesterday', 'gave', 'love', 'borrow', 'gave', 'away', 'ca', 'nt', 'expect', 'fine', 'nt', 'expect', 'care', 'know', 'said', 'bridges', 'burned', 'wasted', 'nights', 'turned', 'lights', 'paralyzed', 'still', 'stuck', 'time', 'called', 'love', 'even', 'sun', 'sets', 'paradise', 'payphone', 'trying', 'call', 'home', 'change', 'spent', 'times', 'gone', 'baby', 'wrong', 'plans', 'made', 'two', 'happy', 'ever', 'afters', 'exist', 'would', 'still', 'holding', 'like', 'fairy', 'tales', 'full', 'shit', 'one', 'fucking', 'love', 'song', 'sick', 'payphone', 'man', 'fck', 'shit', 'spending', 'money', 'sitting', 'round', 'wondering', 'nt', 'came', 'nothing', 'made', 'bottom', 'see', 'stunting', 'cars', 'start', 'push', 'button', 'telling', 'chances', 'blew', 'whatever', 'call', 'switch', 'number', 'phone', 'never', 'could', 'call', 'nt', 'need', 'name', 'show', 'tell', 'ballin', 'swish', 'shame', 'could', 'got', 'picked', 'really', 'good', 'game', 'missed', 'last', 'shot', 'talk', 'see', 'top', 'could', 'saw', 'sad', 'say', 'phantom', 'pulled', 'valet', 'open', 'doors', 'wiz', 'like', 'go', 'away', 'got', 'looking', 'want', 'go', 'take', 'little', 'piece', 'shit', 'payphone', 'trying', 'call', 'home', 'change', 'spent', 'times', 'gone', 'baby', 'wrong', 'plans', 'made', 'two', 'happy', 'ever', 'afters', 'exist', 'would', 'still', 'holding', 'like', 'fairy', 'tales', 'full', 'shit', 'one', 'fucking', 'love', 'song', 'sick', 'payphone']\n",
            "payphone\n"
          ],
          "name": "stdout"
        }
      ]
    },
    {
      "cell_type": "code",
      "metadata": {
        "id": "nJcAtJIDgMjy",
        "colab_type": "code",
        "colab": {}
      },
      "source": [
        ""
      ],
      "execution_count": null,
      "outputs": []
    }
  ]
}