{
  "nbformat": 4,
  "nbformat_minor": 0,
  "metadata": {
    "colab": {
      "name": "preprocessing_lyrics.ipynb",
      "provenance": [],
      "authorship_tag": "ABX9TyOYQPaaRAOm+7Hrmvk6s40q",
      "include_colab_link": true
    },
    "kernelspec": {
      "name": "python3",
      "display_name": "Python 3"
    }
  },
  "cells": [
    {
      "cell_type": "markdown",
      "metadata": {
        "id": "view-in-github",
        "colab_type": "text"
      },
      "source": [
        "<a href=\"https://colab.research.google.com/github/Gail529/Recommendation-system/blob/master/preprocessing_lyrics.ipynb\" target=\"_parent\"><img src=\"https://colab.research.google.com/assets/colab-badge.svg\" alt=\"Open In Colab\"/></a>"
      ]
    },
    {
      "cell_type": "code",
      "metadata": {
        "id": "h9vc2hfaT203",
        "colab_type": "code",
        "colab": {}
      },
      "source": [
        "#preprocessing the lyrics data\n",
        "import pandas as pd\n",
        "import numpy as np\n",
        "import nltk\n",
        "nltk.download('punkt')\n",
        "nltk.download('stopwords')\n",
        "import re \n",
        "import string\n",
        "from nltk.stem import PorterStemmer \n",
        "from nltk.tokenize import word_tokenize,sent_tokenize\n",
        "nltk.download('wordnet')\n",
        "from nltk.stem import WordNetLemmatizer\n",
        "from nltk.corpus import stopwords\n",
        " \n",
        "one_Re=pd.read_csv('/content/ORlyrics.csv',header=None)"
      ],
      "execution_count": null,
      "outputs": []
    },
    {
      "cell_type": "code",
      "metadata": {
        "id": "Hnjk2bKZWX13",
        "colab_type": "code",
        "colab": {}
      },
      "source": [
        "one_Re"
      ],
      "execution_count": null,
      "outputs": []
    },
    {
      "cell_type": "code",
      "metadata": {
        "id": "siOaEE1TVfpn",
        "colab_type": "code",
        "colab": {}
      },
      "source": [
        "counting_star=one_Re.iloc[0,1]\n",
        "\n",
        "#removing numbers\n",
        "text=re.sub(r'\\d+','',counting_star)\n",
        "#lowercasing\n",
        "text_lower=text.lower()\n",
        "\n",
        "#punctuation removal \n",
        "def  remove_punctuation(word): #function will take in the lowercased text and then remove all the punctuation\n",
        "    translator=str.maketrans('','',string.punctuation)\n",
        "    text_punct=word.translate(translator)\n",
        "    return text_punct\n",
        "result=remove_punctuation(text_lower) #storing the resulting body of  text in variable result\n",
        "\n",
        "#removing stopwords \n",
        "def remove_stopwords(word):#The function will   tokenize the result and then filter off  the stop_words \n",
        "    stop_words=set(stopwords.words(\"english\")) \n",
        "    word_tokens= word_tokenize(word)\n",
        "    result=[ word for word in word_tokens if word not in stop_words ]\n",
        "    return result\n",
        "song=remove_stopwords(result)\n",
        "print(song)\n",
        "\n",
        "#lemmatization\n",
        "lemmatizer=WordNetLemmatizer()\n",
        "for word in song :\n",
        "    lemmatized_song=lemmatizer.lemmatize(word)\n",
        "    print(lemmatized_song)\n",
        "\n",
        "\n",
        "\n",
        "\n"
      ],
      "execution_count": null,
      "outputs": []
    }
  ]
}