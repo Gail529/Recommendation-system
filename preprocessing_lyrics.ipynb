{
  "nbformat": 4,
  "nbformat_minor": 0,
  "metadata": {
    "colab": {
      "name": "preprocessing_lyrics.ipynb",
      "provenance": [],
      "authorship_tag": "ABX9TyN7wwe1Gvcxa9Dsm0jd/A8R",
      "include_colab_link": true
    },
    "kernelspec": {
      "name": "python3",
      "display_name": "Python 3"
    }
  },
  "cells": [
    {
      "cell_type": "markdown",
      "metadata": {
        "id": "view-in-github",
        "colab_type": "text"
      },
      "source": [
        "<a href=\"https://colab.research.google.com/github/Gail529/Recommendation-system/blob/master/preprocessing_lyrics.ipynb\" target=\"_parent\"><img src=\"https://colab.research.google.com/assets/colab-badge.svg\" alt=\"Open In Colab\"/></a>"
      ]
    },
    {
      "cell_type": "code",
      "metadata": {
        "id": "h9vc2hfaT203",
        "colab_type": "code",
        "colab": {
          "base_uri": "https://localhost:8080/",
          "height": 131
        },
        "outputId": "5507175b-9f61-4712-fc88-a616290df113"
      },
      "source": [
        "#preprocessing the lyrics data\n",
        "import pandas as pd\n",
        "import numpy as np\n",
        "import nltk\n",
        "nltk.download('punkt')\n",
        "nltk.download('stopwords')\n",
        "import re \n",
        "import string\n",
        "from nltk.stem import PorterStemmer \n",
        "from nltk.tokenize import word_tokenize,sent_tokenize\n",
        "nltk.download('wordnet')\n",
        "from nltk.stem import WordNetLemmatizer\n",
        "from nltk.corpus import stopwords\n",
        " \n",
        "one_Re=pd.read_csv('/content/ORlyrics.csv',header=None)"
      ],
      "execution_count": 1,
      "outputs": [
        {
          "output_type": "stream",
          "text": [
            "[nltk_data] Downloading package punkt to /root/nltk_data...\n",
            "[nltk_data]   Unzipping tokenizers/punkt.zip.\n",
            "[nltk_data] Downloading package stopwords to /root/nltk_data...\n",
            "[nltk_data]   Unzipping corpora/stopwords.zip.\n",
            "[nltk_data] Downloading package wordnet to /root/nltk_data...\n",
            "[nltk_data]   Unzipping corpora/wordnet.zip.\n"
          ],
          "name": "stdout"
        }
      ]
    },
    {
      "cell_type": "code",
      "metadata": {
        "id": "Hnjk2bKZWX13",
        "colab_type": "code",
        "colab": {
          "base_uri": "https://localhost:8080/",
          "height": 514
        },
        "outputId": "011b0af6-f0fe-4415-a871-a9ca19ad7377"
      },
      "source": [
        "one_Re"
      ],
      "execution_count": 13,
      "outputs": [
        {
          "output_type": "execute_result",
          "data": {
            "text/html": [
              "<div>\n",
              "<style scoped>\n",
              "    .dataframe tbody tr th:only-of-type {\n",
              "        vertical-align: middle;\n",
              "    }\n",
              "\n",
              "    .dataframe tbody tr th {\n",
              "        vertical-align: top;\n",
              "    }\n",
              "\n",
              "    .dataframe thead th {\n",
              "        text-align: right;\n",
              "    }\n",
              "</style>\n",
              "<table border=\"1\" class=\"dataframe\">\n",
              "  <thead>\n",
              "    <tr style=\"text-align: right;\">\n",
              "      <th></th>\n",
              "      <th>0</th>\n",
              "      <th>1</th>\n",
              "    </tr>\n",
              "  </thead>\n",
              "  <tbody>\n",
              "    <tr>\n",
              "      <th>0</th>\n",
              "      <td>Counting Stars</td>\n",
              "      <td>[['Lately', 'I', 'been', ',', 'I', 'been', 'lo...</td>\n",
              "    </tr>\n",
              "    <tr>\n",
              "      <th>1</th>\n",
              "      <td>If I Lose Myself</td>\n",
              "      <td>[['I', 'stared', 'up', 'at', 'the', 'sun', 'Th...</td>\n",
              "    </tr>\n",
              "    <tr>\n",
              "      <th>2</th>\n",
              "      <td>Feel Again</td>\n",
              "      <td>[['It', \"'s\", 'been', 'a', 'long', 'time', 'co...</td>\n",
              "    </tr>\n",
              "    <tr>\n",
              "      <th>3</th>\n",
              "      <td>I Lived</td>\n",
              "      <td>[['Hoping', 'you', 'take', 'that', 'jump', 'Bu...</td>\n",
              "    </tr>\n",
              "    <tr>\n",
              "      <th>4</th>\n",
              "      <td>Preacher</td>\n",
              "      <td>[['When', 'I', 'was', 'a', 'kid', ',', 'I', 'u...</td>\n",
              "    </tr>\n",
              "    <tr>\n",
              "      <th>5</th>\n",
              "      <td>Secrets</td>\n",
              "      <td>[['I', 'need', 'another', 'story', 'Something'...</td>\n",
              "    </tr>\n",
              "    <tr>\n",
              "      <th>6</th>\n",
              "      <td>Made for You</td>\n",
              "      <td>[['One', 'and', 'two', 'and', 'three', 'and', ...</td>\n",
              "    </tr>\n",
              "    <tr>\n",
              "      <th>7</th>\n",
              "      <td>All the Right Moves</td>\n",
              "      <td>[['(', 'All', 'the', 'right', 'friends', 'in',...</td>\n",
              "    </tr>\n",
              "    <tr>\n",
              "      <th>8</th>\n",
              "      <td>Everybody Loves Me</td>\n",
              "      <td>[['Well', 'hell', 'sees', 'her', 'shadow', 'in...</td>\n",
              "    </tr>\n",
              "    <tr>\n",
              "      <th>9</th>\n",
              "      <td>Good Life</td>\n",
              "      <td>[['Woke', 'up', 'in', 'London', 'yesterday', '...</td>\n",
              "    </tr>\n",
              "    <tr>\n",
              "      <th>10</th>\n",
              "      <td>Waking Up</td>\n",
              "      <td>[['I', 'found', 'variety', 'On', 'Nolan', \"'s\"...</td>\n",
              "    </tr>\n",
              "    <tr>\n",
              "      <th>11</th>\n",
              "      <td>Mercy [Duffy Cover; Radio 1 Live Lounge Sessio...</td>\n",
              "      <td>[['Angel', 'of', 'mercy', 'How', 'did', 'you',...</td>\n",
              "    </tr>\n",
              "    <tr>\n",
              "      <th>12</th>\n",
              "      <td>Marchin' On</td>\n",
              "      <td>[['For', 'those', 'days', 'we', 'felt', 'like'...</td>\n",
              "    </tr>\n",
              "    <tr>\n",
              "      <th>13</th>\n",
              "      <td>Wherever I Go</td>\n",
              "      <td>[['I', 'know', 'I', 'could', 'lie', 'but', 'I'...</td>\n",
              "    </tr>\n",
              "    <tr>\n",
              "      <th>14</th>\n",
              "      <td>Kids</td>\n",
              "      <td>[['Days', 'when', 'We', \"'d\", 'fight', ',', 'w...</td>\n",
              "    </tr>\n",
              "  </tbody>\n",
              "</table>\n",
              "</div>"
            ],
            "text/plain": [
              "                                                    0                                                  1\n",
              "0                                      Counting Stars  [['Lately', 'I', 'been', ',', 'I', 'been', 'lo...\n",
              "1                                    If I Lose Myself  [['I', 'stared', 'up', 'at', 'the', 'sun', 'Th...\n",
              "2                                          Feel Again  [['It', \"'s\", 'been', 'a', 'long', 'time', 'co...\n",
              "3                                             I Lived  [['Hoping', 'you', 'take', 'that', 'jump', 'Bu...\n",
              "4                                            Preacher  [['When', 'I', 'was', 'a', 'kid', ',', 'I', 'u...\n",
              "5                                             Secrets  [['I', 'need', 'another', 'story', 'Something'...\n",
              "6                                        Made for You  [['One', 'and', 'two', 'and', 'three', 'and', ...\n",
              "7                                 All the Right Moves  [['(', 'All', 'the', 'right', 'friends', 'in',...\n",
              "8                                  Everybody Loves Me  [['Well', 'hell', 'sees', 'her', 'shadow', 'in...\n",
              "9                                           Good Life  [['Woke', 'up', 'in', 'London', 'yesterday', '...\n",
              "10                                          Waking Up  [['I', 'found', 'variety', 'On', 'Nolan', \"'s\"...\n",
              "11  Mercy [Duffy Cover; Radio 1 Live Lounge Sessio...  [['Angel', 'of', 'mercy', 'How', 'did', 'you',...\n",
              "12                                        Marchin' On  [['For', 'those', 'days', 'we', 'felt', 'like'...\n",
              "13                                      Wherever I Go  [['I', 'know', 'I', 'could', 'lie', 'but', 'I'...\n",
              "14                                               Kids  [['Days', 'when', 'We', \"'d\", 'fight', ',', 'w..."
            ]
          },
          "metadata": {
            "tags": []
          },
          "execution_count": 13
        }
      ]
    },
    {
      "cell_type": "code",
      "metadata": {
        "id": "VlARZCwQPCOo",
        "colab_type": "code",
        "colab": {
          "base_uri": "https://localhost:8080/",
          "height": 283
        },
        "outputId": "ebceac55-46c6-4894-a893-319c1cb9d353"
      },
      "source": [
        "for i in range(0,14):\n",
        "    rows=one_Re.iloc[i,0]\n",
        "    print(rows)"
      ],
      "execution_count": 15,
      "outputs": [
        {
          "output_type": "stream",
          "text": [
            "Counting Stars\n",
            "If I Lose Myself\n",
            "Feel Again\n",
            "I Lived\n",
            "Preacher\n",
            "Secrets\n",
            "Made for You\n",
            "All the Right Moves\n",
            "Everybody Loves Me\n",
            "Good Life\n",
            "Waking Up\n",
            "Mercy [Duffy Cover; Radio 1 Live Lounge Session; Bonus Track]\n",
            "Marchin' On\n",
            "Wherever I Go\n"
          ],
          "name": "stdout"
        }
      ]
    },
    {
      "cell_type": "code",
      "metadata": {
        "id": "siOaEE1TVfpn",
        "colab_type": "code",
        "colab": {}
      },
      "source": [
        "#preprocessing all the songs\n",
        "for i in range(0,14):\n",
        "    song=one_Re.iloc[i,1]\n",
        "    text=re.sub(r'\\d+','',song)#removing numbers\n",
        "    #lowercasing\n",
        "    text_lower=text.lower()\n",
        "    #punctuation removal \n",
        "    def  remove_punctuation(word): #function will take in the lowercased text and then remove all the punctuation\n",
        "        translator=str.maketrans('','',string.punctuation)\n",
        "        text_punct=word.translate(translator)\n",
        "        return text_punct\n",
        "    result=remove_punctuation(text_lower) #storing the resulting body of  text in variable result\n",
        "    #removing stopwords \n",
        "    def remove_stopwords(word):#The function will   tokenize the result and then filter off  the stop_words \n",
        "        stop_words=set(stopwords.words(\"english\")) \n",
        "        word_tokens= word_tokenize(word)\n",
        "        result=[word for word in word_tokens if word not in stop_words ]\n",
        "        return result\n",
        "    lyrics=[remove_stopwords(result)]\n",
        "    #replacing the values of the lyrics column in the dataframe with the  preprocessed  lyrics\n",
        "    one_Re.iat[i,1]=lyrics\n",
        "    "
      ],
      "execution_count": 52,
      "outputs": []
    },
    {
      "cell_type": "code",
      "metadata": {
        "id": "qcAMfxbnvy5E",
        "colab_type": "code",
        "colab": {
          "base_uri": "https://localhost:8080/",
          "height": 514
        },
        "outputId": "85947fea-bf19-4774-c861-2936575881f8"
      },
      "source": [
        "one_Re"
      ],
      "execution_count": 53,
      "outputs": [
        {
          "output_type": "execute_result",
          "data": {
            "text/html": [
              "<div>\n",
              "<style scoped>\n",
              "    .dataframe tbody tr th:only-of-type {\n",
              "        vertical-align: middle;\n",
              "    }\n",
              "\n",
              "    .dataframe tbody tr th {\n",
              "        vertical-align: top;\n",
              "    }\n",
              "\n",
              "    .dataframe thead th {\n",
              "        text-align: right;\n",
              "    }\n",
              "</style>\n",
              "<table border=\"1\" class=\"dataframe\">\n",
              "  <thead>\n",
              "    <tr style=\"text-align: right;\">\n",
              "      <th></th>\n",
              "      <th>0</th>\n",
              "      <th>1</th>\n",
              "    </tr>\n",
              "  </thead>\n",
              "  <tbody>\n",
              "    <tr>\n",
              "      <th>0</th>\n",
              "      <td>Counting Stars</td>\n",
              "      <td>[[lately, losing, sleep, dreaming, things, cou...</td>\n",
              "    </tr>\n",
              "    <tr>\n",
              "      <th>1</th>\n",
              "      <td>If I Lose Myself</td>\n",
              "      <td>[[stared, sun, thought, people, places, things...</td>\n",
              "    </tr>\n",
              "    <tr>\n",
              "      <th>2</th>\n",
              "      <td>Feel Again</td>\n",
              "      <td>[[long, time, coming, since, seen, face, every...</td>\n",
              "    </tr>\n",
              "    <tr>\n",
              "      <th>3</th>\n",
              "      <td>I Lived</td>\n",
              "      <td>[[hoping, take, jump, nt, fear, fall, hope, wa...</td>\n",
              "    </tr>\n",
              "    <tr>\n",
              "      <th>4</th>\n",
              "      <td>Preacher</td>\n",
              "      <td>[[kid, used, buy, sell, gravity, knew, fly, wo...</td>\n",
              "    </tr>\n",
              "    <tr>\n",
              "      <th>5</th>\n",
              "      <td>Secrets</td>\n",
              "      <td>[[need, another, story, something, get, chest,...</td>\n",
              "    </tr>\n",
              "    <tr>\n",
              "      <th>6</th>\n",
              "      <td>Made for You</td>\n",
              "      <td>[[one, two, three, four, one, two, three, four...</td>\n",
              "    </tr>\n",
              "    <tr>\n",
              "      <th>7</th>\n",
              "      <td>All the Right Moves</td>\n",
              "      <td>[[right, friends, right, places, yeah, going, ...</td>\n",
              "    </tr>\n",
              "    <tr>\n",
              "      <th>8</th>\n",
              "      <td>Everybody Loves Me</td>\n",
              "      <td>[[well, hell, sees, shadow, backseat, friends,...</td>\n",
              "    </tr>\n",
              "    <tr>\n",
              "      <th>9</th>\n",
              "      <td>Good Life</td>\n",
              "      <td>[[woke, london, yesterday, found, city, near, ...</td>\n",
              "    </tr>\n",
              "    <tr>\n",
              "      <th>10</th>\n",
              "      <td>Waking Up</td>\n",
              "      <td>[[found, variety, nolan, avenue, air, thick, l...</td>\n",
              "    </tr>\n",
              "    <tr>\n",
              "      <th>11</th>\n",
              "      <td>Mercy [Duffy Cover; Radio 1 Live Lounge Sessio...</td>\n",
              "      <td>[[angel, mercy, find, read, story, pulled, pap...</td>\n",
              "    </tr>\n",
              "    <tr>\n",
              "      <th>12</th>\n",
              "      <td>Marchin' On</td>\n",
              "      <td>[[days, felt, like, mistake, times, loves, hat...</td>\n",
              "    </tr>\n",
              "    <tr>\n",
              "      <th>13</th>\n",
              "      <td>Wherever I Go</td>\n",
              "      <td>[[know, could, lie, telling, truth, wherever, ...</td>\n",
              "    </tr>\n",
              "    <tr>\n",
              "      <th>14</th>\n",
              "      <td>Kids</td>\n",
              "      <td>[['Days', 'when', 'We', \"'d\", 'fight', ',', 'w...</td>\n",
              "    </tr>\n",
              "  </tbody>\n",
              "</table>\n",
              "</div>"
            ],
            "text/plain": [
              "                                                    0                                                  1\n",
              "0                                      Counting Stars  [[lately, losing, sleep, dreaming, things, cou...\n",
              "1                                    If I Lose Myself  [[stared, sun, thought, people, places, things...\n",
              "2                                          Feel Again  [[long, time, coming, since, seen, face, every...\n",
              "3                                             I Lived  [[hoping, take, jump, nt, fear, fall, hope, wa...\n",
              "4                                            Preacher  [[kid, used, buy, sell, gravity, knew, fly, wo...\n",
              "5                                             Secrets  [[need, another, story, something, get, chest,...\n",
              "6                                        Made for You  [[one, two, three, four, one, two, three, four...\n",
              "7                                 All the Right Moves  [[right, friends, right, places, yeah, going, ...\n",
              "8                                  Everybody Loves Me  [[well, hell, sees, shadow, backseat, friends,...\n",
              "9                                           Good Life  [[woke, london, yesterday, found, city, near, ...\n",
              "10                                          Waking Up  [[found, variety, nolan, avenue, air, thick, l...\n",
              "11  Mercy [Duffy Cover; Radio 1 Live Lounge Sessio...  [[angel, mercy, find, read, story, pulled, pap...\n",
              "12                                        Marchin' On  [[days, felt, like, mistake, times, loves, hat...\n",
              "13                                      Wherever I Go  [[know, could, lie, telling, truth, wherever, ...\n",
              "14                                               Kids  [['Days', 'when', 'We', \"'d\", 'fight', ',', 'w..."
            ]
          },
          "metadata": {
            "tags": []
          },
          "execution_count": 53
        }
      ]
    },
    {
      "cell_type": "code",
      "metadata": {
        "id": "07t_kizVVHdG",
        "colab_type": "code",
        "colab": {}
      },
      "source": [
        "cp=pd.read_csv('/content/CPlyrics.csv',header=None)\n",
        "id=pd.read_csv('/content/IDlyrics.csv',header=None)\n",
        "fb=pd.read_csv('/content/FBlyrics.csv',header=None)\n",
        "jb=pd.read_csv('/content/JBlyrics.csv',header=None)\n",
        "m=pd.read_csv('/content/Mlyrics.csv',header=None)\n",
        "sp=pd.read_csv('/content/SPlyrics.csv',header=None)\n",
        "xa=pd.read_csv('/content/XAlyrics.csv',header=None)"
      ],
      "execution_count": 56,
      "outputs": []
    },
    {
      "cell_type": "code",
      "metadata": {
        "id": "MiEgffi8gtk3",
        "colab_type": "code",
        "colab": {
          "base_uri": "https://localhost:8080/",
          "height": 36
        },
        "outputId": "fd8f722a-5977-4a30-8a91-6a7be97ad1ec"
      },
      "source": [
        "xa.shape"
      ],
      "execution_count": 27,
      "outputs": [
        {
          "output_type": "execute_result",
          "data": {
            "text/plain": [
              "(19, 2)"
            ]
          },
          "metadata": {
            "tags": []
          },
          "execution_count": 27
        }
      ]
    },
    {
      "cell_type": "code",
      "metadata": {
        "id": "q0uCnp6ugyQj",
        "colab_type": "code",
        "colab": {}
      },
      "source": [
        "#preprocessing all the songs\n",
        "for i in range(0,18):\n",
        "    song=xa.iloc[i,1]\n",
        "    text=re.sub(r'\\d+','',song)#removing numbers\n",
        "    #lowercasing\n",
        "    text_lower=text.lower()\n",
        "\n",
        "    #punctuation removal \n",
        "    def  remove_punctuation(word): #function will take in the lowercased text and then remove all the punctuation\n",
        "        translator=str.maketrans('','',string.punctuation)\n",
        "        text_punct=word.translate(translator)\n",
        "        return text_punct\n",
        "    result=remove_punctuation(text_lower) #storing the resulting body of  text in variable result\n",
        "\n",
        "    #removing stopwords \n",
        "    def remove_stopwords(word):#The function will   tokenize the result and then filter off  the stop_words \n",
        "        stop_words=set(stopwords.words(\"english\")) \n",
        "        word_tokens= word_tokenize(word)\n",
        "        result=[ word for word in word_tokens if word not in stop_words ]\n",
        "        return result\n",
        "\n",
        "    lyrics=remove_stopwords(result)\n",
        "    #replacing the values of the lyrics column in the dataframe with the  preprocessed  lyrics\n",
        "    xa.iat[i,1]=lyrics\n"
      ],
      "execution_count": 57,
      "outputs": []
    },
    {
      "cell_type": "code",
      "metadata": {
        "id": "9Kv5pV7OyTlu",
        "colab_type": "code",
        "colab": {
          "base_uri": "https://localhost:8080/",
          "height": 638
        },
        "outputId": "d180db74-d55c-447a-e990-4a44c9796364"
      },
      "source": [
        "xa"
      ],
      "execution_count": 60,
      "outputs": [
        {
          "output_type": "execute_result",
          "data": {
            "text/html": [
              "<div>\n",
              "<style scoped>\n",
              "    .dataframe tbody tr th:only-of-type {\n",
              "        vertical-align: middle;\n",
              "    }\n",
              "\n",
              "    .dataframe tbody tr th {\n",
              "        vertical-align: top;\n",
              "    }\n",
              "\n",
              "    .dataframe thead th {\n",
              "        text-align: right;\n",
              "    }\n",
              "</style>\n",
              "<table border=\"1\" class=\"dataframe\">\n",
              "  <thead>\n",
              "    <tr style=\"text-align: right;\">\n",
              "      <th></th>\n",
              "      <th>0</th>\n",
              "      <th>1</th>\n",
              "    </tr>\n",
              "  </thead>\n",
              "  <tbody>\n",
              "    <tr>\n",
              "      <th>0</th>\n",
              "      <td>Litost</td>\n",
              "      <td>[done, heart, floor, must, mind, come, back, b...</td>\n",
              "    </tr>\n",
              "    <tr>\n",
              "      <th>1</th>\n",
              "      <td>Jungle</td>\n",
              "      <td>[yeah, yeah, yeah, well, long, living, old, li...</td>\n",
              "    </tr>\n",
              "    <tr>\n",
              "      <th>2</th>\n",
              "      <td>Shining</td>\n",
              "      <td>[everything, changed, everything, changed, pou...</td>\n",
              "    </tr>\n",
              "    <tr>\n",
              "      <th>3</th>\n",
              "      <td>Ahead Of Myself [The Knocks Remix]</td>\n",
              "      <td>[time, get, ahead, yeah, time, get, ahead, yea...</td>\n",
              "    </tr>\n",
              "    <tr>\n",
              "      <th>4</th>\n",
              "      <td>Renegades</td>\n",
              "      <td>[run, away, lost, souls, reverie, running, wil...</td>\n",
              "    </tr>\n",
              "    <tr>\n",
              "      <th>5</th>\n",
              "      <td>Joyful</td>\n",
              "      <td>[doctors, notes, swinging, votes, ca, nt, deci...</td>\n",
              "    </tr>\n",
              "    <tr>\n",
              "      <th>6</th>\n",
              "      <td>Don't Stay</td>\n",
              "      <td>[lately, thinking, seen, worst, seen, gave, ev...</td>\n",
              "    </tr>\n",
              "    <tr>\n",
              "      <th>7</th>\n",
              "      <td>WASTELAND</td>\n",
              "      <td>[settle, old, town, ego, settle, debts, dear, ...</td>\n",
              "    </tr>\n",
              "    <tr>\n",
              "      <th>8</th>\n",
              "      <td>SHADOWS</td>\n",
              "      <td>[could, spend, lifetime, lookin, something, wa...</td>\n",
              "    </tr>\n",
              "    <tr>\n",
              "      <th>9</th>\n",
              "      <td>I DON'T KNOW HOW TO PRAY</td>\n",
              "      <td>[nt, know, pray, bathroom, hopin, come, back, ...</td>\n",
              "    </tr>\n",
              "    <tr>\n",
              "      <th>10</th>\n",
              "      <td>HISTORY</td>\n",
              "      <td>[said, piece, said, left, say, still, blood, c...</td>\n",
              "    </tr>\n",
              "    <tr>\n",
              "      <th>11</th>\n",
              "      <td>RULE</td>\n",
              "      <td>[ca, nt, get, grip, feeling, like, always, los...</td>\n",
              "    </tr>\n",
              "    <tr>\n",
              "      <th>12</th>\n",
              "      <td>QUICKSAND</td>\n",
              "      <td>[woah, oh, woah, oh, woah, oh, woah, oh, mama,...</td>\n",
              "    </tr>\n",
              "    <tr>\n",
              "      <th>13</th>\n",
              "      <td>CONFIDENCE</td>\n",
              "      <td>[make, lose, confidence, yeah, make, lose, con...</td>\n",
              "    </tr>\n",
              "    <tr>\n",
              "      <th>14</th>\n",
              "      <td>HOLD YOU DOWN</td>\n",
              "      <td>[last, ones, dancing, lights, go, one, hold, s...</td>\n",
              "    </tr>\n",
              "    <tr>\n",
              "      <th>15</th>\n",
              "      <td>Baptize Me</td>\n",
              "      <td>[cutting, ties, wo, nt, baptize, cause, life, ...</td>\n",
              "    </tr>\n",
              "    <tr>\n",
              "      <th>16</th>\n",
              "      <td>BOOM</td>\n",
              "      <td>[feet, go, boom, boom, boom, boom, boom, boom,...</td>\n",
              "    </tr>\n",
              "    <tr>\n",
              "      <th>17</th>\n",
              "      <td>In Your Arms</td>\n",
              "      <td>[never, seen, mona, lisa, close, seen, perfect...</td>\n",
              "    </tr>\n",
              "    <tr>\n",
              "      <th>18</th>\n",
              "      <td>HEY CHILD</td>\n",
              "      <td>[['I', 'heard', 'you', 'got', 'arrested', 'in'...</td>\n",
              "    </tr>\n",
              "  </tbody>\n",
              "</table>\n",
              "</div>"
            ],
            "text/plain": [
              "                                     0                                                  1\n",
              "0                               Litost  [done, heart, floor, must, mind, come, back, b...\n",
              "1                               Jungle  [yeah, yeah, yeah, well, long, living, old, li...\n",
              "2                              Shining  [everything, changed, everything, changed, pou...\n",
              "3   Ahead Of Myself [The Knocks Remix]  [time, get, ahead, yeah, time, get, ahead, yea...\n",
              "4                            Renegades  [run, away, lost, souls, reverie, running, wil...\n",
              "5                               Joyful  [doctors, notes, swinging, votes, ca, nt, deci...\n",
              "6                           Don't Stay  [lately, thinking, seen, worst, seen, gave, ev...\n",
              "7                            WASTELAND  [settle, old, town, ego, settle, debts, dear, ...\n",
              "8                              SHADOWS  [could, spend, lifetime, lookin, something, wa...\n",
              "9             I DON'T KNOW HOW TO PRAY  [nt, know, pray, bathroom, hopin, come, back, ...\n",
              "10                             HISTORY  [said, piece, said, left, say, still, blood, c...\n",
              "11                                RULE  [ca, nt, get, grip, feeling, like, always, los...\n",
              "12                           QUICKSAND  [woah, oh, woah, oh, woah, oh, woah, oh, mama,...\n",
              "13                          CONFIDENCE  [make, lose, confidence, yeah, make, lose, con...\n",
              "14                       HOLD YOU DOWN  [last, ones, dancing, lights, go, one, hold, s...\n",
              "15                          Baptize Me  [cutting, ties, wo, nt, baptize, cause, life, ...\n",
              "16                                BOOM  [feet, go, boom, boom, boom, boom, boom, boom,...\n",
              "17                        In Your Arms  [never, seen, mona, lisa, close, seen, perfect...\n",
              "18                           HEY CHILD  [['I', 'heard', 'you', 'got', 'arrested', 'in'..."
            ]
          },
          "metadata": {
            "tags": []
          },
          "execution_count": 60
        }
      ]
    },
    {
      "cell_type": "code",
      "metadata": {
        "id": "doUfMphSY8iR",
        "colab_type": "code",
        "colab": {
          "base_uri": "https://localhost:8080/",
          "height": 545
        },
        "outputId": "21051fb7-a4b9-497e-86a2-16178b02d59f"
      },
      "source": [
        "cp\n"
      ],
      "execution_count": 61,
      "outputs": [
        {
          "output_type": "execute_result",
          "data": {
            "text/html": [
              "<div>\n",
              "<style scoped>\n",
              "    .dataframe tbody tr th:only-of-type {\n",
              "        vertical-align: middle;\n",
              "    }\n",
              "\n",
              "    .dataframe tbody tr th {\n",
              "        vertical-align: top;\n",
              "    }\n",
              "\n",
              "    .dataframe thead th {\n",
              "        text-align: right;\n",
              "    }\n",
              "</style>\n",
              "<table border=\"1\" class=\"dataframe\">\n",
              "  <thead>\n",
              "    <tr style=\"text-align: right;\">\n",
              "      <th></th>\n",
              "      <th>0</th>\n",
              "      <th>1</th>\n",
              "    </tr>\n",
              "  </thead>\n",
              "  <tbody>\n",
              "    <tr>\n",
              "      <th>0</th>\n",
              "      <td>Yellow</td>\n",
              "      <td>[[look, stars, look, shine, everything, yeah, ...</td>\n",
              "    </tr>\n",
              "    <tr>\n",
              "      <th>1</th>\n",
              "      <td>Viva La Vida</td>\n",
              "      <td>[[used, rule, world, seas, would, rise, gave, ...</td>\n",
              "    </tr>\n",
              "    <tr>\n",
              "      <th>2</th>\n",
              "      <td>In My Place</td>\n",
              "      <td>[[place, place, lines, could, nt, change, lost...</td>\n",
              "    </tr>\n",
              "    <tr>\n",
              "      <th>3</th>\n",
              "      <td>God Put A Smile Upon Your Face</td>\n",
              "      <td>[[go, nobody, knows, got, ta, say, way, god, g...</td>\n",
              "    </tr>\n",
              "    <tr>\n",
              "      <th>4</th>\n",
              "      <td>Princess of China</td>\n",
              "      <td>[[oh, upon, time, somebody, ran, somebody, ran...</td>\n",
              "    </tr>\n",
              "    <tr>\n",
              "      <th>5</th>\n",
              "      <td>Up in Flames</td>\n",
              "      <td>[[time, know, gone, salt, water, tasted, long,...</td>\n",
              "    </tr>\n",
              "    <tr>\n",
              "      <th>6</th>\n",
              "      <td>Charlie Brown</td>\n",
              "      <td>[[stole, key, took, car, downtown, lost, boys,...</td>\n",
              "    </tr>\n",
              "    <tr>\n",
              "      <th>7</th>\n",
              "      <td>Paradise</td>\n",
              "      <td>[[girl, expected, world, flew, away, reach, ra...</td>\n",
              "    </tr>\n",
              "    <tr>\n",
              "      <th>8</th>\n",
              "      <td>Us Against the World</td>\n",
              "      <td>[[oh, morning, come, bursting, clouds, amen, l...</td>\n",
              "    </tr>\n",
              "    <tr>\n",
              "      <th>9</th>\n",
              "      <td>Clocks</td>\n",
              "      <td>[[lights, go, ca, nt, saved, tides, tried, swi...</td>\n",
              "    </tr>\n",
              "    <tr>\n",
              "      <th>10</th>\n",
              "      <td>The Scientist</td>\n",
              "      <td>[[come, meet, tell, sorry, nt, know, lovely, f...</td>\n",
              "    </tr>\n",
              "    <tr>\n",
              "      <th>11</th>\n",
              "      <td>Up &amp; Up</td>\n",
              "      <td>[[fixing, car, drive, searching, water, hoping...</td>\n",
              "    </tr>\n",
              "    <tr>\n",
              "      <th>12</th>\n",
              "      <td>Something Just Like This</td>\n",
              "      <td>[[reading, books, old, legends, myths, achille...</td>\n",
              "    </tr>\n",
              "    <tr>\n",
              "      <th>13</th>\n",
              "      <td>A Sky Full of Stars</td>\n",
              "      <td>[[cause, sky, cause, sky, full, stars, gon, na...</td>\n",
              "    </tr>\n",
              "    <tr>\n",
              "      <th>14</th>\n",
              "      <td>Every Teardrop is a Waterfall</td>\n",
              "      <td>[['I', 'turn', 'the', 'music', 'up', ',', 'I',...</td>\n",
              "    </tr>\n",
              "    <tr>\n",
              "      <th>15</th>\n",
              "      <td>Adventure Of A Lifetime [Live]</td>\n",
              "      <td>[['Turn', 'your', 'magic', 'on', ',', 'to', 'm...</td>\n",
              "    </tr>\n",
              "  </tbody>\n",
              "</table>\n",
              "</div>"
            ],
            "text/plain": [
              "                                 0                                                  1\n",
              "0                           Yellow  [[look, stars, look, shine, everything, yeah, ...\n",
              "1                     Viva La Vida  [[used, rule, world, seas, would, rise, gave, ...\n",
              "2                      In My Place  [[place, place, lines, could, nt, change, lost...\n",
              "3   God Put A Smile Upon Your Face  [[go, nobody, knows, got, ta, say, way, god, g...\n",
              "4                Princess of China  [[oh, upon, time, somebody, ran, somebody, ran...\n",
              "5                     Up in Flames  [[time, know, gone, salt, water, tasted, long,...\n",
              "6                    Charlie Brown  [[stole, key, took, car, downtown, lost, boys,...\n",
              "7                         Paradise  [[girl, expected, world, flew, away, reach, ra...\n",
              "8             Us Against the World  [[oh, morning, come, bursting, clouds, amen, l...\n",
              "9                           Clocks  [[lights, go, ca, nt, saved, tides, tried, swi...\n",
              "10                   The Scientist  [[come, meet, tell, sorry, nt, know, lovely, f...\n",
              "11                         Up & Up  [[fixing, car, drive, searching, water, hoping...\n",
              "12        Something Just Like This  [[reading, books, old, legends, myths, achille...\n",
              "13             A Sky Full of Stars  [[cause, sky, cause, sky, full, stars, gon, na...\n",
              "14   Every Teardrop is a Waterfall  [['I', 'turn', 'the', 'music', 'up', ',', 'I',...\n",
              "15  Adventure Of A Lifetime [Live]  [['Turn', 'your', 'magic', 'on', ',', 'to', 'm..."
            ]
          },
          "metadata": {
            "tags": []
          },
          "execution_count": 61
        }
      ]
    },
    {
      "cell_type": "code",
      "metadata": {
        "id": "OMcrQRcPUtbC",
        "colab_type": "code",
        "colab": {}
      },
      "source": [
        "for i in range(0,14):\n",
        "    song=cp.iloc[i,1]\n",
        "    text=re.sub(r'\\d+','',song)#removing numbers\n",
        "\n",
        "\n",
        "    #lowercasing\n",
        "    text_lower=text.lower()\n",
        "\n",
        "    #punctuation removal \n",
        "    def  remove_punctuation(word): #function will take in the lowercased text and then remove all the punctuation\n",
        "        translator=str.maketrans('','',string.punctuation)\n",
        "        text_punct=word.translate(translator)\n",
        "        return text_punct\n",
        "    result=remove_punctuation(text_lower) #storing the resulting body of  text in variable result\n",
        "\n",
        "    #removing stopwords \n",
        "    def remove_stopwords(word):#The function will   tokenize the result and then filter off  the stop_words \n",
        "        stop_words=set(stopwords.words(\"english\")) \n",
        "        word_tokens= word_tokenize(word)\n",
        "        result=[ word for word in word_tokens if word not in stop_words ]\n",
        "        return result\n",
        "    lyrics=[remove_stopwords(result)]\n",
        "    #replacing the values of the lyrics column in the dataframe with the  preprocessed  lyrics\n",
        "    cp.iat[i,1]=lyrics\n"
      ],
      "execution_count": 59,
      "outputs": []
    },
    {
      "cell_type": "code",
      "metadata": {
        "id": "LZmiIbpkZYMI",
        "colab_type": "code",
        "colab": {
          "base_uri": "https://localhost:8080/",
          "height": 700
        },
        "outputId": "d1f8f3c1-bfb0-44ea-a82f-cdb5e81adcb8"
      },
      "source": [
        "fb"
      ],
      "execution_count": 64,
      "outputs": [
        {
          "output_type": "execute_result",
          "data": {
            "text/html": [
              "<div>\n",
              "<style scoped>\n",
              "    .dataframe tbody tr th:only-of-type {\n",
              "        vertical-align: middle;\n",
              "    }\n",
              "\n",
              "    .dataframe tbody tr th {\n",
              "        vertical-align: top;\n",
              "    }\n",
              "\n",
              "    .dataframe thead th {\n",
              "        text-align: right;\n",
              "    }\n",
              "</style>\n",
              "<table border=\"1\" class=\"dataframe\">\n",
              "  <thead>\n",
              "    <tr style=\"text-align: right;\">\n",
              "      <th></th>\n",
              "      <th>0</th>\n",
              "      <th>1</th>\n",
              "    </tr>\n",
              "  </thead>\n",
              "  <tbody>\n",
              "    <tr>\n",
              "      <th>0</th>\n",
              "      <td>Thnks Fr Th Mmrs</td>\n",
              "      <td>[[gon, na, make, bend, break, sent, without, w...</td>\n",
              "    </tr>\n",
              "    <tr>\n",
              "      <th>1</th>\n",
              "      <td>Fourth of July</td>\n",
              "      <td>[[fire, fire, fire, fire, fire, listening, fou...</td>\n",
              "    </tr>\n",
              "    <tr>\n",
              "      <th>2</th>\n",
              "      <td>Favorite Record</td>\n",
              "      <td>[[dodo, remember, drove, drove, drove, night, ...</td>\n",
              "    </tr>\n",
              "    <tr>\n",
              "      <th>3</th>\n",
              "      <td>Immortals</td>\n",
              "      <td>[[say, nt, bad, behavior, best, way, watcher, ...</td>\n",
              "    </tr>\n",
              "    <tr>\n",
              "      <th>4</th>\n",
              "      <td>Novocaine [Remix]</td>\n",
              "      <td>[[took, love, filled, filled, novocaine, numb,...</td>\n",
              "    </tr>\n",
              "    <tr>\n",
              "      <th>5</th>\n",
              "      <td>Jet Pack Blues</td>\n",
              "      <td>[[know, heard, got, nominated, wo, nt, walk, r...</td>\n",
              "    </tr>\n",
              "    <tr>\n",
              "      <th>6</th>\n",
              "      <td>Uma Thurman</td>\n",
              "      <td>[[already, wants, dance, like, uma, thurman, b...</td>\n",
              "    </tr>\n",
              "    <tr>\n",
              "      <th>7</th>\n",
              "      <td>The Kids Aren't Alright</td>\n",
              "      <td>[[break, let, tell, get, uh, run, town, number...</td>\n",
              "    </tr>\n",
              "    <tr>\n",
              "      <th>8</th>\n",
              "      <td>Centuries</td>\n",
              "      <td>[[remix, legendary, juicy, j, let, go, bread, ...</td>\n",
              "    </tr>\n",
              "    <tr>\n",
              "      <th>9</th>\n",
              "      <td>American Beauty/American Psycho</td>\n",
              "      <td>[[american, beauty, american, psycho, american...</td>\n",
              "    </tr>\n",
              "    <tr>\n",
              "      <th>10</th>\n",
              "      <td>Irresistible [Remix]</td>\n",
              "      <td>[[count, unannounced, drag, nails, tile, follo...</td>\n",
              "    </tr>\n",
              "    <tr>\n",
              "      <th>11</th>\n",
              "      <td>Young And Menace</td>\n",
              "      <td>[[gone, way, fast, way, long, never, supposed,...</td>\n",
              "    </tr>\n",
              "    <tr>\n",
              "      <th>12</th>\n",
              "      <td>Sunshine Riptide</td>\n",
              "      <td>[[nt, even, attention, say, please, nt, ever, ...</td>\n",
              "    </tr>\n",
              "    <tr>\n",
              "      <th>13</th>\n",
              "      <td>Heaven's Gate</td>\n",
              "      <td>[[one, look, faded, love, body, flying, left, ...</td>\n",
              "    </tr>\n",
              "    <tr>\n",
              "      <th>14</th>\n",
              "      <td>Church</td>\n",
              "      <td>[[church, get, knees, confess, love, know, san...</td>\n",
              "    </tr>\n",
              "    <tr>\n",
              "      <th>15</th>\n",
              "      <td>HOLD ME TIGHT OR DON'T</td>\n",
              "      <td>[[oh, na, na, na, na, na, na, na, na, never, r...</td>\n",
              "    </tr>\n",
              "    <tr>\n",
              "      <th>16</th>\n",
              "      <td>Stay Frosty Royal Milk Tea</td>\n",
              "      <td>[[think, got, many, memories, getting, way, bo...</td>\n",
              "    </tr>\n",
              "    <tr>\n",
              "      <th>17</th>\n",
              "      <td>Champion</td>\n",
              "      <td>[[champion, champion, calling, future, let, kn...</td>\n",
              "    </tr>\n",
              "    <tr>\n",
              "      <th>18</th>\n",
              "      <td>The Last of the Real Ones</td>\n",
              "      <td>[[child, universe, found, found, sun, planets,...</td>\n",
              "    </tr>\n",
              "    <tr>\n",
              "      <th>19</th>\n",
              "      <td>HOLD ME TIGHT OR DON'T</td>\n",
              "      <td>[[oh, na, na, na, na, na, na, na, na, never, r...</td>\n",
              "    </tr>\n",
              "    <tr>\n",
              "      <th>20</th>\n",
              "      <td>Wilson (Expensive Mistakes)</td>\n",
              "      <td>[['I', 'was', 'I', 'was', 'I', 'was', 'Gon', '...</td>\n",
              "    </tr>\n",
              "  </tbody>\n",
              "</table>\n",
              "</div>"
            ],
            "text/plain": [
              "                                  0                                                  1\n",
              "0                  Thnks Fr Th Mmrs  [[gon, na, make, bend, break, sent, without, w...\n",
              "1                    Fourth of July  [[fire, fire, fire, fire, fire, listening, fou...\n",
              "2                   Favorite Record  [[dodo, remember, drove, drove, drove, night, ...\n",
              "3                         Immortals  [[say, nt, bad, behavior, best, way, watcher, ...\n",
              "4                 Novocaine [Remix]  [[took, love, filled, filled, novocaine, numb,...\n",
              "5                    Jet Pack Blues  [[know, heard, got, nominated, wo, nt, walk, r...\n",
              "6                       Uma Thurman  [[already, wants, dance, like, uma, thurman, b...\n",
              "7           The Kids Aren't Alright  [[break, let, tell, get, uh, run, town, number...\n",
              "8                         Centuries  [[remix, legendary, juicy, j, let, go, bread, ...\n",
              "9   American Beauty/American Psycho  [[american, beauty, american, psycho, american...\n",
              "10             Irresistible [Remix]  [[count, unannounced, drag, nails, tile, follo...\n",
              "11                 Young And Menace  [[gone, way, fast, way, long, never, supposed,...\n",
              "12                 Sunshine Riptide  [[nt, even, attention, say, please, nt, ever, ...\n",
              "13                    Heaven's Gate  [[one, look, faded, love, body, flying, left, ...\n",
              "14                           Church  [[church, get, knees, confess, love, know, san...\n",
              "15           HOLD ME TIGHT OR DON'T  [[oh, na, na, na, na, na, na, na, na, never, r...\n",
              "16       Stay Frosty Royal Milk Tea  [[think, got, many, memories, getting, way, bo...\n",
              "17                         Champion  [[champion, champion, calling, future, let, kn...\n",
              "18        The Last of the Real Ones  [[child, universe, found, found, sun, planets,...\n",
              "19           HOLD ME TIGHT OR DON'T  [[oh, na, na, na, na, na, na, na, na, never, r...\n",
              "20      Wilson (Expensive Mistakes)  [['I', 'was', 'I', 'was', 'I', 'was', 'Gon', '..."
            ]
          },
          "metadata": {
            "tags": []
          },
          "execution_count": 64
        }
      ]
    },
    {
      "cell_type": "code",
      "metadata": {
        "id": "eZIbptirYtd2",
        "colab_type": "code",
        "colab": {}
      },
      "source": [
        "#preprocessing all the songs\n",
        "for i in range(0,20):\n",
        "    song=fb.iloc[i,1]\n",
        "    text=re.sub(r'\\d+','',song)#removing numbers\n",
        "\n",
        "\n",
        "    #lowercasing\n",
        "    text_lower=text.lower()\n",
        "\n",
        "    #punctuation removal \n",
        "    def  remove_punctuation(word): #function will take in the lowercased text and then remove all the punctuation\n",
        "        translator=str.maketrans('','',string.punctuation)\n",
        "        text_punct=word.translate(translator)\n",
        "        return text_punct\n",
        "    result=remove_punctuation(text_lower) #storing the resulting body of  text in variable result\n",
        "\n",
        "    #removing stopwords \n",
        "    def remove_stopwords(word):#The function will   tokenize the result and then filter off  the stop_words \n",
        "        stop_words=set(stopwords.words(\"english\")) \n",
        "        word_tokens= word_tokenize(word)\n",
        "        result=[ word for word in word_tokens if word not in stop_words ]\n",
        "        return result\n",
        "    lyrics=[remove_stopwords(result)]\n",
        "    #replacing the values of the lyrics column in the dataframe with the  preprocessed  lyrics\n",
        "    fb.iat[i,1]=lyrics\n",
        "\n",
        "\n"
      ],
      "execution_count": 62,
      "outputs": []
    },
    {
      "cell_type": "code",
      "metadata": {
        "id": "3Cki83LZbLP8",
        "colab_type": "code",
        "colab": {
          "base_uri": "https://localhost:8080/",
          "height": 36
        },
        "outputId": "95e9c084-d073-4ae6-ec81-7c453412e184"
      },
      "source": [
        "sp.shape"
      ],
      "execution_count": 15,
      "outputs": [
        {
          "output_type": "execute_result",
          "data": {
            "text/plain": [
              "(14, 2)"
            ]
          },
          "metadata": {
            "tags": []
          },
          "execution_count": 15
        }
      ]
    },
    {
      "cell_type": "code",
      "metadata": {
        "id": "ASCGXsvsbslo",
        "colab_type": "code",
        "colab": {
          "base_uri": "https://localhost:8080/",
          "height": 204
        },
        "outputId": "0c6f5986-4d99-4f84-b70c-76e232de9313"
      },
      "source": [
        "sp.head()"
      ],
      "execution_count": 67,
      "outputs": [
        {
          "output_type": "execute_result",
          "data": {
            "text/html": [
              "<div>\n",
              "<style scoped>\n",
              "    .dataframe tbody tr th:only-of-type {\n",
              "        vertical-align: middle;\n",
              "    }\n",
              "\n",
              "    .dataframe tbody tr th {\n",
              "        vertical-align: top;\n",
              "    }\n",
              "\n",
              "    .dataframe thead th {\n",
              "        text-align: right;\n",
              "    }\n",
              "</style>\n",
              "<table border=\"1\" class=\"dataframe\">\n",
              "  <thead>\n",
              "    <tr style=\"text-align: right;\">\n",
              "      <th></th>\n",
              "      <th>0</th>\n",
              "      <th>1</th>\n",
              "    </tr>\n",
              "  </thead>\n",
              "  <tbody>\n",
              "    <tr>\n",
              "      <th>0</th>\n",
              "      <td>Just Say Yes</td>\n",
              "      <td>[[running, ways, make, see, want, stay, beside...</td>\n",
              "    </tr>\n",
              "    <tr>\n",
              "      <th>1</th>\n",
              "      <td>Open Your Eyes [Live]</td>\n",
              "      <td>[[feels, strange, untrue, wo, nt, waste, minut...</td>\n",
              "    </tr>\n",
              "    <tr>\n",
              "      <th>2</th>\n",
              "      <td>You're All I Have [Live]</td>\n",
              "      <td>[[train, chaos, turn, light, got, ta, see, one...</td>\n",
              "    </tr>\n",
              "    <tr>\n",
              "      <th>3</th>\n",
              "      <td>Chocolate [Live]</td>\n",
              "      <td>[[could, minute, aware, alive, places, feel, l...</td>\n",
              "    </tr>\n",
              "    <tr>\n",
              "      <th>4</th>\n",
              "      <td>Set the Fire to the Third Bar [Live]</td>\n",
              "      <td>[[find, map, draw, straight, line, rivers, far...</td>\n",
              "    </tr>\n",
              "  </tbody>\n",
              "</table>\n",
              "</div>"
            ],
            "text/plain": [
              "                                      0                                                  1\n",
              "0                          Just Say Yes  [[running, ways, make, see, want, stay, beside...\n",
              "1                 Open Your Eyes [Live]  [[feels, strange, untrue, wo, nt, waste, minut...\n",
              "2              You're All I Have [Live]  [[train, chaos, turn, light, got, ta, see, one...\n",
              "3                      Chocolate [Live]  [[could, minute, aware, alive, places, feel, l...\n",
              "4  Set the Fire to the Third Bar [Live]  [[find, map, draw, straight, line, rivers, far..."
            ]
          },
          "metadata": {
            "tags": []
          },
          "execution_count": 67
        }
      ]
    },
    {
      "cell_type": "code",
      "metadata": {
        "id": "eofv-VWubPJM",
        "colab_type": "code",
        "colab": {}
      },
      "source": [
        "#preprocessing all the songs\n",
        "for i in range(0,13):\n",
        "    song=sp.iloc[i,1]\n",
        "    text=re.sub(r'\\d+','',song)#removing numbers\n",
        "\n",
        "\n",
        "    #lowercasing\n",
        "    text_lower=text.lower()\n",
        "\n",
        "    #punctuation removal \n",
        "    def  remove_punctuation(word): #function will take in the lowercased text and then remove all the punctuation\n",
        "        translator=str.maketrans('','',string.punctuation)\n",
        "        text_punct=word.translate(translator)\n",
        "        return text_punct\n",
        "    result=remove_punctuation(text_lower) #storing the resulting body of  text in variable result\n",
        "\n",
        "    #removing stopwords \n",
        "    def remove_stopwords(word):#The function will   tokenize the result and then filter off  the stop_words \n",
        "        stop_words=set(stopwords.words(\"english\")) \n",
        "        word_tokens= word_tokenize(word)\n",
        "        result=[ word for word in word_tokens if word not in stop_words ]\n",
        "        return result\n",
        "    lyrics=[remove_stopwords(result)]\n",
        "    #replacing the values of the lyrics column in the dataframe with the  preprocessed  lyrics\n",
        "    sp.iat[i,1]=lyrics\n",
        "\n",
        "\n"
      ],
      "execution_count": 66,
      "outputs": []
    },
    {
      "cell_type": "code",
      "metadata": {
        "id": "2fsQ8FjEb4n1",
        "colab_type": "code",
        "colab": {
          "base_uri": "https://localhost:8080/",
          "height": 204
        },
        "outputId": "b534f166-b75b-4e23-b41c-e1303eb3cc31"
      },
      "source": [
        "id.head()\n"
      ],
      "execution_count": 69,
      "outputs": [
        {
          "output_type": "execute_result",
          "data": {
            "text/html": [
              "<div>\n",
              "<style scoped>\n",
              "    .dataframe tbody tr th:only-of-type {\n",
              "        vertical-align: middle;\n",
              "    }\n",
              "\n",
              "    .dataframe tbody tr th {\n",
              "        vertical-align: top;\n",
              "    }\n",
              "\n",
              "    .dataframe thead th {\n",
              "        text-align: right;\n",
              "    }\n",
              "</style>\n",
              "<table border=\"1\" class=\"dataframe\">\n",
              "  <thead>\n",
              "    <tr style=\"text-align: right;\">\n",
              "      <th></th>\n",
              "      <th>0</th>\n",
              "      <th>1</th>\n",
              "    </tr>\n",
              "  </thead>\n",
              "  <tbody>\n",
              "    <tr>\n",
              "      <th>0</th>\n",
              "      <td>Believer</td>\n",
              "      <td>[[first, things, first, ima, say, words, insid...</td>\n",
              "    </tr>\n",
              "    <tr>\n",
              "      <th>1</th>\n",
              "      <td>I Don't Know Why</td>\n",
              "      <td>[[could, strangers, night, could, passing, sha...</td>\n",
              "    </tr>\n",
              "    <tr>\n",
              "      <th>2</th>\n",
              "      <td>Next To Me</td>\n",
              "      <td>[[something, way, walked, living, room, casual...</td>\n",
              "    </tr>\n",
              "    <tr>\n",
              "      <th>3</th>\n",
              "      <td>Whatever It Takes</td>\n",
              "      <td>[[falling, fast, prepare, tripping, world, cou...</td>\n",
              "    </tr>\n",
              "    <tr>\n",
              "      <th>4</th>\n",
              "      <td>Walking The Wire</td>\n",
              "      <td>[[feel, away, know, line, walk, could, turn, a...</td>\n",
              "    </tr>\n",
              "  </tbody>\n",
              "</table>\n",
              "</div>"
            ],
            "text/plain": [
              "                   0                                                  1\n",
              "0           Believer  [[first, things, first, ima, say, words, insid...\n",
              "1   I Don't Know Why  [[could, strangers, night, could, passing, sha...\n",
              "2         Next To Me  [[something, way, walked, living, room, casual...\n",
              "3  Whatever It Takes  [[falling, fast, prepare, tripping, world, cou...\n",
              "4   Walking The Wire  [[feel, away, know, line, walk, could, turn, a..."
            ]
          },
          "metadata": {
            "tags": []
          },
          "execution_count": 69
        }
      ]
    },
    {
      "cell_type": "code",
      "metadata": {
        "id": "sdwXXEWVcLRa",
        "colab_type": "code",
        "colab": {}
      },
      "source": [
        "#preprocessing all the songs\n",
        "for i in range(0,14):\n",
        "    song=id.iloc[i,1]\n",
        "    text=re.sub(r'\\d+','',song)#removing numbers\n",
        "    #lowercasing\n",
        "    text_lower=text.lower()\n",
        "\n",
        "    #punctuation removal \n",
        "    def  remove_punctuation(word): #function will take in the lowercased text and then remove all the punctuation\n",
        "        translator=str.maketrans('','',string.punctuation)\n",
        "        text_punct=word.translate(translator)\n",
        "        return text_punct\n",
        "    result=remove_punctuation(text_lower) #storing the resulting body of  text in variable result\n",
        "\n",
        "    #removing stopwords \n",
        "    def remove_stopwords(word):#The function will   tokenize the result and then filter off  the stop_words \n",
        "        stop_words=set(stopwords.words(\"english\")) \n",
        "        word_tokens= word_tokenize(word)\n",
        "        result=[ word for word in word_tokens if word not in stop_words ]\n",
        "        return result\n",
        "    lyrics=[remove_stopwords(result)]\n",
        "    #replacing the values of the lyrics column in the dataframe with the  preprocessed  lyrics\n",
        "    id.iat[i,1]=lyrics\n",
        "\n",
        "\n",
        "\n"
      ],
      "execution_count": 68,
      "outputs": []
    },
    {
      "cell_type": "code",
      "metadata": {
        "id": "Yvc9nIjfdH53",
        "colab_type": "code",
        "colab": {
          "base_uri": "https://localhost:8080/",
          "height": 204
        },
        "outputId": "b3a8d36c-8937-48ac-9359-73701db2bb94"
      },
      "source": [
        "jb.head()"
      ],
      "execution_count": 71,
      "outputs": [
        {
          "output_type": "execute_result",
          "data": {
            "text/html": [
              "<div>\n",
              "<style scoped>\n",
              "    .dataframe tbody tr th:only-of-type {\n",
              "        vertical-align: middle;\n",
              "    }\n",
              "\n",
              "    .dataframe tbody tr th {\n",
              "        vertical-align: top;\n",
              "    }\n",
              "\n",
              "    .dataframe thead th {\n",
              "        text-align: right;\n",
              "    }\n",
              "</style>\n",
              "<table border=\"1\" class=\"dataframe\">\n",
              "  <thead>\n",
              "    <tr style=\"text-align: right;\">\n",
              "      <th></th>\n",
              "      <th>0</th>\n",
              "      <th>1</th>\n",
              "    </tr>\n",
              "  </thead>\n",
              "  <tbody>\n",
              "    <tr>\n",
              "      <th>0</th>\n",
              "      <td>Bonfire Heart</td>\n",
              "      <td>[[mouth, revolver, firing, bullets, sky, love,...</td>\n",
              "    </tr>\n",
              "    <tr>\n",
              "      <th>1</th>\n",
              "      <td>Blue on Blue</td>\n",
              "      <td>[[come, nt, wan, na, see, come, gone, left, al...</td>\n",
              "    </tr>\n",
              "    <tr>\n",
              "      <th>2</th>\n",
              "      <td>Postcards</td>\n",
              "      <td>[[sundays, sitting, back, porch, came, couple,...</td>\n",
              "    </tr>\n",
              "    <tr>\n",
              "      <th>3</th>\n",
              "      <td>Always Hate Me</td>\n",
              "      <td>[[oh, god, hurt, moment, saw, someone, else, o...</td>\n",
              "    </tr>\n",
              "    <tr>\n",
              "      <th>4</th>\n",
              "      <td>Bones</td>\n",
              "      <td>[[never, beautiful, boy, never, liked, sound, ...</td>\n",
              "    </tr>\n",
              "  </tbody>\n",
              "</table>\n",
              "</div>"
            ],
            "text/plain": [
              "                0                                                  1\n",
              "0   Bonfire Heart  [[mouth, revolver, firing, bullets, sky, love,...\n",
              "1    Blue on Blue  [[come, nt, wan, na, see, come, gone, left, al...\n",
              "2       Postcards  [[sundays, sitting, back, porch, came, couple,...\n",
              "3  Always Hate Me  [[oh, god, hurt, moment, saw, someone, else, o...\n",
              "4           Bones  [[never, beautiful, boy, never, liked, sound, ..."
            ]
          },
          "metadata": {
            "tags": []
          },
          "execution_count": 71
        }
      ]
    },
    {
      "cell_type": "code",
      "metadata": {
        "id": "UgPoXUAYdSoq",
        "colab_type": "code",
        "colab": {
          "base_uri": "https://localhost:8080/",
          "height": 36
        },
        "outputId": "4a92f49f-4f64-48d6-92ea-3264339954fc"
      },
      "source": [
        "jb.shape"
      ],
      "execution_count": 22,
      "outputs": [
        {
          "output_type": "execute_result",
          "data": {
            "text/plain": [
              "(24, 2)"
            ]
          },
          "metadata": {
            "tags": []
          },
          "execution_count": 22
        }
      ]
    },
    {
      "cell_type": "code",
      "metadata": {
        "id": "XPpvK034dX16",
        "colab_type": "code",
        "colab": {}
      },
      "source": [
        "#preprocessing all the songs\n",
        "for i in range(0,23):\n",
        "    song=jb.iloc[i,1]\n",
        "    text=re.sub(r'\\d+','',song)#removing numbers\n",
        "    #lowercasing\n",
        "    text_lower=text.lower()\n",
        "\n",
        "    #punctuation removal \n",
        "    def  remove_punctuation(word): #function will take in the lowercased text and then remove all the punctuation\n",
        "        translator=str.maketrans('','',string.punctuation)\n",
        "        text_punct=word.translate(translator)\n",
        "        return text_punct\n",
        "    result=remove_punctuation(text_lower) #storing the resulting body of  text in variable result\n",
        "\n",
        "    #removing stopwords \n",
        "    def remove_stopwords(word):#The function will   tokenize the result and then filter off  the stop_words \n",
        "        stop_words=set(stopwords.words(\"english\")) \n",
        "        word_tokens= word_tokenize(word)\n",
        "        result=[ word for word in word_tokens if word not in stop_words ]\n",
        "        return result\n",
        "    lyrics=[remove_stopwords(result)]\n",
        "    #replacing the values of the lyrics column in the dataframe with the  preprocessed  lyrics\n",
        "    jb.iat[i,1]=lyrics\n",
        "\n",
        "\n"
      ],
      "execution_count": 70,
      "outputs": []
    },
    {
      "cell_type": "code",
      "metadata": {
        "id": "5or3ASHSeS_v",
        "colab_type": "code",
        "colab": {
          "base_uri": "https://localhost:8080/",
          "height": 204
        },
        "outputId": "3d35852d-619b-4a51-c39d-a0c06d06d72c"
      },
      "source": [
        "m.head()"
      ],
      "execution_count": 73,
      "outputs": [
        {
          "output_type": "execute_result",
          "data": {
            "text/html": [
              "<div>\n",
              "<style scoped>\n",
              "    .dataframe tbody tr th:only-of-type {\n",
              "        vertical-align: middle;\n",
              "    }\n",
              "\n",
              "    .dataframe tbody tr th {\n",
              "        vertical-align: top;\n",
              "    }\n",
              "\n",
              "    .dataframe thead th {\n",
              "        text-align: right;\n",
              "    }\n",
              "</style>\n",
              "<table border=\"1\" class=\"dataframe\">\n",
              "  <thead>\n",
              "    <tr style=\"text-align: right;\">\n",
              "      <th></th>\n",
              "      <th>0</th>\n",
              "      <th>1</th>\n",
              "    </tr>\n",
              "  </thead>\n",
              "  <tbody>\n",
              "    <tr>\n",
              "      <th>0</th>\n",
              "      <td>Memories</td>\n",
              "      <td>[[ones, got, cheers, wish, cause, drinks, brin...</td>\n",
              "    </tr>\n",
              "    <tr>\n",
              "      <th>1</th>\n",
              "      <td>Moves Like Jagger</td>\n",
              "      <td>[[shoot, stars, feels, right, aim, heart, feel...</td>\n",
              "    </tr>\n",
              "    <tr>\n",
              "      <th>2</th>\n",
              "      <td>Hands All Over</td>\n",
              "      <td>[[put, hands, put, hands, put, hands, put, han...</td>\n",
              "    </tr>\n",
              "    <tr>\n",
              "      <th>3</th>\n",
              "      <td>Give a Little More</td>\n",
              "      <td>[[bad, goes, til, come, home, babe, til, come,...</td>\n",
              "    </tr>\n",
              "    <tr>\n",
              "      <th>4</th>\n",
              "      <td>Misery</td>\n",
              "      <td>[[oh, yeah, oh, yeah, scared, breaking, wo, nt...</td>\n",
              "    </tr>\n",
              "  </tbody>\n",
              "</table>\n",
              "</div>"
            ],
            "text/plain": [
              "                    0                                                  1\n",
              "0            Memories  [[ones, got, cheers, wish, cause, drinks, brin...\n",
              "1   Moves Like Jagger  [[shoot, stars, feels, right, aim, heart, feel...\n",
              "2      Hands All Over  [[put, hands, put, hands, put, hands, put, han...\n",
              "3  Give a Little More  [[bad, goes, til, come, home, babe, til, come,...\n",
              "4              Misery  [[oh, yeah, oh, yeah, scared, breaking, wo, nt..."
            ]
          },
          "metadata": {
            "tags": []
          },
          "execution_count": 73
        }
      ]
    },
    {
      "cell_type": "code",
      "metadata": {
        "id": "QDHRyReLfj4L",
        "colab_type": "code",
        "colab": {}
      },
      "source": [
        "#preprocessing all the songs\n",
        "for i in range(0,20):\n",
        "    song=m.iloc[i,1]\n",
        "    text=re.sub(r'\\d+','',song)#removing numbers\n",
        "    #lowercasing\n",
        "    text_lower=text.lower()\n",
        "\n",
        "    #punctuation removal \n",
        "    def  remove_punctuation(word): #function will take in the lowercased text and then remove all the punctuation\n",
        "        translator=str.maketrans('','',string.punctuation)\n",
        "        text_punct=word.translate(translator)\n",
        "        return text_punct\n",
        "    result=remove_punctuation(text_lower) #storing the resulting body of  text in variable result\n",
        "\n",
        "    #removing stopwords \n",
        "    def remove_stopwords(word):#The function will   tokenize the result and then filter off  the stop_words \n",
        "        stop_words=set(stopwords.words(\"english\")) \n",
        "        word_tokens= word_tokenize(word)\n",
        "        result=[ word for word in word_tokens if word not in stop_words ]\n",
        "        return result\n",
        "    lyrics=[remove_stopwords(result)]\n",
        "    #replacing the values of the lyrics column in the dataframe with the  preprocessed  lyrics\n",
        "    m.iat[i,1]=lyrics\n",
        "\n"
      ],
      "execution_count": 72,
      "outputs": []
    },
    {
      "cell_type": "code",
      "metadata": {
        "id": "nJcAtJIDgMjy",
        "colab_type": "code",
        "colab": {
          "base_uri": "https://localhost:8080/",
          "height": 204
        },
        "outputId": "bc4d444a-335a-4307-cfbd-76f952980c6c"
      },
      "source": [
        "bast=pd.read_csv('/content/Blyrics.csv',header=None)\n",
        "bast.head()"
      ],
      "execution_count": 76,
      "outputs": [
        {
          "output_type": "execute_result",
          "data": {
            "text/html": [
              "<div>\n",
              "<style scoped>\n",
              "    .dataframe tbody tr th:only-of-type {\n",
              "        vertical-align: middle;\n",
              "    }\n",
              "\n",
              "    .dataframe tbody tr th {\n",
              "        vertical-align: top;\n",
              "    }\n",
              "\n",
              "    .dataframe thead th {\n",
              "        text-align: right;\n",
              "    }\n",
              "</style>\n",
              "<table border=\"1\" class=\"dataframe\">\n",
              "  <thead>\n",
              "    <tr style=\"text-align: right;\">\n",
              "      <th></th>\n",
              "      <th>0</th>\n",
              "      <th>1</th>\n",
              "    </tr>\n",
              "  </thead>\n",
              "  <tbody>\n",
              "    <tr>\n",
              "      <th>0</th>\n",
              "      <td>Another Place</td>\n",
              "      <td>[['I', 'am', 'bound', 'to', 'you', 'with', 'a'...</td>\n",
              "    </tr>\n",
              "    <tr>\n",
              "      <th>1</th>\n",
              "      <td>These Streets</td>\n",
              "      <td>[['These', 'streets', 'are', 'yours', ',', 'yo...</td>\n",
              "    </tr>\n",
              "    <tr>\n",
              "      <th>2</th>\n",
              "      <td>Weight of Living, Pt. 2</td>\n",
              "      <td>[['The', 'weight', 'of', 'living', 'The', 'wei...</td>\n",
              "    </tr>\n",
              "    <tr>\n",
              "      <th>3</th>\n",
              "      <td>Overjoyed</td>\n",
              "      <td>[['Oh', 'I', 'feel', 'overjoyed', 'When', 'you...</td>\n",
              "    </tr>\n",
              "    <tr>\n",
              "      <th>4</th>\n",
              "      <td>Get Home</td>\n",
              "      <td>[['How', 'am', 'I', 'gon', 'na', 'get', 'mysel...</td>\n",
              "    </tr>\n",
              "  </tbody>\n",
              "</table>\n",
              "</div>"
            ],
            "text/plain": [
              "                         0                                                  1\n",
              "0            Another Place  [['I', 'am', 'bound', 'to', 'you', 'with', 'a'...\n",
              "1            These Streets  [['These', 'streets', 'are', 'yours', ',', 'yo...\n",
              "2  Weight of Living, Pt. 2  [['The', 'weight', 'of', 'living', 'The', 'wei...\n",
              "3                Overjoyed  [['Oh', 'I', 'feel', 'overjoyed', 'When', 'you...\n",
              "4                 Get Home  [['How', 'am', 'I', 'gon', 'na', 'get', 'mysel..."
            ]
          },
          "metadata": {
            "tags": []
          },
          "execution_count": 76
        }
      ]
    },
    {
      "cell_type": "code",
      "metadata": {
        "id": "E_bSViyu3xPq",
        "colab_type": "code",
        "colab": {}
      },
      "source": [
        "#preprocessing all the songs\n",
        "for i in range(0,20):\n",
        "    song=bast.iloc[i,1]\n",
        "    text=re.sub(r'\\d+','',song)#removing numbers\n",
        "    #lowercasing\n",
        "    text_lower=text.lower()\n",
        "\n",
        "    #punctuation removal \n",
        "    def  remove_punctuation(word): #function will take in the lowercased text and then remove all the punctuation\n",
        "        translator=str.maketrans('','',string.punctuation)\n",
        "        text_punct=word.translate(translator)\n",
        "        return text_punct\n",
        "    result=remove_punctuation(text_lower) #storing the resulting body of  text in variable result\n",
        "\n",
        "    #removing stopwords \n",
        "    def remove_stopwords(word):#The function will   tokenize the result and then filter off  the stop_words \n",
        "        stop_words=set(stopwords.words(\"english\")) \n",
        "        word_tokens= word_tokenize(word)\n",
        "        result=[ word for word in word_tokens if word not in stop_words ]\n",
        "        return result\n",
        "    lyrics=[remove_stopwords(result)]\n",
        "    #replacing the values of the lyrics column in the dataframe with the  preprocessed  lyrics\n",
        "    bast.iat[i,1]=lyrics\n",
        "\n"
      ],
      "execution_count": 77,
      "outputs": []
    },
    {
      "cell_type": "code",
      "metadata": {
        "id": "onUOOtx74OO5",
        "colab_type": "code",
        "colab": {
          "base_uri": "https://localhost:8080/",
          "height": 204
        },
        "outputId": "ff18d6ba-56dd-42fa-cc70-c54e1371752f"
      },
      "source": [
        "bast.head()"
      ],
      "execution_count": 78,
      "outputs": [
        {
          "output_type": "execute_result",
          "data": {
            "text/html": [
              "<div>\n",
              "<style scoped>\n",
              "    .dataframe tbody tr th:only-of-type {\n",
              "        vertical-align: middle;\n",
              "    }\n",
              "\n",
              "    .dataframe tbody tr th {\n",
              "        vertical-align: top;\n",
              "    }\n",
              "\n",
              "    .dataframe thead th {\n",
              "        text-align: right;\n",
              "    }\n",
              "</style>\n",
              "<table border=\"1\" class=\"dataframe\">\n",
              "  <thead>\n",
              "    <tr style=\"text-align: right;\">\n",
              "      <th></th>\n",
              "      <th>0</th>\n",
              "      <th>1</th>\n",
              "    </tr>\n",
              "  </thead>\n",
              "  <tbody>\n",
              "    <tr>\n",
              "      <th>0</th>\n",
              "      <td>Another Place</td>\n",
              "      <td>[[bound, tie, break, night, ca, nt, replace, l...</td>\n",
              "    </tr>\n",
              "    <tr>\n",
              "      <th>1</th>\n",
              "      <td>These Streets</td>\n",
              "      <td>[[streets, keep, nt, want, pull, back, surrend...</td>\n",
              "    </tr>\n",
              "    <tr>\n",
              "      <th>2</th>\n",
              "      <td>Weight of Living, Pt. 2</td>\n",
              "      <td>[[weight, living, weight, living, weight, livi...</td>\n",
              "    </tr>\n",
              "    <tr>\n",
              "      <th>3</th>\n",
              "      <td>Overjoyed</td>\n",
              "      <td>[[oh, feel, overjoyed, listen, words, see, sin...</td>\n",
              "    </tr>\n",
              "    <tr>\n",
              "      <th>4</th>\n",
              "      <td>Get Home</td>\n",
              "      <td>[[gon, na, get, back, home, ayay, ayay, ayay, ...</td>\n",
              "    </tr>\n",
              "  </tbody>\n",
              "</table>\n",
              "</div>"
            ],
            "text/plain": [
              "                         0                                                  1\n",
              "0            Another Place  [[bound, tie, break, night, ca, nt, replace, l...\n",
              "1            These Streets  [[streets, keep, nt, want, pull, back, surrend...\n",
              "2  Weight of Living, Pt. 2  [[weight, living, weight, living, weight, livi...\n",
              "3                Overjoyed  [[oh, feel, overjoyed, listen, words, see, sin...\n",
              "4                 Get Home  [[gon, na, get, back, home, ayay, ayay, ayay, ..."
            ]
          },
          "metadata": {
            "tags": []
          },
          "execution_count": 78
        }
      ]
    },
    {
      "cell_type": "code",
      "metadata": {
        "id": "VL9BA3UYAlRo",
        "colab_type": "code",
        "colab": {}
      },
      "source": [
        "import csv\n",
        "rock_songs=pd.concat([cp,xa,one_Re,sp,id,m,bast,jb,fb],ignore_index=True)\n",
        "rock_songs.to_csv('rock_songs.csv')\n"
      ],
      "execution_count": 92,
      "outputs": []
    }
  ]
}