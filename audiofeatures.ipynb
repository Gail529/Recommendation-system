{
  "nbformat": 4,
  "nbformat_minor": 0,
  "metadata": {
    "colab": {
      "name": "metadata.ipynb",
      "provenance": [],
      "authorship_tag": "ABX9TyNQnsG2K6g2K+/htoy+g+6F",
      "include_colab_link": true
    },
    "kernelspec": {
      "name": "python3",
      "display_name": "Python 3"
    }
  },
  "cells": [
    {
      "cell_type": "markdown",
      "metadata": {
        "id": "view-in-github",
        "colab_type": "text"
      },
      "source": [
        "<a href=\"https://colab.research.google.com/github/Gail529/Recommendation-system/blob/master/audiofeatures.ipynb\" target=\"_parent\"><img src=\"https://colab.research.google.com/assets/colab-badge.svg\" alt=\"Open In Colab\"/></a>"
      ]
    },
    {
      "cell_type": "code",
      "metadata": {
        "id": "uv_4uWtnnxl8"
      },
      "source": [
        ""
      ],
      "execution_count": null,
      "outputs": []
    },
    {
      "cell_type": "code",
      "metadata": {
        "id": "5fwF72Al_pyp"
      },
      "source": [
        "def song_playlist(user,playlist_id):\n",
        "    #creating an empty dataframe that will capture the metadata and the audio feature\n",
        "    feature_list[\"artist\",\"album\",\"track_name\",\"track_id\",\"danceability\"\n",
        "    ,\"energy\",\"key\",\"loudness\",\"mode\",\"speechiness\",\"instrumentalness\"\n",
        "    ,\"liveness\",\"valence\",\"tempo\"]\n",
        "\n",
        "    playlist_df=pd.DataFrame(columns=feature_list)\n",
        "\n",
        "    #looping through all thhe tracks intheplaylist extractingall the relevant \n",
        "    #audiofeatures\n",
        "    playlist=sp.user_playlist_tracks(user,playlist_id)[\"items\"]\n",
        "    for track in playlist:\n",
        "        #get metadata\n",
        "        playlist_features=()\n",
        "        playlist_features[\"artist\"]=track[\"track\"][\"album\"][\"artists\"][0][\"name\"]\n",
        "        playlist_features[\"album\"]=track[\"track\"][\"album\"][\"name\"]\n",
        "        playlist_features[\"track_name\"]=track[\"track\"][\"track\"][\"name\"]\n",
        "        playlist_features[\"track_id\"]=track[\"track\"][\"track\"][\"id\"]\n",
        "\n",
        "        #getting audio features\n",
        "        audio_features=sp.audio_features(playlist_features[\"track_id\"])[0]\n",
        "        for feature in playlist_features[4:] :\n",
        "            playlist_features[feature]=audio_features[feature]\n",
        "\n",
        "        #concatenating the dfs\n",
        "        track_df=pd.DataFraame(playlist_features,index=[0])\n",
        "        playlist_df=pd.concaat([playlist_df,track_df]),ignore_index=True)\n",
        "\n",
        "    return playlist_df        \n",
        "\n",
        "\n",
        "          \n",
        "\n",
        "\n"
      ],
      "execution_count": null,
      "outputs": []
    },
    {
      "cell_type": "code",
      "metadata": {
        "id": "0tPpZoe-KUf6"
      },
      "source": [
        ""
      ],
      "execution_count": null,
      "outputs": []
    },
    {
      "cell_type": "code",
      "metadata": {
        "id": "EWw4qxtNn4HL"
      },
      "source": [
        "def trackIDS(user,playlist_id):\n",
        " ids=[] \n",
        " playlist=sp.user_playlist(user,playlist_id)\n",
        " for item in playlist['tracks']['items']:\n",
        "   track = item['track']\n",
        "   ids.append(track['id'])\n",
        "   return ids"
      ],
      "execution_count": null,
      "outputs": []
    },
    {
      "cell_type": "code",
      "metadata": {
        "id": "tHcuw7pxql9C"
      },
      "source": [
        "track_id=trackIDs('', '' )\n",
        "print(len(ids))"
      ],
      "execution_count": null,
      "outputs": []
    },
    {
      "cell_type": "code",
      "metadata": {
        "id": "7lXZhjXXpiBH"
      },
      "source": [
        "def trackFeatures(id):\n",
        " meta=sp.track(id)\n",
        " features=sp.audio_features(id)\n",
        " \n",
        "name=meta['name'] \n",
        "album=meta['album']['name']\n",
        "length=meta['duration_ms']\n",
        "popularity=meta['popularity']\n",
        " \n",
        "acoustics=features[0][acousticness]\n",
        "danceability=features[0]['danceability'] \n",
        "energy=features[0]['energy']\n",
        "instrumentals=features[0]['instrumentals']\n",
        "liveness=features[0]['liveness']\n",
        "loudness=features [0]['loudness'] \n",
        "Speechiness=features[0]['speechiness'] \n",
        "tempo=features[0]['tempo']\n",
        "track=[]\n",
        "return track\n",
        " \n",
        "tracks=[] \n",
        "for i in range(lens(ids)):\n",
        "time.sleep(.5)\n",
        "track=trackFeatures(ids[i])\n",
        "track.append(track)\n",
        "\n",
        "df=pd(Data Frame)"
      ],
      "execution_count": null,
      "outputs": []
    },
    {
      "cell_type": "code",
      "metadata": {
        "id": "_ldYj5I7uTLL"
      },
      "source": [
        "I"
      ],
      "execution_count": null,
      "outputs": []
    }
  ]
}