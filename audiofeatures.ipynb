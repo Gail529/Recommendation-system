{
  "nbformat": 4,
  "nbformat_minor": 0,
  "metadata": {
    "colab": {
      "name": "audiofeatures.ipynb",
      "provenance": [],
      "private_outputs": true,
      "authorship_tag": "ABX9TyMygoSLPa/zG6nIJcRtGyXD",
      "include_colab_link": true
    },
    "kernelspec": {
      "name": "python3",
      "display_name": "Python 3"
    }
  },
  "cells": [
    {
      "cell_type": "markdown",
      "metadata": {
        "id": "view-in-github",
        "colab_type": "text"
      },
      "source": [
        "<a href=\"https://colab.research.google.com/github/Gail529/Recommendation-system/blob/master/audiofeatures.ipynb\" target=\"_parent\"><img src=\"https://colab.research.google.com/assets/colab-badge.svg\" alt=\"Open In Colab\"/></a>"
      ]
    },
    {
      "cell_type": "code",
      "metadata": {
        "id": "uv_4uWtnnxl8",
        "colab_type": "code",
        "colab": {}
      },
      "source": [
        ""
      ],
      "execution_count": null,
      "outputs": []
    },
    {
      "cell_type": "code",
      "metadata": {
        "id": "EWw4qxtNn4HL",
        "colab_type": "code",
        "colab": {}
      },
      "source": [
        "def trackIDS(user,playlist_id):\n",
        " ids=[] \n",
        " playlist=sp.user_playlist(user,playlist_id)\n",
        " for item in playlist['tracks']['items']:\n",
        "   track = item['track']\n",
        "   ids.append(track['id'])\n",
        "   return ids"
      ],
      "execution_count": null,
      "outputs": []
    },
    {
      "cell_type": "code",
      "metadata": {
        "id": "tHcuw7pxql9C",
        "colab_type": "code",
        "colab": {}
      },
      "source": [
        "track_id=trackIDs('', '' )\n",
        "print(len(ids))"
      ],
      "execution_count": null,
      "outputs": []
    },
    {
      "cell_type": "code",
      "metadata": {
        "id": "7lXZhjXXpiBH",
        "colab_type": "code",
        "colab": {}
      },
      "source": [
        "def trackFeatures(id):\n",
        " meta=sp.track(id)\n",
        " features=sp.audio_features(id)\n",
        " \n",
        "name=meta['name'] \n",
        "album=meta['album']['name']\n",
        "length=meta['duration_ms']\n",
        "popularity=meta['popularity']\n",
        " \n",
        "acoustics=features[0][acousticness]\n",
        "danceability=features[0]['danceability'] \n",
        "energy=features[0]['energy']\n",
        "instrumentals=features[0]['instrumentals']\n",
        "liveness=features[0]['liveness']\n",
        "loudness=features [0]['loudness'] \n",
        "Speechiness=features[0]['speechiness'] \n",
        "tempo=features[0]['tempo']\n",
        "track=[]\n",
        "return track\n",
        " \n",
        "tracks=[] \n",
        "for i in range(lens(ids)):\n",
        "time.sleep(.5)\n",
        "track=trackFeatures(ids[i])\n",
        "track.append(track)\n",
        "\n",
        "df=pd(Data Frame)"
      ],
      "execution_count": null,
      "outputs": []
    },
    {
      "cell_type": "code",
      "metadata": {
        "id": "_ldYj5I7uTLL",
        "colab_type": "code",
        "colab": {}
      },
      "source": [
        "I"
      ],
      "execution_count": null,
      "outputs": []
    }
  ]
}